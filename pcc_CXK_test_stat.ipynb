{
 "cells": [
  {
   "cell_type": "code",
   "execution_count": 1,
   "metadata": {
    "collapsed": false
   },
   "outputs": [
    {
     "name": "stdout",
     "output_type": "stream",
     "text": [
      "_\n"
     ]
    }
   ],
   "source": [
    "#!/usr/bin/env python\n",
    "\n",
    "import h5py\n",
    "import numpy as np\n",
    "import matplotlib.pyplot as plt\n",
    "import pandas as pd\n",
    "import glob\n",
    "import math\n",
    "import pandas as pd\n",
    "import wradlib\n",
    "from scipy import stats\n",
    "import matplotlib.cm as cm\n",
    "my_cmap = cm.get_cmap('jet',40)\n",
    "my_cmap.set_under('lightgrey')\n",
    "my_cmap.set_over('darkred')\n",
    "from pcc import get_miub_cmap as my_cmap\n",
    "from pcc import plot_radar\n",
    "from pcc import boxpol_pos\n",
    "from pcc import plot_borders\n",
    "import wradlib as wrl\n",
    "from osgeo import osr\n",
    "from satlib import ipoli_radi\n",
    "from satlib import corcor\n",
    "Pos = boxpol_pos()\n",
    "blon0, blat0 = Pos['lon_ppi'], Pos['lat_ppi']\n",
    "bbx, bby = Pos['gkx_ppi'], Pos['gky_ppi']\n",
    "from time import *\n",
    "\n",
    "#% matplotlib inline\n",
    "\n",
    "print (\"_\")"
   ]
  },
  {
   "cell_type": "code",
   "execution_count": 2,
   "metadata": {
    "collapsed": false
   },
   "outputs": [
    {
     "name": "stdout",
     "output_type": "stream",
     "text": [
      "['/automount/ags/velibor/data/dpr_boxpol_radolan/stat/zv/20140806203538.npy', '/automount/ags/velibor/data/dpr_boxpol_radolan/stat/zv/20140826221000.npy', '/automount/ags/velibor/data/dpr_boxpol_radolan/stat/zv/20141007023744.npy', '/automount/ags/velibor/data/dpr_boxpol_radolan/stat/zv/20141008094000.npy', '/automount/ags/velibor/data/dpr_boxpol_radolan/stat/zv/20150330233003.npy', '/automount/ags/velibor/data/dpr_boxpol_radolan/stat/zv/20151015203657.npy', '/automount/ags/velibor/data/dpr_boxpol_radolan/stat/zv/20151216024501.npy', '/automount/ags/velibor/data/dpr_boxpol_radolan/stat/zv/20160601175950.npy', '/automount/ags/velibor/data/dpr_boxpol_radolan/stat/zv/20170211152500.npy', '/automount/ags/velibor/data/dpr_boxpol_radolan/stat/zv/20170211153000.npy', '/automount/ags/velibor/data/dpr_boxpol_radolan/stat/zv/20170321043000.npy', '/automount/ags/velibor/data/dpr_boxpol_radolan/stat/zv/20170519110333.npy', '/automount/ags/velibor/data/dpr_boxpol_radolan/stat/zv/20170725152833.npy', '/automount/ags/velibor/data/dpr_boxpol_radolan/stat/zv/20170810110333.npy', '/automount/ags/velibor/data/dpr_boxpol_radolan/stat/zv/20170909021332.npy', '/automount/ags/velibor/data/dpr_boxpol_radolan/stat/zv/20171126032331.npy']\n",
      "(7750,) (7750,) (7750,) (7750,) (7750,)\n",
      "(4975,) (4975,) (4975,) (4975,) (4975,)\n",
      "(7450,) (7450,) (7450,) (7450,) (7450,)\n",
      "(5075,) (5075,) (5075,) (5075,) (5075,)\n",
      "(7550,) (7550,) (7550,) (7550,) (7550,)\n",
      "(6275,) (6275,) (6275,) (6275,) (6275,)\n",
      "(6125,) (6125,) (6125,) (6125,) (6125,)\n",
      "(6950,) (6950,) (6950,) (6950,) (6950,)\n",
      "(7250,) (7250,) (7250,) (7250,) (7250,)\n",
      "(7250,) (7250,) (7250,) (7250,) (7250,)\n",
      "(7300,) (7300,) (7300,) (7300,) (7300,)\n",
      "(7000,) (7000,) (7000,) (7000,) (7000,)\n",
      "(6800,) (6800,) (6800,) (6800,) (6800,)\n",
      "(7600,) (7600,) (7600,) (7600,) (7600,)\n",
      "(7175,) (7175,) (7175,) (7175,) (7175,)\n",
      "(102525,) (102525,) (102525,) (102525,) (102525,)\n"
     ]
    }
   ],
   "source": [
    "import os\n",
    "all_dpr, all_box, all_rad = np.array([]), np.array([]), np.array([])\n",
    "dpr_pha, dpr_typ = np.array([]), np.array([])\n",
    "dpr_lon, dpr_lat = np.array([]), np.array([])\n",
    "raw_dpr, raw_box = np.array([]), np.array([])\n",
    "b_std = np.array([])\n",
    "b_med = np.array([])\n",
    "b_max = np.array([])\n",
    "b_min = np.array([])\n",
    "r_std = np.array([])\n",
    "r_med = np.array([])\n",
    "r_max = np.array([])\n",
    "r_min = np.array([])\n",
    "\n",
    "#path = '/automount/ags/velibor/data/dpr_boxpol/'\n",
    "path = '/automount/ags/velibor/data/dpr_boxpol_radolan/stat/zv/'\n",
    "\n",
    "c_liste = sorted(glob.glob(path+'/*.npy'))\n",
    "\n",
    "print c_liste\n",
    "\n",
    "for iii in range(len(c_liste)-1):\n",
    "    \n",
    "    \n",
    "    a = np.load(c_liste[iii])[0]\n",
    "    b = np.load(c_liste[iii])[2]\n",
    "    c = np.load(c_liste[iii])[4]\n",
    "    e = np.load(c_liste[iii])[5]\n",
    "    f = np.load(c_liste[iii])[6]\n",
    "    x = np.load(c_liste[iii])[7]\n",
    "    y = np.load(c_liste[iii])[8]\n",
    "    \n",
    "    b1 = np.load(c_liste[iii])[9]\n",
    "    b2 = np.load(c_liste[iii])[10]\n",
    "    b3 = np.load(c_liste[iii])[11]\n",
    "    b4 = np.load(c_liste[iii])[12]\n",
    "    r1 = np.load(c_liste[iii])[13]\n",
    "    r2 = np.load(c_liste[iii])[14]\n",
    "    r3 = np.load(c_liste[iii])[15]\n",
    "    r4 = np.load(c_liste[iii])[16]\n",
    "    \n",
    "    \n",
    "    a = a.reshape(a.shape[0]*a.shape[1])\n",
    "    b = b.reshape(b.shape[0]*b.shape[1])\n",
    "    c = c.reshape(c.shape[0]*c.shape[1])\n",
    "    e = e.reshape(e.shape[0]*e.shape[1])\n",
    "    f = f.reshape(f.shape[0]*f.shape[1])\n",
    "    x = x.reshape(x.shape[0]*x.shape[1])\n",
    "    y = y.reshape(y.shape[0]*y.shape[1])\n",
    "    \n",
    "    b1 = b1.reshape(b1.shape[0]*b1.shape[1])\n",
    "    b2 = b2.reshape(b2.shape[0]*b2.shape[1])\n",
    "    b3 = b3.reshape(b3.shape[0]*b3.shape[1])\n",
    "    b4 = b4.reshape(b4.shape[0]*b4.shape[1])\n",
    "    r1 = r1.reshape(r1.shape[0]*r1.shape[1])\n",
    "    r2 = r2.reshape(r2.shape[0]*r2.shape[1])\n",
    "    r3 = r3.reshape(r3.shape[0]*r3.shape[1])\n",
    "    r4 = r4.reshape(r4.shape[0]*r4.shape[1])\n",
    "\n",
    "    \n",
    "    \n",
    "    print a.shape,b.shape,c.shape, e.shape, f.shape\n",
    "    \n",
    "    all_dpr = np.append(all_dpr,a)\n",
    "    all_box = np.append(all_box,b)\n",
    "    all_rad = np.append(all_rad,c)\n",
    "    dpr_pha = np.append(dpr_pha,e)\n",
    "    dpr_typ = np.append(dpr_typ,f)\n",
    "    dpr_lon = np.append(dpr_lon,x)\n",
    "    dpr_lat = np.append(dpr_lat,y)\n",
    "    \n",
    "    b_std = np.append(b_std,b1)\n",
    "    b_med = np.append(b_med,b2)\n",
    "    b_max = np.append(b_max,b3)\n",
    "    b_min = np.append(b_min,b4)\n",
    "    r_std = np.append(r_std,r1)\n",
    "    r_med = np.append(r_med,r2)\n",
    "    r_max = np.append(r_max,r3)\n",
    "    r_min = np.append(r_min,r4)\n",
    "    \n",
    "# 2= liquid, 0=solid, 1=mixed\n",
    "dpr_pha = dpr_pha.astype(int)/100  \n",
    "dpr_typ = dpr_typ/10000000  \n",
    "\n",
    "print all_dpr.shape, all_box.shape, all_rad.shape, dpr_pha.shape, dpr_typ.shape\n"
   ]
  },
  {
   "cell_type": "code",
   "execution_count": 8,
   "metadata": {
    "collapsed": false
   },
   "outputs": [],
   "source": [
    "plt.scatter(dpr_lon[0:7750], dpr_lat[0:7750],lw=0.1\n",
    "        )\n",
    "\n",
    "plt.scatter(dpr_lon[0:7750], dpr_lat[0:7750], c=r_min[0:7750])\n",
    "plt.colorbar()\n",
    "plt.show()"
   ]
  },
  {
   "cell_type": "code",
   "execution_count": 4,
   "metadata": {
    "collapsed": false
   },
   "outputs": [],
   "source": [
    "plt.show()"
   ]
  },
  {
   "cell_type": "code",
   "execution_count": null,
   "metadata": {
    "collapsed": false
   },
   "outputs": [],
   "source": [
    "dpr_sl = all_dpr.copy()\n",
    "box_sl = all_box.copy()\n",
    "rad_sl = all_rad.copy()\n",
    "pha_sl = dpr_pha.copy()\n",
    "r_std_sl = r_std.copy()\n",
    "b_std_sl = b_std.copy()\n",
    "r_num_sl = r_min.copy()\n",
    "b_num_sl = b_min.copy()\n",
    "\n",
    "# Startiform\n",
    "dpr_sl = dpr_sl[(dpr_typ>=1.) & (dpr_typ<2.)]\n",
    "box_sl = box_sl[(dpr_typ>=1.) & (dpr_typ<2.)]\n",
    "rad_sl = rad_sl[(dpr_typ>=1.) & (dpr_typ<2.)]\n",
    "pha_sl = pha_sl[(dpr_typ>=1.) & (dpr_typ<2.)]\n",
    "r_std_sl = r_std_sl[(dpr_typ>=1.) & (dpr_typ<2.)]\n",
    "b_std_sl = b_std_sl[(dpr_typ>=1.) & (dpr_typ<2.)]\n",
    "r_num_sl = r_num_sl[(dpr_typ>=1.) & (dpr_typ<2.)]\n",
    "b_num_sl = b_num_sl[(dpr_typ>=1.) & (dpr_typ<2.)]\n",
    "# Liquid\n",
    "dpr_sl = dpr_sl[pha_sl==2]\n",
    "box_sl = box_sl[pha_sl==2]\n",
    "rad_sl = rad_sl[pha_sl==2]\n",
    "r_std_sl = r_std_sl[pha_sl==2]\n",
    "b_std_sl = b_std_sl[pha_sl==2]\n",
    "r_num_sl = r_num_sl[pha_sl==2]\n",
    "b_num_sl = b_num_sl[pha_sl==2]\n",
    "\n",
    "print ('BoXPol', np.nanstd(box_sl))\n",
    "print ('Radolan', np.nanstd(rad_sl))\n",
    "print ('Radolan', np.nanstd(dpr_sl))\n",
    "\n",
    "# Standard abweichung rausnehmen\n",
    "box_sl[b_num_sl<3]=np.nan\n",
    "rad_sl[r_num_sl<3]=np.nan\n",
    "\n",
    "\n",
    "\n",
    "mmm = ~np.isnan(dpr_sl) & ~np.isnan(rad_sl) & ~np.isnan(box_sl) \n",
    "\n",
    "\n",
    "\n",
    "print ('Alle Punkte von drei Komponenten')\n",
    "print (np.corrcoef(box_sl[mmm],dpr_sl[mmm]))\n",
    "print (np.corrcoef(rad_sl[mmm],dpr_sl[mmm]))\n",
    "\n",
    "plt.figure(figsize=(15,7))\n",
    "plt.subplot(1,2,1)\n",
    "plt.scatter(dpr_sl[mmm],box_sl[mmm], c=b_std_sl[mmm], vmin=0, vmax=40)\n",
    "plt.grid()\n",
    "plt.xlim(15,50)\n",
    "plt.ylim(15,50)\n",
    "plt.colorbar()\n",
    "plt.plot([15,50],[15,50], color='black', linestyle='--')\n",
    "plt.subplot(1,2,2)\n",
    "plt.scatter(dpr_sl[mmm],rad_sl[mmm], c=r_std_sl[mmm], vmin=0, vmax=40)\n",
    "plt.grid()\n",
    "plt.colorbar()\n",
    "plt.xlim(15,50)\n",
    "plt.ylim(15,50)\n",
    "plt.plot([15,50],[15,50], color='black', linestyle='--')"
   ]
  },
  {
   "cell_type": "code",
   "execution_count": null,
   "metadata": {
    "collapsed": false
   },
   "outputs": [],
   "source": [
    "plt.plot(np.unique(b_num_sl))\n",
    "\n",
    "np.nanmin(b_num_sl)"
   ]
  },
  {
   "cell_type": "code",
   "execution_count": null,
   "metadata": {
    "collapsed": false
   },
   "outputs": [],
   "source": [
    "b_std_sl[b_std_sl<0]=np.nan\n",
    "mh = ~np.isnan(b_std_sl)\n",
    "plt.hist(b_std_sl[mh])\n"
   ]
  },
  {
   "cell_type": "code",
   "execution_count": null,
   "metadata": {
    "collapsed": false
   },
   "outputs": [],
   "source": [
    "plt.figure(figsize=(15,7))\n",
    "plt.subplot(1,2,1)\n",
    "plt.scatter(all_dpr,all_box, c=b_std, vmin=0, s=b_med)\n",
    "plt.grid()\n",
    "plt.xlim(15,50)\n",
    "plt.ylim(15,50)\n",
    "plt.colorbar()\n",
    "plt.plot([15,50],[15,50], color='black', linestyle='--')\n",
    "plt.subplot(1,2,2)\n",
    "plt.scatter(all_dpr,all_rad, c=r_std, vmin=0, s=r_max)\n",
    "plt.grid()\n",
    "plt.colorbar()\n",
    "plt.xlim(15,50)\n",
    "plt.ylim(15,50)\n",
    "plt.plot([15,50],[15,50], color='black', linestyle='--')\n"
   ]
  },
  {
   "cell_type": "code",
   "execution_count": null,
   "metadata": {
    "collapsed": false
   },
   "outputs": [],
   "source": [
    "# PROBLEM BEI STD !\n",
    "np.unique(r_std)"
   ]
  },
  {
   "cell_type": "code",
   "execution_count": null,
   "metadata": {
    "collapsed": false
   },
   "outputs": [],
   "source": [
    "# How to separate type, phae etc \n",
    "#################################### Startiform\n",
    "\"\"\"\n",
    "all_dpr = all_dpr[(dpr_typ>=1.) & (dpr_typ<2.)]\n",
    "all_box = all_box[(dpr_typ>=1.) & (dpr_typ<2.)]\n",
    "all_rad = all_rad[(dpr_typ>=1.) & (dpr_typ<2.)]\n",
    "\"\"\"\n",
    "##################################### Convectiv\n",
    "\"\"\"\n",
    "all_dpr = all_dpr[(dpr_typ>=2.) & (dpr_typ<3.)]\n",
    "all_box = all_box[(dpr_typ>=2.) & (dpr_typ<3.)]\n",
    "all_rad = all_rad[(dpr_typ>=2.) & (dpr_typ<3.)]\n",
    "\"\"\"\n",
    "\n",
    "## 2= liquid, 0=solid, 1=mixed\n",
    "\"\"\"\n",
    "all_dpr = all_dpr[dpr_pha==2]\n",
    "all_box = all_box[dpr_pha==2]\n",
    "all_rad = all_rad[dpr_pha==2]\n",
    "\"\"\"\n"
   ]
  },
  {
   "cell_type": "code",
   "execution_count": null,
   "metadata": {
    "collapsed": true
   },
   "outputs": [],
   "source": [
    "def plot_vergleich(all_dpr, all_box, all_rad):\n",
    "    \n",
    "    from pcc import get_my_cmap2\n",
    "\n",
    "    m1 = ~np.isnan(all_dpr) & ~np.isnan(all_box) & ~np.isnan(all_rad) \n",
    "    m2 = ~np.isnan(all_dpr) & ~np.isnan(all_box) & ~np.isnan(all_rad) \n",
    "\n",
    "    ff, ff2 = 15,20\n",
    "    bb=50\n",
    "    fig =plt.figure(figsize=(18,8))\n",
    "    ax2 = fig.add_subplot(121, aspect='equal')\n",
    "    plt.hist2d(all_dpr[m1],all_box[m1], bins=bb, cmap=get_my_cmap2(),vmin=0.1)\n",
    "\n",
    "    cbar = plt.colorbar(shrink=0.7)\n",
    "    cbar.set_label('number of samples', fontsize=ff2)\n",
    "    cbar.ax.tick_params(labelsize=ff)\n",
    "\n",
    "    #plt.title('Liquid Phase Corr: ' + str(round(z_corr,3)) + r'$\\pm$'+  str(round(z_eror,3)), fontsize=ff2)\n",
    "    plt.xlim(15,70)\n",
    "    plt.ylim(15,70)\n",
    "    cx,cy = np.arange(0,80,1),np.arange(0,80,1)\n",
    "    plt.plot(cx,cy, color='black')\n",
    "    plt.xlabel('DPR Reflectivity in dBZ',fontsize=ff2)\n",
    "    plt.ylabel('BoXPol Reflectivity in dBZ',fontsize=ff2)\n",
    "    plt.title(corcor(all_dpr,all_box))\n",
    "\n",
    "    plt.grid()\n",
    "    plt.xticks(fontsize=ff)\n",
    "    plt.yticks(fontsize=ff)\n",
    "\n",
    "\n",
    "    x3 = fig.add_subplot(122, aspect='equal')\n",
    "    plt.hist2d(all_dpr[m2],all_rad[m2], bins=bb, cmap=get_my_cmap2(),vmin=0.1)\n",
    "\n",
    "    cbar = plt.colorbar(shrink=0.7)\n",
    "    cbar.set_label('number of samples', fontsize=ff2)\n",
    "    cbar.ax.tick_params(labelsize=ff)\n",
    "\n",
    "    #plt.title('Liquid Phase Corr: ' + str(round(z_corr,3)) + r'$\\pm$'+  str(round(z_eror,3)), fontsize=ff2)\n",
    "    plt.xlim(15,70)\n",
    "    plt.ylim(15,70)\n",
    "    cx,cy = np.arange(0,80,1),np.arange(0,80,1)\n",
    "    plt.plot(cx,cy, color='black')\n",
    "    plt.xlabel('DPR Reflectivity in dBZ',fontsize=ff2)\n",
    "    plt.ylabel('Radolan Reflectivity in dBZ',fontsize=ff2)\n",
    "    plt.title(corcor(all_dpr,all_rad))\n",
    "\n",
    "    plt.grid()\n",
    "    plt.xticks(fontsize=ff)\n",
    "    plt.yticks(fontsize=ff)\n",
    "    #plt.savefig('/automount/ags/velibor/plot/IRS/NSliquidWS_Ref.png')\n",
    "    #plt.close()\n",
    "    plt.tight_layout()\n",
    "    plt.show()\n"
   ]
  },
  {
   "cell_type": "code",
   "execution_count": null,
   "metadata": {
    "collapsed": false
   },
   "outputs": [],
   "source": [
    "plot_vergleich(all_dpr, all_box, all_rad)"
   ]
  },
  {
   "cell_type": "code",
   "execution_count": null,
   "metadata": {
    "collapsed": false
   },
   "outputs": [],
   "source": [
    "####################### Startiform und Liquid\n",
    "dpr_sl = all_dpr.copy()\n",
    "box_sl = all_box.copy()\n",
    "rad_sl = all_rad.copy()\n",
    "pha_sl = dpr_pha.copy()\n",
    "\n",
    "# Startiform\n",
    "dpr_sl = dpr_sl[(dpr_typ>=1.) & (dpr_typ<2.)]\n",
    "box_sl = box_sl[(dpr_typ>=1.) & (dpr_typ<2.)]\n",
    "rad_sl = rad_sl[(dpr_typ>=1.) & (dpr_typ<2.)]\n",
    "pha_sl = pha_sl[(dpr_typ>=1.) & (dpr_typ<2.)]\n",
    "\n",
    "# Liquid\n",
    "dpr_sl = dpr_sl[pha_sl==2]\n",
    "box_sl = box_sl[pha_sl==2]\n",
    "rad_sl = rad_sl[pha_sl==2]\n",
    "\n",
    "\n",
    "plot_vergleich(dpr_sl, box_sl, rad_sl)\n"
   ]
  },
  {
   "cell_type": "code",
   "execution_count": null,
   "metadata": {
    "collapsed": false
   },
   "outputs": [],
   "source": [
    "####################### Startiform und Solid\n",
    "dpr_ss = all_dpr.copy()\n",
    "box_ss = all_box.copy()\n",
    "rad_ss = all_rad.copy()\n",
    "pha_ss = dpr_pha.copy()\n",
    "\n",
    "# Startiform\n",
    "dpr_ss = dpr_ss[(dpr_typ>=1.) & (dpr_typ<2.)]\n",
    "box_ss = box_ss[(dpr_typ>=1.) & (dpr_typ<2.)]\n",
    "rad_ss = rad_ss[(dpr_typ>=1.) & (dpr_typ<2.)]\n",
    "pha_ss = pha_ss[(dpr_typ>=1.) & (dpr_typ<2.)]\n",
    "\n",
    "# Solid\n",
    "dpr_ss = dpr_ss[pha_ss==0]\n",
    "box_ss = box_ss[pha_ss==0]\n",
    "rad_ss = rad_ss[pha_ss==0]\n",
    "\n",
    "\n",
    "plot_vergleich(dpr_ss, box_ss, rad_ss)"
   ]
  },
  {
   "cell_type": "code",
   "execution_count": null,
   "metadata": {
    "collapsed": false
   },
   "outputs": [],
   "source": [
    "####################### Convective and Liquid\n",
    "dpr_cl = all_dpr.copy()\n",
    "box_cl = all_box.copy()\n",
    "rad_cl = all_rad.copy()\n",
    "pha_cl = dpr_pha.copy()\n",
    "\n",
    "# Convectiv\n",
    "dpr_cl = dpr_cl[(dpr_typ>=2.) & (dpr_typ<3.)]\n",
    "box_cl = box_cl[(dpr_typ>=2.) & (dpr_typ<3.)]\n",
    "rad_cl = rad_cl[(dpr_typ>=2.) & (dpr_typ<3.)]\n",
    "pha_cl = pha_cl[(dpr_typ>=2.) & (dpr_typ<3.)]\n",
    "\n",
    "# Liquid\n",
    "dpr_cl = dpr_cl[pha_cl==2]\n",
    "box_cl = box_cl[pha_cl==2]\n",
    "rad_cl = rad_cl[pha_cl==2]\n",
    "\n",
    "\n",
    "plot_vergleich(dpr_cl, box_cl, rad_cl)"
   ]
  },
  {
   "cell_type": "code",
   "execution_count": null,
   "metadata": {
    "collapsed": false
   },
   "outputs": [],
   "source": [
    "####################### Convective and Solid\n",
    "dpr_cs = all_dpr.copy()\n",
    "box_cs = all_box.copy()\n",
    "rad_cs = all_rad.copy()\n",
    "pha_cs = dpr_pha.copy()\n",
    "\n",
    "# Convectiv\n",
    "dpr_cs = dpr_cs[(dpr_typ>=2.) & (dpr_typ<3.)]\n",
    "box_cs = box_cs[(dpr_typ>=2.) & (dpr_typ<3.)]\n",
    "rad_cs = rad_cs[(dpr_typ>=2.) & (dpr_typ<3.)]\n",
    "pha_cs = pha_cs[(dpr_typ>=2.) & (dpr_typ<3.)]\n",
    "\n",
    "# Solid\n",
    "dpr_cs = dpr_cs[pha_cs==0]\n",
    "box_cs = box_cs[pha_cs==0]\n",
    "rad_cs = rad_cs[pha_cs==0]\n",
    "\n",
    "\n",
    "plot_vergleich(dpr_cs, box_cs, rad_cs)"
   ]
  },
  {
   "cell_type": "code",
   "execution_count": null,
   "metadata": {
    "collapsed": false
   },
   "outputs": [],
   "source": [
    "dpr_lon, dpr_lat"
   ]
  },
  {
   "cell_type": "code",
   "execution_count": null,
   "metadata": {
    "collapsed": false
   },
   "outputs": [],
   "source": [
    "from pcc import boxpol_pos\n",
    "\n",
    "Pos = boxpol_pos()\n",
    "blon0, blat0 = Pos['lon_ppi'], Pos['lat_ppi']\n",
    "bbx, bby = Pos['gkx_ppi'], Pos['gky_ppi']\n",
    "print (bbx,bby)"
   ]
  },
  {
   "cell_type": "code",
   "execution_count": null,
   "metadata": {
    "collapsed": false
   },
   "outputs": [],
   "source": [
    "x1, x2 = bbx, dpr_lon\n",
    "y1, y2 = bby, dpr_lat\n",
    "\n",
    "dist2 = np.hypot(x2 - x1, y2 - y1)"
   ]
  },
  {
   "cell_type": "code",
   "execution_count": null,
   "metadata": {
    "collapsed": false
   },
   "outputs": [],
   "source": [
    "dist2.shape, all_box.shape"
   ]
  },
  {
   "cell_type": "code",
   "execution_count": null,
   "metadata": {
    "collapsed": false
   },
   "outputs": [],
   "source": [
    "l1, l2 = 15, 50\n",
    "pos = [dist2<90]\n",
    "#pos = [b_std<20]\n",
    "a,b,c, d =all_box[pos], all_dpr[pos], dist2[pos], b_min[pos]\n",
    "print a.shape\n",
    "plt.figure(figsize=(15,10))\n",
    "plt.scatter(a,b,c=c, s=d**2, alpha=0.9,vmin=0)\n",
    "plt.xlim(l1,l2)\n",
    "plt.ylim(l1,l2)\n",
    "plt.plot([l1,l2],[l1,l2])\n",
    "plt.colorbar()\n",
    "plt.grid()"
   ]
  },
  {
   "cell_type": "code",
   "execution_count": null,
   "metadata": {
    "collapsed": false
   },
   "outputs": [],
   "source": [
    "####################### Startiform und Liquid\n",
    "dpr_sl = all_dpr.copy()\n",
    "box_sl = all_box.copy()\n",
    "rad_sl = all_rad.copy()\n",
    "pha_sl = dpr_pha.copy()\n",
    "dis_sl = dist2.copy()\n",
    "\n",
    "# Startiform\n",
    "dpr_sl = dpr_sl[(dpr_typ>=1.) & (dpr_typ<2.)]\n",
    "box_sl = box_sl[(dpr_typ>=1.) & (dpr_typ<2.)]\n",
    "rad_sl = rad_sl[(dpr_typ>=1.) & (dpr_typ<2.)]\n",
    "pha_sl = pha_sl[(dpr_typ>=1.) & (dpr_typ<2.)]\n",
    "dis_sl = dis_sl[(dpr_typ>=1.) & (dpr_typ<2.)]\n",
    "\n",
    "# Liquid\n",
    "dpr_sl = dpr_sl[pha_sl==2]\n",
    "box_sl = box_sl[pha_sl==2]\n",
    "rad_sl = rad_sl[pha_sl==2]\n",
    "dis_sl = dis_sl[pha_sl==2]\n",
    "\n",
    "\n",
    "\n",
    "\n"
   ]
  },
  {
   "cell_type": "code",
   "execution_count": null,
   "metadata": {
    "collapsed": false
   },
   "outputs": [],
   "source": [
    "box_sl[dis_sl> 35]=np.nan\n",
    "dpr_sl[dis_sl> 35]=np.nan\n",
    "\n",
    "l1, l2 = 15, 50\n",
    "\n",
    "ff = 20 \n",
    "plt.figure(figsize=(15,10))\n",
    "plt.scatter(box_sl, dpr_sl, c=dis_sl, s=50, alpha=0.9,vmin=0)\n",
    "plt.xlim(l1,l2)\n",
    "plt.ylim(l1,l2)\n",
    "plt.plot([l1,l2],[l1,l2])\n",
    "plt.grid()\n",
    "plt.xlabel('Z Boxpol - Z DPR in dbz', fontsize= ff)\n",
    "plt.ylabel('Distance from GR', fontsize= ff)\n",
    "plt.xticks(fontsize= ff);plt.yticks(fontsize= ff)\n",
    "cbar = plt.colorbar(shrink=0.7)\n",
    "cbar.set_label('number of samples', fontsize=ff)\n",
    "cbar.ax.tick_params(labelsize=ff)"
   ]
  },
  {
   "cell_type": "code",
   "execution_count": null,
   "metadata": {
    "collapsed": false
   },
   "outputs": [],
   "source": []
  },
  {
   "cell_type": "code",
   "execution_count": null,
   "metadata": {
    "collapsed": false
   },
   "outputs": [],
   "source": [
    "diffi = all_box-all_dpr\n",
    "plt.figure(figsize=(15,10))\n",
    "mm = ~np.isnan(diffi) & ~np.isnan(dist2)\n",
    "plt.hist2d(diffi[mm],dist2[mm], bins=50)\n",
    "plt.xlim(-20,20)\n",
    "plt.axvline(0, lw=3, color='black', linestyle='--')\n",
    "plt.grid()\n",
    "plt.xlabel('Z Boxpol - Z DPR in dbz')\n",
    "plt.ylabel('Distance from GR')\n",
    "plt.colorbar()\n"
   ]
  },
  {
   "cell_type": "code",
   "execution_count": null,
   "metadata": {
    "collapsed": false
   },
   "outputs": [],
   "source": [
    "ff=20\n",
    "diffi = all_box-all_dpr\n",
    "diffi2 = all_rad-all_dpr\n",
    "plt.figure(figsize=(15,10))\n",
    "mm = ~np.isnan(diffi) & ~np.isnan(dist2)& ~np.isnan(diffi2)\n",
    "plt.scatter(diffi[mm],dist2[mm], c=diffi2[mm],s=50,alpha=0.6, vmin=-10, vmax=10)\n",
    "plt.xlim(-20,20)\n",
    "plt.axvline(0, lw=3, color='black', linestyle='--')\n",
    "plt.grid()\n",
    "plt.xlabel('Z Boxpol - Z DPR in dbz', fontsize= ff)\n",
    "plt.ylabel('Distance from GR', fontsize= ff)\n",
    "plt.xticks(fontsize= ff);plt.yticks(fontsize= ff)\n",
    "plt.colorbar()"
   ]
  },
  {
   "cell_type": "code",
   "execution_count": null,
   "metadata": {
    "collapsed": false
   },
   "outputs": [],
   "source": [
    "####################### Startiform und Liquid\n",
    "dpr_sl = all_dpr.copy()\n",
    "box_sl = all_box.copy()\n",
    "rad_sl = all_rad.copy()\n",
    "pha_sl = dpr_pha.copy()\n",
    "dis_sl = dist2.copy()\n",
    "\n",
    "# Startiform\n",
    "dpr_sl = dpr_sl[(dpr_typ>=1.) & (dpr_typ<2.)]\n",
    "box_sl = box_sl[(dpr_typ>=1.) & (dpr_typ<2.)]\n",
    "rad_sl = rad_sl[(dpr_typ>=1.) & (dpr_typ<2.)]\n",
    "pha_sl = pha_sl[(dpr_typ>=1.) & (dpr_typ<2.)]\n",
    "dis_sl = dis_sl[(dpr_typ>=1.) & (dpr_typ<2.)]\n",
    "\n",
    "# Liquid\n",
    "dpr_sl = dpr_sl[pha_sl==2]\n",
    "box_sl = box_sl[pha_sl==2]\n",
    "rad_sl = rad_sl[pha_sl==2]\n",
    "dis_sl = dis_sl[pha_sl==2]\n",
    "\n",
    "ff=20\n",
    "diffi = dpr_sl-box_sl\n",
    "diffi2 = dpr_sl-rad_sl\n",
    "\n",
    "plt.figure(figsize=(15,10))\n",
    "mm = ~np.isnan(diffi) & ~np.isnan(dis_sl)& ~np.isnan(diffi2)\n",
    "plt.scatter(diffi[mm],diffi2[mm], c=dis_sl[mm],s=50,alpha=0.6, vmin=0, vmax=65)\n",
    "plt.xlim(-20,20)\n",
    "plt.axvline(0, lw=3, color='black', linestyle='--')\n",
    "plt.axhline(0, lw=3, color='black', linestyle='--')\n",
    "\n",
    "plt.grid()\n",
    "plt.xlabel('DPR lower----- [DPR-BoXPol] -----BoXPol lower', fontsize= ff)\n",
    "plt.ylabel('DPR lower----- [DPR-RADOLAN] ------RADOLAN lower', fontsize= ff)\n",
    "plt.xticks(fontsize= ff);plt.yticks(fontsize= ff)\n",
    "cbar = plt.colorbar(shrink=0.7)\n",
    "cbar.set_label('Distance from BoXPol in km', fontsize=ff)\n",
    "cbar.ax.tick_params(labelsize=ff)"
   ]
  },
  {
   "cell_type": "code",
   "execution_count": null,
   "metadata": {
    "collapsed": false
   },
   "outputs": [],
   "source": [
    "####################### Startiform und Liquid\n",
    "dpr_sl = all_dpr.copy()\n",
    "box_sl = all_box.copy()\n",
    "rad_sl = all_rad.copy()\n",
    "pha_sl = dpr_pha.copy()\n",
    "dis_sl = dist2.copy()\n",
    "\n",
    "# Startiform\n",
    "dpr_sl = dpr_sl[(dpr_typ>=1.) & (dpr_typ<2.)]\n",
    "box_sl = box_sl[(dpr_typ>=1.) & (dpr_typ<2.)]\n",
    "rad_sl = rad_sl[(dpr_typ>=1.) & (dpr_typ<2.)]\n",
    "pha_sl = pha_sl[(dpr_typ>=1.) & (dpr_typ<2.)]\n",
    "dis_sl = dis_sl[(dpr_typ>=1.) & (dpr_typ<2.)]\n",
    "\n",
    "# Liquid\n",
    "dpr_sl = dpr_sl[pha_sl==2]\n",
    "box_sl = box_sl[pha_sl==2]\n",
    "rad_sl = rad_sl[pha_sl==2]\n",
    "dis_sl = dis_sl[pha_sl==2]\n",
    "\n",
    "\n",
    "\n",
    "l1, l2 = 15, 50\n",
    "a,b,c =box_sl, dpr_sl, dis_sl\n",
    "print a.shape\n",
    "plt.figure(figsize=(15,10))\n",
    "\n",
    "#plt.scatter(a,b, c=(a-b),s=c, alpha=0.8, vmin=-10, vmax=10)\n",
    "plt.scatter(a,b, c=c,s=40, alpha=0.8, vmin=0, vmax=65)\n",
    "\n",
    "plt.xlim(l1,l2)\n",
    "plt.ylim(l1,l2)\n",
    "plt.plot([l1,l2],[l1,l2])\n",
    "cbar = plt.colorbar(shrink=0.7)\n",
    "cbar.set_label('Distance from BoXPol in km', fontsize=ff)\n",
    "cbar.ax.tick_params(labelsize=ff)\n",
    "plt.grid()\n",
    "plt.xlabel('Z Boxpol in dbz',fontsize=ff)\n",
    "plt.ylabel('Z DPR in dbz',fontsize=ff)"
   ]
  },
  {
   "cell_type": "code",
   "execution_count": null,
   "metadata": {
    "collapsed": false
   },
   "outputs": [],
   "source": []
  },
  {
   "cell_type": "code",
   "execution_count": null,
   "metadata": {
    "collapsed": false
   },
   "outputs": [],
   "source": [
    "####################### Startiform und Liquid\n",
    "dpr_sl = all_dpr.copy()\n",
    "box_sl = all_box.copy()\n",
    "rad_sl = all_rad.copy()\n",
    "pha_sl = dpr_pha.copy()\n",
    "dis_sl = dist2.copy()\n",
    "\n",
    "# Startiform\n",
    "dpr_sl = dpr_sl[(dpr_typ>=1.) & (dpr_typ<2.)]\n",
    "box_sl = box_sl[(dpr_typ>=1.) & (dpr_typ<2.)]\n",
    "rad_sl = rad_sl[(dpr_typ>=1.) & (dpr_typ<2.)]\n",
    "pha_sl = pha_sl[(dpr_typ>=1.) & (dpr_typ<2.)]\n",
    "dis_sl = dis_sl[(dpr_typ>=1.) & (dpr_typ<2.)]\n",
    "\n",
    "# Liquid\n",
    "dpr_sl = dpr_sl[pha_sl==2]\n",
    "box_sl = box_sl[pha_sl==2]\n",
    "rad_sl = rad_sl[pha_sl==2]\n",
    "dis_sl = dis_sl[pha_sl==2]\n",
    "\n",
    "\n",
    "\n",
    "l1, l2 = 15, 50\n",
    "a,b,c =box_sl, dpr_sl, dis_sl\n",
    "print a.shape\n",
    "plt.figure(figsize=(15,10))\n",
    "\n",
    "#plt.scatter(a,b, c=(a-b),s=c, alpha=0.8, vmin=-10, vmax=10)\n",
    "plt.scatter(a,b, c=c,s=10*abs(dpr_sl-rad_sl), alpha=0.8, vmin=0, vmax=65)\n",
    "\n",
    "plt.xlim(l1,l2)\n",
    "plt.ylim(l1,l2)\n",
    "plt.plot([l1,l2],[l1,l2])\n",
    "cbar = plt.colorbar(shrink=0.7)\n",
    "cbar.set_label('Distance from BoXPol in km', fontsize=ff)\n",
    "cbar.ax.tick_params(labelsize=ff)\n",
    "plt.grid()\n",
    "plt.xlabel('Z Boxpol in dbz',fontsize=ff)\n",
    "plt.ylabel('Z DPR in dbz',fontsize=ff)"
   ]
  },
  {
   "cell_type": "code",
   "execution_count": null,
   "metadata": {
    "collapsed": true
   },
   "outputs": [],
   "source": []
  },
  {
   "cell_type": "code",
   "execution_count": null,
   "metadata": {
    "collapsed": true
   },
   "outputs": [],
   "source": []
  },
  {
   "cell_type": "code",
   "execution_count": null,
   "metadata": {
    "collapsed": true
   },
   "outputs": [],
   "source": []
  },
  {
   "cell_type": "code",
   "execution_count": null,
   "metadata": {
    "collapsed": true
   },
   "outputs": [],
   "source": []
  },
  {
   "cell_type": "code",
   "execution_count": null,
   "metadata": {
    "collapsed": true
   },
   "outputs": [],
   "source": []
  }
 ],
 "metadata": {
  "kernelspec": {
   "display_name": "Python 2",
   "language": "python",
   "name": "python2"
  },
  "language_info": {
   "codemirror_mode": {
    "name": "ipython",
    "version": 2
   },
   "file_extension": ".py",
   "mimetype": "text/x-python",
   "name": "python",
   "nbconvert_exporter": "python",
   "pygments_lexer": "ipython2",
   "version": "2.7.11"
  }
 },
 "nbformat": 4,
 "nbformat_minor": 0
}
