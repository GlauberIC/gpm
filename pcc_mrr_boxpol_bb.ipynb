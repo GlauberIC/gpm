{
 "cells": [
  {
   "cell_type": "code",
   "execution_count": 2,
   "metadata": {
    "collapsed": false
   },
   "outputs": [
    {
     "name": "stdout",
     "output_type": "stream",
     "text": [
      "-\n"
     ]
    }
   ],
   "source": [
    "\"\"\"\n",
    "Idee:\n",
    "Benutze MRR und BoXPol verticalScan als DFR um BB zu detektieren.\n",
    "Methode wie bei Le. und Chandrasekar GPM Classifikation Modul\n",
    "\n",
    "\"\"\"\n",
    "\n",
    "print ('-')"
   ]
  },
  {
   "cell_type": "code",
   "execution_count": 35,
   "metadata": {
    "collapsed": false
   },
   "outputs": [],
   "source": [
    "def mrr(t_start='2016-10-07 02:35', time_delta=10, station=40):\n",
    "\n",
    "\n",
    "    import numpy as np\n",
    "    import pymysql as mysql\n",
    "    import datetime as dt\n",
    "    from datetime import datetime\n",
    "    import matplotlib\n",
    "    import matplotlib.pyplot as plt\n",
    "    #from pcc import get_miub_cmap\n",
    "    #my_cmap2 = get_miub_cmap()\n",
    "\n",
    "\n",
    "    # Bonn 40\n",
    "    # Roleber 42\n",
    "    # Bergheim 41\n",
    "    station = [40, 41, 42]\n",
    "    #name_mrr = ['Bonn', 'Bergheim', 'Roleber']\n",
    "    fig=plt.figure(figsize=(18,10))\n",
    "    #datetime_object = datetime.strptime('Jun 1 2005  1:33PM', '%b %d %Y %I:%M%p')\n",
    "    t_start = datetime.strptime(t_start,'%Y-%m-%d %H:%M')\n",
    "    t_stop  = t_start + dt.timedelta(minutes=time_delta)#time_delta\n",
    "\n",
    "    for iii in range(3):\n",
    "\n",
    "\n",
    "\n",
    "        cnx = mysql.connect(user='wetterdaten', passwd='miub321', host='mysql', db='MIUB_messdaten')\n",
    "        cursor = cnx.cursor()\n",
    "        # Humicap 1:\n",
    "        query1 = ('SELECT Base.time, '\n",
    "                  'h.h_1, h.h_2, h.h_3, h.h_4, h.h_5, h.h_6, h.h_7, h.h_8, h.h_9, h.h_10, '\n",
    "                  'h.h_11, h.h_12, h.h_13, h.h_14, h.h_15, h.h_16, h.h_17, h.h_18, h.h_19, h.h_20, '\n",
    "                  'h.h_21, h.h_22, h.h_23, h.h_24, h.h_25, h.h_26, h.h_27, h.h_28, h.h_29, h.h_30, h.h_31, '\n",
    "                  'z.h_1, z.h_2, z.h_3, z.h_4, z.h_5, z.h_6, z.h_7, z.h_8, z.h_9, z.h_10, '\n",
    "                  'z.h_11, z.h_12, z.h_13, z.h_14, z.h_15, z.h_16, z.h_17, z.h_18, z.h_19, z.h_20, '\n",
    "                  'z.h_21, z.h_22, z.h_23, z.h_24, z.h_25, z.h_26, z.h_27, z.h_28, z.h_29, z.h_30, z.h_31 '\n",
    "                  'FROM MIUB_messdaten.MRR  AS Base '\n",
    "                  'LEFT OUTER JOIN MIUB_messdaten.MRR_z AS z ON Base.mes_id = z.mes_id '\n",
    "                  'LEFT OUTER JOIN MIUB_messdaten.MRR_heights AS h ON Base.mes_id = h.mes_id '\n",
    "                  'WHERE Base.Geraete_idGeraete = '+str(station[iii]) +' '\n",
    "                  'AND Base.time BETWEEN ' + t_start.strftime('\"%Y-%m-%d %H:%M:%S\" ') +\n",
    "                  'AND' + t_stop.strftime(' \"%Y-%m-%d %H:%M:%S\" ')+\n",
    "                  'ORDER BY Base.time ASC'\n",
    "                 )\n",
    "        #print(query1)\n",
    "        cursor.execute(query1)\n",
    "        MRR1 = np.asarray(cursor.fetchall())\n",
    "\n",
    "        x = MRR1[:,0]\n",
    "        y = MRR1[0,1:32]\n",
    "        z = np.array(MRR1[:,32:],dtype=float)\n",
    "        \n",
    "        return x,y,z\n",
    "\n",
    "\n",
    "\n",
    "\n",
    "\n",
    "x,y,z = mrr(t_start='2016-10-07 02:35', time_delta=10)\n",
    "#plot_mrr1(t_start='2016-10-01 17:30', time_delta=60)"
   ]
  },
  {
   "cell_type": "code",
   "execution_count": 36,
   "metadata": {
    "collapsed": false
   },
   "outputs": [
    {
     "data": {
      "text/plain": [
       "[<matplotlib.lines.Line2D at 0x7ff446ab1bd0>]"
      ]
     },
     "execution_count": 36,
     "metadata": {},
     "output_type": "execute_result"
    }
   ],
   "source": [
    "import matplotlib.pyplot as plt\n",
    "plt.plot(z[0,:],y)"
   ]
  },
  {
   "cell_type": "code",
   "execution_count": 37,
   "metadata": {
    "collapsed": false
   },
   "outputs": [],
   "source": [
    "plt.show()"
   ]
  },
  {
   "cell_type": "code",
   "execution_count": 38,
   "metadata": {
    "collapsed": false
   },
   "outputs": [
    {
     "data": {
      "text/plain": [
       "array([200, 400, 600, 800, 1000, 1200, 1400, 1600, 1800, 2000, 2200, 2400,\n",
       "       2600, 2800, 3000, 3200, 3400, 3600, 3800, 4000, 4200, 4400, 4600,\n",
       "       4800, 5000, 5200, 5400, 5600, 5800, 6000, 6200], dtype=object)"
      ]
     },
     "execution_count": 38,
     "metadata": {},
     "output_type": "execute_result"
    }
   ],
   "source": [
    "y"
   ]
  },
  {
   "cell_type": "code",
   "execution_count": 39,
   "metadata": {
    "collapsed": false
   },
   "outputs": [
    {
     "data": {
      "text/plain": [
       "array([datetime.datetime(2016, 10, 7, 2, 35, 1),\n",
       "       datetime.datetime(2016, 10, 7, 2, 36, 2),\n",
       "       datetime.datetime(2016, 10, 7, 2, 37, 2),\n",
       "       datetime.datetime(2016, 10, 7, 2, 38, 2),\n",
       "       datetime.datetime(2016, 10, 7, 2, 39, 1),\n",
       "       datetime.datetime(2016, 10, 7, 2, 40, 2),\n",
       "       datetime.datetime(2016, 10, 7, 2, 41, 2),\n",
       "       datetime.datetime(2016, 10, 7, 2, 42, 2),\n",
       "       datetime.datetime(2016, 10, 7, 2, 43, 1),\n",
       "       datetime.datetime(2016, 10, 7, 2, 44, 1)], dtype=object)"
      ]
     },
     "execution_count": 39,
     "metadata": {},
     "output_type": "execute_result"
    }
   ],
   "source": [
    "x"
   ]
  },
  {
   "cell_type": "code",
   "execution_count": 40,
   "metadata": {
    "collapsed": false
   },
   "outputs": [
    {
     "data": {
      "text/plain": [
       "array([[-2.330e+00, -1.455e+01,        nan, -1.290e+01, -5.350e+00,\n",
       "        -4.760e+00, -5.820e+00, -1.061e+01, -3.180e+00, -8.000e+00,\n",
       "        -3.290e+00, -7.940e+00, -8.040e+00, -7.240e+00,        nan,\n",
       "               nan, -2.350e+00,  7.000e-01, -1.210e+00, -2.290e+00,\n",
       "         6.100e-01,  5.700e-01,  2.880e+00,  5.830e+00,  5.030e+00,\n",
       "         4.780e+00,  6.850e+00,  5.520e+00,  5.950e+00,  1.110e+01,\n",
       "         1.292e+01],\n",
       "       [-9.090e+00, -8.970e+00, -1.584e+01, -9.030e+00,        nan,\n",
       "               nan, -8.600e+00, -6.660e+00,        nan,        nan,\n",
       "        -3.480e+00, -3.250e+00, -9.860e+00, -6.400e-01, -2.850e+00,\n",
       "        -2.330e+00, -2.190e+00, -1.050e+00, -7.860e+00,  3.400e+00,\n",
       "         4.700e-01, -1.410e+00,  3.410e+00,  7.310e+00,  6.700e+00,\n",
       "         6.090e+00,  7.760e+00,  7.870e+00,  8.060e+00,  1.182e+01,\n",
       "         1.127e+01],\n",
       "       [-1.260e+01,        nan, -1.301e+01,        nan, -1.344e+01,\n",
       "        -7.620e+00, -5.150e+00, -1.371e+01, -4.230e+00, -7.080e+00,\n",
       "        -7.430e+00,        nan,        nan,        nan, -1.885e+01,\n",
       "        -1.030e+01,  3.430e+00,  5.200e-01, -6.690e+00, -2.400e-01,\n",
       "         2.360e+00, -1.170e+00, -7.600e-01,  4.600e-01,  8.800e+00,\n",
       "         6.780e+00,  9.230e+00,  6.550e+00,  1.148e+01,  1.061e+01,\n",
       "         8.620e+00],\n",
       "       [-5.090e+00, -7.740e+00,        nan, -1.135e+01, -8.220e+00,\n",
       "        -1.237e+01,        nan, -1.063e+01, -1.257e+01, -8.300e+00,\n",
       "               nan,        nan,        nan, -7.150e+00, -7.030e+00,\n",
       "        -4.670e+00,  1.080e+00, -4.460e+00, -1.900e+00,  2.020e+00,\n",
       "         1.300e+00,  9.000e-01,  3.750e+00,  4.340e+00,  6.260e+00,\n",
       "         3.130e+00,  6.680e+00,  7.950e+00,  1.119e+01,  1.078e+01,\n",
       "         1.108e+01],\n",
       "       [-8.410e+00, -5.490e+00, -9.140e+00,        nan, -9.300e+00,\n",
       "        -5.870e+00, -5.930e+00, -1.068e+01, -4.940e+00, -6.730e+00,\n",
       "        -7.600e+00, -5.040e+00, -5.900e+00, -4.230e+00, -5.160e+00,\n",
       "        -3.840e+00,  1.000e-02, -4.000e-02, -1.530e+00,  9.100e-01,\n",
       "         3.420e+00,  2.360e+00,  3.020e+00,  3.890e+00,  2.300e-01,\n",
       "         6.580e+00,  7.520e+00,  7.940e+00,  1.161e+01,  1.236e+01,\n",
       "         1.313e+01],\n",
       "       [-3.740e+00, -1.791e+01, -6.660e+00, -4.370e+00,        nan,\n",
       "        -6.500e+00, -6.180e+00, -9.960e+00, -8.180e+00, -3.650e+00,\n",
       "        -1.850e+00, -6.290e+00, -7.480e+00, -4.680e+00, -1.630e+00,\n",
       "        -1.930e+00, -8.360e+00,        nan, -3.210e+00, -5.200e-01,\n",
       "        -1.060e+00,  9.500e-01,  1.610e+00,  4.450e+00,  7.430e+00,\n",
       "         7.720e+00,  6.700e+00,  8.010e+00,  1.093e+01,  1.045e+01,\n",
       "         1.018e+01],\n",
       "       [-1.450e+00, -1.229e+01,        nan,        nan, -1.397e+01,\n",
       "        -5.390e+00, -1.595e+01, -7.430e+00,  8.000e-01, -3.680e+00,\n",
       "        -5.600e+00, -6.720e+00, -2.780e+00, -1.930e+00, -3.210e+00,\n",
       "         2.490e+00, -1.680e+00, -2.780e+00, -1.160e+00, -3.490e+00,\n",
       "        -1.420e+00, -2.940e+00,  3.310e+00,  3.050e+00,  6.120e+00,\n",
       "         7.130e+00,  3.990e+00,  8.030e+00,  9.320e+00,  1.303e+01,\n",
       "         1.227e+01],\n",
       "       [-5.280e+00, -7.440e+00, -6.530e+00, -1.652e+01, -8.450e+00,\n",
       "        -6.830e+00, -9.440e+00, -1.205e+01, -9.060e+00, -4.560e+00,\n",
       "        -7.550e+00, -9.520e+00,        nan,        nan, -1.305e+01,\n",
       "        -5.410e+00, -1.810e+00, -8.800e-01,  8.000e-01,  2.360e+00,\n",
       "         3.700e-01,  2.080e+00,  4.070e+00,  4.320e+00,  3.690e+00,\n",
       "         7.560e+00,  7.810e+00,  8.020e+00,  7.390e+00,  1.221e+01,\n",
       "         1.076e+01],\n",
       "       [-4.480e+00, -1.659e+01,        nan, -6.320e+00, -4.330e+00,\n",
       "        -9.600e+00, -6.190e+00, -2.240e+00, -6.130e+00, -4.940e+00,\n",
       "        -6.300e+00, -4.750e+00, -7.810e+00, -4.860e+00,        nan,\n",
       "        -2.690e+00, -5.300e-01,  9.100e-01, -1.860e+00, -4.870e+00,\n",
       "         2.240e+00, -3.380e+00,  1.510e+00,  2.440e+00,  5.700e+00,\n",
       "         4.910e+00,  4.850e+00,  1.032e+01,  8.430e+00,  1.137e+01,\n",
       "         1.174e+01],\n",
       "       [-6.230e+00, -3.860e+00, -6.350e+00, -5.480e+00, -5.780e+00,\n",
       "        -9.110e+00, -6.270e+00, -5.900e+00, -7.060e+00, -9.800e+00,\n",
       "        -6.080e+00, -6.010e+00, -3.790e+00, -2.220e+01,        nan,\n",
       "        -8.010e+00, -2.990e+00,  1.860e+00, -6.050e+00, -1.890e+00,\n",
       "         6.040e+00,  7.250e+00,  4.710e+00,  2.440e+00,  4.700e-01,\n",
       "         3.690e+00,  6.780e+00,  8.750e+00,  9.540e+00,  1.136e+01,\n",
       "         1.272e+01]])"
      ]
     },
     "execution_count": 40,
     "metadata": {},
     "output_type": "execute_result"
    }
   ],
   "source": [
    "z"
   ]
  },
  {
   "cell_type": "code",
   "execution_count": null,
   "metadata": {
    "collapsed": true
   },
   "outputs": [],
   "source": []
  }
 ],
 "metadata": {
  "kernelspec": {
   "display_name": "Python 2",
   "language": "python",
   "name": "python2"
  },
  "language_info": {
   "codemirror_mode": {
    "name": "ipython",
    "version": 2
   },
   "file_extension": ".py",
   "mimetype": "text/x-python",
   "name": "python",
   "nbconvert_exporter": "python",
   "pygments_lexer": "ipython2",
   "version": "2.7.11"
  }
 },
 "nbformat": 4,
 "nbformat_minor": 0
}
