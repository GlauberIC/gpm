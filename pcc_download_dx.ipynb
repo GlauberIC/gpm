{
 "cells": [
  {
   "cell_type": "code",
   "execution_count": 1,
   "metadata": {
    "collapsed": false
   },
   "outputs": [
    {
     "data": {
      "text/plain": [
       "'\\n\\nDownload daily DWD DX Data\\n\\n'"
      ]
     },
     "execution_count": 1,
     "metadata": {},
     "output_type": "execute_result"
    }
   ],
   "source": [
    "\"\"\"\n",
    "-----------------------------------------------\n",
    "\n",
    "Download daily DWD DX Data\n",
    "\n",
    "-----------------------------------------------\n",
    "\n",
    "\"\"\""
   ]
  },
  {
   "cell_type": "code",
   "execution_count": 38,
   "metadata": {
    "collapsed": true
   },
   "outputs": [],
   "source": [
    "#!/usr/bin/env python\n",
    "\n",
    "from datetime import date, timedelta as td\n",
    "import pandas as pd\n",
    "import urllib2\n",
    "import ssl\n",
    "import os\n",
    "\n",
    "\n"
   ]
  },
  {
   "cell_type": "code",
   "execution_count": 101,
   "metadata": {
    "collapsed": true
   },
   "outputs": [],
   "source": [
    "# Choose Overpasstimestep\n",
    "ZP = '201803071545'"
   ]
  },
  {
   "cell_type": "code",
   "execution_count": 114,
   "metadata": {
    "collapsed": false
   },
   "outputs": [],
   "source": [
    "# Time Strings\n",
    "year = ZP[0:4]; ye = ZP[2:4]; m = ZP[4:6]; d = ZP[6:8]; ht = ZP[8:10]; mt = ZP[10:12]\n",
    "\n",
    "# DWD Radare\n",
    "radare = ['asb', 'boo', 'drs', 'eis', 'emd', 'ess', 'fbg', 'fld', 'hnr',\n",
    "          'isn', 'mem', 'neu', 'nhb', 'oft', 'pro', 'ros', 'tur', 'umd']\n",
    "# DWD Radar ID\n",
    "radid = ['10410','10410']\n",
    "\n",
    "# Create Path and Dir\n",
    "if year+m+d+ht+mt in os.listdir('/automount/ags/velibor/data/radolan_dx/'):\n",
    "    os.chdir('/automount/ags/velibor/data/radolan_dx/'+year+m+d+ht+mt) \n",
    "else:\n",
    "    os.chdir('/automount/ags/velibor/data/radolan_dx/') \n",
    "    os.mkdir(year+m+d+ht+mt)\n",
    "    os.chdir('/automount/ags/velibor/data/radolan_dx/'+year+m+d+ht+mt) \n",
    "\n",
    "\n",
    "# URL festlegen:\n",
    "url = 'https://opendata.dwd.de/weather/radar/sites/dx/'+radare[5]+'/'\n",
    "data = 'raa00-dx_' + radid[0] + '-' + ye + m + d + ht + mt + '-' + radare[5] + '---bin '\n",
    "\n",
    "# Context erforderlich zum url download\n",
    "context = ssl._create_unverified_context()\n",
    "\n",
    "\n"
   ]
  },
  {
   "cell_type": "code",
   "execution_count": 115,
   "metadata": {
    "collapsed": false
   },
   "outputs": [
    {
     "data": {
      "text/plain": [
       "'https://opendata.dwd.de/weather/radar/sites/dx/ess/raa00-dx_10410-1803071545-ess---bin '"
      ]
     },
     "execution_count": 115,
     "metadata": {},
     "output_type": "execute_result"
    }
   ],
   "source": [
    "url+data"
   ]
  },
  {
   "cell_type": "code",
   "execution_count": 116,
   "metadata": {
    "collapsed": false
   },
   "outputs": [
    {
     "ename": "IndexError",
     "evalue": "list index out of range",
     "output_type": "error",
     "traceback": [
      "\u001b[1;31m---------------------------------------------------------------------------\u001b[0m",
      "\u001b[1;31mIndexError\u001b[0m                                Traceback (most recent call last)",
      "\u001b[1;32m<ipython-input-116-0f5b354988cb>\u001b[0m in \u001b[0;36m<module>\u001b[1;34m()\u001b[0m\n\u001b[0;32m      6\u001b[0m \u001b[0mf\u001b[0m \u001b[1;33m=\u001b[0m \u001b[0mopen\u001b[0m\u001b[1;33m(\u001b[0m\u001b[0mdownload_path\u001b[0m\u001b[1;33m+\u001b[0m\u001b[0mfile_name\u001b[0m\u001b[1;33m,\u001b[0m \u001b[1;34m'wb'\u001b[0m\u001b[1;33m)\u001b[0m\u001b[1;33m\u001b[0m\u001b[0m\n\u001b[0;32m      7\u001b[0m \u001b[0mmeta\u001b[0m \u001b[1;33m=\u001b[0m \u001b[0mu\u001b[0m\u001b[1;33m.\u001b[0m\u001b[0minfo\u001b[0m\u001b[1;33m(\u001b[0m\u001b[1;33m)\u001b[0m\u001b[1;33m\u001b[0m\u001b[0m\n\u001b[1;32m----> 8\u001b[1;33m \u001b[0mfile_size\u001b[0m \u001b[1;33m=\u001b[0m \u001b[0mint\u001b[0m\u001b[1;33m(\u001b[0m\u001b[0mmeta\u001b[0m\u001b[1;33m.\u001b[0m\u001b[0mgetheaders\u001b[0m\u001b[1;33m(\u001b[0m\u001b[1;34m\"Content-Length\"\u001b[0m\u001b[1;33m)\u001b[0m\u001b[1;33m[\u001b[0m\u001b[1;36m0\u001b[0m\u001b[1;33m]\u001b[0m\u001b[1;33m)\u001b[0m\u001b[1;33m\u001b[0m\u001b[0m\n\u001b[0m\u001b[0;32m      9\u001b[0m \u001b[1;32mprint\u001b[0m \u001b[1;34m\"Downloading: %s Bytes: %s\"\u001b[0m \u001b[1;33m%\u001b[0m \u001b[1;33m(\u001b[0m\u001b[0mfile_name\u001b[0m\u001b[1;33m,\u001b[0m \u001b[0mfile_size\u001b[0m\u001b[1;33m)\u001b[0m\u001b[1;33m\u001b[0m\u001b[0m\n\u001b[0;32m     10\u001b[0m \u001b[1;33m\u001b[0m\u001b[0m\n",
      "\u001b[1;31mIndexError\u001b[0m: list index out of range"
     ]
    }
   ],
   "source": [
    "#url = 'https://opendata.dwd.de/weather/radar/sites/dx/ess/raa00-dx_10410-1803071540-ess---bin'\n",
    "#url = url+data\n",
    "file_name = data#url.split('/')[-1]\n",
    "download_path = \"/automount/ags/velibor/\"\n",
    "u = urllib2.urlopen(url, context=context)\n",
    "f = open(download_path+file_name, 'wb')\n",
    "meta = u.info()\n",
    "file_size = int(meta.getheaders(\"Content-Length\")[0])\n",
    "print \"Downloading: %s Bytes: %s\" % (file_name, file_size)\n",
    "\n",
    "file_size_dl = 0\n",
    "block_sz = 8192\n",
    "while True:\n",
    "    buffer = u.read(block_sz)\n",
    "    if not buffer:\n",
    "        break\n",
    "\n",
    "    file_size_dl += len(buffer)\n",
    "    f.write(buffer)\n",
    "    status = r\"%10d  [%3.2f%%]\" % (file_size_dl, file_size_dl * 100. / file_size)\n",
    "    status = status + chr(8)*(len(status)+1)\n",
    "    print status,\n",
    "\n",
    "f.close()"
   ]
  },
  {
   "cell_type": "code",
   "execution_count": 118,
   "metadata": {
    "collapsed": false
   },
   "outputs": [
    {
     "name": "stdout",
     "output_type": "stream",
     "text": [
      "raa00-dx_10410-1803071535-ess---bin \n"
     ]
    },
    {
     "data": {
      "text/plain": [
       "('raa00-dx_10410-1803071545-ess---bin ',\n",
       " 'https://opendata.dwd.de/weather/radar/sites/dx/ess/')"
      ]
     },
     "execution_count": 118,
     "metadata": {},
     "output_type": "execute_result"
    }
   ],
   "source": [
    "print 'raa00-dx_10410-1803071535-ess---bin ' \n",
    "file_name,url\n"
   ]
  },
  {
   "cell_type": "code",
   "execution_count": 23,
   "metadata": {
    "collapsed": true
   },
   "outputs": [],
   "source": []
  },
  {
   "cell_type": "code",
   "execution_count": 41,
   "metadata": {
    "collapsed": false
   },
   "outputs": [],
   "source": [
    "os.chdir('/automount/ags/velibor/data/radolan_dx/')\n"
   ]
  },
  {
   "cell_type": "code",
   "execution_count": 46,
   "metadata": {
    "collapsed": false
   },
   "outputs": [
    {
     "data": {
      "text/plain": [
       "['2018']"
      ]
     },
     "execution_count": 46,
     "metadata": {},
     "output_type": "execute_result"
    }
   ],
   "source": [
    "os.listdir('/automount/ags/velibor/data/radolan_dx/')"
   ]
  },
  {
   "cell_type": "code",
   "execution_count": 49,
   "metadata": {
    "collapsed": false
   },
   "outputs": [
    {
     "data": {
      "text/plain": [
       "True"
      ]
     },
     "execution_count": 49,
     "metadata": {},
     "output_type": "execute_result"
    }
   ],
   "source": [
    "year in os.listdir('/automount/ags/velibor/data/radolan_dx/')"
   ]
  },
  {
   "cell_type": "code",
   "execution_count": null,
   "metadata": {
    "collapsed": true
   },
   "outputs": [],
   "source": []
  }
 ],
 "metadata": {
  "kernelspec": {
   "display_name": "Python 2",
   "language": "python",
   "name": "python2"
  },
  "language_info": {
   "codemirror_mode": {
    "name": "ipython",
    "version": 2
   },
   "file_extension": ".py",
   "mimetype": "text/x-python",
   "name": "python",
   "nbconvert_exporter": "python",
   "pygments_lexer": "ipython2",
   "version": "2.7.11"
  }
 },
 "nbformat": 4,
 "nbformat_minor": 0
}
