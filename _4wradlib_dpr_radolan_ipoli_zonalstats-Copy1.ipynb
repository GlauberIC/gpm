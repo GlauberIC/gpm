{
 "cells": [
  {
   "cell_type": "code",
   "execution_count": 1,
   "metadata": {
    "collapsed": false
   },
   "outputs": [
    {
     "name": "stderr",
     "output_type": "stream",
     "text": [
      "/home/velibor/anaconda2/envs/wradlib/lib/python2.7/site-packages/ipykernel/pylab/config.py:66: DeprecationWarning: metadata {'config': True} was set from the constructor.  Metadata should be set using the .tag() method, e.g., Int().tag(key1='value1', key2='value2')\n",
      "  inline backend.\"\"\"\n",
      "/home/velibor/anaconda2/envs/wradlib/lib/python2.7/site-packages/ipykernel/pylab/config.py:71: DeprecationWarning: metadata {'config': True} was set from the constructor.  Metadata should be set using the .tag() method, e.g., Int().tag(key1='value1', key2='value2')\n",
      "  'retina', 'jpeg', 'svg', 'pdf'.\"\"\")\n",
      "/home/velibor/anaconda2/envs/wradlib/lib/python2.7/site-packages/ipykernel/pylab/config.py:85: DeprecationWarning: metadata {'config': True} was set from the constructor.  Metadata should be set using the .tag() method, e.g., Int().tag(key1='value1', key2='value2')\n",
      "  use `figure_formats` instead)\"\"\")\n",
      "/home/velibor/anaconda2/envs/wradlib/lib/python2.7/site-packages/ipykernel/pylab/config.py:95: DeprecationWarning: metadata {'config': True} was set from the constructor.  Metadata should be set using the .tag() method, e.g., Int().tag(key1='value1', key2='value2')\n",
      "  \"\"\"\n",
      "/home/velibor/anaconda2/envs/wradlib/lib/python2.7/site-packages/ipykernel/pylab/config.py:114: DeprecationWarning: metadata {'config': True} was set from the constructor.  Metadata should be set using the .tag() method, e.g., Int().tag(key1='value1', key2='value2')\n",
      "  \"\"\")\n",
      "/home/velibor/anaconda2/envs/wradlib/lib/python2.7/site-packages/ipykernel/pylab/config.py:44: DeprecationWarning: InlineBackend._config_changed is deprecated: use @observe and @unobserve instead.\n",
      "  def _config_changed(self, name, old, new):\n",
      "/home/velibor/anaconda2/envs/wradlib/lib/python2.7/site-packages/traitlets/traitlets.py:770: DeprecationWarning: A parent of InlineBackend._config_changed has adopted the new @observe(change) API\n",
      "  clsname, change_or_name), DeprecationWarning)\n",
      "/home/velibor/anaconda2/envs/wradlib/lib/python2.7/site-packages/IPython/core/formatters.py:98: DeprecationWarning: DisplayFormatter._formatters_default is deprecated: use @default decorator instead.\n",
      "  def _formatters_default(self):\n",
      "/home/velibor/anaconda2/envs/wradlib/lib/python2.7/site-packages/IPython/core/formatters.py:677: DeprecationWarning: PlainTextFormatter._deferred_printers_default is deprecated: use @default decorator instead.\n",
      "  def _deferred_printers_default(self):\n",
      "/home/velibor/anaconda2/envs/wradlib/lib/python2.7/site-packages/IPython/core/formatters.py:669: DeprecationWarning: PlainTextFormatter._singleton_printers_default is deprecated: use @default decorator instead.\n",
      "  def _singleton_printers_default(self):\n",
      "/home/velibor/anaconda2/envs/wradlib/lib/python2.7/site-packages/IPython/core/formatters.py:672: DeprecationWarning: PlainTextFormatter._type_printers_default is deprecated: use @default decorator instead.\n",
      "  def _type_printers_default(self):\n",
      "/home/velibor/anaconda2/envs/wradlib/lib/python2.7/site-packages/IPython/core/formatters.py:672: DeprecationWarning: PlainTextFormatter._type_printers_default is deprecated: use @default decorator instead.\n",
      "  def _type_printers_default(self):\n",
      "/home/velibor/anaconda2/envs/wradlib/lib/python2.7/site-packages/IPython/core/formatters.py:677: DeprecationWarning: PlainTextFormatter._deferred_printers_default is deprecated: use @default decorator instead.\n",
      "  def _deferred_printers_default(self):\n"
     ]
    }
   ],
   "source": [
    "import h5py\n",
    "import numpy as np\n",
    "import matplotlib.pyplot as pl\n",
    "import wradlib\n",
    "from osgeo import osr\n",
    "import datetime as dt\n",
    "\n",
    "from osgeo import gdal\n",
    "from scipy.spatial import cKDTree\n",
    "\n",
    "% matplotlib inline \n"
   ]
  },
  {
   "cell_type": "code",
   "execution_count": null,
   "metadata": {
    "collapsed": true
   },
   "outputs": [],
   "source": []
  },
  {
   "cell_type": "code",
   "execution_count": 2,
   "metadata": {
    "collapsed": false
   },
   "outputs": [
    {
     "name": "stdout",
     "output_type": "stream",
     "text": [
      "CPU times: user 16.8 s, sys: 446 ms, total: 17.2 s\n",
      "Wall time: 16.8 s\n"
     ]
    }
   ],
   "source": [
    "%%time\n",
    "\n",
    "# Import radolan grid src\n",
    "radolan_xy = wradlib.georef.get_radolan_grid(900,900)\n",
    "radolan_xy = radolan_xy.reshape(-1, radolan_xy.shape[-1])\n",
    "zd = wradlib.zonalstats.DataSource(radolan_xy, name='src')\n",
    "#print(zd._name)\n",
    "#gr_src = wradlib.zonalstats.gdal_create_dataset('Memory', 'out', gdal_type=gdal.OF_VECTOR)\n",
    "#s_in, tmp_lyr = wradlib.io.open_vector('radolan_grid/src.shp', driver='ESRI Shapefile')\n",
    "\n",
    "#gr_src_lyr = ogr_src.CopyLayer(tmp_lyr, zd._name)\n",
    "#d._srs = ogr_src_lyr.GetSpatialRef()\n",
    "#d._ds = ogr_src\n",
    "#zd_poly_radolan = wradlib.zonalstats.ZonalDataPoint('radolan_grid')"
   ]
  },
  {
   "cell_type": "markdown",
   "metadata": {
    "collapsed": false
   },
   "source": [
    "\n",
    "##  Data Input\n",
    "----------------------------------\n",
    "### Read an organize the data\n",
    "--------------------------------\n",
    "\n"
   ]
  },
  {
   "cell_type": "code",
   "execution_count": 3,
   "metadata": {
    "collapsed": true
   },
   "outputs": [],
   "source": [
    "# new cutted gpm data\n",
    "gpm_file = '/automount/ags/velibor/gpmdata/ipol_test/2A-CS-radolan.GPM.DPR.V7-20170308.20141007-S023418-E023728.003445.V05A.HDF5'\n",
    "#gpm_file = '/automount/ags/velibor/gpmdata/ipol_test/2A-CS-radolan.GPM.DPR.V7-20170308.20140510-S220856-E221212.001124.V05A.HDF5'\n",
    "\n",
    "# define the RADOLAN RY data\n",
    "radolan_ry_file = '/automount/ags/velibor/gpmdata/ipol_test/raa01-ry_10000-1410070235-dwd---bin'\n",
    "#radolan_ry_file = '/automount/ags/velibor/gpmdata/ipol_test/raa01-ry_10000-1405102210-dwd---bin'"
   ]
  },
  {
   "cell_type": "markdown",
   "metadata": {},
   "source": [
    "## Interpolation Methode"
   ]
  },
  {
   "cell_type": "code",
   "execution_count": 4,
   "metadata": {
    "collapsed": true
   },
   "outputs": [],
   "source": [
    "def ipoli_radi(gr_grid, gr_data,sr_grid,radius):\n",
    "    \"\"\"\n",
    "\n",
    "    Parameters\n",
    "    ----------\n",
    "    gr_grid ::: grid of the Ground Radar\n",
    "    gr_data ::: data of the Ground Radar\n",
    "    sr_grid ::: grid oft the Spaceborn Radar\n",
    "    radius  ::: radius of the dpr foot prints\n",
    "\n",
    "\n",
    "    Returns\n",
    "    -------\n",
    "    gs_grid ::: Interpolated Groundradar Data on Spaceborne Grid\n",
    "\n",
    "    \"\"\"\n",
    "    import datetime as dt\n",
    "    gr_ipoli_data = np.zeros((sr_grid.shape[0]))\n",
    "\n",
    "    for i in range(sr_grid.shape[0]):\n",
    "\n",
    "        # set x_0 and y_0\n",
    "        x0, y0 = sr_grid[i,0], sr_grid[i,1] \n",
    "\n",
    "        # calc radius for all other points\n",
    "        rr = np.sqrt((gr_grid[:,0] - x0)**2 + (gr_grid[:,1] - y0)**2)\n",
    "\n",
    "        # check if footptint \n",
    "        if gr_data[rr < radius].size!=0:\n",
    "            # if not empty calc mean\n",
    "            #ToDo: wichtung fehlt!\n",
    "            gr_ipoli_data[i] = np.nanmean(gr_data[rr < radius])\n",
    "\n",
    " \n",
    "        else:\n",
    "            # if empty set NAN\n",
    "            gr_ipoli_data[i] = np.nan\n",
    "\n",
    "\n",
    "    return gr_ipoli_data"
   ]
  },
  {
   "cell_type": "markdown",
   "metadata": {
    "collapsed": true
   },
   "source": [
    "## Remove all GPM scans not oncluded in radolan scan area\n",
    "----------------------"
   ]
  },
  {
   "cell_type": "code",
   "execution_count": 5,
   "metadata": {
    "collapsed": true
   },
   "outputs": [],
   "source": [
    "def dpr_swath_contour(sr_grid):\n",
    "    \"\"\"\n",
    "    Function for dpr swath grid contour\n",
    "    ## sr_grid[:, 0] # - komplette linke Spalte\n",
    "    ## sr_grid[-1,1:-1] # - obere Kante (ohne linke und rechte Ecke)\n",
    "    ## sr_grid[:, -1][::-1] # - komplette rechte Spalte (rückwarts)\n",
    "    ## sr_grid[0,0:-1] # - unter Kante (ohne rechte Ecke)\n",
    "    \n",
    "    \"\"\"\n",
    "    \n",
    "    trg = np.r_[sr_grid[:, 0], sr_grid[-1, 1:-1], sr_grid[:, -1][::-1], sr_grid[0, 0:-1][::-1]]\n",
    "    \n",
    "    return trg\n"
   ]
  },
  {
   "cell_type": "code",
   "execution_count": 6,
   "metadata": {
    "collapsed": true
   },
   "outputs": [],
   "source": [
    "def idx_sr_in_gr_area(_bingrid, _gpm_xy):\n",
    "    \"\"\"\n",
    "    Funktion:\n",
    "    ---------\n",
    "    Search for SR Footprint (Index) that are located in the GR scan area \n",
    "    \n",
    "    Input: \n",
    "    ------\n",
    "    _bingrid ::: Binary-grid of the GR scan area\n",
    "        \n",
    "    _gpm_xy ::: GPM footptint coordinates\n",
    "    \n",
    "    Output:\n",
    "    -------\n",
    "    \n",
    "    _gpm_xy_outer_idx ::: index of all footprints not included in radolan scan area\n",
    "    _gpm_xy_inner_idx ::: idex of all footprints included in radolan area but\n",
    "                           not scanned by ground radars \n",
    "    \n",
    "    \"\"\"\n",
    "    _gpm_xy = _gpm_xy.copy()\n",
    "    # Bestimmen von Eckpunkten bei RADOLAN RY GRID!\n",
    "    # HARDCODED: but ok for regula RADOLAN Produkts\n",
    "    xmin, xmax = -523.4621669218559, 375.5378330781441\n",
    "    ymin, ymax = -4658.644724265572, -3759.644724265572\n",
    "    \n",
    "    # Radolangitter um 1 gridpoit zu allen seiten erweitern\n",
    "    _xex, _yex = np.arange(xmin-1, xmax+2, 1), np.arange(ymin-1, ymax+2, 1)\n",
    "    _xxx, _yyy = np.meshgrid(_xex,_yex)\n",
    "    \n",
    "    # Bin grid bestimmen\n",
    "    _bingrid = _bingrid.copy()\n",
    "    _bingrid[_bingrid >= 0]=1\n",
    "    _bingrid[_bingrid < 0]=0\n",
    "    \n",
    "    # Gittererweiterungen zusammenstellen\n",
    "    ## rn_tb ::: bin gird top and bottom\n",
    "    ## rn_lr ::: bin gird left and right\n",
    "    rn_tb = np.zeros(900)\n",
    "    rn_lr = np.zeros(902)\n",
    "    \n",
    "    # Griderweiterungen einsetzen\n",
    "    # erst oben und unten\n",
    "    rn1 = np.c_[rn_tb, _bingrid, rn_tb]\n",
    "    # dann rechts\n",
    "    rn2 = np.vstack((rn1, rn_lr))\n",
    "    # dann rechts\n",
    "    rn3 = np.vstack((rn_lr,rn2))\n",
    "    \n",
    "    from skimage import measure\n",
    "    # Contouren des Bin-grids erstellen\n",
    "    contours = measure.find_contours(rn3, 0, positive_orientation='high',\n",
    "                                     fully_connected='high' )\n",
    "    print(len(contours), ' detected Polygons')\n",
    "    #print(\"---------------------\")\n",
    "    #for j in range(len(contours)):\n",
    "    #    print(len(contours[j]))\n",
    "    #print(\"---------------------\")\n",
    "\n",
    "    # bestiimung der Listen für Polygon Points\n",
    "    _xx = []\n",
    "    _yy = []\n",
    "\n",
    "    # suche nach dem größten Polygon... dieser sollte der RADOLAN UMRISS sein\n",
    "    for i in range(len(contours)):\n",
    "        # Polygone mit 3 oder weniger points ergeben keine nutzbare Fläche\n",
    "        if len(_xxx[contours[i][:,0].astype(int),contours[i][:,1].astype(int)]) <= 3:\n",
    "            print('not relevant polygon removed')\n",
    "        else:   \n",
    "            # PolygonPoints bestimmen (RADOLAN RAND POINTS)\n",
    "            _xx.append(_xxx[contours[i][:,0].astype(int),contours[i][:,1].astype(int)])\n",
    "            _yy.append(_yyy[contours[i][:,0].astype(int),contours[i][:,1].astype(int)])\n",
    "            \n",
    "    # sortiern nach der länge, das letzt element ist das größte und sollte somit der Radolarand sein\n",
    "    _xx.sort(key=len)\n",
    "    _yy.sort(key=len)\n",
    "\n",
    "    # Outter polygon erstellen\n",
    "    _xy = np.vstack((_xx[-1].ravel(), _yy[-1].ravel())).transpose()    \n",
    "    \n",
    "    # Suche nach den GPM footprints im Scanngebiet von RADOLAN mit ZONALSTATS\n",
    "    zdpoly = wradlib.zonalstats.ZonalDataPoly(_gpm_xy, [_xy])\n",
    "    _gpm_xy_outer_idx = zdpoly.get_source_index(0)\n",
    "    \n",
    "    # Array for inner Polygons\n",
    "    _gpm_xy_inner_idx = np.array([])\n",
    "    \n",
    "    # Entferne Inner Polygons\n",
    "    # Auch nur wenn es weitere Polygone gibt \n",
    "    if len(_xx)>1:\n",
    "\n",
    "        for inner_poly_index in range(len(_xx)-1):\n",
    "\n",
    "            print ('Polygon size: ', len(_xx[inner_poly_index].ravel()))\n",
    "\n",
    "            _xy_inner = np.vstack((_xx[inner_poly_index].ravel(),\n",
    "                                  _yy[inner_poly_index].ravel())).transpose()\n",
    "\n",
    "            _zdpoly = wradlib.zonalstats.ZonalDataPoly(_gpm_xy, [_xy_inner])\n",
    "\n",
    "            _inner_idx = _zdpoly.get_source_index(0)\n",
    "\n",
    "            _gpm_xy_inner_idx = np.append(_gpm_xy_inner_idx, _inner_idx)\n",
    "\n",
    "\n",
    "            if _gpm_xy_inner_idx.size==0:\n",
    "                print ('inner polygons do not match with SR grid')\n",
    "\n",
    "            else:\n",
    "                print('match idx with inner polygon: ', _gpm_xy_inner_idx.shape)\n",
    "                    \n",
    "\n",
    "        \n",
    "    return _gpm_xy_outer_idx, _gpm_xy_inner_idx \n",
    "        "
   ]
  },
  {
   "cell_type": "code",
   "execution_count": 7,
   "metadata": {
    "collapsed": true
   },
   "outputs": [],
   "source": [
    "def dpr_antenna_weighting(r):\n",
    "    \"\"\"\n",
    "    Funktion: eplained in \n",
    "    Watters, D., A. Battaglia, K. Mroz, and F. Tridon, 0: \n",
    "    Validation of the GPM Version-5 Surface Rainfall \n",
    "    Products over Great Britain and Ireland. \n",
    "    J. Hydrometeor., 0, https://doi.org/10.1175/JHM-D-18-0051.1\n",
    "    \"\"\"\n",
    "    \n",
    "    omega = np.exp(-(r/2.5)**2. * np.log10(4.))\n",
    "    \n",
    "    return omega"
   ]
  },
  {
   "cell_type": "code",
   "execution_count": 8,
   "metadata": {
    "collapsed": true
   },
   "outputs": [],
   "source": [
    "t1 = dt.datetime.now()"
   ]
  },
  {
   "cell_type": "markdown",
   "metadata": {
    "collapsed": true
   },
   "source": [
    "## Read GPM Data\n",
    "---------------------------------------\n"
   ]
  },
  {
   "cell_type": "code",
   "execution_count": 9,
   "metadata": {
    "collapsed": false
   },
   "outputs": [
    {
     "name": "stdout",
     "output_type": "stream",
     "text": [
      "CPU times: user 10.9 ms, sys: 111 µs, total: 11 ms\n",
      "Wall time: 245 ms\n"
     ]
    }
   ],
   "source": [
    "%%time\n",
    "# read gpm file with importatnt parameters\n",
    "gpmdpr = h5py.File(gpm_file, 'r')\n",
    "\n",
    "# Scan swath\n",
    "sc = 'NS'\n",
    "\n",
    "# GPM navigation and time\n",
    "gpm_lat = np.array(gpmdpr[sc]['Latitude'])\n",
    "gpm_lon = np.array(gpmdpr[sc]['Longitude'])\n",
    "\n",
    "# Precipitation data in RADOLAN region\n",
    "dpr_pns = np.array(gpmdpr[sc]['SLV']['precipRateESurface'])\n",
    "dpr_pns[dpr_pns ==-9999.9]= np.nan"
   ]
  },
  {
   "cell_type": "markdown",
   "metadata": {},
   "source": [
    "## GPM coordinates projection\n",
    "----------------------------------------------"
   ]
  },
  {
   "cell_type": "code",
   "execution_count": 10,
   "metadata": {
    "collapsed": false
   },
   "outputs": [
    {
     "name": "stdout",
     "output_type": "stream",
     "text": [
      "CPU times: user 66.9 ms, sys: 0 ns, total: 66.9 ms\n",
      "Wall time: 67.8 ms\n"
     ]
    }
   ],
   "source": [
    "%%time\n",
    "\n",
    "proj_stereo = wradlib.georef.create_osr(\"dwd-radolan\")\n",
    "proj_wgs = osr.SpatialReference()\n",
    "proj_wgs.ImportFromEPSG(4326)\n",
    "\n",
    "gpm_x, gpm_y = wradlib.georef.reproject(gpm_lon, gpm_lat,\n",
    "                                        projection_target=proj_stereo,\n",
    "                                        projection_source=proj_wgs)"
   ]
  },
  {
   "cell_type": "markdown",
   "metadata": {},
   "source": [
    "## Read RADOLAN Data\n",
    "-----------------"
   ]
  },
  {
   "cell_type": "code",
   "execution_count": 11,
   "metadata": {
    "collapsed": false
   },
   "outputs": [
    {
     "name": "stdout",
     "output_type": "stream",
     "text": [
      "CPU times: user 46.1 ms, sys: 12.1 ms, total: 58.2 ms\n",
      "Wall time: 72.2 ms\n"
     ]
    }
   ],
   "source": [
    "%%time\n",
    "\n",
    "# read radolan ry file\n",
    "rwdata, rwattrs = wradlib.io.read_radolan_composite(radolan_ry_file)\n",
    "\n",
    "radolan_grid_xy = wradlib.georef.get_radolan_grid(900,900)\n",
    "x = radolan_grid_xy[:,:,0]\n",
    "y = radolan_grid_xy[:,:,1]\n",
    "rwdata = np.ma.masked_equal(rwdata, -9999) *8#/ 2 - 32.5\n",
    "\n",
    "# copy data for binary grid\n",
    "bingrid = rwdata.copy()"
   ]
  },
  {
   "cell_type": "markdown",
   "metadata": {},
   "source": [
    "## Remove all GPM footprint that are not in scan area of radolan\n",
    "-------------------"
   ]
  },
  {
   "cell_type": "code",
   "execution_count": 12,
   "metadata": {
    "collapsed": false
   },
   "outputs": [
    {
     "name": "stdout",
     "output_type": "stream",
     "text": [
      "(1, ' detected Polygons')\n",
      "CPU times: user 630 ms, sys: 58.2 ms, total: 688 ms\n",
      "Wall time: 637 ms\n"
     ]
    }
   ],
   "source": [
    "%%time\n",
    "\n",
    "# GPM Koordinaten revelen \n",
    "gpm_xy = np.vstack((gpm_x.ravel(), gpm_y.ravel())).transpose()\n",
    "\n",
    "outer_idx, inner_idx = idx_sr_in_gr_area(bingrid, gpm_xy)\n",
    "\n",
    "#gpm_xy = gpm_xy[outer_idx]\n",
    "\n",
    "# Hässliche Variante\n",
    "# entferne alle Indizes aus dem inneren Polygon\n",
    "idx_r = ~np.isin(outer_idx, inner_idx)\n",
    "\n",
    "# entferne alle Indizes auserhalb des äußeren Polygons\n",
    "gpm_xy = gpm_xy[outer_idx[idx_r]]\n",
    "gpm_pns = dpr_pns.ravel()[outer_idx[idx_r]]"
   ]
  },
  {
   "cell_type": "code",
   "execution_count": 13,
   "metadata": {
    "collapsed": false
   },
   "outputs": [
    {
     "name": "stderr",
     "output_type": "stream",
     "text": [
      "/home/velibor/anaconda2/envs/wradlib/lib/python2.7/site-packages/IPython/core/formatters.py:92: DeprecationWarning: DisplayFormatter._ipython_display_formatter_default is deprecated: use @default decorator instead.\n",
      "  def _ipython_display_formatter_default(self):\n",
      "/home/velibor/anaconda2/envs/wradlib/lib/python2.7/site-packages/IPython/core/formatters.py:669: DeprecationWarning: PlainTextFormatter._singleton_printers_default is deprecated: use @default decorator instead.\n",
      "  def _singleton_printers_default(self):\n"
     ]
    },
    {
     "data": {
      "text/plain": [
       "(array([], dtype=float64),\n",
       " array([ 2499,  2548,  2597, ..., 11389, 11425, 11437]))"
      ]
     },
     "execution_count": 13,
     "metadata": {},
     "output_type": "execute_result"
    }
   ],
   "source": [
    "inner_idx, outer_idx"
   ]
  },
  {
   "cell_type": "markdown",
   "metadata": {},
   "source": [
    "## Remove all RADOLAN Points not included in GPM DPR swath\n",
    "-------------------------------"
   ]
  },
  {
   "cell_type": "code",
   "execution_count": 14,
   "metadata": {
    "collapsed": false
   },
   "outputs": [
    {
     "name": "stdout",
     "output_type": "stream",
     "text": [
      "(641,)\n",
      "CPU times: user 199 µs, sys: 0 ns, total: 199 µs\n",
      "Wall time: 189 µs\n"
     ]
    }
   ],
   "source": [
    "%%time\n",
    "# Contour from original DPR Overpass\n",
    "dpr_contour_x = dpr_swath_contour(gpm_x)\n",
    "dpr_contour_y = dpr_swath_contour(gpm_y)\n",
    "print(dpr_contour_x.shape)"
   ]
  },
  {
   "cell_type": "code",
   "execution_count": 15,
   "metadata": {
    "collapsed": false
   },
   "outputs": [
    {
     "data": {
      "text/plain": [
       "'%%time\\n# Create an binary grid \\nxn = x.copy() \\nyn = y.copy() \\nrwdatan = rwdata.copy() \\nrwdatan[rwdatan >= 0]=1\\nrwdatan[rwdatan < 0]=0\\n\\n# Use only data in binary grid\\nxn = xn[rwdatan==1]\\nyn = yn[rwdatan==1]\\nrwdatan1 = rwdata[rwdatan==1]'"
      ]
     },
     "execution_count": 15,
     "metadata": {},
     "output_type": "execute_result"
    }
   ],
   "source": [
    "\"\"\"%%time\n",
    "# Create an binary grid \n",
    "xn = x.copy() \n",
    "yn = y.copy() \n",
    "rwdatan = rwdata.copy() \n",
    "rwdatan[rwdatan >= 0]=1\n",
    "rwdatan[rwdatan < 0]=0\n",
    "\n",
    "# Use only data in binary grid\n",
    "xn = xn[rwdatan==1]\n",
    "yn = yn[rwdatan==1]\n",
    "rwdatan1 = rwdata[rwdatan==1]\"\"\""
   ]
  },
  {
   "cell_type": "code",
   "execution_count": 16,
   "metadata": {
    "collapsed": false
   },
   "outputs": [
    {
     "name": "stdout",
     "output_type": "stream",
     "text": [
      "CPU times: user 3 µs, sys: 0 ns, total: 3 µs\n",
      "Wall time: 5.96 µs\n"
     ]
    }
   ],
   "source": [
    "%%time\n",
    "#pl.scatter(xn[::30], yn[::30], alpha=0.3)\n",
    "#pl.scatter(dpr_contour_x, dpr_contour_y, color='black', edgecolors='none')\n"
   ]
  },
  {
   "cell_type": "code",
   "execution_count": 17,
   "metadata": {
    "collapsed": false
   },
   "outputs": [
    {
     "name": "stdout",
     "output_type": "stream",
     "text": [
      "CPU times: user 63 µs, sys: 3 µs, total: 66 µs\n",
      "Wall time: 99.9 µs\n"
     ]
    }
   ],
   "source": [
    "%%time\n",
    "# Create xy array for coordinates in binary grid\n",
    "#xy = np.vstack((xn.ravel(), yn.ravel())).transpose()\n",
    "\n",
    "# create dpr polygon of dpr xy contours \n",
    "dpr_xy_poly = np.vstack((dpr_contour_x.ravel(), dpr_contour_y.ravel())).transpose()"
   ]
  },
  {
   "cell_type": "code",
   "execution_count": null,
   "metadata": {
    "collapsed": false
   },
   "outputs": [],
   "source": []
  },
  {
   "cell_type": "code",
   "execution_count": 18,
   "metadata": {
    "collapsed": false
   },
   "outputs": [],
   "source": [
    "#%%time\n",
    "#xy_radolan = np.vstack((x.ravel(), y.ravel())).transpose()\n",
    "#zd_poly_radolan = wradlib.zonalstats.ZonalDataPoint(xy_radolan, [dpr_xy_poly], buf=2.5)\n",
    "#zd_poly_radolan.dump_vector('radolan_grid')"
   ]
  },
  {
   "cell_type": "code",
   "execution_count": 19,
   "metadata": {
    "collapsed": false
   },
   "outputs": [
    {
     "name": "stdout",
     "output_type": "stream",
     "text": [
      "CPU times: user 9.23 s, sys: 78 ms, total: 9.31 s\n",
      "Wall time: 9.24 s\n"
     ]
    }
   ],
   "source": [
    "%%time\n",
    "#load regular radolan grid and overlie with dpr contours\n",
    "zd_poly_radolan = wradlib.zonalstats.ZonalDataPoint(zd, [dpr_xy_poly], buf=2.5)\n",
    "# get radolan index in dpr swath\n",
    "ry_idx = zd_poly_radolan.get_source_index(0)\n",
    "\n",
    "# get radolan index in dpr swath AND in binary grid\n",
    "rwtest = ~np.ma.masked_less(rwdata, 0).mask\n",
    "\n",
    "#rint(rwtest.shape, rwtest1.shape)\n",
    "\n",
    "radolan_idx = np.flatnonzero(rwtest.ravel())\n",
    "\n",
    "#rint(radolan_idx.shape)\n",
    "ry_idx2 = np.intersect1d(ry_idx, radolan_idx, assume_unique=True)"
   ]
  },
  {
   "cell_type": "code",
   "execution_count": 20,
   "metadata": {
    "collapsed": false
   },
   "outputs": [],
   "source": [
    "xy_radolan = np.vstack((x.ravel(), y.ravel())).transpose()\n",
    "#pl.scatter(xy_radolan[...,0][::30], xy_radolan[...,1][::30], alpha=0.3)\n",
    "#pl.scatter(dpr_contour_x, dpr_contour_y, color='black', edgecolors='none')"
   ]
  },
  {
   "cell_type": "code",
   "execution_count": 21,
   "metadata": {
    "collapsed": false
   },
   "outputs": [],
   "source": [
    "\n",
    "#pl.scatter(xy_radolan[...,0][ry_idx][::30], xy_radolan[...,1][ry_idx][::30], alpha=0.3)\n",
    "#pl.scatter(dpr_contour_x, dpr_contour_y, color='black', edgecolors='none')\n",
    "#pl.scatter(xy_radolan[...,0][radolan_idx][::30], xy_radolan[...,1][radolan_idx][::30], alpha=0.3, color='red')\n"
   ]
  },
  {
   "cell_type": "code",
   "execution_count": 22,
   "metadata": {
    "collapsed": false
   },
   "outputs": [],
   "source": [
    "#pl.scatter(xy_radolan[...,0][ry_idx2], xy_radolan[...,1][ry_idx2], s=2, alpha=0.3)"
   ]
  },
  {
   "cell_type": "code",
   "execution_count": 23,
   "metadata": {
    "collapsed": false
   },
   "outputs": [],
   "source": [
    "#%%time\n",
    "#zd_poly_radolan.dump_vector('radolan_grid')\n",
    "\n",
    "#zdpoly_4ry = wradlib.zonalstats.ZonalDataPoly(xy,[dpr_xy_poly], buf=2.5)\n",
    "\n",
    "#ry_idx_old = zdpoly_4ry.get_source_index(0)"
   ]
  },
  {
   "cell_type": "code",
   "execution_count": 24,
   "metadata": {
    "collapsed": false
   },
   "outputs": [
    {
     "name": "stdout",
     "output_type": "stream",
     "text": [
      "CPU times: user 5.28 ms, sys: 39 µs, total: 5.32 ms\n",
      "Wall time: 4.22 ms\n"
     ]
    }
   ],
   "source": [
    "%%time\n",
    "rwdata_cut = rwdata.ravel()[ry_idx2]\n",
    "x_cut = xy_radolan[...,0].ravel()[ry_idx2].copy()\n",
    "y_cut = xy_radolan[...,1].ravel()[ry_idx2].copy()"
   ]
  },
  {
   "cell_type": "code",
   "execution_count": 25,
   "metadata": {
    "collapsed": false
   },
   "outputs": [],
   "source": [
    "#x_cut.shape, y_cut.shape, rwdata_cut.shape"
   ]
  },
  {
   "cell_type": "code",
   "execution_count": 26,
   "metadata": {
    "collapsed": false
   },
   "outputs": [
    {
     "name": "stdout",
     "output_type": "stream",
     "text": [
      "CPU times: user 6 µs, sys: 0 ns, total: 6 µs\n",
      "Wall time: 11 µs\n"
     ]
    }
   ],
   "source": [
    "%%time\n",
    "#pl.scatter(x_cut, y_cut, c=rwdata_cut,s=2, edgecolors='none', vmin=0, vmax=10)\n",
    "#pl.colorbar()\n"
   ]
  },
  {
   "cell_type": "markdown",
   "metadata": {},
   "source": [
    "## Interpolation of radolan to dpr \n",
    "-------------------------"
   ]
  },
  {
   "cell_type": "code",
   "execution_count": 27,
   "metadata": {
    "collapsed": false
   },
   "outputs": [
    {
     "name": "stdout",
     "output_type": "stream",
     "text": [
      "CPU times: user 1.62 ms, sys: 0 ns, total: 1.62 ms\n",
      "Wall time: 1.19 ms\n"
     ]
    }
   ],
   "source": [
    "%%time\n",
    "\n",
    "## INTERLOLATION\n",
    "## --------------\n",
    "\n",
    "xy_cut = np.vstack((x_cut.ravel(), y_cut.ravel())).transpose()\n",
    "\n",
    "#Dpr footprint radius \n",
    "dpr_footprint = 2.6 #radius in km\n"
   ]
  },
  {
   "cell_type": "code",
   "execution_count": 28,
   "metadata": {
    "collapsed": false
   },
   "outputs": [
    {
     "name": "stdout",
     "output_type": "stream",
     "text": [
      "CPU times: user 566 ms, sys: 3.9 ms, total: 570 ms\n",
      "Wall time: 568 ms\n"
     ]
    }
   ],
   "source": [
    "%%time\n",
    "\n",
    "# cKDTree radolan\n",
    "tree = cKDTree(xy_cut)\n",
    "\n",
    "# cKDTree gpm dpr\n",
    "tree_gpm = cKDTree(gpm_xy)"
   ]
  },
  {
   "cell_type": "code",
   "execution_count": 29,
   "metadata": {
    "collapsed": false
   },
   "outputs": [
    {
     "name": "stdout",
     "output_type": "stream",
     "text": [
      "CPU times: user 3 µs, sys: 0 ns, total: 3 µs\n",
      "Wall time: 7.87 µs\n"
     ]
    }
   ],
   "source": [
    "%%time\n",
    "#res = tree_gpm.query_ball_tree(tree,dpr_footprint)"
   ]
  },
  {
   "cell_type": "code",
   "execution_count": 30,
   "metadata": {
    "collapsed": false
   },
   "outputs": [
    {
     "name": "stdout",
     "output_type": "stream",
     "text": [
      "CPU times: user 128 ms, sys: 3.93 ms, total: 132 ms\n",
      "Wall time: 132 ms\n"
     ]
    }
   ],
   "source": [
    "%%time\n",
    "dists, ix = tree.query(gpm_xy, k=25) # Hardcoded k but maximal possible ry pixel in dpr footprint\n",
    "ix2 = tree.query_ball_point(gpm_xy, dpr_footprint)"
   ]
  },
  {
   "cell_type": "code",
   "execution_count": 31,
   "metadata": {
    "collapsed": false
   },
   "outputs": [
    {
     "name": "stdout",
     "output_type": "stream",
     "text": [
      "CPU times: user 3.36 s, sys: 2.85 ms, total: 3.36 s\n",
      "Wall time: 3.36 s\n"
     ]
    }
   ],
   "source": [
    "%%time\n",
    "ry_pns_w = []\n",
    "\n",
    "for i in range(ix.shape[0]):\n",
    "    #i is all points in one dpr footprint\n",
    "    #distancen für jeden i \n",
    "    index = np.isin(ix[i,:],ix2[i] )\n",
    "    res1 = np.nansum( dpr_antenna_weighting(dists[i,:][index]) * rwdata_cut.ravel()[ix[i,:][index]])\n",
    "    res2 = np.nansum(dpr_antenna_weighting(dists[i,:][index]))\n",
    "    \n",
    "    ry_pns_w.append(res1/res2)\n",
    "    \n",
    "    #np.array(ix2[455])\n",
    "    \n",
    "ry_pns_w = np.array(ry_pns_w)    \n",
    "\n"
   ]
  },
  {
   "cell_type": "code",
   "execution_count": 32,
   "metadata": {
    "collapsed": false
   },
   "outputs": [
    {
     "name": "stdout",
     "output_type": "stream",
     "text": [
      "-----------------\n",
      "0:00:14.586629\n",
      "-----------------\n"
     ]
    }
   ],
   "source": [
    "print('-----------------')\n",
    "print(dt.datetime.now() - t1)\n",
    "print('-----------------')\n"
   ]
  },
  {
   "cell_type": "markdown",
   "metadata": {
    "collapsed": true
   },
   "source": [
    "## Some Comparison of 2d Data\n",
    "--------------------------------------------"
   ]
  },
  {
   "cell_type": "code",
   "execution_count": 33,
   "metadata": {
    "collapsed": false
   },
   "outputs": [
    {
     "name": "stdout",
     "output_type": "stream",
     "text": [
      "CPU times: user 668 ms, sys: 411 ms, total: 1.08 s\n",
      "Wall time: 526 ms\n"
     ]
    },
    {
     "data": {
      "image/png": "[encoded data removed]",
      "text/plain": [
       "<matplotlib.figure.Figure at 0x7f99a719fe50>"
      ]
     },
     "metadata": {},
     "output_type": "display_data"
    }
   ],
   "source": [
    "%%time\n",
    "\n",
    "fig = pl.figure(figsize=(12,8))\n",
    "ax = fig.add_subplot(131, aspect=\"equal\")\n",
    "pl.scatter(gpm_xy[..., 0], gpm_xy[...,1], c=ry_pns_w, cmap=pl.cm.viridis, vmin=0, vmax=10, edgecolor=\"None\")\n",
    "pl.title(\"RADOLAN RY rain rate in mm/h\")\n",
    "pl.colorbar(shrink=0.3)\n",
    "pl.xlabel(\"x in km\")\n",
    "pl.ylabel(\"y in km\")\n",
    "pl.xlim(-500, 200)\n",
    "pl.ylim(-4600, -3900)\n",
    "pl.grid()\n",
    "\n",
    "ax = fig.add_subplot(132, aspect=\"equal\")\n",
    "pl.scatter(gpm_xy[..., 0], gpm_xy[...,1], c=gpm_pns, cmap=pl.cm.viridis, vmin=0, vmax=10, edgecolor=\"None\")\n",
    "pl.title(\"DPR rain rate in mm/h\")\n",
    "pl.colorbar(shrink=0.3)\n",
    "pl.xlabel(\"x in km\")\n",
    "pl.ylabel(\"y in km\")\n",
    "pl.xlim(-500, 200)\n",
    "pl.ylim(-4600, -3900)\n",
    "pl.grid()\n",
    "\n",
    "ax = fig.add_subplot(133, aspect=\"equal\")\n",
    "pl.scatter(ry_pns_w, gpm_pns, marker=\"+\", c=\"black\")\n",
    "pl.plot([0,60],[0,60], linestyle=\"solid\", color=\"black\")\n",
    "pl.xlim(-1,12)\n",
    "pl.ylim(-1,12)\n",
    "pl.xlabel(\"GR rain rate (mm/h)\")\n",
    "pl.ylabel(\"SR rain rate (mm/h)\")\n",
    "pl.title(\"DPR vs RY\")\n",
    "pl.grid()\n",
    "\n",
    "pl.tight_layout()"
   ]
  },
  {
   "cell_type": "markdown",
   "metadata": {},
   "source": [
    "## Correlations\n",
    "-------------------------------"
   ]
  },
  {
   "cell_type": "code",
   "execution_count": 34,
   "metadata": {
    "collapsed": false
   },
   "outputs": [
    {
     "name": "stdout",
     "output_type": "stream",
     "text": [
      "('Corr mit Nullen: ', 0.912615567488543)\n"
     ]
    }
   ],
   "source": [
    "print('Corr mit Nullen: ', np.corrcoef(ry_pns_w,gpm_pns)[0][1])"
   ]
  },
  {
   "cell_type": "code",
   "execution_count": 35,
   "metadata": {
    "collapsed": false
   },
   "outputs": [
    {
     "name": "stdout",
     "output_type": "stream",
     "text": [
      "('Corr ohne Nullen bei beiden: ', 0.8102992066251786)\n"
     ]
    }
   ],
   "source": [
    "ry_pns0, gpm_pns0 = ry_pns_w.copy(), gpm_pns.copy()\n",
    "\n",
    "ry_pns0[ry_pns0 <= 0.] = np.nan\n",
    "gpm_pns0[gpm_pns0 <= 0.] = np.nan\n",
    "\n",
    "nullmaske = ~np.isnan(ry_pns0) & ~np.isnan(gpm_pns0)\n",
    "print('Corr ohne Nullen bei beiden: ', np.corrcoef(ry_pns0[nullmaske],gpm_pns0[nullmaske])[0][1])\n"
   ]
  },
  {
   "cell_type": "code",
   "execution_count": 36,
   "metadata": {
    "collapsed": false
   },
   "outputs": [
    {
     "name": "stdout",
     "output_type": "stream",
     "text": [
      "('Corr Nur wenn Null bei beiden: ', 0.8728615089540828)\n"
     ]
    },
    {
     "name": "stderr",
     "output_type": "stream",
     "text": [
      "/home/velibor/anaconda2/envs/wradlib/lib/python2.7/site-packages/ipykernel/__main__.py:4: RuntimeWarning: invalid value encountered in less_equal\n"
     ]
    }
   ],
   "source": [
    "ry_pns05, gpm_pns05 = ry_pns_w.copy(), gpm_pns.copy()\n",
    "\n",
    "ry_pns05[(ry_pns05 <= 0.) & (gpm_pns05 <= 0.)] = np.nan\n",
    "gpm_pns05[(ry_pns05 <= 0.) & (gpm_pns05 <= 0.)] = np.nan\n",
    "\n",
    "nullmaske5 = ~np.isnan(ry_pns05) & ~np.isnan(gpm_pns05)\n",
    "\n",
    "print('Corr Nur wenn Null bei beiden: ', np.corrcoef(ry_pns05[nullmaske5],gpm_pns05[nullmaske5])[0][1])\n"
   ]
  },
  {
   "cell_type": "code",
   "execution_count": null,
   "metadata": {
    "collapsed": true
   },
   "outputs": [],
   "source": []
  },
  {
   "cell_type": "code",
   "execution_count": null,
   "metadata": {
    "collapsed": true
   },
   "outputs": [],
   "source": []
  },
  {
   "cell_type": "code",
   "execution_count": null,
   "metadata": {
    "collapsed": false
   },
   "outputs": [],
   "source": []
  },
  {
   "cell_type": "markdown",
   "metadata": {},
   "source": [
    "## Explanation of antenna gain weighting\n",
    "-----------------------------------------------------------\n",
    "\n",
    "$$\\omega_i = exp[-(r_i/2.5)^2 ln(4)]$$\n",
    "\n",
    "$i$ : corresponds to each 1 km RADOLAN pixel in DPR Footprint\n",
    "\n",
    "$r_i$ : distance in kilometers between Radolan Pixel and DPR center point\n",
    "\n",
    "##### The Weighted GR estimates in DPR footprint:\n",
    "\n",
    "$$\\bar{GR} = \\frac{ \\sum\\nolimits_{i=1}^N \\omega_i GR_i }{ \\sum\\nolimits_{i=1}^N \\omega_i} $$\n",
    "\n",
    "> Funktion: eplained in \n",
    ">    Watters, D., A. Battaglia, K. Mroz, and F. Tridon, 0: \n",
    ">    Validation of the GPM Version-5 Surface Rainfall \n",
    ">    Products over Great Britain and Ireland. \n",
    ">    J. Hydrometeor., 0, https://doi.org/10.1175/JHM-D-18-0051.1"
   ]
  },
  {
   "cell_type": "code",
   "execution_count": 37,
   "metadata": {
    "collapsed": true
   },
   "outputs": [],
   "source": [
    "x = y = np.arange(-3,3,0.01)\n",
    "xx, yy = np.meshgrid(x,y)\n",
    "rr = np.sqrt(xx**2 +yy**2)"
   ]
  },
  {
   "cell_type": "code",
   "execution_count": 38,
   "metadata": {
    "collapsed": false
   },
   "outputs": [
    {
     "data": {
      "image/png": "[encoded data removed]",
      "text/plain": [
       "<matplotlib.figure.Figure at 0x7f99a2b659d0>"
      ]
     },
     "metadata": {},
     "output_type": "display_data"
    }
   ],
   "source": [
    "pl.figure(figsize=(15,5))\n",
    "ff=20; cc=1\n",
    "pl.subplot(1,2,1, aspect='equal')\n",
    "pl.pcolormesh(xx,yy,rr)\n",
    "cb = pl.colorbar(shrink=cc)\n",
    "cb.set_label(\"Radius from centerpoint (km)\", fontsize=20)\n",
    "cb.ax.tick_params(labelsize=20)\n",
    "pl.scatter([0,0],[0,0], s=70, lw=3)\n",
    "#pl.title('Radius from centerpoint (km)', fontsize=ff)\n",
    "pl.xlabel('x (km)', fontsize=ff);pl.ylabel('x (km)', fontsize=ff)\n",
    "pl.xlim(-3,3),pl.ylim(-3,3)\n",
    "pl.xticks(fontsize=ff); pl.yticks(fontsize=ff)\n",
    "\n",
    "\n",
    "pl.subplot(1,2,2, aspect='equal')\n",
    "pl.pcolormesh(xx,yy,dpr_antenna_weighting(rr))\n",
    "cb = pl.colorbar(shrink=cc)\n",
    "cb.set_label(\"DPR antenna gain weighting\", fontsize=20)\n",
    "cb.ax.tick_params(labelsize=20)\n",
    "pl.scatter([0,0],[0,0], s=70, lw=3)\n",
    "pl.xlim(-3,3),pl.ylim(-3,3)\n",
    "#pl.title('DPR Antenna gain weighting', fontsize=ff)\n",
    "pl.xlabel('x (km)', fontsize=ff);pl.ylabel('x (km)', fontsize=ff)\n",
    "pl.xticks(fontsize=ff); pl.yticks(fontsize=ff)\n",
    "\n",
    "pl.tight_layout()"
   ]
  },
  {
   "cell_type": "code",
   "execution_count": null,
   "metadata": {
    "collapsed": true
   },
   "outputs": [],
   "source": []
  }
 ],
 "metadata": {
  "kernelspec": {
   "display_name": "Python 2",
   "language": "python",
   "name": "python2"
  },
  "language_info": {
   "codemirror_mode": {
    "name": "ipython",
    "version": 2
   },
   "file_extension": ".py",
   "mimetype": "text/x-python",
   "name": "python",
   "nbconvert_exporter": "python",
   "pygments_lexer": "ipython2",
   "version": "2.7.11"
  }
 },
 "nbformat": 4,
 "nbformat_minor": 0
}
