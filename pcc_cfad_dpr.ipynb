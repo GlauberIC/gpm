{
 "cells": [
  {
   "cell_type": "code",
   "execution_count": 1,
   "metadata": {
    "collapsed": false
   },
   "outputs": [
    {
     "data": {
      "text/plain": [
       "'\\nAnalyse of GPM DPR BB\\n\\n'"
      ]
     },
     "execution_count": 1,
     "metadata": {},
     "output_type": "execute_result"
    }
   ],
   "source": [
    "\"\"\"\n",
    "\n",
    "\n",
    "Plott DPR VCUT etc...\n",
    "\n",
    "\n",
    "\"\"\"\n",
    "\n",
    "\"\"\"\n",
    "Analyse of GPM DPR BB\n",
    "\n",
    "\"\"\"\n",
    "\n",
    "\n"
   ]
  },
  {
   "cell_type": "code",
   "execution_count": 2,
   "metadata": {
    "collapsed": false
   },
   "outputs": [
    {
     "name": "stdout",
     "output_type": "stream",
     "text": [
      "  \n"
     ]
    },
    {
     "name": "stderr",
     "output_type": "stream",
     "text": [
      "/home/velibor/anaconda2/envs/wradlib/lib/python2.7/site-packages/ipykernel/pylab/config.py:66: DeprecationWarning: metadata {'config': True} was set from the constructor.  Metadata should be set using the .tag() method, e.g., Int().tag(key1='value1', key2='value2')\n",
      "  inline backend.\"\"\"\n",
      "/home/velibor/anaconda2/envs/wradlib/lib/python2.7/site-packages/ipykernel/pylab/config.py:71: DeprecationWarning: metadata {'config': True} was set from the constructor.  Metadata should be set using the .tag() method, e.g., Int().tag(key1='value1', key2='value2')\n",
      "  'retina', 'jpeg', 'svg', 'pdf'.\"\"\")\n",
      "/home/velibor/anaconda2/envs/wradlib/lib/python2.7/site-packages/ipykernel/pylab/config.py:85: DeprecationWarning: metadata {'config': True} was set from the constructor.  Metadata should be set using the .tag() method, e.g., Int().tag(key1='value1', key2='value2')\n",
      "  use `figure_formats` instead)\"\"\")\n",
      "/home/velibor/anaconda2/envs/wradlib/lib/python2.7/site-packages/ipykernel/pylab/config.py:95: DeprecationWarning: metadata {'config': True} was set from the constructor.  Metadata should be set using the .tag() method, e.g., Int().tag(key1='value1', key2='value2')\n",
      "  \"\"\"\n",
      "/home/velibor/anaconda2/envs/wradlib/lib/python2.7/site-packages/ipykernel/pylab/config.py:114: DeprecationWarning: metadata {'config': True} was set from the constructor.  Metadata should be set using the .tag() method, e.g., Int().tag(key1='value1', key2='value2')\n",
      "  \"\"\")\n",
      "/home/velibor/anaconda2/envs/wradlib/lib/python2.7/site-packages/ipykernel/pylab/config.py:44: DeprecationWarning: InlineBackend._config_changed is deprecated: use @observe and @unobserve instead.\n",
      "  def _config_changed(self, name, old, new):\n",
      "/home/velibor/anaconda2/envs/wradlib/lib/python2.7/site-packages/traitlets/traitlets.py:770: DeprecationWarning: A parent of InlineBackend._config_changed has adopted the new @observe(change) API\n",
      "  clsname, change_or_name), DeprecationWarning)\n"
     ]
    }
   ],
   "source": [
    "import matplotlib.pyplot as plt\n",
    "import numpy as np\n",
    "import pandas as pd\n",
    "import wradlib\n",
    "import wradlib as wrl\n",
    "from osgeo import osr\n",
    "import h5py\n",
    "import glob\n",
    "from pcc import get_my_cmap\n",
    "from pcc import get_miub_cmap\n",
    "from pcc import boxpol_pos\n",
    "bonn_pos = boxpol_pos()\n",
    "bx, by = bonn_pos['gkx_ppi'], bonn_pos['gky_ppi']\n",
    "bonnlat, bonnlon = bonn_pos['lat_ppi'], bonn_pos['lon_ppi']\n",
    "blat, blon = bonn_pos['lat_ppi'], bonn_pos['lon_ppi']\n",
    "\n",
    "\n",
    "from pcc import plot_borders\n",
    "from pcc import plot_radar\n",
    "\n",
    "% matplotlib inline\n",
    "\n",
    "print (\"  \")"
   ]
  },
  {
   "cell_type": "code",
   "execution_count": 3,
   "metadata": {
    "collapsed": false
   },
   "outputs": [
    {
     "name": "stdout",
     "output_type": "stream",
     "text": [
      "(21, 21)\n"
     ]
    }
   ],
   "source": [
    "# Ereignisse 2014\n",
    "#-#ZP = '20140806203538'; pfadnr=1 \n",
    "#-#ZP = '20140826221000'; pfadnr=1 # 0.82\n",
    "#-#ZP = '20141007023744' ; pfadnr=0# 0.47\n",
    "#-#ZP = '20141008094000'; pfadnr=1 # 0.82   \n",
    "#-#ZP = '20141008094500'; pfadnr=1 # 0.679  \n",
    "#-#ZP = '20141213141304'; pfadnr=0 # 0.82\n",
    "#-#ZP = '20141217054500' ; pfadnr=0# 0.47\n",
    "\n",
    "# Ereignisse 2015\n",
    "#-#ZP = '20150128171500'; pfadnr=0 #0.28\n",
    "#-#ZP = '20150128172208'; pfadnr=0#0.321\n",
    "#-#ZP = '20150225163500'; pfadnr=0 # 0.2\n",
    "#-#ZP = '20150330233003'; pfadnr=1\n",
    "#-#ZP = '20150404053404'; pfadnr=0\n",
    "#-#ZP = '20150626214445'; pfadnr=1\n",
    "#-#ZP = '20151015203657'; pfadnr=1\n",
    "\n",
    "#-#ZP = '20151211203853'; pfadnr=1#0.589\n",
    "#-#ZP = '20151216024501'; pfadnr=0#0.589\n",
    "\n",
    "# Ereignisse 2016\n",
    "#-#ZP = '20160209103000'; pfadnr=1 ###PFAD=1#ZP = '20160209103500'; pfadnr=1 # 0.23\n",
    "#-#ZP = '20160601175950'; pfadnr=1 # \n",
    "#-#ZP = '20161109185732'; pfadnr=1 # \n",
    "#-#ZP = '20160107124707'; pfadnr=0\n",
    "\n",
    "# Ereignisse 2017\n",
    "#-#ZP = '20170211152500'; pfadnr=0 \n",
    "#-#ZP = '20170211153000'; pfadnr=0 # 0.23\n",
    "\n",
    "zt = ('20140806','20140826','20141007','20141008','20141008',\n",
    "'20141213','20141217','20150128','20150225',\n",
    "'20150330','20150404','20150626','20151015','20151211','20151216',\n",
    "'20160209','20160601','20161109','20160107','20170211','20170211')\n",
    "pfadnr = (1,1,0,1,1,0,0,0,0,1,0,1,1,1,0,1,1,1,0,0,0)\n",
    "\n",
    "print (len(zt), len(pfadnr))"
   ]
  },
  {
   "cell_type": "code",
   "execution_count": 19,
   "metadata": {
    "collapsed": false
   },
   "outputs": [],
   "source": [
    "#zt = '20141007'; pfadnr = 0\n",
    "scan  = 'NS'#NS' #or MS\n",
    "\n",
    "def read_dpr_bb(zt, scan, pfadnr):\n",
    "\n",
    "    pfad = ('/automount/ags/velibor/gpmdata/dpr/2A.GPM.DPR.V6-20160118.'+zt+'*.HDF5')\n",
    "    dpr_pfad = sorted(glob.glob(pfad))[pfadnr]\n",
    "\n",
    "    print dpr_pfad\n",
    "\n",
    "    # Einlesen\n",
    "    dpr = h5py.File(dpr_pfad, 'r')\n",
    "    \n",
    "    # Position\n",
    "    dpr_lat=np.array(dpr[scan]['Latitude'])\n",
    "    dpr_lon=np.array(dpr[scan]['Longitude'])\n",
    "\n",
    "    # Refelctivity Volumen\n",
    "    dpr_pp=np.array(dpr[scan]['SLV']['zFactorCorrected'])\n",
    "    dpr_pp[dpr_pp<0]= np.nan\n",
    "\n",
    "    # Brightband Attributes\n",
    "    dpr_bbh=np.array(dpr[scan]['CSF']['heightBB'], dtype=float)\n",
    "    dpr_bbh[dpr_bbh<0]= np.nan\n",
    "\n",
    "    #Projection\n",
    "    proj_stereo = wrl.georef.create_osr(\"dwd-radolan\")\n",
    "    proj_wgs = osr.SpatialReference()\n",
    "    proj_wgs.ImportFromEPSG(4326)\n",
    "\n",
    "    from pcc import boxpol_pos\n",
    "    bonn_pos = boxpol_pos()\n",
    "    bx, by = bonn_pos['gkx_ppi'], bonn_pos['gky_ppi']\n",
    "    bonnlat, bonnlon = bonn_pos['lat_ppi'], bonn_pos['lon_ppi']\n",
    "    blat, blon = bonn_pos['lat_ppi'], bonn_pos['lon_ppi']\n",
    "\n",
    "    dpr_lon, dpr_lat = wradlib.georef.reproject(dpr_lon, dpr_lat, projection_target=proj_stereo , projection_source=proj_wgs)\n",
    "    bonnlon, bonnlat = wradlib.georef.reproject(bonnlon, bonnlat, projection_target=proj_stereo , projection_source=proj_wgs)\n",
    "\n",
    "    # Only BoXPol Region\n",
    "    lon0, lat0, radius = bonnlon, bonnlat, 100\n",
    "    r = np.sqrt((dpr_lat - lat0)**2 + (dpr_lon - lon0)**2)\n",
    "    position = r < radius\n",
    "\n",
    "    lat = dpr_lat[position]\n",
    "    lon = dpr_lon[position]\n",
    "\n",
    "    dpr_pp[np.where(r > radius)]=np.nan\n",
    "\n",
    "    dpr_bbh[np.where(r > radius)]=np.nan\n",
    "\n",
    "    h = np.arange(150,4800,150)\n",
    "    if scan=='HS':\n",
    "        hdpr = 1000 * (np.arange(88,0,-1)*0.250)\n",
    "\n",
    "    else:\n",
    "        hdpr = 1000 * (np.arange(176,0,-1)*0.125)\n",
    "\n",
    "    x2 = np.array(dpr_pp.shape[0]*dpr_pp.shape[1]*list(hdpr))\n",
    "    x1 = dpr_pp.reshape(dpr_pp.shape[0]*dpr_pp.shape[1]*dpr_pp.shape[2])\n",
    "    \n",
    "    return x1, x2, dpr_bbh, dpr_pfad, dpr_pp"
   ]
  },
  {
   "cell_type": "code",
   "execution_count": 55,
   "metadata": {
    "collapsed": false
   },
   "outputs": [],
   "source": [
    "def plot_cfad(x1,x2,zt, dpr_bbh, dpr_pfad):\n",
    "    m1 = ~np.isnan(x1) & ~np.isnan(x2)\n",
    "\n",
    "    x3 = np.array([]); x4 = np.array([]); x5 = np.array([])\n",
    "\n",
    "    hh = np.array([])\n",
    "    step =250\n",
    "    print (\"loading\")\n",
    "    for jj in np.arange(0,20000,step):\n",
    "        #print jj\n",
    "        hh = np.append(hh,jj)\n",
    "        x3 = np.append(x3,np.nanmean(x1[np.where((x2>jj)&(x2<jj+step))]))\n",
    "        x4 = np.append(x4,np.nanmedian(x1[np.where((x2>jj)&(x2<jj+step))]))\n",
    "\n",
    "    plt.figure(figsize=(12,12)) \n",
    "    #plt.hexbin(x1[m1], x2[m1],bins=50, cmap='inferno')\n",
    "    plt.hist2d(x1[m1], x2[m1],bins = 40, cmap='inferno')\n",
    "    plt.colorbar()\n",
    "    plt.xlabel('ZH in DBz')\n",
    "    plt.ylabel('Height in m')\n",
    "    plt.plot(x3,hh, linewidth=3, label='mean(Z)', color='grey')\n",
    "    plt.plot(x4,hh, linewidth=3, label='median(Z)', color='green')\n",
    "    plt.axhline(np.nanmean(dpr_bbh), lw=3, color='grey', label='median(bbh)', linestyle='--')\n",
    "    plt.axhline(np.nanmedian(dpr_bbh), lw=3, color='green', label='median(bbh)', linestyle='--')\n",
    "\n",
    "    #plt.title(dates)\n",
    "    plt.ylim(0,10000)\n",
    "    plt.legend(loc='upper right', fontsize=10)\n",
    "    plt.grid(color='white')\n",
    "    plt.figtext(0, 0, dpr_pfad)\n",
    "    plt.savefig('/automount/ags/velibor/plot/GPM_boxpol/topevents/dpr_cfad_'+zt+'.png')\n",
    "    plt.close()\n",
    "    #plt.show()"
   ]
  },
  {
   "cell_type": "code",
   "execution_count": 54,
   "metadata": {
    "collapsed": false
   },
   "outputs": [
    {
     "name": "stdout",
     "output_type": "stream",
     "text": [
      "loading\n"
     ]
    },
    {
     "name": "stderr",
     "output_type": "stream",
     "text": [
      "/home/velibor/anaconda2/envs/wradlib/lib/python2.7/site-packages/ipykernel/__main__.py:12: RuntimeWarning: Mean of empty slice\n"
     ]
    },
    {
     "data": {
      "image/png": "[encoded data removed]",
      "text/plain": [
       "<matplotlib.figure.Figure at 0x7f46689d44d0>"
      ]
     },
     "metadata": {},
     "output_type": "display_data"
    }
   ],
   "source": [
    "plot_cfad(x1,x2,zt[jjj],bbh,dpr_pfad)"
   ]
  },
  {
   "cell_type": "code",
   "execution_count": 56,
   "metadata": {
    "collapsed": false
   },
   "outputs": [
    {
     "name": "stdout",
     "output_type": "stream",
     "text": [
      "0\n",
      "/automount/ags/velibor/gpmdata/dpr/2A.GPM.DPR.V6-20160118.20140806-S195445-E212718.002492.V04A.HDF5\n",
      "loading\n"
     ]
    },
    {
     "name": "stderr",
     "output_type": "stream",
     "text": [
      "/home/velibor/anaconda2/envs/wradlib/lib/python2.7/site-packages/ipykernel/__main__.py:12: RuntimeWarning: Mean of empty slice\n"
     ]
    },
    {
     "name": "stdout",
     "output_type": "stream",
     "text": [
      "1\n",
      "/automount/ags/velibor/gpmdata/dpr/2A.GPM.DPR.V6-20160118.20140826-S211407-E224640.002804.V04A.HDF5\n",
      "loading\n",
      "2\n",
      "/automount/ags/velibor/gpmdata/dpr/2A.GPM.DPR.V6-20160118.20141007-S015721-E032951.003445.V04A.HDF5\n",
      "loading\n",
      "3\n",
      "/automount/ags/velibor/gpmdata/dpr/2A.GPM.DPR.V6-20160118.20141008-S084747-E102017.003465.V04A.HDF5\n",
      "loading\n",
      "4\n",
      "/automount/ags/velibor/gpmdata/dpr/2A.GPM.DPR.V6-20160118.20141008-S084747-E102017.003465.V04A.HDF5\n",
      "loading\n",
      "5\n",
      "/automount/ags/velibor/gpmdata/dpr/2A.GPM.DPR.V6-20160118.20141213-S131614-E144844.004495.V04A.HDF5\n",
      "loading\n",
      "6\n",
      "/automount/ags/velibor/gpmdata/dpr/2A.GPM.DPR.V6-20160118.20141217-S050923-E064153.004552.V04A.HDF5\n",
      "loading\n",
      "7\n",
      "/automount/ags/velibor/gpmdata/dpr/2A.GPM.DPR.V6-20160118.20150128-S164142-E181415.005213.V04A.HDF5\n",
      "loading\n",
      "8\n",
      "/automount/ags/velibor/gpmdata/dpr/2A.GPM.DPR.V6-20160118.20150225-S153952-E171223.005648.V04A.HDF5\n",
      "loading\n",
      "9\n",
      "/automount/ags/velibor/gpmdata/dpr/2A.GPM.DPR.V6-20160118.20150330-S224903-E002135.006166.V04A.HDF5\n",
      "loading\n",
      "10\n",
      "/automount/ags/velibor/gpmdata/dpr/2A.GPM.DPR.V6-20160118.20150404-S043718-E060949.006232.V04A.HDF5\n",
      "loading\n",
      "11\n",
      "/automount/ags/velibor/gpmdata/dpr/2A.GPM.DPR.V6-20160118.20150626-S210248-E223520.007534.V04A.HDF5\n",
      "loading\n",
      "12\n",
      "/automount/ags/velibor/gpmdata/dpr/2A.GPM.DPR.V6-20160118.20151015-S194118-E211352.009260.V04A.HDF5\n",
      "loading\n",
      "13\n",
      "/automount/ags/velibor/gpmdata/dpr/2A.GPM.DPR.V6-20160118.20151211-S195806-E213039.010147.V04A.HDF5\n",
      "loading\n",
      "14\n",
      "/automount/ags/velibor/gpmdata/dpr/2A.GPM.DPR.V6-20160118.20151216-S014742-E032015.010213.V04A.HDF5\n",
      "loading\n",
      "15\n",
      "/automount/ags/velibor/gpmdata/dpr/2A.GPM.DPR.V6-20160118.20160209-S093857-E111130.011074.V04A.HDF5\n",
      "loading\n",
      "16\n",
      "/automount/ags/velibor/gpmdata/dpr/2A.GPM.DPR.V6-20160118.20160601-S171836-E185110.012837.V04A.HDF5\n",
      "loading\n",
      "17\n",
      "/automount/ags/velibor/gpmdata/dpr/2A.GPM.DPR.V6-20160118.20161109-S181643-E194916.015342.V04A.HDF5\n",
      "loading\n",
      "18\n",
      "/automount/ags/velibor/gpmdata/dpr/2A.GPM.DPR.V6-20160118.20160107-S120629-E133900.010562.V04A.HDF5\n",
      "loading\n",
      "19\n",
      "/automount/ags/velibor/gpmdata/dpr/2A.GPM.DPR.V6-20160118.20170211-S144911-E162144.016802.V04A.HDF5\n",
      "loading\n",
      "20\n",
      "/automount/ags/velibor/gpmdata/dpr/2A.GPM.DPR.V6-20160118.20170211-S144911-E162144.016802.V04A.HDF5\n",
      "loading\n"
     ]
    }
   ],
   "source": [
    "scan  = 'NS'#NS' #or MS\n",
    "\n",
    "for jjj in range(len(zt)):\n",
    "#for jjj in range(10,11):\n",
    "    print jjj\n",
    "\n",
    "    x1, x2, bbh,dpr_pfad, dpr_pp =  read_dpr_bb(zt[jjj], scan, pfadnr[jjj])\n",
    "\n",
    "    plot_cfad(x1,x2,zt[jjj],bbh,dpr_pfad)"
   ]
  },
  {
   "cell_type": "code",
   "execution_count": null,
   "metadata": {
    "collapsed": true
   },
   "outputs": [],
   "source": []
  },
  {
   "cell_type": "code",
   "execution_count": 27,
   "metadata": {
    "collapsed": false
   },
   "outputs": [
    {
     "data": {
      "text/plain": [
       "(array([6.869e+03, 4.277e+03, 4.820e+02, 3.000e+00, 7.000e+00]),\n",
       " array([13.67000008, 18.9840004 , 24.29800072, 29.61200104, 34.92600136,\n",
       "        40.24000168]),\n",
       " <a list of 5 Patch objects>)"
      ]
     },
     "execution_count": 27,
     "metadata": {},
     "output_type": "execute_result"
    },
    {
     "data": {
      "image/png": "[encoded data removed]",
      "text/plain": [
       "<matplotlib.figure.Figure at 0x7f4662f3bd10>"
      ]
     },
     "metadata": {},
     "output_type": "display_data"
    }
   ],
   "source": [
    "maske1 =  ~np.isnan(x1)\n",
    "maske2 =  ~np.isnan(dpr_pp)\n",
    "\n",
    "plt.subplot(1,2,1)\n",
    "plt.hist(x1[maske1], bins=5)\n",
    "plt.subplot(1,2,2)\n",
    "plt.hist(dpr_pp[maske2],bins=5)"
   ]
  },
  {
   "cell_type": "code",
   "execution_count": 29,
   "metadata": {
    "collapsed": false
   },
   "outputs": [
    {
     "data": {
      "text/plain": [
       "((68414192,), (7933, 49, 176))"
      ]
     },
     "execution_count": 29,
     "metadata": {},
     "output_type": "execute_result"
    }
   ],
   "source": [
    "x1.shape, dpr_pp.shape\n"
   ]
  },
  {
   "cell_type": "code",
   "execution_count": 31,
   "metadata": {
    "collapsed": false
   },
   "outputs": [
    {
     "data": {
      "text/plain": [
       "68414192"
      ]
     },
     "execution_count": 31,
     "metadata": {},
     "output_type": "execute_result"
    }
   ],
   "source": [
    "7933*49*176"
   ]
  },
  {
   "cell_type": "code",
   "execution_count": 11,
   "metadata": {
    "collapsed": false
   },
   "outputs": [
    {
     "data": {
      "text/plain": [
       "[2]"
      ]
     },
     "execution_count": 11,
     "metadata": {},
     "output_type": "execute_result"
    }
   ],
   "source": [
    "range(2,3)\n"
   ]
  },
  {
   "cell_type": "code",
   "execution_count": null,
   "metadata": {
    "collapsed": true
   },
   "outputs": [],
   "source": []
  },
  {
   "cell_type": "code",
   "execution_count": null,
   "metadata": {
    "collapsed": true
   },
   "outputs": [],
   "source": []
  }
 ],
 "metadata": {
  "kernelspec": {
   "display_name": "Python 2",
   "language": "python",
   "name": "python2"
  },
  "language_info": {
   "codemirror_mode": {
    "name": "ipython",
    "version": 2
   },
   "file_extension": ".py",
   "mimetype": "text/x-python",
   "name": "python",
   "nbconvert_exporter": "python",
   "pygments_lexer": "ipython2",
   "version": "2.7.11"
  }
 },
 "nbformat": 4,
 "nbformat_minor": 0
}
