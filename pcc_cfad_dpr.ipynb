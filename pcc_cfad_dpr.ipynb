{
 "cells": [
  {
   "cell_type": "code",
   "execution_count": null,
   "metadata": {
    "collapsed": false
   },
   "outputs": [],
   "source": [
    "\"\"\"\n",
    "\n",
    "\n",
    "Plott DPR VCUT etc...\n",
    "\n",
    "\n",
    "\"\"\"\n",
    "\n",
    "\"\"\"\n",
    "Analyse of GPM DPR BB\n",
    "\n",
    "\"\"\"\n",
    "\n",
    "\n"
   ]
  },
  {
   "cell_type": "code",
   "execution_count": 1,
   "metadata": {
    "collapsed": false
   },
   "outputs": [
    {
     "name": "stdout",
     "output_type": "stream",
     "text": [
      "  \n"
     ]
    },
    {
     "name": "stderr",
     "output_type": "stream",
     "text": [
      "/home/velibor/anaconda2/envs/wradlib/lib/python2.7/site-packages/ipykernel/pylab/config.py:66: DeprecationWarning: metadata {'config': True} was set from the constructor.  Metadata should be set using the .tag() method, e.g., Int().tag(key1='value1', key2='value2')\n",
      "  inline backend.\"\"\"\n",
      "/home/velibor/anaconda2/envs/wradlib/lib/python2.7/site-packages/ipykernel/pylab/config.py:71: DeprecationWarning: metadata {'config': True} was set from the constructor.  Metadata should be set using the .tag() method, e.g., Int().tag(key1='value1', key2='value2')\n",
      "  'retina', 'jpeg', 'svg', 'pdf'.\"\"\")\n",
      "/home/velibor/anaconda2/envs/wradlib/lib/python2.7/site-packages/ipykernel/pylab/config.py:85: DeprecationWarning: metadata {'config': True} was set from the constructor.  Metadata should be set using the .tag() method, e.g., Int().tag(key1='value1', key2='value2')\n",
      "  use `figure_formats` instead)\"\"\")\n",
      "/home/velibor/anaconda2/envs/wradlib/lib/python2.7/site-packages/ipykernel/pylab/config.py:95: DeprecationWarning: metadata {'config': True} was set from the constructor.  Metadata should be set using the .tag() method, e.g., Int().tag(key1='value1', key2='value2')\n",
      "  \"\"\"\n",
      "/home/velibor/anaconda2/envs/wradlib/lib/python2.7/site-packages/ipykernel/pylab/config.py:114: DeprecationWarning: metadata {'config': True} was set from the constructor.  Metadata should be set using the .tag() method, e.g., Int().tag(key1='value1', key2='value2')\n",
      "  \"\"\")\n",
      "/home/velibor/anaconda2/envs/wradlib/lib/python2.7/site-packages/ipykernel/pylab/config.py:44: DeprecationWarning: InlineBackend._config_changed is deprecated: use @observe and @unobserve instead.\n",
      "  def _config_changed(self, name, old, new):\n",
      "/home/velibor/anaconda2/envs/wradlib/lib/python2.7/site-packages/traitlets/traitlets.py:770: DeprecationWarning: A parent of InlineBackend._config_changed has adopted the new @observe(change) API\n",
      "  clsname, change_or_name), DeprecationWarning)\n",
      "/home/velibor/anaconda2/envs/wradlib/lib/python2.7/site-packages/IPython/core/formatters.py:98: DeprecationWarning: DisplayFormatter._formatters_default is deprecated: use @default decorator instead.\n",
      "  def _formatters_default(self):\n",
      "/home/velibor/anaconda2/envs/wradlib/lib/python2.7/site-packages/IPython/core/formatters.py:677: DeprecationWarning: PlainTextFormatter._deferred_printers_default is deprecated: use @default decorator instead.\n",
      "  def _deferred_printers_default(self):\n",
      "/home/velibor/anaconda2/envs/wradlib/lib/python2.7/site-packages/IPython/core/formatters.py:669: DeprecationWarning: PlainTextFormatter._singleton_printers_default is deprecated: use @default decorator instead.\n",
      "  def _singleton_printers_default(self):\n",
      "/home/velibor/anaconda2/envs/wradlib/lib/python2.7/site-packages/IPython/core/formatters.py:672: DeprecationWarning: PlainTextFormatter._type_printers_default is deprecated: use @default decorator instead.\n",
      "  def _type_printers_default(self):\n",
      "/home/velibor/anaconda2/envs/wradlib/lib/python2.7/site-packages/IPython/core/formatters.py:672: DeprecationWarning: PlainTextFormatter._type_printers_default is deprecated: use @default decorator instead.\n",
      "  def _type_printers_default(self):\n",
      "/home/velibor/anaconda2/envs/wradlib/lib/python2.7/site-packages/IPython/core/formatters.py:677: DeprecationWarning: PlainTextFormatter._deferred_printers_default is deprecated: use @default decorator instead.\n",
      "  def _deferred_printers_default(self):\n"
     ]
    }
   ],
   "source": [
    "import matplotlib.pyplot as plt\n",
    "import numpy as np\n",
    "import pandas as pd\n",
    "import wradlib\n",
    "import wradlib as wrl\n",
    "from osgeo import osr\n",
    "import h5py\n",
    "import glob\n",
    "from pcc import get_my_cmap\n",
    "from pcc import get_miub_cmap\n",
    "from pcc import boxpol_pos\n",
    "bonn_pos = boxpol_pos()\n",
    "bx, by = bonn_pos['gkx_ppi'], bonn_pos['gky_ppi']\n",
    "bonnlat, bonnlon = bonn_pos['lat_ppi'], bonn_pos['lon_ppi']\n",
    "blat, blon = bonn_pos['lat_ppi'], bonn_pos['lon_ppi']\n",
    "\n",
    "\n",
    "from pcc import plot_borders\n",
    "from pcc import plot_radar\n",
    "\n",
    "% matplotlib inline\n",
    "\n",
    "print (\"  \")"
   ]
  },
  {
   "cell_type": "code",
   "execution_count": 2,
   "metadata": {
    "collapsed": false
   },
   "outputs": [
    {
     "name": "stdout",
     "output_type": "stream",
     "text": [
      "(21, 21)\n"
     ]
    }
   ],
   "source": [
    "# Ereignisse 2014\n",
    "#-#ZP = '20140806203538'; pfadnr=1 \n",
    "#-#ZP = '20140826221000'; pfadnr=1 # 0.82\n",
    "#-#ZP = '20141007023744' ; pfadnr=0# 0.47\n",
    "#-#ZP = '20141008094000'; pfadnr=1 # 0.82   \n",
    "#-#ZP = '20141008094500'; pfadnr=1 # 0.679  \n",
    "#-#ZP = '20141213141304'; pfadnr=0 # 0.82\n",
    "#-#ZP = '20141217054500' ; pfadnr=0# 0.47\n",
    "\n",
    "# Ereignisse 2015\n",
    "#-#ZP = '20150128171500'; pfadnr=0 #0.28\n",
    "#-#ZP = '20150128172208'; pfadnr=0#0.321\n",
    "#-#ZP = '20150225163500'; pfadnr=0 # 0.2\n",
    "#-#ZP = '20150330233003'; pfadnr=1\n",
    "#-#ZP = '20150404053404'; pfadnr=0\n",
    "#-#ZP = '20150626214445'; pfadnr=1\n",
    "#-#ZP = '20151015203657'; pfadnr=1\n",
    "\n",
    "#-#ZP = '20151211203853'; pfadnr=1#0.589\n",
    "#-#ZP = '20151216024501'; pfadnr=0#0.589\n",
    "\n",
    "# Ereignisse 2016\n",
    "#-#ZP = '20160209103000'; pfadnr=1 ###PFAD=1#ZP = '20160209103500'; pfadnr=1 # 0.23\n",
    "#-#ZP = '20160601175950'; pfadnr=1 # \n",
    "#-#ZP = '20161109185732'; pfadnr=1 # \n",
    "#-#ZP = '20160107124707'; pfadnr=0\n",
    "\n",
    "# Ereignisse 2017\n",
    "#-#ZP = '20170211152500'; pfadnr=0 \n",
    "#-#ZP = '20170211153000'; pfadnr=0 # 0.23\n",
    "\n",
    "zt = ('20140806','20140826','20141007','20141008','20141008',\n",
    "'20141213','20141217','20150128','20150225',\n",
    "'20150330','20150404','20150626','20151015','20151211','20151216',\n",
    "'20160209','20160601','20161109','20160107','20170211','20170211')\n",
    "pfadnr = (1,1,0,1,1,0,0,0,0,1,0,1,1,1,0,1,1,1,0,0,0)\n",
    "\n",
    "print (len(zt), len(pfadnr))"
   ]
  },
  {
   "cell_type": "code",
   "execution_count": 19,
   "metadata": {
    "collapsed": false
   },
   "outputs": [],
   "source": [
    "#zt = '20141007'; pfadnr = 0\n",
    "scan  = 'MS'#NS' #or MS\n",
    "\n",
    "def read_dpr_bb(zt, scan, pfadnr):\n",
    "\n",
    "    pfad = ('/automount/ags/velibor/gpmdata/dpr/2A.GPM.DPR.V6-20160118.'+zt+'*.HDF5')\n",
    "    dpr_pfad = sorted(glob.glob(pfad))[pfadnr]\n",
    "\n",
    "    print dpr_pfad\n",
    "\n",
    "    # Einlesen\n",
    "    dpr = h5py.File(dpr_pfad, 'r')\n",
    "    \n",
    "    # Position\n",
    "    dpr_lat=np.array(dpr[scan]['Latitude'])\n",
    "    dpr_lon=np.array(dpr[scan]['Longitude'])\n",
    "\n",
    "    # Refelctivity Volumen\n",
    "    dpr_pp=np.array(dpr[scan]['SLV']['zFactorCorrected'])\n",
    "    dpr_pp[dpr_pp<0]= np.nan\n",
    "\n",
    "    # Brightband Attributes\n",
    "    dpr_bbh=np.array(dpr[scan]['CSF']['heightBB'], dtype=float)\n",
    "    dpr_bbh[dpr_bbh<0]= np.nan\n",
    "    qbb = np.array(dpr[scan]['CSF']['qualityBB'])\n",
    "\n",
    "\n",
    "    #Projection\n",
    "    proj_stereo = wrl.georef.create_osr(\"dwd-radolan\")\n",
    "    proj_wgs = osr.SpatialReference()\n",
    "    proj_wgs.ImportFromEPSG(4326)\n",
    "\n",
    "    from pcc import boxpol_pos\n",
    "    bonn_pos = boxpol_pos()\n",
    "    bx, by = bonn_pos['gkx_ppi'], bonn_pos['gky_ppi']\n",
    "    bonnlat, bonnlon = bonn_pos['lat_ppi'], bonn_pos['lon_ppi']\n",
    "    blat, blon = bonn_pos['lat_ppi'], bonn_pos['lon_ppi']\n",
    "\n",
    "    dpr_lon, dpr_lat = wradlib.georef.reproject(dpr_lon, dpr_lat, projection_target=proj_stereo,\n",
    "                                                projection_source=proj_wgs)\n",
    "    bonnlon, bonnlat = wradlib.georef.reproject(bonnlon, bonnlat, projection_target=proj_stereo,\n",
    "                                                projection_source=proj_wgs)\n",
    "\n",
    "    # Only BoXPol Region\n",
    "    lon0, lat0, radius = bonnlon, bonnlat, 100\n",
    "    r = np.sqrt((dpr_lat - lat0)**2 + (dpr_lon - lon0)**2)\n",
    "    position = r < radius\n",
    "\n",
    "    lat = dpr_lat[position]\n",
    "    lon = dpr_lon[position]\n",
    "\n",
    "    dpr_pp[np.where(r > radius)]=np.nan\n",
    "\n",
    "    dpr_bbh[np.where(r > radius)]=np.nan\n",
    "\n",
    "    #h = np.arange(150,4800,150)\n",
    "    if scan=='HS':\n",
    "        hdpr = 1000 * (np.arange(88,0,-1)*0.250)\n",
    "\n",
    "    else:\n",
    "        hdpr = 1000 * (np.arange(176,0,-1)*0.125)\n",
    "\n",
    "    x2 = np.array(dpr_pp.shape[0]*dpr_pp.shape[1]*list(hdpr))\n",
    "    x1 = dpr_pp.reshape(dpr_pp.shape[0]*dpr_pp.shape[1]*dpr_pp.shape[2])\n",
    "    \n",
    "    return x1, x2, dpr_bbh, dpr_pfad, dpr_pp"
   ]
  },
  {
   "cell_type": "code",
   "execution_count": 55,
   "metadata": {
    "collapsed": false
   },
   "outputs": [],
   "source": [
    "def plot_cfad(x1,x2,zt, dpr_bbh, dpr_pfad):\n",
    "    m1 = ~np.isnan(x1) & ~np.isnan(x2)\n",
    "\n",
    "    x3 = np.array([]); x4 = np.array([]); x5 = np.array([])\n",
    "    \n",
    "    dpr_bbh[dpr_bbh<=0]=np.nan\n",
    "    \n",
    "    hh = np.array([])\n",
    "    step =500\n",
    "    print (\"loading\")\n",
    "    for jj in np.arange(0,20000,step):\n",
    "        #print jj\n",
    "        hh = np.append(hh,jj)\n",
    "        x3 = np.append(x3,np.nanmean(x1[np.where((x2>jj)&(x2<jj+step))]))\n",
    "        x4 = np.append(x4,np.nanmedian(x1[np.where((x2>jj)&(x2<jj+step))]))\n",
    "\n",
    "    plt.figure(figsize=(12,12)) \n",
    "    #plt.hexbin(x1[m1], x2[m1],bins=50, cmap='inferno')\n",
    "    plt.hist2d(x1[m1], x2[m1],bins = 90, cmap='inferno')\n",
    "    plt.colorbar()\n",
    "    plt.xlabel('ZH in DBz')\n",
    "    plt.ylabel('Height in m')\n",
    "    plt.plot(x3,hh, linewidth=3, label='mean(Z)', color='grey')\n",
    "    plt.plot(x4,hh, linewidth=3, label='median(Z)', color='green')\n",
    "    plt.axhline(np.nanmin(dpr_bbh), lw=3, color='grey', label='min(bbh)', linestyle='--')\n",
    "    plt.axhline(np.nanmax(dpr_bbh), lw=3, color='green', label='max(bbh)', linestyle='--')\n",
    "\n",
    "    #plt.title(dates)\n",
    "    plt.ylim(0,6000)\n",
    "    plt.xlim(15,60)\n",
    "    plt.legend(loc='upper right', fontsize=10)\n",
    "    plt.grid(color='white')\n",
    "    plt.figtext(0, 0, dpr_pfad)\n",
    "    #plt.savefig('/automount/ags/velibor/plot/GPM_boxpol/topevents/dpr_cfad_'+zt+'.png')\n",
    "    #plt.close()\n",
    "    print ('mean bbh: ',x3)\n",
    "    print ('median bbh: ',x4)\n",
    "    print ('dpr mean bbh: ',np.nanmean(dpr_bbh))\n",
    "    print ('dpr mean bbh: ',np.nanmedian(dpr_bbh))\n",
    "    print ('dpr unique bbh: ',np.unique(dpr_bbh))\n",
    "\n",
    "    plt.show()"
   ]
  },
  {
   "cell_type": "code",
   "execution_count": 56,
   "metadata": {
    "collapsed": false
   },
   "outputs": [
    {
     "name": "stdout",
     "output_type": "stream",
     "text": [
      "/automount/ags/velibor/gpmdata/dpr/2A.GPM.DPR.V6-20160118.20160209-S093857-E111130.011074.V04A.HDF5\n"
     ]
    }
   ],
   "source": [
    "scan = 'NS'\n",
    "x1, x2, bbh, dpr_pfad, dpr_pp = read_dpr_bb('20160209', scan, 1)\n"
   ]
  },
  {
   "cell_type": "code",
   "execution_count": 57,
   "metadata": {
    "collapsed": false
   },
   "outputs": [
    {
     "name": "stdout",
     "output_type": "stream",
     "text": [
      "loading\n"
     ]
    },
    {
     "name": "stderr",
     "output_type": "stream",
     "text": [
      "/home/velibor/anaconda2/envs/wradlib/lib/python2.7/site-packages/ipykernel/__main__.py:14: RuntimeWarning: Mean of empty slice\n"
     ]
    },
    {
     "name": "stdout",
     "output_type": "stream",
     "text": [
      "('mean bbh: ', array([26.36659813, 25.75868797, 25.62259674, 25.03272438, 23.67759895,\n",
      "       22.82749939, 22.23613548, 21.50595665, 20.66143036, 18.78097916,\n",
      "       18.26087761, 16.92278481, 15.56026268, 14.27000046,         nan,\n",
      "               nan,         nan,         nan,         nan,         nan,\n",
      "               nan,         nan,         nan,         nan,         nan,\n",
      "               nan,         nan,         nan,         nan,         nan,\n",
      "               nan,         nan,         nan,         nan,         nan,\n",
      "               nan,         nan,         nan,         nan,         nan]))\n",
      "('median bbh: ', array([26.47999954, 25.98500061, 25.85499954, 25.29000092, 23.80999947,\n",
      "       22.92000008, 22.07500076, 21.39999962, 19.90999985, 18.09000015,\n",
      "       17.75500107, 16.32999992, 15.73999977, 14.27000046,         nan,\n",
      "               nan,         nan,         nan,         nan,         nan,\n",
      "               nan,         nan,         nan,         nan,         nan,\n",
      "               nan,         nan,         nan,         nan,         nan,\n",
      "               nan,         nan,         nan,         nan,         nan,\n",
      "               nan,         nan,         nan,         nan,         nan]))\n",
      "('dpr mean bbh: ', 3028.1513384650734)\n",
      "('dpr mean bbh: ', 3098.138671875)\n",
      "('dpr unique bbh: ', array([2342.93383789, 2393.62670898, 2464.81054688, ...,           nan,\n",
      "                 nan,           nan]))\n"
     ]
    },
    {
     "data": {
      "image/png": "[encoded data removed]",
      "text/plain": [
       "<matplotlib.figure.Figure at 0x7f24ff5e02d0>"
      ]
     },
     "metadata": {},
     "output_type": "display_data"
    }
   ],
   "source": [
    "plot_cfad(x1,x2,'20160209',bbh,dpr_pfad)"
   ]
  },
  {
   "cell_type": "code",
   "execution_count": 51,
   "metadata": {
    "collapsed": false
   },
   "outputs": [
    {
     "data": {
      "text/plain": [
       "(array([1., 0., 0., 1., 0., 0., 0., 0., 1., 1., 0., 0., 0., 0., 0., 0., 0.,\n",
       "        0., 0., 0., 0., 0., 0., 0., 0., 0., 0., 0., 0., 0., 0., 0., 0., 0.,\n",
       "        0., 0., 0., 0., 0., 0., 1., 0., 0., 0., 0., 0., 0., 1., 0., 0., 0.,\n",
       "        1., 1., 1., 0., 0., 0., 1., 0., 0., 1., 0., 0., 2., 0., 0., 0., 1.,\n",
       "        0., 0., 1., 0., 0., 0., 0., 0., 0., 0., 0., 0., 1., 0., 0., 0., 0.,\n",
       "        0., 0., 0., 0., 0., 0., 0., 0., 0., 0., 0., 0., 0., 0., 1.]),\n",
       " array([2342.93383789, 2356.95544434, 2370.97705078, 2384.99865723,\n",
       "        2399.02026367, 2413.04187012, 2427.06347656, 2441.08508301,\n",
       "        2455.10668945, 2469.1282959 , 2483.14990234, 2497.17150879,\n",
       "        2511.19311523, 2525.21472168, 2539.23632812, 2553.25793457,\n",
       "        2567.27954102, 2581.30114746, 2595.32275391, 2609.34436035,\n",
       "        2623.3659668 , 2637.38757324, 2651.40917969, 2665.43078613,\n",
       "        2679.45239258, 2693.47399902, 2707.49560547, 2721.51721191,\n",
       "        2735.53881836, 2749.5604248 , 2763.58203125, 2777.6036377 ,\n",
       "        2791.62524414, 2805.64685059, 2819.66845703, 2833.69006348,\n",
       "        2847.71166992, 2861.73327637, 2875.75488281, 2889.77648926,\n",
       "        2903.7980957 , 2917.81970215, 2931.84130859, 2945.86291504,\n",
       "        2959.88452148, 2973.90612793, 2987.92773438, 3001.94934082,\n",
       "        3015.97094727, 3029.99255371, 3044.01416016, 3058.0357666 ,\n",
       "        3072.05737305, 3086.07897949, 3100.10058594, 3114.12219238,\n",
       "        3128.14379883, 3142.16540527, 3156.18701172, 3170.20861816,\n",
       "        3184.23022461, 3198.25183105, 3212.2734375 , 3226.29504395,\n",
       "        3240.31665039, 3254.33825684, 3268.35986328, 3282.38146973,\n",
       "        3296.40307617, 3310.42468262, 3324.44628906, 3338.46789551,\n",
       "        3352.48950195, 3366.5111084 , 3380.53271484, 3394.55432129,\n",
       "        3408.57592773, 3422.59753418, 3436.61914062, 3450.64074707,\n",
       "        3464.66235352, 3478.68395996, 3492.70556641, 3506.72717285,\n",
       "        3520.7487793 , 3534.77038574, 3548.79199219, 3562.81359863,\n",
       "        3576.83520508, 3590.85681152, 3604.87841797, 3618.90002441,\n",
       "        3632.92163086, 3646.9432373 , 3660.96484375, 3674.9864502 ,\n",
       "        3689.00805664, 3703.02966309, 3717.05126953, 3731.07287598,\n",
       "        3745.09448242]),\n",
       " <a list of 100 Patch objects>)"
      ]
     },
     "execution_count": 51,
     "metadata": {},
     "output_type": "execute_result"
    },
    {
     "data": {
      "image/png": "[encoded data removed]",
      "text/plain": [
       "<matplotlib.figure.Figure at 0x7f24fc8acfd0>"
      ]
     },
     "metadata": {},
     "output_type": "display_data"
    }
   ],
   "source": []
  },
  {
   "cell_type": "code",
   "execution_count": null,
   "metadata": {
    "collapsed": false
   },
   "outputs": [],
   "source": [
    "scan  = 'NS'#NS' #or MS\n",
    "\n",
    "for jjj in range(len(zt)):\n",
    "#for jjj in range(10,11):\n",
    "    print jjj\n",
    "\n",
    "    x1, x2, bbh,dpr_pfad, dpr_pp =  read_dpr_bb(zt[jjj], scan, pfadnr[jjj])\n",
    "\n",
    "    plot_cfad(x1,x2,zt[jjj],bbh,dpr_pfad)"
   ]
  },
  {
   "cell_type": "code",
   "execution_count": null,
   "metadata": {
    "collapsed": true
   },
   "outputs": [],
   "source": []
  },
  {
   "cell_type": "code",
   "execution_count": null,
   "metadata": {
    "collapsed": false
   },
   "outputs": [],
   "source": [
    "maske1 =  ~np.isnan(x1)\n",
    "maske2 =  ~np.isnan(dpr_pp)\n",
    "\n",
    "plt.subplot(1,2,1)\n",
    "plt.hist(x1[maske1], bins=5)\n",
    "plt.subplot(1,2,2)\n",
    "plt.hist(dpr_pp[maske2],bins=5)"
   ]
  },
  {
   "cell_type": "code",
   "execution_count": null,
   "metadata": {
    "collapsed": false
   },
   "outputs": [],
   "source": [
    "x1.shape, dpr_pp.shape\n"
   ]
  },
  {
   "cell_type": "code",
   "execution_count": null,
   "metadata": {
    "collapsed": false
   },
   "outputs": [],
   "source": [
    "7933*49*176"
   ]
  },
  {
   "cell_type": "code",
   "execution_count": null,
   "metadata": {
    "collapsed": false
   },
   "outputs": [],
   "source": [
    "range(2,3)\n"
   ]
  },
  {
   "cell_type": "code",
   "execution_count": null,
   "metadata": {
    "collapsed": true
   },
   "outputs": [],
   "source": []
  },
  {
   "cell_type": "code",
   "execution_count": null,
   "metadata": {
    "collapsed": true
   },
   "outputs": [],
   "source": []
  }
 ],
 "metadata": {
  "kernelspec": {
   "display_name": "Python 2",
   "language": "python",
   "name": "python2"
  },
  "language_info": {
   "codemirror_mode": {
    "name": "ipython",
    "version": 2
   },
   "file_extension": ".py",
   "mimetype": "text/x-python",
   "name": "python",
   "nbconvert_exporter": "python",
   "pygments_lexer": "ipython2",
   "version": "2.7.11"
  }
 },
 "nbformat": 4,
 "nbformat_minor": 0
}
