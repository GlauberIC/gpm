{
 "cells": [
  {
   "cell_type": "code",
   "execution_count": 1,
   "metadata": {
    "collapsed": false
   },
   "outputs": [
    {
     "data": {
      "text/plain": [
       "'\\nAnalyse of GPM DPR BB\\n\\n'"
      ]
     },
     "execution_count": 1,
     "metadata": {},
     "output_type": "execute_result"
    }
   ],
   "source": [
    "\"\"\"\n",
    "\n",
    "\n",
    "Plott DPR VCUT etc...\n",
    "\n",
    "\n",
    "\"\"\"\n",
    "\n",
    "\"\"\"\n",
    "Analyse of GPM DPR BB\n",
    "\n",
    "\"\"\"\n",
    "\n",
    "\n"
   ]
  },
  {
   "cell_type": "code",
   "execution_count": 5,
   "metadata": {
    "collapsed": false
   },
   "outputs": [
    {
     "name": "stdout",
     "output_type": "stream",
     "text": [
      "  \n"
     ]
    }
   ],
   "source": [
    "import matplotlib.pyplot as plt\n",
    "import numpy as np\n",
    "import pandas as pd\n",
    "import wradlib\n",
    "import wradlib as wrl\n",
    "from osgeo import osr\n",
    "import h5py\n",
    "import glob\n",
    "from pcc import get_my_cmap\n",
    "from pcc import get_miub_cmap\n",
    "from pcc import boxpol_pos\n",
    "bonn_pos = boxpol_pos()\n",
    "bx, by = bonn_pos['gkx_ppi'], bonn_pos['gky_ppi']\n",
    "bonnlat, bonnlon = bonn_pos['lat_ppi'], bonn_pos['lon_ppi']\n",
    "blat, blon = bonn_pos['lat_ppi'], bonn_pos['lon_ppi']\n",
    "\n",
    "\n",
    "from pcc import plot_borders\n",
    "from pcc import plot_radar\n",
    "\n",
    "#% matplotlib inline\n",
    "\n",
    "print (\"  \")"
   ]
  },
  {
   "cell_type": "code",
   "execution_count": 8,
   "metadata": {
    "collapsed": true
   },
   "outputs": [],
   "source": [
    "zt = '20141007'; pfadnr = 0\n",
    "scan  = 'NS'#NS' #or MS\n",
    "\n",
    "def read_dpr(zt, scan, pfadnr):\n",
    "\n",
    "    pfad = ('/automount/ags/velibor/gpmdata/dpr/2A.GPM.DPR.V6-20160118.'+zt+'*.HDF5')\n",
    "    dpr_pfad = sorted(glob.glob(pfad))[pfadnr]\n",
    "\n",
    "    print dpr_pfad\n",
    "\n",
    "    # Einlesen\n",
    "    dpr = h5py.File(dpr_pfad, 'r')\n",
    "    # Position\n",
    "    dpr_lat=np.array(dpr[scan]['Latitude'])\n",
    "    dpr_lon=np.array(dpr[scan]['Longitude'])\n",
    "\n",
    "    # Refelctivity Volumen\n",
    "    dpr_pp=np.array(dpr[scan]['SLV']['zFactorCorrected'])\n",
    "    dpr_pp[dpr_pp<0]= np.nan\n",
    "    print dpr_pp.shape\n",
    "\n",
    "    #Projection\n",
    "    proj_stereo = wrl.georef.create_osr(\"dwd-radolan\")\n",
    "    proj_wgs = osr.SpatialReference()\n",
    "    proj_wgs.ImportFromEPSG(4326)\n",
    "\n",
    "    from pcc import boxpol_pos\n",
    "    bonn_pos = boxpol_pos()\n",
    "    bx, by = bonn_pos['gkx_ppi'], bonn_pos['gky_ppi']\n",
    "    bonnlat, bonnlon = bonn_pos['lat_ppi'], bonn_pos['lon_ppi']\n",
    "    blat, blon = bonn_pos['lat_ppi'], bonn_pos['lon_ppi']\n",
    "\n",
    "    dpr_lon, dpr_lat = wradlib.georef.reproject(dpr_lon, dpr_lat, projection_target=proj_stereo , projection_source=proj_wgs)\n",
    "    bonnlon, bonnlat = wradlib.georef.reproject(bonnlon, bonnlat, projection_target=proj_stereo , projection_source=proj_wgs)\n",
    "\n",
    "    # BoXPol region\n",
    "    lon0, lat0, radius = bonnlon, bonnlat, 100\n",
    "    r = np.sqrt((dpr_lat - lat0)**2 + (dpr_lon - lon0)**2)\n",
    "    position = r < radius\n",
    "\n",
    "    \n",
    "    dpr_pp[np.where(r > radius)]=np.nan\n",
    "\n",
    "\n",
    "    # Height of dpr\n",
    "    h = np.arange(150,4800,150)\n",
    "    if scan=='HS':\n",
    "        hdpr = 1000 * (np.arange(88,0,-1)*0.250)\n",
    "\n",
    "    else:\n",
    "        hdpr = 1000 * (np.arange(176,0,-1)*0.125)\n",
    "\n",
    "    \n",
    "    return dpr_lat, dpr_lon, hdpr, dpr_pp"
   ]
  },
  {
   "cell_type": "code",
   "execution_count": 9,
   "metadata": {
    "collapsed": false
   },
   "outputs": [
    {
     "name": "stdout",
     "output_type": "stream",
     "text": [
      "/automount/ags/velibor/gpmdata/dpr/2A.GPM.DPR.V6-20160118.20141007-S015721-E032951.003445.V04A.HDF5\n",
      "(7930, 49, 176)\n"
     ]
    }
   ],
   "source": [
    "lat, lon, alt,  dpr_z = read_dpr(zt, scan, pfadnr)"
   ]
  },
  {
   "cell_type": "code",
   "execution_count": 10,
   "metadata": {
    "collapsed": false
   },
   "outputs": [
    {
     "name": "stdout",
     "output_type": "stream",
     "text": [
      "((7930, 49), (7930, 49), (7930, 49, 176), (176,))\n"
     ]
    }
   ],
   "source": [
    "print (lat.shape, lon.shape, dpr_z.shape, alt.shape)"
   ]
  },
  {
   "cell_type": "code",
   "execution_count": 62,
   "metadata": {
    "collapsed": false
   },
   "outputs": [
    {
     "name": "stderr",
     "output_type": "stream",
     "text": [
      "pcc.py:372: DeprecatedWarning: open_shape is deprecated as of 0.11.1 and will be removed in 1.0.0. Use :func:`open_vector` instead.\n",
      "  dataset, inLayer = wradlib.io.open_shape(filename)\n",
      "pcc.py:475: DeprecatedWarning: polar2polyvert is deprecated as of 0.11.3 and will be removed in 1.0.0. Use :func:`spherical_to_polyvert` instead.\n",
      "  (x_loc, y_loc))\n",
      "/home/velibor/anaconda2/envs/wradlib/lib/python2.7/site-packages/wradlib/georef/polar.py:673: DeprecatedWarning: polar2lonlat is deprecated as of 0.11.3 and will be removed in 1.0.0.\n",
      "  lon, lat = polar2lonlat(r, az, sitecoords)\n",
      "/home/velibor/anaconda2/envs/wradlib/lib/python2.7/site-packages/wradlib/georef/polar.py:140: DeprecatedWarning: hor2aeq is deprecated as of 0.11.3 and will be removed in 1.0.0.\n",
      "  delta, tau = hor2aeq(a, h, phi)\n"
     ]
    }
   ],
   "source": [
    "cut_entlang = 3269\n",
    "cut_quer = 23\n",
    "ff = 15\n",
    "cc = 0.5\n",
    "fig = plt.figure(figsize=(12,12))\n",
    "ax1 = fig.add_subplot(221, aspect='equal')\n",
    "plt.pcolormesh(lon,lat,np.ma.masked_invalid(dpr_z[:,:,160]),vmin=0, vmax=50, cmap=get_miub_cmap())\n",
    "plt.plot(lon[3249:3270,cut_quer],lat[3249:3270,cut_quer], color='red')\n",
    "plt.plot(lon[cut_entlang,23:43],lat[cut_entlang,23:43], color='blue', lw=2)\n",
    "plot_borders(ax1)\n",
    "plot_radar(bonnlon, bonnlat, ax1, reproject=True, cband=False,col='black')\n",
    "\n",
    "plt.colorbar()\n",
    "plt.xlim(-350,-100)\n",
    "plt.ylim(-4350, -4100)#\n",
    "\n",
    "plt.subplot(2,2,2)\n",
    "plt.title(\"CUT\", color='red')\n",
    "plt.pcolormesh(lon[3249:3270,cut_quer],alt,np.ma.masked_invalid(dpr_z[3249:3270,cut_quer,:].transpose()),\n",
    "              vmin=0, vmax=50, cmap=get_miub_cmap())\n",
    "plt.colorbar()\n",
    "plt.ylim(0,22000)\n",
    "plt.xlim(-350,-100)\n",
    "\n",
    "plt.subplot(2,1\n",
    "            ,2)\n",
    "plt.pcolormesh(lon[cut_entlang,23:43],alt,np.ma.masked_invalid(dpr_z[cut_entlang,23:43,:].transpose()),\n",
    "               vmin=0, vmax=50, cmap=get_miub_cmap())\n",
    "plt.colorbar()\n",
    "plt.title('cut', color='blue')\n",
    "plt.ylim(0,7000)\n",
    "#plt.xlim(-350,-100)\n",
    "plt.grid()\n",
    "\n",
    "\n",
    "plt.show()\n"
   ]
  },
  {
   "cell_type": "code",
   "execution_count": 48,
   "metadata": {
    "collapsed": false
   },
   "outputs": [],
   "source": [
    "plt.figure(figsize=(12,6))\n",
    "plt.pcolormesh(lon[cut_entlang,23:43],alt,np.ma.masked_invalid(dpr_z[cut_entlang,23:43,:].transpose()),\n",
    "               vmin=0, vmax=50, cmap=get_miub_cmap())\n",
    "plt.colorbar()\n",
    "plt.title('cut', color='blue')\n",
    "plt.ylim(0,7000)\n",
    "#plt.xlim(-350,-100)\n",
    "plt.grid()\n",
    "plt.show()\n"
   ]
  },
  {
   "cell_type": "code",
   "execution_count": 45,
   "metadata": {
    "collapsed": true
   },
   "outputs": [],
   "source": []
  },
  {
   "cell_type": "code",
   "execution_count": null,
   "metadata": {
    "collapsed": true
   },
   "outputs": [],
   "source": []
  }
 ],
 "metadata": {
  "kernelspec": {
   "display_name": "Python 2",
   "language": "python",
   "name": "python2"
  },
  "language_info": {
   "codemirror_mode": {
    "name": "ipython",
    "version": 2
   },
   "file_extension": ".py",
   "mimetype": "text/x-python",
   "name": "python",
   "nbconvert_exporter": "python",
   "pygments_lexer": "ipython2",
   "version": "2.7.11"
  }
 },
 "nbformat": 4,
 "nbformat_minor": 0
}
