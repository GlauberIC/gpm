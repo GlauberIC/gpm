{
 "cells": [
  {
   "cell_type": "markdown",
   "metadata": {
    "collapsed": true
   },
   "source": [
    "# Reading RADOLAN RX and RY filterd products\n",
    "-----------------------------------------"
   ]
  },
  {
   "cell_type": "code",
   "execution_count": 46,
   "metadata": {
    "collapsed": false
   },
   "outputs": [
    {
     "name": "stderr",
     "output_type": "stream",
     "text": [
      "/home/velibor/anaconda2/envs/wradlib/lib/python2.7/site-packages/ipykernel/pylab/config.py:66: DeprecationWarning: metadata {'config': True} was set from the constructor.  Metadata should be set using the .tag() method, e.g., Int().tag(key1='value1', key2='value2')\n",
      "  inline backend.\"\"\"\n",
      "/home/velibor/anaconda2/envs/wradlib/lib/python2.7/site-packages/ipykernel/pylab/config.py:71: DeprecationWarning: metadata {'config': True} was set from the constructor.  Metadata should be set using the .tag() method, e.g., Int().tag(key1='value1', key2='value2')\n",
      "  'retina', 'jpeg', 'svg', 'pdf'.\"\"\")\n",
      "/home/velibor/anaconda2/envs/wradlib/lib/python2.7/site-packages/ipykernel/pylab/config.py:85: DeprecationWarning: metadata {'config': True} was set from the constructor.  Metadata should be set using the .tag() method, e.g., Int().tag(key1='value1', key2='value2')\n",
      "  use `figure_formats` instead)\"\"\")\n",
      "/home/velibor/anaconda2/envs/wradlib/lib/python2.7/site-packages/ipykernel/pylab/config.py:95: DeprecationWarning: metadata {'config': True} was set from the constructor.  Metadata should be set using the .tag() method, e.g., Int().tag(key1='value1', key2='value2')\n",
      "  \"\"\"\n",
      "/home/velibor/anaconda2/envs/wradlib/lib/python2.7/site-packages/ipykernel/pylab/config.py:114: DeprecationWarning: metadata {'config': True} was set from the constructor.  Metadata should be set using the .tag() method, e.g., Int().tag(key1='value1', key2='value2')\n",
      "  \"\"\")\n",
      "/home/velibor/anaconda2/envs/wradlib/lib/python2.7/site-packages/ipykernel/pylab/config.py:44: DeprecationWarning: InlineBackend._config_changed is deprecated: use @observe and @unobserve instead.\n",
      "  def _config_changed(self, name, old, new):\n",
      "/home/velibor/anaconda2/envs/wradlib/lib/python2.7/site-packages/traitlets/traitlets.py:770: DeprecationWarning: A parent of InlineBackend._config_changed has adopted the new @observe(change) API\n",
      "  clsname, change_or_name), DeprecationWarning)\n"
     ]
    }
   ],
   "source": [
    "import numpy as np\n",
    "import matplotlib.pyplot as plt\n",
    "import pandas as pd\n",
    "import wradlib as wrl\n",
    "% matplotlib inline\n"
   ]
  },
  {
   "cell_type": "markdown",
   "metadata": {},
   "source": [
    "# Read CSV with pandas\n",
    "------------------"
   ]
  },
  {
   "cell_type": "code",
   "execution_count": 60,
   "metadata": {
    "collapsed": false
   },
   "outputs": [],
   "source": [
    "# read CSV and create a data frame with time index from Unnamed: 0\n",
    "dfr = pd.read_csv('/automount/ags/velibor/data/radolan/rxy_20090101000000-20091231235000.csv')\n",
    "dfrr = dfr.set_index(pd.DatetimeIndex(dfr[u'Unnamed: 0']))\n",
    "\n",
    "# Drop Unnamed: 0 Column\n",
    "dfrr = dfrr.drop([u'Unnamed: 0'],axis=1)\n",
    "\n",
    "\n"
   ]
  },
  {
   "cell_type": "markdown",
   "metadata": {},
   "source": [
    "# View data set in taublar and as statistics\n",
    "------------------------------------------\n"
   ]
  },
  {
   "cell_type": "code",
   "execution_count": 61,
   "metadata": {
    "collapsed": false
   },
   "outputs": [
    {
     "name": "stdout",
     "output_type": "stream",
     "text": [
      "Index([u'RX', u'RY', u'zgrids_me', u'zgrids_st', u'zgrids_co', u'rgrids_>0',\n",
      "       u'rgrids_0-1', u'rgrids_1-5', u'rgrids_5-10', u'rgrids_>10', u'rsum'],\n",
      "      dtype='object')\n",
      "DatetimeIndex(['2009-01-01 00:00:00', '2009-01-01 00:05:00',\n",
      "               '2009-01-01 00:10:00', '2009-01-01 00:15:00',\n",
      "               '2009-01-01 00:20:00', '2009-01-01 00:25:00',\n",
      "               '2009-01-01 00:30:00', '2009-01-01 00:35:00',\n",
      "               '2009-01-01 00:40:00', '2009-01-01 00:45:00',\n",
      "               ...\n",
      "               '2009-12-31 23:05:00', '2009-12-31 23:10:00',\n",
      "               '2009-12-31 23:15:00', '2009-12-31 23:20:00',\n",
      "               '2009-12-31 23:25:00', '2009-12-31 23:30:00',\n",
      "               '2009-12-31 23:35:00', '2009-12-31 23:40:00',\n",
      "               '2009-12-31 23:45:00', '2009-12-31 23:50:00'],\n",
      "              dtype='datetime64[ns]', length=105119, freq=None)\n",
      "                     RX  RY  zgrids_me  zgrids_st  zgrids_co  rgrids_>0  \\\n",
      "2009-01-01 00:00:00   1   1     556715      24547        153      19794   \n",
      "2009-01-01 00:05:00   1   1     556715      24230        156      19469   \n",
      "2009-01-01 00:10:00   1   1     556715      23621        147      18804   \n",
      "2009-01-01 00:15:00   1   1     556715      23282         88      18091   \n",
      "2009-01-01 00:20:00   1   1     556715      22106         84      17261   \n",
      "2009-01-01 00:25:00   1   1     556715      21479         57      16750   \n",
      "2009-01-01 00:30:00   1   1     556715      21072         44      16462   \n",
      "2009-01-01 00:35:00   1   1     556715      20492         42      15843   \n",
      "2009-01-01 00:40:00   1   1     556715      20021         29      15228   \n",
      "2009-01-01 00:45:00   1   1     556715      19392         33      14741   \n",
      "2009-01-01 00:50:00   1   1     556715      18867         40      14288   \n",
      "2009-01-01 00:55:00   1   1     556715      18561         38      13903   \n",
      "2009-01-01 01:00:00   1   1     556715      18155         32      13747   \n",
      "2009-01-01 01:05:00   1   1     556715      17525         38      13394   \n",
      "2009-01-01 01:10:00   1   1     556715      17233         40      13081   \n",
      "2009-01-01 01:15:00   1   1     556715      16856         37      12836   \n",
      "2009-01-01 01:20:00   1   1     556715      16262         31      12318   \n",
      "2009-01-01 01:25:00   1   1     556715      16078         51      12074   \n",
      "2009-01-01 01:30:00   1   1     556715      15787         54      11861   \n",
      "2009-01-01 01:35:00   1   1     556715      15355         44      11555   \n",
      "2009-01-01 01:40:00   1   1     556715      15103         34      11445   \n",
      "2009-01-01 01:45:00   1   1     556715      15154         34      11639   \n",
      "2009-01-01 01:50:00   1   1     556715      14834         29      11326   \n",
      "2009-01-01 01:55:00   1   1     556715      15187         29      11486   \n",
      "2009-01-01 02:00:00   1   1     556715      15363         37      11641   \n",
      "2009-01-01 02:05:00   1   1     556715      15632         38      11570   \n",
      "2009-01-01 02:10:00   1   1     556715      15571         42      11404   \n",
      "2009-01-01 02:15:00   1   1     556715      15629         35      11581   \n",
      "2009-01-01 02:20:00   1   1     556715      15560         49      11604   \n",
      "2009-01-01 02:25:00   1   1     556715      15772         34      11702   \n",
      "...                  ..  ..        ...        ...        ...        ...   \n",
      "2009-12-31 21:25:00   1   1     556715     112221        398      89838   \n",
      "2009-12-31 21:30:00   1   1     556715     112411        473      89958   \n",
      "2009-12-31 21:35:00   1   1     556715     113166        515      89827   \n",
      "2009-12-31 21:40:00   1   1     556715     112903        555      90349   \n",
      "2009-12-31 21:45:00   1   1     556715     112049        621      89188   \n",
      "2009-12-31 21:50:00   1   1     556715     112236        729      89313   \n",
      "2009-12-31 21:55:00   1   1     556715     111633        732      88806   \n",
      "2009-12-31 22:00:00   1   1     556715     110940        883      87866   \n",
      "2009-12-31 22:05:00   1   1     556715     110016        919      87149   \n",
      "2009-12-31 22:10:00   1   1     556715     108194        868      85525   \n",
      "2009-12-31 22:15:00   1   1     556715     107221        925      85064   \n",
      "2009-12-31 22:20:00   1   1     556715     105341        980      83548   \n",
      "2009-12-31 22:25:00   1   1     556715     103809       1026      82720   \n",
      "2009-12-31 22:30:00   1   1     556715     102650        940      81391   \n",
      "2009-12-31 22:35:00   1   1     556715     100832        981      79589   \n",
      "2009-12-31 22:40:00   1   1     556715      97109       1022      76442   \n",
      "2009-12-31 22:45:00   1   1     556715      96395       1004      76441   \n",
      "2009-12-31 22:50:00   1   1     556715      94475        991      75531   \n",
      "2009-12-31 22:55:00   1   1     556715      91142        934      72792   \n",
      "2009-12-31 23:00:00   1   1     556715      90990        909      72237   \n",
      "2009-12-31 23:05:00   1   1     556715      90300        883      71224   \n",
      "2009-12-31 23:10:00   1   1     556715      89011        837      69205   \n",
      "2009-12-31 23:15:00   1   1     556715      86778        759      67154   \n",
      "2009-12-31 23:20:00   1   1     556715      85673        705      66204   \n",
      "2009-12-31 23:25:00   1   1     556715      84146        669      65102   \n",
      "2009-12-31 23:30:00   1   1     556715      84118        639      65206   \n",
      "2009-12-31 23:35:00   1   1     556715      83843        619      64979   \n",
      "2009-12-31 23:40:00   1   1     556715      83360        645      64337   \n",
      "2009-12-31 23:45:00   1   1     556715      84240        611      65302   \n",
      "2009-12-31 23:50:00   1   1     556715      83419        622      64838   \n",
      "\n",
      "                     rgrids_0-1  rgrids_1-5  rgrids_5-10  rgrids_>10     rsum  \n",
      "2009-01-01 00:00:00       19790           4            0           0   627.56  \n",
      "2009-01-01 00:05:00       19468           1            0           0   594.90  \n",
      "2009-01-01 00:10:00       18796           8            0           0   559.23  \n",
      "2009-01-01 00:15:00       18087           4            0           0   517.23  \n",
      "2009-01-01 00:20:00       17257           4            0           0   480.83  \n",
      "2009-01-01 00:25:00       16743           6            1           0   450.70  \n",
      "2009-01-01 00:30:00       16458           4            0           0   420.63  \n",
      "2009-01-01 00:35:00       15835           8            0           0   391.16  \n",
      "2009-01-01 00:40:00       15220           8            0           0   361.00  \n",
      "2009-01-01 00:45:00       14732           9            0           0   381.75  \n",
      "2009-01-01 00:50:00       14281           7            0           0   378.12  \n",
      "2009-01-01 00:55:00       13897           5            1           0   370.16  \n",
      "2009-01-01 01:00:00       13739           7            1           0   372.37  \n",
      "2009-01-01 01:05:00       13387           7            0           0   367.46  \n",
      "2009-01-01 01:10:00       13074           7            0           0   367.72  \n",
      "2009-01-01 01:15:00       12830           6            0           0   366.90  \n",
      "2009-01-01 01:20:00       12313           5            0           0   340.17  \n",
      "2009-01-01 01:25:00       12069           4            1           0   330.89  \n",
      "2009-01-01 01:30:00       11854           7            0           0   343.20  \n",
      "2009-01-01 01:35:00       11547           8            0           0   311.84  \n",
      "2009-01-01 01:40:00       11441           4            0           0   306.38  \n",
      "2009-01-01 01:45:00       11634           5            0           0   303.94  \n",
      "2009-01-01 01:50:00       11320           6            0           0   287.35  \n",
      "2009-01-01 01:55:00       11478           8            0           0   297.11  \n",
      "2009-01-01 02:00:00       11636           5            0           0   297.72  \n",
      "2009-01-01 02:05:00       11563           7            0           0   291.13  \n",
      "2009-01-01 02:10:00       11395           9            0           0   289.34  \n",
      "2009-01-01 02:15:00       11576           4            1           0   309.29  \n",
      "2009-01-01 02:20:00       11593          11            0           0   319.92  \n",
      "2009-01-01 02:25:00       11693           9            0           0   315.94  \n",
      "...                         ...         ...          ...         ...      ...  \n",
      "2009-12-31 21:25:00       89834           4            0           0  3228.06  \n",
      "2009-12-31 21:30:00       89952           5            1           0  3335.34  \n",
      "2009-12-31 21:35:00       89821           6            0           0  3274.24  \n",
      "2009-12-31 21:40:00       90342           7            0           0  3355.15  \n",
      "2009-12-31 21:45:00       89177          11            0           0  3358.78  \n",
      "2009-12-31 21:50:00       89304           9            0           0  3401.20  \n",
      "2009-12-31 21:55:00       88796          10            0           0  3417.84  \n",
      "2009-12-31 22:00:00       87844          22            0           0  3480.55  \n",
      "2009-12-31 22:05:00       87121          27            1           0  3471.70  \n",
      "2009-12-31 22:10:00       85493          32            0           0  3375.36  \n",
      "2009-12-31 22:15:00       85017          47            0           0  3427.77  \n",
      "2009-12-31 22:20:00       83502          46            0           0  3317.11  \n",
      "2009-12-31 22:25:00       82682          38            0           0  3293.08  \n",
      "2009-12-31 22:30:00       81351          40            0           0  3152.76  \n",
      "2009-12-31 22:35:00       79558          31            0           0  3092.76  \n",
      "2009-12-31 22:40:00       76408          34            0           0  3010.37  \n",
      "2009-12-31 22:45:00       76386          55            0           0  2993.10  \n",
      "2009-12-31 22:50:00       75485          45            1           0  2906.42  \n",
      "2009-12-31 22:55:00       72757          35            0           0  2749.94  \n",
      "2009-12-31 23:00:00       72199          38            0           0  2698.10  \n",
      "2009-12-31 23:05:00       71191          33            0           0  2609.36  \n",
      "2009-12-31 23:10:00       69166          39            0           0  2544.92  \n",
      "2009-12-31 23:15:00       67114          40            0           0  2426.12  \n",
      "2009-12-31 23:20:00       66159          45            0           0  2333.43  \n",
      "2009-12-31 23:25:00       65056          46            0           0  2224.57  \n",
      "2009-12-31 23:30:00       65166          40            0           0  2207.13  \n",
      "2009-12-31 23:35:00       64954          24            1           0  2163.94  \n",
      "2009-12-31 23:40:00       64325          12            0           0  2123.13  \n",
      "2009-12-31 23:45:00       65291          11            0           0  2178.28  \n",
      "2009-12-31 23:50:00       64829           9            0           0  2152.11  \n",
      "\n",
      "[105119 rows x 11 columns]\n"
     ]
    }
   ],
   "source": [
    "# view Columns and time index\n",
    "print (dfrr.columns)\n",
    "print (dfrr.index)\n",
    "\n",
    "# Data as tabular\n",
    "print (dfrr)\n",
    "\n"
   ]
  },
  {
   "cell_type": "code",
   "execution_count": 4,
   "metadata": {
    "collapsed": false
   },
   "outputs": [
    {
     "name": "stdout",
     "output_type": "stream",
     "text": [
      "                  RX             RY      zgrids_me      zgrids_st  \\\n",
      "count  105407.000000  105407.000000  105407.000000  105407.000000   \n",
      "mean        0.995380       0.995029  550536.107052   47576.996632   \n",
      "std         0.067815       0.070332   19489.536394   53839.107101   \n",
      "min         0.000000       0.000000   55758.000000       0.000000   \n",
      "25%         1.000000       1.000000  554786.000000    7000.500000   \n",
      "50%         1.000000       1.000000  556840.000000   28889.000000   \n",
      "75%         1.000000       1.000000  556840.000000   69918.000000   \n",
      "max         1.000000       1.000000  810000.000000  451137.000000   \n",
      "\n",
      "           zgrids_co      rgrids_>0     rgrids_0-1     rgrids_1-5  \\\n",
      "count  105407.000000  105407.000000  105407.000000  105407.000000   \n",
      "mean     3505.374909   44105.580104   43186.505754     178.719943   \n",
      "std     34053.554523   65776.243063   58005.381393     869.855749   \n",
      "min         0.000000     127.000000     120.000000       0.000000   \n",
      "25%        81.000000    4515.000000    4493.000000       8.000000   \n",
      "50%       442.000000   24026.000000   23839.000000      16.000000   \n",
      "75%      2272.000000   62426.000000   62097.000000      81.000000   \n",
      "max    810000.000000  810000.000000  810000.000000   49841.000000   \n",
      "\n",
      "         rgrids_5-10     rgrids_>10           rsum  \n",
      "count  105407.000000  105407.000000  105407.000000  \n",
      "mean      739.163205       1.193545    3618.278600  \n",
      "std     13918.309664      26.760042    6034.853271  \n",
      "min         0.000000       0.000000       7.490000  \n",
      "25%         0.000000       0.000000     228.075000  \n",
      "50%         0.000000       0.000000    1456.620000  \n",
      "75%         2.000000       0.000000    4667.185000  \n",
      "max    754243.000000    2116.000000  168793.695924  \n"
     ]
    }
   ],
   "source": [
    "# Data Statistics\n",
    "print (dfrr.describe())"
   ]
  },
  {
   "cell_type": "markdown",
   "metadata": {},
   "source": [
    "# Determination of time periods\n",
    "---------------------------------------------"
   ]
  },
  {
   "cell_type": "code",
   "execution_count": null,
   "metadata": {
    "collapsed": true
   },
   "outputs": [],
   "source": [
    "# select start end end time\n",
    "#tstart, tend= '20120515140000','20120515150000'\n",
    "\n",
    "#dfrr = dfrr[tstart:tend]"
   ]
  },
  {
   "cell_type": "markdown",
   "metadata": {},
   "source": [
    "# Calculation of precentages\n",
    "--------------------------------------------"
   ]
  },
  {
   "cell_type": "code",
   "execution_count": null,
   "metadata": {
    "collapsed": false
   },
   "outputs": [],
   "source": [
    "# Availabilty of RX and RY Products\n",
    "rx = dfrr[u'RX'].replace(0,np.nan)\n",
    "ry = dfrr[u'RY'].replace(0,np.nan)\n",
    "\n",
    "# Propotion of grid points with real measurements \n",
    "anteil_gemessen = (rx*ry)*(dfrr[u'zgrids_me']/(900*900))*100\n",
    "\n",
    "# Propotion of grid points with stratiform measurements \n",
    "anteil_stratiform = (rx*ry)*(dfrr[u'zgrids_st']/dfrr[u'zgrids_me'])*100\n",
    "\n",
    "# Propotion of grid points with convective measurements \n",
    "anteil_convective = (rx*ry)*(dfrr[u'zgrids_co']/dfrr[u'zgrids_me'])*100\n",
    "\n",
    "# Propotion of grid points with RR > 0 mm/h\n",
    "anteil_RR0 = (rx*ry)*(dfrr[u'rgrids_>0']/dfrr[u'zgrids_me'])*100\n",
    "\n",
    "# Propotion of grid points with 0 mm/h < RR < 1 mm/h\n",
    "anteil_RR01 = (rx*ry)*(dfrr[u'rgrids_0-1']/dfrr[u'zgrids_me'])*100\n",
    "\n",
    "# Propotion of grid points with 1 mm/h < RR < 5 mm/h\n",
    "anteil_RR15 = (rx*ry)*(dfrr[u'rgrids_1-5']/dfrr[u'zgrids_me'])*100\n",
    "\n",
    "# Propotion of grid points with 5 mm/h < RR < 10 mm/h\n",
    "anteil_RR510 = (rx*ry)*(dfrr[u'rgrids_5-10']/dfrr[u'zgrids_me'])*100\n",
    "\n",
    "# Propotion of grid points with RR > 10 mm/h\n",
    "anteil_RR10 = (rx*ry)*(dfrr[u'rgrids_>10']/dfrr[u'zgrids_me'])*100\n",
    "rsum = (rx*ry)*dfrr[u'rsum']"
   ]
  },
  {
   "cell_type": "markdown",
   "metadata": {},
   "source": [
    "# Plot\n",
    "--------"
   ]
  },
  {
   "cell_type": "code",
   "execution_count": null,
   "metadata": {
    "collapsed": false
   },
   "outputs": [],
   "source": [
    "plt.figure(figsize=(20,14))\n",
    "plt.subplot(3,1,1)\n",
    "anteil_gemessen.plot()\n",
    "#rx.plot(color='grey', lw=3)\n",
    "#ry.plot(color='orange', lw=3, linestyle='-.')\n",
    "\n",
    "plt.grid()\n",
    "plt.ylabel(r'%')\n",
    "plt.title('Anteil des wirklich gemessenen RADOLAN Grid')\n",
    "\n",
    "plt.subplot(3,1,2)\n",
    "anteil_stratiform.plot.area(stacked=False,label='stratiform')\n",
    "anteil_convective.plot.area(stacked=False,label='convective')\n",
    "plt.legend()\n",
    "plt.grid()\n",
    "plt.ylabel(r'%')\n",
    "plt.title('Anteil Stratiform- Convectiv')\n",
    "\n",
    "\n",
    "plt.subplot(3,1,3)\n",
    "anteil_RR0.plot(label='RR > 0 in mm/h')\n",
    "anteil_RR01.plot(label=' 0 > RR > 1 in mm/h')\n",
    "anteil_RR15.plot(label='1 > RR > 5 in mm/h')\n",
    "anteil_RR510.plot(label='5 > RR > 10 in mm/h')\n",
    "anteil_RR10.plot(label='RR > 10 in mm/h')\n",
    "plt.title('Anteil verschiedener Regenraten')\n",
    "plt.ylabel(r'%')\n",
    "plt.ylim(-1,101)\n",
    "rx.plot(color='grey', lw=3)\n",
    "ry.plot(color='orange', lw=3, linestyle='-.')\n",
    "plt.legend()\n",
    "plt.grid()\n",
    "\n",
    "\n",
    "plt.tight_layout()\n",
    "plt.show()"
   ]
  },
  {
   "cell_type": "code",
   "execution_count": 28,
   "metadata": {
    "collapsed": false
   },
   "outputs": [
    {
     "data": {
      "text/plain": [
       "2008-01-06    2764.651163\n",
       "2008-01-13    2243.944821\n",
       "2008-01-20    4979.533006\n",
       "2008-01-27    4469.942128\n",
       "2008-02-03    1710.458626\n",
       "2008-02-10    2957.396314\n",
       "2008-02-17      44.750734\n",
       "2008-02-24    1059.477239\n",
       "2008-03-02    6967.127634\n",
       "2008-03-09    1888.607391\n",
       "2008-03-16    6542.956498\n",
       "2008-03-23    3651.965308\n",
       "2008-03-30    2726.626647\n",
       "2008-04-06    3731.842054\n",
       "2008-04-13    4601.927046\n",
       "2008-04-20    3067.042455\n",
       "2008-04-27    2710.314896\n",
       "2008-05-04    5019.611705\n",
       "2008-05-11     531.013061\n",
       "2008-05-18    4120.241260\n",
       "2008-05-25    1110.299921\n",
       "2008-06-01    3447.212222\n",
       "2008-06-08    5652.802832\n",
       "2008-06-15    4891.450516\n",
       "2008-06-22    3241.556677\n",
       "2008-06-29    2962.648046\n",
       "2008-07-06    5666.121181\n",
       "2008-07-13    8822.953666\n",
       "2008-07-20    5067.808547\n",
       "2008-07-27    3512.415724\n",
       "2008-08-03    4884.081161\n",
       "2008-08-10    6305.475198\n",
       "2008-08-17    7431.282128\n",
       "2008-08-24    8527.510526\n",
       "2008-08-31     519.236751\n",
       "2008-09-07    8229.651042\n",
       "2008-09-14    2577.498730\n",
       "2008-09-21     723.882564\n",
       "2008-09-28    1459.583223\n",
       "2008-10-05    7510.014216\n",
       "2008-10-12     813.802986\n",
       "2008-10-19    3631.720774\n",
       "2008-10-26    2963.742649\n",
       "2008-11-02    6058.003596\n",
       "2008-11-09    1092.856845\n",
       "2008-11-16    3338.179777\n",
       "2008-11-23    5192.943681\n",
       "2008-11-30    1238.695045\n",
       "2008-12-07    3714.140050\n",
       "2008-12-14     751.283259\n",
       "2008-12-21    1929.963112\n",
       "2008-12-28     331.055504\n",
       "2009-01-04     439.488749\n",
       "Freq: W-SUN, Name: rsum, dtype: float64"
      ]
     },
     "execution_count": 28,
     "metadata": {},
     "output_type": "execute_result"
    }
   ],
   "source": [
    "dfrr[u'rsum'].resample('W',how='mean')"
   ]
  },
  {
   "cell_type": "code",
   "execution_count": 47,
   "metadata": {
    "collapsed": false
   },
   "outputs": [
    {
     "data": {
      "text/plain": [
       "2008-01-31    3308.756704\n",
       "2008-02-29    2137.393021\n",
       "2008-03-31    4104.524037\n",
       "2008-04-30    4201.824400\n",
       "2008-05-31    2289.215402\n",
       "2008-06-30    3977.539128\n",
       "2008-07-31    5655.825534\n",
       "2008-08-31    5760.905450\n",
       "2008-09-30    3530.383389\n",
       "2008-10-31    4090.800110\n",
       "2008-11-30    2702.924028\n",
       "2008-12-31    1561.530829\n",
       "Freq: M, Name: rsum, dtype: float64"
      ]
     },
     "execution_count": 47,
     "metadata": {},
     "output_type": "execute_result"
    }
   ],
   "source": [
    "dfrr[u'rsum'].resample('M', how='mean')"
   ]
  },
  {
   "cell_type": "code",
   "execution_count": 66,
   "metadata": {
    "collapsed": false
   },
   "outputs": [
    {
     "data": {
      "text/plain": [
       "(0, 23)"
      ]
     },
     "execution_count": 66,
     "metadata": {},
     "output_type": "execute_result"
    },
    {
     "data": {
      "image/png": "[encoded data removed]",
      "text/plain": [
       "<matplotlib.figure.Figure at 0x7f9564216810>"
      ]
     },
     "metadata": {},
     "output_type": "display_data"
    }
   ],
   "source": [
    "plt.plot(dfrr[u'rsum'].groupby(dfrr[u'rsum'].index.hour).mean())\n",
    "plt.plot(dfrr[u'rsum'].groupby(dfrr[u'rsum'].index.hour).std())\n",
    "\n",
    "plt.grid()\n",
    "plt.xlabel('hour')\n",
    "plt.ylabel('rainsum')\n",
    "plt.xlim(0,23)"
   ]
  },
  {
   "cell_type": "code",
   "execution_count": 65,
   "metadata": {
    "collapsed": false
   },
   "outputs": [
    {
     "data": {
      "text/plain": [
       "0     3642.113879\n",
       "1     3458.517263\n",
       "2     3408.797352\n",
       "3     3438.860220\n",
       "4     3441.440039\n",
       "5     3500.074331\n",
       "6     3504.545076\n",
       "7     3377.026573\n",
       "8     3209.763802\n",
       "9     3293.623637\n",
       "10    3554.643171\n",
       "11    3911.486445\n",
       "12    4189.682642\n",
       "13    4494.806710\n",
       "14    4719.705119\n",
       "15    4856.929990\n",
       "16    4859.581354\n",
       "17    4828.945006\n",
       "18    4619.525425\n",
       "19    4416.219018\n",
       "20    4235.844759\n",
       "21    4046.823048\n",
       "22    3900.486221\n",
       "23    3772.318664\n",
       "Name: rsum, dtype: float64"
      ]
     },
     "execution_count": 65,
     "metadata": {},
     "output_type": "execute_result"
    }
   ],
   "source": [
    "dfrr[u'rsum'].groupby(dfrr[u'rsum'].index.hour).mean()"
   ]
  },
  {
   "cell_type": "code",
   "execution_count": null,
   "metadata": {
    "collapsed": true
   },
   "outputs": [],
   "source": []
  }
 ],
 "metadata": {
  "kernelspec": {
   "display_name": "Python 2",
   "language": "python",
   "name": "python2"
  },
  "language_info": {
   "codemirror_mode": {
    "name": "ipython",
    "version": 2
   },
   "file_extension": ".py",
   "mimetype": "text/x-python",
   "name": "python",
   "nbconvert_exporter": "python",
   "pygments_lexer": "ipython2",
   "version": "2.7.11"
  }
 },
 "nbformat": 4,
 "nbformat_minor": 0
}
