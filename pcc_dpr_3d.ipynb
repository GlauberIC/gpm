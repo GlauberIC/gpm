{
 "cells": [
  {
   "cell_type": "code",
   "execution_count": 1,
   "metadata": {
    "collapsed": false
   },
   "outputs": [
    {
     "data": {
      "text/plain": [
       "'\\nAnalyse of GPM DPR BB\\n\\n'"
      ]
     },
     "execution_count": 1,
     "metadata": {},
     "output_type": "execute_result"
    }
   ],
   "source": [
    "\"\"\"\n",
    "\n",
    "\n",
    "Plott DPR VCUT etc...\n",
    "\n",
    "\n",
    "\"\"\"\n",
    "\n",
    "\"\"\"\n",
    "Analyse of GPM DPR BB\n",
    "\n",
    "\"\"\"\n",
    "\n",
    "\n"
   ]
  },
  {
   "cell_type": "code",
   "execution_count": 2,
   "metadata": {
    "collapsed": false
   },
   "outputs": [
    {
     "name": "stdout",
     "output_type": "stream",
     "text": [
      "  \n"
     ]
    }
   ],
   "source": [
    "import matplotlib.pyplot as plt\n",
    "import numpy as np\n",
    "import pandas as pd\n",
    "import wradlib\n",
    "import wradlib as wrl\n",
    "from osgeo import osr\n",
    "import h5py\n",
    "import glob\n",
    "from pcc import get_my_cmap\n",
    "from pcc import get_miub_cmap\n",
    "from pcc import boxpol_pos\n",
    "bonn_pos = boxpol_pos()\n",
    "bx, by = bonn_pos['gkx_ppi'], bonn_pos['gky_ppi']\n",
    "bonnlat, bonnlon = bonn_pos['lat_ppi'], bonn_pos['lon_ppi']\n",
    "blat, blon = bonn_pos['lat_ppi'], bonn_pos['lon_ppi']\n",
    "\n",
    "\n",
    "from pcc import plot_borders\n",
    "from pcc import plot_radar\n",
    "\n",
    "#% matplotlib inline\n",
    "\n",
    "print (\"  \")"
   ]
  },
  {
   "cell_type": "code",
   "execution_count": 3,
   "metadata": {
    "collapsed": true
   },
   "outputs": [],
   "source": [
    "zt = '20141007'; pfadnr = 0\n",
    "scan  = 'NS'#NS' #or MS\n",
    "\n",
    "def read_dpr(zt, scan, pfadnr):\n",
    "\n",
    "    pfad = ('/automount/ags/velibor/gpmdata/dpr/2A.GPM.DPR.V6-20160118.'+zt+'*.HDF5')\n",
    "    dpr_pfad = sorted(glob.glob(pfad))[pfadnr]\n",
    "\n",
    "    print dpr_pfad\n",
    "\n",
    "    # Einlesen\n",
    "    dpr = h5py.File(dpr_pfad, 'r')\n",
    "    # Position\n",
    "    dpr_lat=np.array(dpr[scan]['Latitude'])\n",
    "    dpr_lon=np.array(dpr[scan]['Longitude'])\n",
    "\n",
    "    # Refelctivity Volumen\n",
    "    dpr_pp=np.array(dpr[scan]['SLV']['zFactorCorrected'])\n",
    "    dpr_pp[dpr_pp<0]= np.nan\n",
    "    print dpr_pp.shape\n",
    "\n",
    "    #Projection\n",
    "    proj_stereo = wrl.georef.create_osr(\"dwd-radolan\")\n",
    "    proj_wgs = osr.SpatialReference()\n",
    "    proj_wgs.ImportFromEPSG(4326)\n",
    "\n",
    "    from pcc import boxpol_pos\n",
    "    bonn_pos = boxpol_pos()\n",
    "    bx, by = bonn_pos['gkx_ppi'], bonn_pos['gky_ppi']\n",
    "    bonnlat, bonnlon = bonn_pos['lat_ppi'], bonn_pos['lon_ppi']\n",
    "    blat, blon = bonn_pos['lat_ppi'], bonn_pos['lon_ppi']\n",
    "\n",
    "    dpr_lon, dpr_lat = wradlib.georef.reproject(dpr_lon, dpr_lat, projection_target=proj_stereo , projection_source=proj_wgs)\n",
    "    bonnlon, bonnlat = wradlib.georef.reproject(bonnlon, bonnlat, projection_target=proj_stereo , projection_source=proj_wgs)\n",
    "\n",
    "    # BoXPol region\n",
    "    lon0, lat0, radius = bonnlon, bonnlat, 100\n",
    "    r = np.sqrt((dpr_lat - lat0)**2 + (dpr_lon - lon0)**2)\n",
    "    position = r < radius\n",
    "\n",
    "    \n",
    "    dpr_pp[np.where(r > radius)]=np.nan\n",
    "    \n",
    "    lat = dpr_lat[position]\n",
    "    lon = dpr_lon[position]\n",
    "    dpr_pp = dpr_pp[position]\n",
    "\n",
    "\n",
    "\n",
    "    # Height of dpr\n",
    "    h = np.arange(150,4800,150)\n",
    "    if scan=='HS':\n",
    "        hdpr = 1000 * (np.arange(88,0,-1)*0.250)\n",
    "\n",
    "    else:\n",
    "        hdpr = 1000 * (np.arange(176,0,-1)*0.125)\n",
    "\n",
    "    \n",
    "    return lat, lon, hdpr, dpr_pp"
   ]
  },
  {
   "cell_type": "code",
   "execution_count": 4,
   "metadata": {
    "collapsed": false
   },
   "outputs": [
    {
     "name": "stdout",
     "output_type": "stream",
     "text": [
      "/automount/ags/velibor/gpmdata/dpr/2A.GPM.DPR.V6-20160118.20141007-S015721-E032951.003445.V04A.HDF5\n",
      "(7930, 49, 176)\n"
     ]
    }
   ],
   "source": [
    "lat, lon, alt,  dpr_z = read_dpr(zt, scan, pfadnr)"
   ]
  },
  {
   "cell_type": "code",
   "execution_count": 5,
   "metadata": {
    "collapsed": false
   },
   "outputs": [
    {
     "name": "stdout",
     "output_type": "stream",
     "text": [
      "((1129,), (1129,), (1129, 176), (176,))\n"
     ]
    }
   ],
   "source": [
    "print (lat.shape, lon.shape, dpr_z.shape, alt.shape)"
   ]
  },
  {
   "cell_type": "code",
   "execution_count": 39,
   "metadata": {
    "collapsed": false
   },
   "outputs": [],
   "source": [
    "plt.scatter(lat,lon, c=np.ma.masked_invalid(dpr_z[:,160]))\n",
    "plt.colorbar()\n",
    "plt.show()"
   ]
  },
  {
   "cell_type": "code",
   "execution_count": 43,
   "metadata": {
    "collapsed": false
   },
   "outputs": [],
   "source": [
    "plt.imshow(np.ma.masked_invalid(dpr_z).transpose())\n",
    "plt.colorbar()\n",
    "plt.show()\n",
    "#plt.subplot(2,2,1)\n",
    "#plt.pcolormesh(lon,lat,np.ma.masked_invalid(dpr_z[:,160]))\n",
    "#plt.colorbar()\n",
    "#plt.xlim(-350,-100)\n",
    "#plt.ylim(-4350, -4100)#\n",
    "\n",
    "#plt.subplot(2,2,2)\n",
    "#plt.pcolormesh(lon[:,20],alt,np.ma.masked_invalid(dpr_z[:,20,:].transpose()))\n",
    "#plt.colorbar()\n",
    "#plt.ylim(0,22000)\n",
    "#plt.xlim(-350,-100)\n",
    "\n",
    "#plt.show()\n"
   ]
  },
  {
   "cell_type": "code",
   "execution_count": 32,
   "metadata": {
    "collapsed": false
   },
   "outputs": [],
   "source": [
    "\n",
    "xs, ys, zs, co = np.array([]),np.array([]),np.array([]),np.array([])\n",
    "\n",
    "\n",
    "\n",
    "for z in range(0,176,10):\n",
    "    for x in range(1129):\n",
    "            xs = np.append(xs,lon[x])\n",
    "            ys = np.append(ys,lat[x])\n",
    "            zs = np.append(zs,alt[z])\n",
    "            co = np.append(co,dpr_z[x,z])\n",
    "\n",
    "            \n"
   ]
  },
  {
   "cell_type": "code",
   "execution_count": 22,
   "metadata": {
    "collapsed": false
   },
   "outputs": [],
   "source": [
    "plt.scatter(xs,ys,c=co)\n",
    "plt.show()"
   ]
  },
  {
   "cell_type": "code",
   "execution_count": 33,
   "metadata": {
    "collapsed": false
   },
   "outputs": [],
   "source": [
    "from mpl_toolkits.mplot3d import Axes3D\n",
    "\n",
    "fig = plt.figure()\n",
    "ax = fig.add_subplot(111, projection='3d')\n",
    "pl = ax.scatter(xs, ys, zs, c=co)\n",
    "fig.colorbar(pl, shrink=0.5, aspect=5)\n",
    "plt.show()\n"
   ]
  },
  {
   "cell_type": "code",
   "execution_count": 20,
   "metadata": {
    "collapsed": false
   },
   "outputs": [
    {
     "data": {
      "text/plain": [
       "44.0"
      ]
     },
     "execution_count": 20,
     "metadata": {},
     "output_type": "execute_result"
    }
   ],
   "source": [
    "176./2/2\n"
   ]
  },
  {
   "cell_type": "code",
   "execution_count": null,
   "metadata": {
    "collapsed": true
   },
   "outputs": [],
   "source": [
    "\n"
   ]
  },
  {
   "cell_type": "code",
   "execution_count": null,
   "metadata": {
    "collapsed": false
   },
   "outputs": [],
   "source": [
    "\n",
    "\n",
    "fig = plt.figure()\n",
    "ax = fig.add_subplot(111, projection='3d')\n",
    "\n",
    "# For each set of style and range settings, plot n random points in the box\n",
    "# defined by x in [23, 32], y in [0, 100], z in [zlow, zhigh].\n",
    "for z in range(156,160,2):\n",
    "    for x in range(1000):\n",
    "        for y in range(10):\n",
    "            xs = lon[x,y]#lon.reshape(lon.shape[0]*lon.shape[1])\n",
    "            ys = lat[x,y]#lat.reshape(lat.shape[0]*lat.shape[1])\n",
    "            zs = alt[z]\n",
    "            co = dpr_z[x,y,z]\n",
    "            #print co\n",
    "            ax.scatter(xs, ys, zs, c=co)\n",
    "\n",
    "ax.set_xlabel('X Label')\n",
    "ax.set_ylabel('Y Label')\n",
    "ax.set_zlabel('Z Label')\n",
    "\n",
    "plt.show()\n"
   ]
  },
  {
   "cell_type": "code",
   "execution_count": null,
   "metadata": {
    "collapsed": false
   },
   "outputs": [],
   "source": [
    "xs = lon.reshape(lon.shape[0]*lon.shape[1])\n",
    "ys = lat.reshape(lat.shape[0]*lat.shape[1])\n",
    "zs = lat.reshape(lat.shape[0]*lat.shape[1])\n",
    "ds = dpr_z.reshape(dpr_z.shape[0]*dpr_z.shape[1]*dpr_z.shape[2])"
   ]
  },
  {
   "cell_type": "code",
   "execution_count": null,
   "metadata": {
    "collapsed": false
   },
   "outputs": [],
   "source": [
    "xs.shape, ys.shape"
   ]
  }
 ],
 "metadata": {
  "kernelspec": {
   "display_name": "Python 2",
   "language": "python",
   "name": "python2"
  },
  "language_info": {
   "codemirror_mode": {
    "name": "ipython",
    "version": 2
   },
   "file_extension": ".py",
   "mimetype": "text/x-python",
   "name": "python",
   "nbconvert_exporter": "python",
   "pygments_lexer": "ipython2",
   "version": "2.7.11"
  }
 },
 "nbformat": 4,
 "nbformat_minor": 0
}
