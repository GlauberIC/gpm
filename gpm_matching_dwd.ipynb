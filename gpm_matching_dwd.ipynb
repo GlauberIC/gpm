{
 "cells": [
  {
   "cell_type": "code",
   "execution_count": 1,
   "metadata": {
    "collapsed": false
   },
   "outputs": [
    {
     "data": {
      "text/plain": [
       "'\\n\\nGPM Matching from Kai M.\\n\\n'"
      ]
     },
     "execution_count": 1,
     "metadata": {},
     "output_type": "execute_result"
    }
   ],
   "source": [
    "\"\"\"\n",
    "\n",
    "GPM Matching from Kai M.\n",
    "\n",
    "\"\"\""
   ]
  },
  {
   "cell_type": "code",
   "execution_count": 2,
   "metadata": {
    "collapsed": false
   },
   "outputs": [
    {
     "name": "stderr",
     "output_type": "stream",
     "text": [
      "/home/velibor/anaconda2/envs/wradlib/lib/python2.7/site-packages/ipykernel/pylab/config.py:66: DeprecationWarning: metadata {'config': True} was set from the constructor.  Metadata should be set using the .tag() method, e.g., Int().tag(key1='value1', key2='value2')\n",
      "  inline backend.\"\"\"\n",
      "/home/velibor/anaconda2/envs/wradlib/lib/python2.7/site-packages/ipykernel/pylab/config.py:71: DeprecationWarning: metadata {'config': True} was set from the constructor.  Metadata should be set using the .tag() method, e.g., Int().tag(key1='value1', key2='value2')\n",
      "  'retina', 'jpeg', 'svg', 'pdf'.\"\"\")\n",
      "/home/velibor/anaconda2/envs/wradlib/lib/python2.7/site-packages/ipykernel/pylab/config.py:85: DeprecationWarning: metadata {'config': True} was set from the constructor.  Metadata should be set using the .tag() method, e.g., Int().tag(key1='value1', key2='value2')\n",
      "  use `figure_formats` instead)\"\"\")\n",
      "/home/velibor/anaconda2/envs/wradlib/lib/python2.7/site-packages/ipykernel/pylab/config.py:95: DeprecationWarning: metadata {'config': True} was set from the constructor.  Metadata should be set using the .tag() method, e.g., Int().tag(key1='value1', key2='value2')\n",
      "  \"\"\"\n",
      "/home/velibor/anaconda2/envs/wradlib/lib/python2.7/site-packages/ipykernel/pylab/config.py:114: DeprecationWarning: metadata {'config': True} was set from the constructor.  Metadata should be set using the .tag() method, e.g., Int().tag(key1='value1', key2='value2')\n",
      "  \"\"\")\n",
      "/home/velibor/anaconda2/envs/wradlib/lib/python2.7/site-packages/ipykernel/pylab/config.py:44: DeprecationWarning: InlineBackend._config_changed is deprecated: use @observe and @unobserve instead.\n",
      "  def _config_changed(self, name, old, new):\n",
      "/home/velibor/anaconda2/envs/wradlib/lib/python2.7/site-packages/traitlets/traitlets.py:770: DeprecationWarning: A parent of InlineBackend._config_changed has adopted the new @observe(change) API\n",
      "  clsname, change_or_name), DeprecationWarning)\n"
     ]
    }
   ],
   "source": [
    "import warnings\n",
    "warnings.filterwarnings('ignore')\n",
    "import wradlib as wrl\n",
    "import matplotlib.pyplot as pl\n",
    "import matplotlib as mpl\n",
    "from matplotlib.collections import PatchCollection\n",
    "from matplotlib.colors import from_levels_and_colors\n",
    "from matplotlib.path import Path\n",
    "import matplotlib.patches as patches\n",
    "import matplotlib.cm as cm\n",
    "try:\n",
    "    get_ipython().magic(\"matplotlib inline\")\n",
    "except:\n",
    "    pl.ion()\n",
    "import numpy as np\n",
    "import datetime as dt\n",
    "from osgeo import osr"
   ]
  },
  {
   "cell_type": "code",
   "execution_count": 3,
   "metadata": {
    "collapsed": false
   },
   "outputs": [],
   "source": [
    "# define GPM data set\n",
    "#gpm_file_path = '/automount/ags/velibor/gpmdata/dprV7/2A.GPM.DPR.V7-20170308.20141007-S015721-E032951.003445.V05A.HDF5'\n",
    "gpm_file_path = '/automount/ags/velibor/gpmdata/dprV7/2A.GPM.DPR.V7-20170308.20141008-S084747-E102017.003465.V05A.HDF5'\n",
    "\n",
    "gpm_file = wrl.util.get_wradlib_data_file(gpm_file_path)\n",
    "\n",
    "# define matching ground radar file\n",
    "#gr_file_path = '/automount/radar-archiv/scans/2014/2014-10/2014-10-07/ppi_1p5deg/2014-10-07--02:37:44,00.mvol'\n",
    "#gr_file_path = '/automount/radar-archiv/scans/2014/2014-10/2014-10-08/n_ppi_010deg/2014-10-08--09:45:00,00.mvol'\n",
    "\n",
    "gr_file_path = '/automount/radar-archiv/scans/2014/2014-10/2014-10-08/n_ppi_082deg/2014-10-08--09:45:00,00.mvol'\n",
    "\n",
    "\n",
    "\n",
    "gr2gpm_file = wrl.util.get_wradlib_data_file(gr_file_path)\n",
    "#gr2gpm_file = wrl.util.get_wradlib_data_file('/user/velibor/SHKGPM/Australien-gpm/volmatch/GPM_example/IDR66_20141206_094829.vol.h5')\n",
    "\n",
    "# define TRMM data sets\n",
    "#trmm_2a23_file = wrl.util.get_wradlib_data_file('/user/velibor/SHKGPM/Australien-gpm/volmatch/TRMM_example/2A-RW-BRS.TRMM.PR.2A23.20100206-S111422-E111519.069662.7.HDF')\n",
    "#trmm_2a25_file = wrl.util.get_wradlib_data_file('/user/velibor/SHKGPM/Australien-gpm/volmatch/TRMM_example/2A-RW-BRS.TRMM.PR.2A25.20100206-S111422-E111519.069662.7.HDF')\n",
    "\n",
    "# define matching ground radar file\n",
    "#gr2trmm_file = wrl.util.get_wradlib_data_file('/user/velibor/SHKGPM/Australien-gpm/volmatch/TRMM_example/IDR66_20100206_111233.vol.h5')"
   ]
  },
  {
   "cell_type": "code",
   "execution_count": 4,
   "metadata": {
    "collapsed": false
   },
   "outputs": [
    {
     "name": "stdout",
     "output_type": "stream",
     "text": [
      "/automount/radar-archiv/scans/2014/2014-10/2014-10-08/n_ppi_082deg/2014-10-08--09:45:00,00.mvol\n",
      "/automount/ags/velibor/gpmdata/dprV7/2A.GPM.DPR.V7-20170308.20141008-S084747-E102017.003465.V05A.HDF5\n"
     ]
    }
   ],
   "source": [
    "print (gr2gpm_file)\n",
    "print (gpm_file)"
   ]
  },
  {
   "cell_type": "code",
   "execution_count": 5,
   "metadata": {
    "collapsed": false
   },
   "outputs": [],
   "source": [
    "# Space-born precipitation radar parameters\n",
    "sr_pars = {\"gpm\": {\n",
    "    \"zt\": 407000.,  # orbital height of GPM                 APPROXIMATION!\n",
    "    \"dr\": 125.,      # gate spacing of GPM\n",
    "    \"gr_file\": gr2gpm_file,\n",
    "}}"
   ]
  },
  {
   "cell_type": "code",
   "execution_count": 6,
   "metadata": {
    "collapsed": false
   },
   "outputs": [],
   "source": [
    "# Set parameters for this procedure\n",
    "bw_sr = 0.71                  # SR beam width\n",
    "platf = \"gpm\"                 # SR platform/product: one out of [\"gpm\", \"trmm\"]\n",
    "zt = sr_pars[platf][\"zt\"]     # SR orbit height (meters)\n",
    "dr_sr = sr_pars[platf][\"dr\"]  # SR gate length (meters)\n",
    "gr_file = sr_pars[platf][\"gr_file\"]\n",
    "\n",
    "\n",
    "ee = 2     ###########?"
   ]
  },
  {
   "cell_type": "code",
   "execution_count": 7,
   "metadata": {
    "collapsed": false
   },
   "outputs": [
    {
     "data": {
      "text/plain": [
       "'/automount/radar-archiv/scans/2014/2014-10/2014-10-08/n_ppi_082deg/2014-10-08--09:45:00,00.mvol'"
      ]
     },
     "execution_count": 7,
     "metadata": {},
     "output_type": "execute_result"
    }
   ],
   "source": [
    "sr_pars['gpm']['gr_file']#['zt', 'dr', 'gr_file']"
   ]
  },
  {
   "cell_type": "code",
   "execution_count": 8,
   "metadata": {
    "collapsed": true
   },
   "outputs": [],
   "source": [
    "def _get_tilts(dic):\n",
    "    i = 0\n",
    "    for k in dic.keys():\n",
    "        if 'dataset' in k:\n",
    "            i += 1\n",
    "    return i\n",
    "\n",
    "\n",
    "def read_gr(filename, loaddata=True):\n",
    "\n",
    "    gr_data = wrl.io.read_generic_netcdf(filename)\n",
    "    dat = gr_data['what']['date']\n",
    "    tim = gr_data['what']['time']\n",
    "    date = dt.datetime.strptime(dat + tim, \"%Y%d%m%H%M%S\")\n",
    "    source = gr_data['what']['source']\n",
    "\n",
    "    lon = gr_data['where']['lon']\n",
    "    lat = gr_data['where']['lat']\n",
    "    alt = gr_data['where']['height']\n",
    "\n",
    "    if gr_data['what']['object'] == 'PVOL':\n",
    "        ntilt = _get_tilts(gr_data)\n",
    "    else:\n",
    "        raise ValueError('GR file is no PPI/Volume File')\n",
    "\n",
    "    ngate = np.zeros(ntilt, dtype=np.int16)\n",
    "    nbeam = np.zeros(ntilt)\n",
    "    elang = np.zeros(ntilt)\n",
    "    r0 = np.zeros(ntilt)\n",
    "    dr = np.zeros(ntilt)\n",
    "    a0 = np.zeros(ntilt)\n",
    "\n",
    "    for i in range(0, ntilt):\n",
    "        dset = gr_data['dataset{0}'.format(i+1)]\n",
    "        a0[i] = dset['how']['astart']\n",
    "        elang[i] = dset['where']['elangle']\n",
    "        ngate[i] = dset['where']['nbins']\n",
    "        r0[i] = dset['where']['rstart']\n",
    "        dr[i] = dset['where']['rscale']\n",
    "        nbeam[i] = dset['where']['nrays']\n",
    "\n",
    "    if ((len(np.unique(r0)) != 1) |\n",
    "            (len(np.unique(dr)) != 1) |\n",
    "            (len(np.unique(a0)) != 1) |\n",
    "            (len(np.unique(nbeam)) != 1) |\n",
    "            (nbeam[0] != 360)):\n",
    "        raise ValueError('GroundRadar Data layout dos not match')\n",
    "\n",
    "    gr_dict = {}\n",
    "    gr_dict.update({'source': source, 'date': date, 'lon': lon, 'lat': lat,\n",
    "                    'alt': alt, 'ngate': ngate, 'nbeam': nbeam, 'ntilt': ntilt,\n",
    "                    'r0': r0, 'dr': dr, 'a0': a0, 'elang': elang})\n",
    "    if not loaddata:\n",
    "        return gr_dict\n",
    "\n",
    "    sdate = []\n",
    "    refl = []\n",
    "    for i in range(0, ntilt):\n",
    "        dset = gr_data['dataset{0}'.format(i+1)]\n",
    "        dat = dset['what']['startdate']\n",
    "        tim = dset['what']['starttime']\n",
    "        date = dt.datetime.strptime(dat + tim, \"%Y%d%m%H%M%S\")\n",
    "        sdate.append(date)\n",
    "        data = dset['data1']\n",
    "        quantity = data['what']['quantity']\n",
    "        factor = data['what']['gain']\n",
    "        offset = data['what']['offset']\n",
    "        if quantity == 'DBZH':\n",
    "            dat = data['variables']['data']['data'] * factor + offset\n",
    "            refl.append(dat)\n",
    "\n",
    "    sdate = np.array(sdate)\n",
    "    refl = np.array(refl)\n",
    "\n",
    "    gr_dict.update({'sdate': sdate, 'refl': refl})\n",
    "\n",
    "    return gr_dict\n",
    "\n",
    "def read_gpm(filename, bbox):\n",
    "    pr_data = Dataset(filename, mode=\"r\")\n",
    "    lon = pr_data['NS'].variables['Longitude']\n",
    "    lat = pr_data['NS'].variables['Latitude']\n",
    "\n",
    "    poly = [[bbox['left'], bbox['bottom']],\n",
    "            [bbox['left'], bbox['top']],\n",
    "            [bbox['right'], bbox['top']],\n",
    "            [bbox['right'], bbox['bottom']],\n",
    "            [bbox['left'], bbox['bottom']]]\n",
    "    mask = get_clip_mask(np.dstack((lon[:], lat[:])), poly)\n",
    "    mask = np.nonzero(np.count_nonzero(mask, axis=1))\n",
    "    lon = lon[mask]\n",
    "    lat = lat[mask]\n",
    "\n",
    "    year = pr_data['NS']['ScanTime'].variables['Year'][mask]\n",
    "    month = pr_data['NS']['ScanTime'].variables['Month'][mask]\n",
    "    dayofmonth = pr_data['NS']['ScanTime'].variables['DayOfMonth'][mask]\n",
    "    # dayofyear = pr_data['NS']['ScanTime'].variables['DayOfYear'][mask]\n",
    "    hour = pr_data['NS']['ScanTime'].variables['Hour'][mask]\n",
    "    minute = pr_data['NS']['ScanTime'].variables['Minute'][mask]\n",
    "    second = pr_data['NS']['ScanTime'].variables['Second'][mask]\n",
    "    # secondofday = pr_data['NS']['ScanTime'].variables['SecondOfDay'][mask]\n",
    "    millisecond = pr_data['NS']['ScanTime'].variables['MilliSecond'][mask]\n",
    "    date_array = zip(year, month, dayofmonth,\n",
    "                     hour, minute, second,\n",
    "                     millisecond.astype(np.int32) * 1000)\n",
    "    pr_time = np.array(\n",
    "        [dt.datetime(d[0], d[1], d[2], d[3], d[4], d[5], d[6]) for d in\n",
    "         date_array])\n",
    "\n",
    "    sfc = pr_data['NS']['PRE'].variables['landSurfaceType'][mask]\n",
    "    pflag = pr_data['NS']['PRE'].variables['flagPrecip'][mask]\n",
    "\n",
    "    # bbflag = pr_data['NS']['CSF'].variables['flagBB'][mask]\n",
    "    zbb = pr_data['NS']['CSF'].variables['heightBB'][mask]\n",
    "    # print(zbb.dtype)\n",
    "    bbwidth = pr_data['NS']['CSF'].variables['widthBB'][mask]\n",
    "    qbb = pr_data['NS']['CSF'].variables['qualityBB'][mask]\n",
    "    qtype = pr_data['NS']['CSF'].variables['qualityTypePrecip'][mask]\n",
    "    ptype = pr_data['NS']['CSF'].variables['typePrecip'][mask]\n",
    "\n",
    "    quality = pr_data['NS']['scanStatus'].variables['dataQuality'][mask]\n",
    "    refl = pr_data['NS']['SLV'].variables['zFactorCorrected'][mask]\n",
    "    # print(pr_data['NS']['SLV'].variables['zFactorCorrected'])\n",
    "\n",
    "    zenith = pr_data['NS']['PRE'].variables['localZenithAngle'][mask]\n",
    "\n",
    "    pr_data.close()\n",
    "\n",
    "    # Check for bad data\n",
    "    if max(quality) != 0:\n",
    "        raise ValueError('GPM contains Bad Data')\n",
    "\n",
    "    pflag = pflag.astype(np.int8)\n",
    "\n",
    "    # Determine the dimensions\n",
    "    ndim = refl.ndim\n",
    "    if ndim != 3:\n",
    "        raise ValueError('GPM Dimensions do not match! '\n",
    "                         'Needed 3, given {0}'.format(ndim))\n",
    "\n",
    "    tmp = refl.shape\n",
    "    nscan = tmp[0]\n",
    "    nray = tmp[1]\n",
    "    nbin = tmp[2]\n",
    "\n",
    "    # Reverse direction along the beam\n",
    "    refl = np.flip(refl, axis=-1)\n",
    "\n",
    "    # Change pflag=1 to pflag=2 to be consistent with 'Rain certain' in TRMM\n",
    "    pflag[pflag == 1] = 2\n",
    "\n",
    "    # Simplify the precipitation types\n",
    "    ptype = (ptype / 1e7).astype(np.int16)\n",
    "\n",
    "    # Simplify the surface types\n",
    "    imiss = (sfc == -9999)\n",
    "    sfc = (sfc / 1e2).astype(np.int16) + 1\n",
    "    sfc[imiss] = 0\n",
    "\n",
    "    # Set a quality indicator for the BB and precip type data\n",
    "    # TODO: Why is the `quality` variable overwritten?\n",
    "\n",
    "    quality = np.zeros((nscan, nray), dtype=np.uint8)\n",
    "\n",
    "    i1 = ((qbb == 0) | (qbb == 1)) & (qtype == 1)\n",
    "    quality[i1] = 1\n",
    "\n",
    "    i2 = ((qbb > 1) | (qtype > 2))\n",
    "    quality[i2] = 2\n",
    "\n",
    "    gpm_data = {}\n",
    "    gpm_data.update({'nscan': nscan, 'nray': nray, 'nbin': nbin,\n",
    "                     'date': pr_time, 'lon': lon, 'lat': lat,\n",
    "                     'pflag': pflag, 'ptype': ptype, 'zbb': zbb,\n",
    "                     'bbwidth': bbwidth, 'sfc': sfc, 'quality': quality,\n",
    "                     'refl': refl, 'zenith': zenith})\n",
    "\n",
    "    return gpm_data\n",
    "\n",
    "\n",
    "\n",
    "def read_gr_dwd(filename, loaddata=True):\n",
    "\n",
    "    gr_data = wrl.io.read_generic_netcdf(filename)\n",
    "    dat = gr_data['what']['date']\n",
    "    tim = gr_data['what']['time']\n",
    "    date = dt.datetime.strptime(dat + tim, \"%Y%d%m%H%M%S\")\n",
    "    source = gr_data['what']['source']\n",
    "\n",
    "    lon = gr_data['where']['lon']\n",
    "    lat = gr_data['where']['lat']\n",
    "    alt = gr_data['where']['height']\n",
    "\n",
    "    if gr_data['what']['object'] == 'PVOL':\n",
    "        ntilt = _get_tilts(gr_data)\n",
    "    else:\n",
    "        raise ValueError('GR file is no PPI/Volume File')\n",
    "\n",
    "    ngate = np.zeros(ntilt, dtype=np.int16)\n",
    "    nbeam = np.zeros(ntilt)\n",
    "    elang = np.zeros(ntilt)\n",
    "    r0 = np.zeros(ntilt)\n",
    "    dr = np.zeros(ntilt)\n",
    "    a0 = np.zeros(ntilt)\n",
    "\n",
    "    for i in range(0, ntilt):\n",
    "        dset = gr_data['dataset{0}'.format(i+1)]\n",
    "        a0[i] = dset['how']['astart']\n",
    "        elang[i] = dset['where']['elangle']\n",
    "        ngate[i] = dset['where']['nbins']\n",
    "        r0[i] = dset['where']['rstart']\n",
    "        dr[i] = dset['where']['rscale']\n",
    "        nbeam[i] = dset['where']['nrays']\n",
    "\n",
    "    if ((len(np.unique(r0)) != 1) |\n",
    "            (len(np.unique(dr)) != 1) |\n",
    "            (len(np.unique(a0)) != 1) |\n",
    "            (len(np.unique(nbeam)) != 1) |\n",
    "            (nbeam[0] != 360)):\n",
    "        raise ValueError('GroundRadar Data layout dos not match')\n",
    "\n",
    "    gr_dict = {}\n",
    "    gr_dict.update({'source': source, 'date': date, 'lon': lon, 'lat': lat,\n",
    "                    'alt': alt, 'ngate': ngate, 'nbeam': nbeam, 'ntilt': ntilt,\n",
    "                    'r0': r0, 'dr': dr, 'a0': a0, 'elang': elang})\n",
    "    if not loaddata:\n",
    "        return gr_dict\n",
    "\n",
    "    sdate = []\n",
    "    refl = []\n",
    "    for i in range(0, ntilt):\n",
    "        dset = gr_data['dataset{0}'.format(i+1)]\n",
    "        dat = dset['what']['startdate']\n",
    "        tim = dset['what']['starttime']\n",
    "        date = dt.datetime.strptime(dat + tim, \"%Y%d%m%H%M%S\")\n",
    "        sdate.append(date)\n",
    "        data = dset['data1']\n",
    "        quantity = data['what']['quantity']\n",
    "        factor = data['what']['gain']\n",
    "        offset = data['what']['offset']\n",
    "        if quantity == 'DBZH':\n",
    "            dat = data['variables']['data']['data'] * factor + offset\n",
    "            refl.append(dat)\n",
    "\n",
    "    sdate = np.array(sdate)\n",
    "    refl = np.array(refl)\n",
    "\n",
    "    gr_dict.update({'sdate': sdate, 'refl': refl})\n",
    "\n",
    "    return gr_dict"
   ]
  },
  {
   "cell_type": "code",
   "execution_count": 9,
   "metadata": {
    "collapsed": false
   },
   "outputs": [],
   "source": [
    "def read_gr_boxpol(filename, loaddata=True):\n",
    "    \"\"\"\n",
    "    Read ground radar boxpol scans\n",
    "    \n",
    "    in arbeit....\n",
    "    zur zeit nur ein scan (1.5)\n",
    "    \"\"\"\n",
    "    sdate = []\n",
    "    refl = []\n",
    "    \n",
    "    gr_data = wrl.io.read_generic_netcdf(gr_file)\n",
    "    grdata, grattrs = wrl.io.read_GAMIC_hdf5(gr_file)\n",
    "    print gr_file\n",
    "    \n",
    "    dat_ = gr_data['what']['date']\n",
    "    print dat_\n",
    "    dat = dat_[0:10]\n",
    "    tim = dat_[11:-1]\n",
    "    print (dat, tim)\n",
    "    # '2014-10-07T02:42:02Z'\n",
    "    date = dt.datetime.strptime(dat + tim, \"%Y-%d-%m%H:%M:%S\")\n",
    "    #source = gr_data['what']['source']\n",
    "\n",
    "    lon = gr_data['where']['lon']\n",
    "    lat = gr_data['where']['lat']\n",
    "    alt = gr_data['where']['height']\n",
    "\n",
    "    import glob\n",
    "    c_liste = glob.glob(gr_file.replace('n_ppi_010deg','*ppi*'))\n",
    "    ntilt = len(c_liste)\n",
    "    \n",
    "    ref_data = [[]]*ntilt\n",
    "\n",
    "\n",
    "    print ('ntilit:',ntilt)    \n",
    "    ngate = np.zeros(ntilt, dtype=np.int16)\n",
    "    nbeam = np.zeros(ntilt)\n",
    "    elang = np.zeros(ntilt)\n",
    "    r0 = np.zeros(ntilt)\n",
    "    dr = np.zeros(ntilt)\n",
    "    a0 = np.zeros(ntilt)\n",
    "    \n",
    "    for jj in range(ntilt):\n",
    "        print c_liste[jj]\n",
    "        \n",
    "        gr_data = wrl.io.read_generic_netcdf(c_liste[jj])\n",
    "        grdata, grattrs = wrl.io.read_GAMIC_hdf5(c_liste[jj])\n",
    "\n",
    "        #for i in range(0, ntilt):\n",
    "        dset = gr_data['scan0']\n",
    "        # Azimuth Start\n",
    "        a0[jj] = dset['how']['azi_start'] \n",
    "        # Elevations Winkel\n",
    "        elang[jj] = dset['how']['elevation']\n",
    "        # Anzahl bins\n",
    "        ngate[jj] = dset['how']['bin_count']\n",
    "        # Start und Step der range\n",
    "        r0[jj] = dset['how']['range_start']\n",
    "        dr[jj] = dset['how']['range_step']\n",
    "        # Anzahl Rays\n",
    "        nbeam[jj] = dset['how']['ray_count']\n",
    "\n",
    "        print ('azi start: ', a0)    \n",
    "        print ('elevation: ', elang)    \n",
    "        print ('bin count: ', ngate)    \n",
    "        print ('range start: ', r0)    \n",
    "        print ('range step: ', dr)    \n",
    "        print ('ray count: ', nbeam)    \n",
    "\n",
    "\n",
    "        gr_dict = {}\n",
    "        gr_dict.update({'date': date, 'lon': lon, 'lat': lat,\n",
    "                        'alt': alt, 'ngate': ngate, 'nbeam': nbeam, 'ntilt': ntilt,\n",
    "                        'r0': r0, 'dr': dr, 'a0': a0, 'elang': elang})\n",
    "        if not loaddata:\n",
    "            return gr_dict\n",
    "\n",
    "\n",
    "\n",
    "        #for i in range(0, ntilt):\n",
    "            #dset = gr_data['scan0']\n",
    "            #data = dset['variables']['moment_10']['data']\n",
    "\n",
    "        data = grdata['SCAN0']['ZH']['data']\n",
    "\n",
    "        #refl.append(data)\n",
    "        ref_data[jj]=data\n",
    "\n",
    "        #refl1 = np.array(refl)\n",
    "    gr_dict.update({'refl': ref_data})\n",
    "    \n",
    "    return gr_dict\n",
    "\n"
   ]
  },
  {
   "cell_type": "code",
   "execution_count": 10,
   "metadata": {
    "collapsed": false
   },
   "outputs": [
    {
     "name": "stdout",
     "output_type": "stream",
     "text": [
      "/automount/radar-archiv/scans/2014/2014-10/2014-10-08/n_ppi_082deg/2014-10-08--09:45:00,00.mvol\n",
      "2014-10-08T09:47:17Z\n",
      "(u'2014-10-08', u'09:47:17')\n",
      "('ntilit:', 1)\n",
      "/automount/radar-archiv/scans/2014/2014-10/2014-10-08/n_ppi_082deg/2014-10-08--09:45:00,00.mvol\n",
      "('azi start: ', array([0.]))\n",
      "('elevation: ', array([8.20129395]))\n",
      "('bin count: ', array([1100], dtype=int16))\n",
      "('range start: ', array([0.]))\n",
      "('range step: ', array([100.]))\n",
      "('ray count: ', array([360.]))\n"
     ]
    }
   ],
   "source": [
    "# read matching GR data\n",
    "gr_data = read_gr_boxpol(gr_file)\n"
   ]
  },
  {
   "cell_type": "code",
   "execution_count": null,
   "metadata": {
    "collapsed": true
   },
   "outputs": [],
   "source": []
  },
  {
   "cell_type": "code",
   "execution_count": 11,
   "metadata": {
    "collapsed": false
   },
   "outputs": [
    {
     "data": {
      "text/plain": [
       "['elang',\n",
       " 'lat',\n",
       " 'nbeam',\n",
       " 'lon',\n",
       " 'ntilt',\n",
       " 'a0',\n",
       " 'ngate',\n",
       " 'refl',\n",
       " 'date',\n",
       " 'r0',\n",
       " 'alt',\n",
       " 'dr']"
      ]
     },
     "execution_count": 11,
     "metadata": {},
     "output_type": "execute_result"
    }
   ],
   "source": [
    "gr_data.keys()"
   ]
  },
  {
   "cell_type": "code",
   "execution_count": 12,
   "metadata": {
    "collapsed": false,
    "slideshow": {
     "slide_type": "slide"
    }
   },
   "outputs": [
    {
     "data": {
      "text/plain": [
       "<matplotlib.legend.Legend at 0x7ff39f12a190>"
      ]
     },
     "execution_count": 12,
     "metadata": {},
     "output_type": "execute_result"
    },
    {
     "data": {
      "image/png": "[encoded data removed]",
      "text/plain": [
       "<matplotlib.figure.Figure at 0x7ff39f172510>"
      ]
     },
     "metadata": {},
     "output_type": "display_data"
    }
   ],
   "source": [
    "pl.figure(figsize=(12,12))\n",
    "for ii in range(len(gr_data['refl'])):\n",
    "    pl.plot(np.unique(gr_data['refl'][ii]), label=gr_data['elang'][ii])\n",
    "pl.title('Unique Ref of GR')\n",
    "pl.grid()\n",
    "pl.legend(loc='lower right')"
   ]
  },
  {
   "cell_type": "code",
   "execution_count": 13,
   "metadata": {
    "collapsed": false
   },
   "outputs": [
    {
     "name": "stdout",
     "output_type": "stream",
     "text": [
      "((360, 1100),)\n"
     ]
    }
   ],
   "source": [
    "######### GR data and att\n",
    "ee = 0\n",
    "# number of rays in gr sweep\n",
    "nray_gr = gr_data['nbeam'].astype(\"i4\")[ee]\n",
    "# number of gates in gr beam\n",
    "ngate_gr = gr_data['ngate'].astype(\"i4\")[ee]\n",
    "# number of sweeps\n",
    "nelev = gr_data['ntilt']\n",
    "# elevation of sweep (degree)\n",
    "elev_gr = gr_data['elang'][ee]\n",
    "# gate length (meters)\n",
    "dr_gr = gr_data['dr'][ee]\n",
    "# reflectivity array of sweep\n",
    "ref_gr = gr_data['refl'][ee]\n",
    "# sweep datetime stamp\n",
    "#date_gr = gr_data['sdate'][ee]\n",
    "# range of first gate\n",
    "r0_gr = gr_data['r0'][ee]\n",
    "# azimuth angle of first beam\n",
    "a0_gr = gr_data['a0'][ee]\n",
    "# Longitude of GR\n",
    "lon0_gr = gr_data['lon']\n",
    "# Latitude of GR\n",
    "lat0_gr = gr_data['lat']\n",
    "# Altitude of GR (meters)\n",
    "alt0_gr = gr_data['alt']\n",
    "# Beam width of GR (degree)\n",
    "bw_gr = 1.\n",
    "print(ref_gr.shape, )"
   ]
  },
  {
   "cell_type": "code",
   "execution_count": 14,
   "metadata": {
    "collapsed": false
   },
   "outputs": [
    {
     "name": "stdout",
     "output_type": "stream",
     "text": [
      "Radar bounding box:\n",
      "\t51.71\n",
      "5.53           8.61\n",
      "\t49.75\n"
     ]
    }
   ],
   "source": [
    "coord = wrl.georef.sweep_centroids(nray_gr, dr_gr, ngate_gr, elev_gr)\n",
    "coords = wrl.georef.spherical_to_proj(coord[..., 0],\n",
    "                                      np.degrees(coord[..., 1]),\n",
    "                                      coord[..., 2],\n",
    "                                      (lon0_gr, lat0_gr, alt0_gr))\n",
    "lon = coords[..., 0]\n",
    "lat = coords[..., 1]\n",
    "alt = coords[..., 2]\n",
    "bbox = wrl.zonalstats.get_bbox(lon, lat)\n",
    "print(\"Radar bounding box:\\n\\t%.2f\\n%.2f           %.2f\\n\\t%.2f\" %\n",
    "      (bbox['top'], bbox['left'], bbox['right'], bbox['bottom']))"
   ]
  },
  {
   "cell_type": "code",
   "execution_count": 15,
   "metadata": {
    "collapsed": false
   },
   "outputs": [],
   "source": [
    "# read spaceborn SR data\n",
    "#if platf == \"gpm\":\n",
    "#    sr_data = wrl.io.read_gpm(gpm_file, bbox)\n",
    "#elif platf == \"trmm\":\n",
    "#    sr_data = wrl.io.read_trmm(trmm_2a23_file, trmm_2a25_file, bbox)\n",
    "#else:\n",
    "#    raise(\"Invalid platform\")\n",
    "sr_data = wrl.io.read_gpm(gpm_file, bbox)\n"
   ]
  },
  {
   "cell_type": "code",
   "execution_count": 16,
   "metadata": {
    "collapsed": false
   },
   "outputs": [
    {
     "data": {
      "text/plain": [
       "{'a0': array([0.]),\n",
       " 'alt': 99.5,\n",
       " 'date': datetime.datetime(2014, 8, 10, 9, 47, 17),\n",
       " 'dr': array([100.]),\n",
       " 'elang': array([8.20129395]),\n",
       " 'lat': 50.73052,\n",
       " 'lon': 7.071663,\n",
       " 'nbeam': array([360.]),\n",
       " 'ngate': array([1100], dtype=int16),\n",
       " 'ntilt': 1,\n",
       " 'r0': array([0.]),\n",
       " 'refl': [array([[  7.501953  ,  -1.5126953 ,  -2.6201172 , ..., -64.        ,\n",
       "          -64.        , -64.        ],\n",
       "         [  7.8916016 ,   0.6699219 ,   0.83691406, ..., -64.        ,\n",
       "          -64.        , -64.        ],\n",
       "         [  8.043945  ,  -3.1972656 ,   3.6992188 , ..., -64.        ,\n",
       "          -64.        , -64.        ],\n",
       "         ...,\n",
       "         [  8.404297  ,   0.50878906,   6.368164  , ..., -64.        ,\n",
       "          -64.        , -64.        ],\n",
       "         [  6.7783203 ,   2.2167969 ,  11.972656  , ..., -64.        ,\n",
       "          -64.        , -64.        ],\n",
       "         [  7.90625   ,   0.7138672 ,   1.4228516 , ..., -64.        ,\n",
       "          -64.        , -64.        ]], dtype=float32)]}"
      ]
     },
     "execution_count": 16,
     "metadata": {},
     "output_type": "execute_result"
    }
   ],
   "source": [
    "gr_data"
   ]
  },
  {
   "cell_type": "code",
   "execution_count": 17,
   "metadata": {
    "collapsed": false
   },
   "outputs": [
    {
     "name": "stdout",
     "output_type": "stream",
     "text": [
      "(62, 49, 176)\n"
     ]
    },
    {
     "ename": "IndexError",
     "evalue": "list index out of range",
     "output_type": "error",
     "traceback": [
      "\u001b[1;31m---------------------------------------------------------------------------\u001b[0m",
      "\u001b[1;31mIndexError\u001b[0m                                Traceback (most recent call last)",
      "\u001b[1;32m<ipython-input-17-ae98a944709c>\u001b[0m in \u001b[0;36m<module>\u001b[1;34m()\u001b[0m\n\u001b[0;32m      6\u001b[0m \u001b[0mpl\u001b[0m\u001b[1;33m.\u001b[0m\u001b[0msubplot\u001b[0m\u001b[1;33m(\u001b[0m\u001b[1;36m1\u001b[0m\u001b[1;33m,\u001b[0m\u001b[1;36m2\u001b[0m\u001b[1;33m,\u001b[0m\u001b[1;36m2\u001b[0m\u001b[1;33m)\u001b[0m\u001b[1;33m\u001b[0m\u001b[0m\n\u001b[0;32m      7\u001b[0m \u001b[1;31m#print (gr_data['refl'][0,:,:].shape)\u001b[0m\u001b[1;33m\u001b[0m\u001b[1;33m\u001b[0m\u001b[0m\n\u001b[1;32m----> 8\u001b[1;33m \u001b[0mpl\u001b[0m\u001b[1;33m.\u001b[0m\u001b[0mimshow\u001b[0m\u001b[1;33m(\u001b[0m\u001b[0mgr_data\u001b[0m\u001b[1;33m[\u001b[0m\u001b[1;34m'refl'\u001b[0m\u001b[1;33m]\u001b[0m\u001b[1;33m[\u001b[0m\u001b[1;36m5\u001b[0m\u001b[1;33m]\u001b[0m\u001b[1;33m)\u001b[0m\u001b[1;33m\u001b[0m\u001b[0m\n\u001b[0m",
      "\u001b[1;31mIndexError\u001b[0m: list index out of range"
     ]
    },
    {
     "data": {
      "image/png": "[encoded data removed]",
      "text/plain": [
       "<matplotlib.figure.Figure at 0x7ff39f107a10>"
      ]
     },
     "metadata": {},
     "output_type": "display_data"
    }
   ],
   "source": [
    "pl.subplot(1,2,1)\n",
    "refl = sr_data['refl']\n",
    "print refl.shape\n",
    "pl.imshow(refl[:,:,12])\n",
    "\n",
    "pl.subplot(1,2,2)\n",
    "#print (gr_data['refl'][0,:,:].shape)\n",
    "pl.imshow(gr_data['refl'][5])\n"
   ]
  },
  {
   "cell_type": "code",
   "execution_count": 18,
   "metadata": {
    "collapsed": false
   },
   "outputs": [],
   "source": [
    "# Longitudes of SR scans\n",
    "sr_lon = sr_data['lon']\n",
    "# Latitudes of SR scans\n",
    "sr_lat = sr_data['lat']\n",
    "# Precip flag\n",
    "pflag = sr_data['pflag']\n",
    "# Number of scans on SR data\n",
    "nscan_sr= sr_data['nscan']\n",
    "# Number of rays in one SR scan\n",
    "nray_sr = sr_data['nray']\n",
    "# Number of gates in one SR ray\n",
    "ngate_sr = sr_data['nbin']"
   ]
  },
  {
   "cell_type": "code",
   "execution_count": 19,
   "metadata": {
    "collapsed": false
   },
   "outputs": [
    {
     "name": "stdout",
     "output_type": "stream",
     "text": [
      "((62, 49), (62, 49), (62, 49))\n",
      "(62, 49, 176)\n",
      "['nscan', 'pflag', 'zbb', 'zenith', 'nray', 'lon', 'ptype', 'lat', 'refl', 'date', 'nbin', 'quality', 'sfc', 'bbwidth']\n"
     ]
    }
   ],
   "source": [
    "\n",
    "print (sr_lon.shape, sr_lat.shape, pflag.shape, )\n",
    "print (nscan_sr, nray_sr, ngate_sr)\n",
    "print (sr_data.keys())\n",
    "#print (sr_data['refl'])"
   ]
  },
  {
   "cell_type": "code",
   "execution_count": 20,
   "metadata": {
    "collapsed": false
   },
   "outputs": [
    {
     "name": "stdout",
     "output_type": "stream",
     "text": [
      "('Earth radius 1:', 6365363.223869726)\n",
      "('SemiMajor, SemiMinor:', 6378137.0, 6356752.314245179)\n",
      "('Earth radius 2:', 6365363.223869619)\n"
     ]
    }
   ],
   "source": [
    "# Calculate equivalent earth radius\n",
    "wgs84 = wrl.georef.get_default_projection()\n",
    "re1 = wrl.georef.get_earth_radius(lat0_gr, wgs84)\n",
    "print(\"Earth radius 1:\", re1)\n",
    "a = wgs84.GetSemiMajor()\n",
    "b = wgs84.GetSemiMinor()\n",
    "print(\"SemiMajor, SemiMinor:\", a, b)\n",
    "\n",
    "# Set up aeqd-projection gr-centered\n",
    "rad = wrl.georef.proj4_to_osr(('+proj=aeqd +lon_0={lon:f} ' +\n",
    "                                   '+lat_0={lat:f} +a={a:f} ' +\n",
    "                                   '+b={b:f}').format(lon=lon0_gr,\n",
    "                                                      lat=lat0_gr,\n",
    "                                                      a=a, b=b))\n",
    "re2 = wrl.georef.get_earth_radius(lat0_gr, rad)\n",
    "print(\"Earth radius 2:\", re2)\n"
   ]
  },
  {
   "cell_type": "code",
   "execution_count": 21,
   "metadata": {
    "collapsed": false
   },
   "outputs": [
    {
     "name": "stdout",
     "output_type": "stream",
     "text": [
      "('Range/Azi-Shape:', (1100,), (360,))\n",
      "('XYZ-Grid-Shape:', (360, 1100, 3))\n",
      "((396000, 5, 3), 216000)\n",
      "('Domain-Shape:', (361, 2))\n"
     ]
    }
   ],
   "source": [
    "# create gr range and azimuth arrays\n",
    "rmax_gr = r0_gr + ngate_gr * dr_gr\n",
    "r_gr = np.arange(0, ngate_gr) * dr_gr + dr_gr/2.\n",
    "az_gr = np.arange(0, nray_gr) - a0_gr\n",
    "print(\"Range/Azi-Shape:\", r_gr.shape, az_gr.shape)\n",
    "\n",
    "# create gr polar grid and calculate aeqd-xyz coordinates\n",
    "gr_polargrid = np.meshgrid(r_gr, az_gr)\n",
    "gr_xyz, rad = wrl.georef.spherical_to_xyz(gr_polargrid[0], gr_polargrid[1], elev_gr, (lon0_gr, lat0_gr, alt0_gr ))\n",
    "print(\"XYZ-Grid-Shape:\", gr_xyz.shape)\n",
    "\n",
    "# create gr poygon array in aeqd-xyz-coordinates\n",
    "gr_poly, rad1 = wrl.georef.spherical_to_polyvert(r_gr, az_gr, elev_gr, (lon0_gr, lat0_gr, alt0_gr))\n",
    "print(gr_poly.shape, 360 * 600)\n",
    "gr_poly.shape = (nray_gr, ngate_gr, 5, 3)\n",
    "\n",
    "# get radar domain (outer ring)\n",
    "gr_domain = gr_xyz[:,-1,0:2]\n",
    "gr_domain = np.vstack((gr_domain, gr_domain[0]))\n",
    "print(\"Domain-Shape:\", gr_domain.shape)"
   ]
  },
  {
   "cell_type": "code",
   "execution_count": 22,
   "metadata": {
    "collapsed": false
   },
   "outputs": [
    {
     "name": "stdout",
     "output_type": "stream",
     "text": [
      "('SR-GRID-Shapes:', (62, 49), (62, 49), (62, 49, 2))\n"
     ]
    }
   ],
   "source": [
    "sr_x, sr_y = wrl.georef.reproject(sr_lon, sr_lat,\n",
    "                                      projection_source=wgs84,\n",
    "                                      projection_target=rad)\n",
    "sr_xy = np.dstack((sr_x, sr_y))\n",
    "print(\"SR-GRID-Shapes:\", sr_x.shape, sr_y.shape, sr_xy.shape)"
   ]
  },
  {
   "cell_type": "code",
   "execution_count": 23,
   "metadata": {
    "collapsed": false
   },
   "outputs": [
    {
     "name": "stdout",
     "output_type": "stream",
     "text": [
      "[ 0  2 10 11]\n"
     ]
    },
    {
     "data": {
      "image/png": "[encoded data removed]",
      "text/plain": [
       "<matplotlib.figure.Figure at 0x7ff39ee2cbd0>"
      ]
     },
     "metadata": {},
     "output_type": "display_data"
    }
   ],
   "source": [
    "pl.imshow(pflag)\n",
    "pl.colorbar()\n",
    "print (np.unique(pflag))\n",
    "#pl.plot(pflag)"
   ]
  },
  {
   "cell_type": "code",
   "execution_count": 24,
   "metadata": {
    "collapsed": false
   },
   "outputs": [
    {
     "name": "stdout",
     "output_type": "stream",
     "text": [
      "(62, 49, 2)\n",
      "(62, 49)\n",
      "((62, 49), (62, 49, 2))\n",
      "((62, 49), (3038, 2))\n",
      "[False  True]\n"
     ]
    },
    {
     "data": {
      "image/png": "[encoded data removed]",
      "text/plain": [
       "<matplotlib.figure.Figure at 0x7ff39b4a3c50>"
      ]
     },
     "metadata": {},
     "output_type": "display_data"
    }
   ],
   "source": [
    "# Create ZonalData for spatial subsetting (inside GR range domain)\n",
    "\n",
    "# get precip indexes\n",
    "print(sr_xy.shape)\n",
    "print(pflag.shape)\n",
    "\n",
    "####################!!!!!!!!!!!!!!!!!!!!!!!!!!!!!!!!!!!!!!!!!!!!!!!!!!!!!\n",
    "#########!!!!!!!!!!!!!!!!!!!! eigentlich == 2 ===?????\n",
    "\n",
    "precip_mask = (pflag >= 2) & wrl.zonalstats.get_clip_mask(sr_xy, gr_domain, rad)\n",
    "\n",
    "# get iscan/iray boolean arrays\n",
    "print(precip_mask.shape, sr_xy.shape)\n",
    "print(pflag.shape, sr_xy.reshape(-1, sr_xy.shape[-1]).shape)\n",
    "pl.imshow(precip_mask)\n",
    "\n",
    "#pl.colorbar()\n",
    "print (np.unique(precip_mask))"
   ]
  },
  {
   "cell_type": "markdown",
   "metadata": {},
   "source": [
    "# Parallax Correction\n",
    "---------------------------"
   ]
  },
  {
   "cell_type": "code",
   "execution_count": 25,
   "metadata": {
    "collapsed": false
   },
   "outputs": [
    {
     "name": "stdout",
     "output_type": "stream",
     "text": [
      "('NRAY', 49)\n",
      "('NBIN', 176)\n",
      "((62, 49, 176, 2), (176,), (62, 49, 176))\n",
      "(62, 49, 2)\n",
      "('SR_XYP:', (62, 49, 176, 2), (62, 49, 176, 3), (176,), (62, 49, 176))\n"
     ]
    }
   ],
   "source": [
    "print(\"NRAY\", nray_sr)\n",
    "print(\"NBIN\", ngate_sr)\n",
    "\n",
    "# use localZenith Angle\n",
    "alpha = sr_data['zenith']\n",
    "beta = abs(-17.04 + np.arange(nray_sr) * bw_sr)\n",
    "\n",
    "# Correct for parallax, get 3D-XYZ-Array\n",
    "#   xyzp_sr: Parallax corrected xyz coordinates\n",
    "#   r_sr_inv: range array from ground to SR platform\n",
    "#   zp: SR bin altitudes\n",
    "xyp_sr, r_sr_inv, z_sr = wrl.georef.correct_parallax(sr_xy, ngate_sr, dr_sr, alpha)\n",
    "print(xyp_sr.shape, r_sr_inv.shape, z_sr.shape)\n",
    "xyzp_sr = np.concatenate((xyp_sr, z_sr[..., np.newaxis]),\n",
    "                   axis=-1)\n",
    "print(sr_xy.shape)\n",
    "print(\"SR_XYP:\", xyp_sr.shape, xyzp_sr.shape, r_sr_inv.shape, z_sr.shape)"
   ]
  },
  {
   "cell_type": "code",
   "execution_count": 26,
   "metadata": {
    "collapsed": false
   },
   "outputs": [
    {
     "data": {
      "text/plain": [
       "<matplotlib.image.AxesImage at 0x7ff39b423650>"
      ]
     },
     "execution_count": 26,
     "metadata": {},
     "output_type": "execute_result"
    },
    {
     "data": {
      "image/png": "[encoded data removed]",
      "text/plain": [
       "<matplotlib.figure.Figure at 0x7ff39b423b90>"
      ]
     },
     "metadata": {},
     "output_type": "display_data"
    }
   ],
   "source": [
    "pl.subplot(1,2,1)\n",
    "pl.imshow(xyp_sr[:,:,160,0])\n",
    "pl.subplot(1,2,2)\n",
    "pl.imshow(xyzp_sr[:,:,160,2])\n"
   ]
  },
  {
   "cell_type": "markdown",
   "metadata": {},
   "source": [
    "# Compute spherical coordinates of SR bins with regard to GR\n",
    "-------------------------------"
   ]
  },
  {
   "cell_type": "code",
   "execution_count": 27,
   "metadata": {
    "collapsed": false
   },
   "outputs": [
    {
     "data": {
      "text/plain": [
       "(62, 49, 176)"
      ]
     },
     "execution_count": 27,
     "metadata": {},
     "output_type": "execute_result"
    },
    {
     "data": {
      "image/png": "[encoded data removed]",
      "text/plain": [
       "<matplotlib.figure.Figure at 0x7ff39b4c56d0>"
      ]
     },
     "metadata": {},
     "output_type": "display_data"
    }
   ],
   "source": [
    "r_sr, az_sr, elev_sr = wrl.georef.xyz_to_spherical(xyzp_sr, alt0_gr, proj=rad)\n",
    "#TODO: hardcoded 1.0\n",
    "mask = (elev_sr > (1.0 - bw_gr/2.)) & (elev_sr < (1.0 + bw_gr/2.))\n",
    "pl.figure()\n",
    "pl.pcolormesh((mask[9,:,:].T))\n",
    "mask.shape"
   ]
  },
  {
   "cell_type": "markdown",
   "metadata": {},
   "source": [
    "# Compute SR and GR pulse volumes\n",
    "------------------------------------\n",
    "\n",
    "## Calculate distance from orbit $r_s$"
   ]
  },
  {
   "cell_type": "code",
   "execution_count": 28,
   "metadata": {
    "collapsed": false
   },
   "outputs": [],
   "source": [
    "rs = wrl.georef.dist_from_orbit(zt, alpha, beta, r_sr_inv, re1)"
   ]
  },
  {
   "cell_type": "markdown",
   "metadata": {},
   "source": [
    "# SR pulse volume\n",
    "--------------------------------"
   ]
  },
  {
   "cell_type": "code",
   "execution_count": 29,
   "metadata": {
    "collapsed": false
   },
   "outputs": [
    {
     "name": "stdout",
     "output_type": "stream",
     "text": [
      "('Min. difference (m3):', 57223.30859088898)\n",
      "('Max. difference (m3): ', 70340.17030763626)\n",
      "('Average rel. difference (%):', 0.0026)\n"
     ]
    }
   ],
   "source": [
    "\n",
    "# Small anngle approximation\n",
    "vol_sr2  = np.pi * dr_sr * rs**2 * np.radians(bw_sr / 2.)**2\n",
    "\n",
    "# Or using wradlib's native function\n",
    "vol_sr = wrl.qual.pulse_volume(rs, dr_sr, bw_sr)\n",
    "\n",
    "# Evaluate difference between both approaches\n",
    "print(\"Min. difference (m3):\", (vol_sr - vol_sr2).min())\n",
    "print(\"Max. difference (m3): \", (vol_sr - vol_sr2).max())\n",
    "print(\"Average rel. difference (%):\", round(np.mean(vol_sr-vol_sr2)*100./np.mean(np.mean(vol_sr2)), 4))\n",
    "\n",
    "# Verdict: differences are negligble - use wradlibs's native function!\n",
    "\n"
   ]
  },
  {
   "cell_type": "markdown",
   "metadata": {},
   "source": [
    "# GR Pulse Volume\n",
    "----------------------------------"
   ]
  },
  {
   "cell_type": "code",
   "execution_count": 30,
   "metadata": {
    "collapsed": false
   },
   "outputs": [
    {
     "name": "stdout",
     "output_type": "stream",
     "text": [
      "(360, 1100)\n"
     ]
    }
   ],
   "source": [
    "\n",
    "\n",
    "# GR pulse volumes\n",
    "#   along one beam\n",
    "vol_gr = wrl.qual.pulse_volume(r_gr, dr_gr, bw_gr)\n",
    "#   with shape (nray_gr, ngate_gr)\n",
    "vol_gr = np.repeat(vol_gr, nray_gr).reshape((nray_gr, ngate_gr), order=\"F\")\n",
    "\n",
    "print (vol_gr.shape)"
   ]
  },
  {
   "cell_type": "markdown",
   "metadata": {},
   "source": [
    "# Calculate horizontal and vertical dimensions $R_S$ and $D_S$ of SR bin\n",
    "---------------------------------"
   ]
  },
  {
   "cell_type": "code",
   "execution_count": 31,
   "metadata": {
    "collapsed": false
   },
   "outputs": [
    {
     "name": "stdout",
     "output_type": "stream",
     "text": [
      "((62, 49, 176), (62, 49, 176))\n"
     ]
    }
   ],
   "source": [
    "\n",
    "Rs = 0.5 * (1 +  np.cos(np.radians(alpha)))[:,:,np.newaxis] * rs * np.tan(np.radians(bw_sr/2.))\n",
    "Ds = dr_sr / np.cos(np.radians(alpha))\n",
    "Ds = np.broadcast_to(Ds[..., np.newaxis], Rs.shape)\n",
    "\n",
    "print (Rs.shape, Ds.shape)"
   ]
  },
  {
   "cell_type": "markdown",
   "metadata": {},
   "source": [
    "# Median Brightband Width/Height\n",
    "----------------------------"
   ]
  },
  {
   "cell_type": "code",
   "execution_count": 32,
   "metadata": {
    "collapsed": false
   },
   "outputs": [
    {
     "name": "stdout",
     "output_type": "stream",
     "text": [
      "(62, 49, 176)\n",
      "((62, 49), (62, 49), (62, 49))\n",
      "(62, 49, 176)\n",
      "(-1.7660049330121999, -1.676207003675466)\n"
     ]
    }
   ],
   "source": [
    "\n",
    "print(z_sr.shape)\n",
    "print(sr_data['zbb'].shape, sr_data['bbwidth'].shape, sr_data['quality'].shape)\n",
    "ratio, ibb = wrl.qual.get_bb_ratio(sr_data['zbb'], sr_data['bbwidth'], sr_data['quality'], z_sr)\n",
    "print(ratio.shape)\n",
    "zbb = sr_data['zbb'].copy()\n",
    "zbb[~ibb] = np.nan\n",
    "print(np.nanmin(ratio[..., 9]), np.nanmax(ratio[..., 9]))\n",
    "\n"
   ]
  },
  {
   "cell_type": "markdown",
   "metadata": {},
   "source": [
    "# Convert SR Ku in S-Band Ref and vice versa\n",
    "----------------------------------"
   ]
  },
  {
   "cell_type": "code",
   "execution_count": 33,
   "metadata": {
    "collapsed": false
   },
   "outputs": [
    {
     "name": "stdout",
     "output_type": "stream",
     "text": [
      "((62, 49, 176), (62, 49, 176))\n"
     ]
    },
    {
     "data": {
      "text/plain": [
       "'\\nHier ein eigenes Convert zwischen KU und X BAND\\n'"
      ]
     },
     "execution_count": 33,
     "metadata": {},
     "output_type": "execute_result"
    }
   ],
   "source": [
    "ref_sr = sr_data['refl'].filled(np.nan)\n",
    "print(ref_sr.shape, ratio.shape)\n",
    "\n",
    "'''\n",
    "Hier ein eigenes Convert zwischen KU und X BAND\n",
    "'''"
   ]
  },
  {
   "cell_type": "markdown",
   "metadata": {},
   "source": [
    "# Matching SR / GR\n",
    "------------------"
   ]
  },
  {
   "cell_type": "code",
   "execution_count": 34,
   "metadata": {
    "collapsed": false
   },
   "outputs": [
    {
     "name": "stdout",
     "output_type": "stream",
     "text": [
      "((62, 49, 176), (62, 49))\n",
      "(927,)\n",
      "(62, 49, 176)\n"
     ]
    }
   ],
   "source": [
    "# First assumption: no valid SR bins (all False)\n",
    "valid = np.asarray(elev_sr, dtype=np.bool)==False\n",
    "print(valid.shape, precip_mask.shape)\n",
    "\n",
    "# SR is inside GR range and is precipitating\n",
    "iscan = precip_mask.nonzero()[0]\n",
    "iray = precip_mask.nonzero()[1]\n",
    "valid[iscan,iray] = True\n",
    "\n",
    "# SR bins intersect with GR sweep\n",
    "valid = valid & (elev_sr >= (elev_gr-bw_gr/2.)) & (elev_sr <= (elev_gr+bw_gr/2.))\n",
    "\n",
    "# Number of matching SR bins per profile\n",
    "nvalids = np.sum(valid, axis=2)\n",
    "\n",
    "# scan and ray indices for profiles with at least one valid bin\n",
    "vscan, vray = np.where(nvalids>0)\n",
    "\n",
    "# number of profiles with at least one valid bin\n",
    "nprof = len(vscan)\n",
    "print(vscan.shape)\n",
    "print(valid.shape)"
   ]
  },
  {
   "cell_type": "code",
   "execution_count": 35,
   "metadata": {
    "collapsed": false
   },
   "outputs": [
    {
     "name": "stdout",
     "output_type": "stream",
     "text": [
      "(62, 49, 176, 3)\n",
      "((927, 3), (62, 49))\n"
     ]
    },
    {
     "data": {
      "text/plain": [
       "<matplotlib.colorbar.Colorbar at 0x7ff39ed85910>"
      ]
     },
     "execution_count": 35,
     "metadata": {},
     "output_type": "execute_result"
    },
    {
     "data": {
      "image/png": "[encoded data removed]",
      "text/plain": [
       "<matplotlib.figure.Figure at 0x7ff39eeefa50>"
      ]
     },
     "metadata": {},
     "output_type": "display_data"
    }
   ],
   "source": [
    "# average coordinates\n",
    "xyz_v1 = xyzp_sr.copy()\n",
    "print(xyz_v1.shape)\n",
    "xyz_v1[~valid] = np.nan\n",
    "xyz_c1 = xyzp_sr.copy()\n",
    "xyz_c1[~valid] = 0\n",
    "c = np.count_nonzero(xyz_c1[..., 0], axis=2)\n",
    "ntotsr = c[vscan, vray]\n",
    "xyz_m1 = np.nanmean(xyz_v1,axis=2)\n",
    "xyz = xyz_m1[vscan, vray]\n",
    "print(xyz.shape, c.shape)\n",
    "\n",
    "# approximate Rs\n",
    "rs_v1 = Rs.copy()\n",
    "rs_v1[~valid] = np.nan\n",
    "rs_m1 = np.nanmax(rs_v1, axis=2)\n",
    "rs_prof = rs_m1[vscan, vray]\n",
    "ds = rs_prof\n",
    "\n",
    "# approximate Ds\n",
    "ds_v1 = Ds.copy()\n",
    "ds_v1[~valid] = np.nan\n",
    "ds_m1 = np.nansum(ds_v1, axis=2)\n",
    "ds_prof = ds_m1[vscan, vray]\n",
    "dz = ds_prof\n",
    "\n",
    "# approximate Vs\n",
    "vs_v1 = vol_sr.copy()\n",
    "vs_v1[~valid] = np.nan\n",
    "vs_m1 = np.nansum(vs_v1, axis=2)\n",
    "vs_prof = vs_m1[vscan, vray]\n",
    "volsr1 = vs_prof\n",
    "\n",
    "from mpl_toolkits.mplot3d import Axes3D\n",
    "fig = pl.figure()\n",
    "ax = fig.add_subplot(111, projection='3d')\n",
    "pppl = ax.scatter(xyz_m1[..., 0], xyz_m1[..., 1], xyz_m1[..., 2], c=c.ravel())\n",
    "fig.colorbar(pppl, shrink=0.5, aspect=5)\n"
   ]
  },
  {
   "cell_type": "markdown",
   "metadata": {},
   "source": [
    "# Calculate spherical coordinates of SR sample volume with respect to GR\n",
    "--------------------------------------------"
   ]
  },
  {
   "cell_type": "code",
   "execution_count": 36,
   "metadata": {
    "collapsed": false
   },
   "outputs": [],
   "source": [
    "r_sr, az_sr, el_rs = wrl.georef.xyz_to_spherical(xyz, alt0_gr, proj=rad)"
   ]
  },
  {
   "cell_type": "markdown",
   "metadata": {},
   "source": [
    "# Average SR reflectivity\n",
    "------------------------------------------"
   ]
  },
  {
   "cell_type": "code",
   "execution_count": 37,
   "metadata": {
    "collapsed": false
   },
   "outputs": [
    {
     "name": "stdout",
     "output_type": "stream",
     "text": [
      "(927,)\n"
     ]
    }
   ],
   "source": [
    "\n",
    "\n",
    "ref_sr_1 = wrl.trafo.idecibel(ref_sr)\n",
    "ref_sr_1[~valid] = np.nan\n",
    "refsr1a = np.nanmean(ref_sr_1, axis=2)[vscan,vray]\n",
    "refsr1a = wrl.trafo.decibel(refsr1a)\n",
    "\n",
    "#ref_sr_2 = wrl.trafo.idecibel(ref_sr_ss)\n",
    "#ref_sr_2[~valid] = np.nan\n",
    "#refsr2a = np.nanmean(ref_sr_2, axis=2)[vscan,vray]\n",
    "#refsr2a = wrl.trafo.decibel(refsr2a)\n",
    "\n",
    "#ref_sr_3 = wrl.trafo.idecibel(ref_sr_sh)\n",
    "#ref_sr_3[~valid] = np.nan\n",
    "#refsr3a = np.nanmean(ref_sr_3, axis=2)[vscan,vray]\n",
    "#refsr3a = wrl.trafo.decibel(refsr3a)\n",
    "\n",
    "\n",
    "print(refsr1a.shape)\n",
    "\n"
   ]
  },
  {
   "cell_type": "markdown",
   "metadata": {},
   "source": [
    "# Identify which GR bins actually intersect with the SR footprint\n",
    "---------------------\n",
    "## Create Zonal Data Source of matching SR profile"
   ]
  },
  {
   "cell_type": "code",
   "execution_count": 38,
   "metadata": {
    "collapsed": false
   },
   "outputs": [
    {
     "name": "stdout",
     "output_type": "stream",
     "text": [
      "927\n"
     ]
    }
   ],
   "source": [
    "zds = wrl.zonalstats.DataSource(xyz[:, 0:2].reshape(-1, 2), rad)\n",
    "print(zds.ds.GetLayer().GetFeatureCount())"
   ]
  },
  {
   "cell_type": "markdown",
   "metadata": {},
   "source": [
    "# Create SR beam polygons using R\n",
    "--------------------------"
   ]
  },
  {
   "cell_type": "code",
   "execution_count": 1,
   "metadata": {
    "collapsed": false
   },
   "outputs": [
    {
     "ename": "NameError",
     "evalue": "name 'zds' is not defined",
     "output_type": "error",
     "traceback": [
      "\u001b[1;31m---------------------------------------------------------------------------\u001b[0m",
      "\u001b[1;31mNameError\u001b[0m                                 Traceback (most recent call last)",
      "\u001b[1;32m<ipython-input-1-a199d01a8492>\u001b[0m in \u001b[0;36m<module>\u001b[1;34m()\u001b[0m\n\u001b[1;32m----> 1\u001b[1;33m \u001b[0mtmp_trg_lyr\u001b[0m \u001b[1;33m=\u001b[0m \u001b[0mzds\u001b[0m\u001b[1;33m.\u001b[0m\u001b[0mds\u001b[0m\u001b[1;33m.\u001b[0m\u001b[0mGetLayer\u001b[0m\u001b[1;33m(\u001b[0m\u001b[1;33m)\u001b[0m\u001b[1;33m\u001b[0m\u001b[0m\n\u001b[0m\u001b[0;32m      2\u001b[0m \u001b[0mtrg_poly\u001b[0m \u001b[1;33m=\u001b[0m \u001b[1;33m[\u001b[0m\u001b[1;33m]\u001b[0m\u001b[1;33m\u001b[0m\u001b[0m\n\u001b[0;32m      3\u001b[0m \u001b[1;32mfor\u001b[0m \u001b[0mi\u001b[0m\u001b[1;33m,\u001b[0m \u001b[0mfeat\u001b[0m \u001b[1;32min\u001b[0m \u001b[0menumerate\u001b[0m\u001b[1;33m(\u001b[0m\u001b[0mtmp_trg_lyr\u001b[0m\u001b[1;33m)\u001b[0m\u001b[1;33m:\u001b[0m\u001b[1;33m\u001b[0m\u001b[0m\n\u001b[0;32m      4\u001b[0m     \u001b[0mgeom\u001b[0m \u001b[1;33m=\u001b[0m \u001b[0mfeat\u001b[0m\u001b[1;33m.\u001b[0m\u001b[0mGetGeometryRef\u001b[0m\u001b[1;33m(\u001b[0m\u001b[1;33m)\u001b[0m\u001b[1;33m.\u001b[0m\u001b[0mBuffer\u001b[0m\u001b[1;33m(\u001b[0m\u001b[0mrs_prof\u001b[0m\u001b[1;33m[\u001b[0m\u001b[0mi\u001b[0m\u001b[1;33m]\u001b[0m\u001b[1;33m)\u001b[0m\u001b[1;33m\u001b[0m\u001b[0m\n\u001b[0;32m      5\u001b[0m     \u001b[0mpoly\u001b[0m \u001b[1;33m=\u001b[0m \u001b[0mwrl\u001b[0m\u001b[1;33m.\u001b[0m\u001b[0mgeoref\u001b[0m\u001b[1;33m.\u001b[0m\u001b[0mogr_to_numpy\u001b[0m\u001b[1;33m(\u001b[0m\u001b[0mgeom\u001b[0m\u001b[1;33m)\u001b[0m\u001b[1;33m\u001b[0m\u001b[0m\n",
      "\u001b[1;31mNameError\u001b[0m: name 'zds' is not defined"
     ]
    }
   ],
   "source": [
    "tmp_trg_lyr = zds.ds.GetLayer()\n",
    "trg_poly = []\n",
    "for i, feat in enumerate(tmp_trg_lyr):\n",
    "    geom = feat.GetGeometryRef().Buffer(rs_prof[i])\n",
    "    poly = wrl.georef.ogr_to_numpy(geom)\n",
    "    trg_poly.append(poly)"
   ]
  },
  {
   "cell_type": "markdown",
   "metadata": {},
   "source": [
    "# Create ZonalDataPoly for GR and SR profiles\n",
    "------------------------"
   ]
  },
  {
   "cell_type": "code",
   "execution_count": 2,
   "metadata": {
    "collapsed": false
   },
   "outputs": [
    {
     "name": "stdout",
     "output_type": "stream",
     "text": [
      "creating\n"
     ]
    },
    {
     "ename": "NameError",
     "evalue": "name 'wrl' is not defined",
     "output_type": "error",
     "traceback": [
      "\u001b[1;31m---------------------------------------------------------------------------\u001b[0m",
      "\u001b[1;31mNameError\u001b[0m                                 Traceback (most recent call last)",
      "\u001b[1;32m<ipython-input-2-3a4d8a318d68>\u001b[0m in \u001b[0;36m<module>\u001b[1;34m()\u001b[0m\n\u001b[1;32m----> 1\u001b[1;33m \u001b[0mget_ipython\u001b[0m\u001b[1;33m(\u001b[0m\u001b[1;33m)\u001b[0m\u001b[1;33m.\u001b[0m\u001b[0mrun_cell_magic\u001b[0m\u001b[1;33m(\u001b[0m\u001b[1;34mu'time'\u001b[0m\u001b[1;33m,\u001b[0m \u001b[1;34mu''\u001b[0m\u001b[1;33m,\u001b[0m \u001b[1;34mu'print(\"creating\")\\nzdp = wrl.zonalstats.ZonalDataPoly(gr_poly[..., 0:2].reshape(-1, 5, 2), trg_poly, srs=rad)\\nzdp.dump_vector(\\'m3d_zonal_poly_{0}\\'.format(platf))'\u001b[0m\u001b[1;33m)\u001b[0m\u001b[1;33m\u001b[0m\u001b[0m\n\u001b[0m",
      "\u001b[1;32m/home/velibor/anaconda2/envs/wradlib/lib/python2.7/site-packages/IPython/core/interactiveshell.pyc\u001b[0m in \u001b[0;36mrun_cell_magic\u001b[1;34m(self, magic_name, line, cell)\u001b[0m\n\u001b[0;32m   2118\u001b[0m             \u001b[0mmagic_arg_s\u001b[0m \u001b[1;33m=\u001b[0m \u001b[0mself\u001b[0m\u001b[1;33m.\u001b[0m\u001b[0mvar_expand\u001b[0m\u001b[1;33m(\u001b[0m\u001b[0mline\u001b[0m\u001b[1;33m,\u001b[0m \u001b[0mstack_depth\u001b[0m\u001b[1;33m)\u001b[0m\u001b[1;33m\u001b[0m\u001b[0m\n\u001b[0;32m   2119\u001b[0m             \u001b[1;32mwith\u001b[0m \u001b[0mself\u001b[0m\u001b[1;33m.\u001b[0m\u001b[0mbuiltin_trap\u001b[0m\u001b[1;33m:\u001b[0m\u001b[1;33m\u001b[0m\u001b[0m\n\u001b[1;32m-> 2120\u001b[1;33m                 \u001b[0mresult\u001b[0m \u001b[1;33m=\u001b[0m \u001b[0mfn\u001b[0m\u001b[1;33m(\u001b[0m\u001b[0mmagic_arg_s\u001b[0m\u001b[1;33m,\u001b[0m \u001b[0mcell\u001b[0m\u001b[1;33m)\u001b[0m\u001b[1;33m\u001b[0m\u001b[0m\n\u001b[0m\u001b[0;32m   2121\u001b[0m             \u001b[1;32mreturn\u001b[0m \u001b[0mresult\u001b[0m\u001b[1;33m\u001b[0m\u001b[0m\n\u001b[0;32m   2122\u001b[0m \u001b[1;33m\u001b[0m\u001b[0m\n",
      "\u001b[1;32m<decorator-gen-60>\u001b[0m in \u001b[0;36mtime\u001b[1;34m(self, line, cell, local_ns)\u001b[0m\n",
      "\u001b[1;32m/home/velibor/anaconda2/envs/wradlib/lib/python2.7/site-packages/IPython/core/magic.pyc\u001b[0m in \u001b[0;36m<lambda>\u001b[1;34m(f, *a, **k)\u001b[0m\n\u001b[0;32m    191\u001b[0m     \u001b[1;31m# but it's overkill for just that one bit of state.\u001b[0m\u001b[1;33m\u001b[0m\u001b[1;33m\u001b[0m\u001b[0m\n\u001b[0;32m    192\u001b[0m     \u001b[1;32mdef\u001b[0m \u001b[0mmagic_deco\u001b[0m\u001b[1;33m(\u001b[0m\u001b[0marg\u001b[0m\u001b[1;33m)\u001b[0m\u001b[1;33m:\u001b[0m\u001b[1;33m\u001b[0m\u001b[0m\n\u001b[1;32m--> 193\u001b[1;33m         \u001b[0mcall\u001b[0m \u001b[1;33m=\u001b[0m \u001b[1;32mlambda\u001b[0m \u001b[0mf\u001b[0m\u001b[1;33m,\u001b[0m \u001b[1;33m*\u001b[0m\u001b[0ma\u001b[0m\u001b[1;33m,\u001b[0m \u001b[1;33m**\u001b[0m\u001b[0mk\u001b[0m\u001b[1;33m:\u001b[0m \u001b[0mf\u001b[0m\u001b[1;33m(\u001b[0m\u001b[1;33m*\u001b[0m\u001b[0ma\u001b[0m\u001b[1;33m,\u001b[0m \u001b[1;33m**\u001b[0m\u001b[0mk\u001b[0m\u001b[1;33m)\u001b[0m\u001b[1;33m\u001b[0m\u001b[0m\n\u001b[0m\u001b[0;32m    194\u001b[0m \u001b[1;33m\u001b[0m\u001b[0m\n\u001b[0;32m    195\u001b[0m         \u001b[1;32mif\u001b[0m \u001b[0mcallable\u001b[0m\u001b[1;33m(\u001b[0m\u001b[0marg\u001b[0m\u001b[1;33m)\u001b[0m\u001b[1;33m:\u001b[0m\u001b[1;33m\u001b[0m\u001b[0m\n",
      "\u001b[1;32m/home/velibor/anaconda2/envs/wradlib/lib/python2.7/site-packages/IPython/core/magics/execution.pyc\u001b[0m in \u001b[0;36mtime\u001b[1;34m(self, line, cell, local_ns)\u001b[0m\n\u001b[0;32m   1175\u001b[0m         \u001b[1;32melse\u001b[0m\u001b[1;33m:\u001b[0m\u001b[1;33m\u001b[0m\u001b[0m\n\u001b[0;32m   1176\u001b[0m             \u001b[0mst\u001b[0m \u001b[1;33m=\u001b[0m \u001b[0mclock2\u001b[0m\u001b[1;33m(\u001b[0m\u001b[1;33m)\u001b[0m\u001b[1;33m\u001b[0m\u001b[0m\n\u001b[1;32m-> 1177\u001b[1;33m             \u001b[1;32mexec\u001b[0m\u001b[1;33m(\u001b[0m\u001b[0mcode\u001b[0m\u001b[1;33m,\u001b[0m \u001b[0mglob\u001b[0m\u001b[1;33m,\u001b[0m \u001b[0mlocal_ns\u001b[0m\u001b[1;33m)\u001b[0m\u001b[1;33m\u001b[0m\u001b[0m\n\u001b[0m\u001b[0;32m   1178\u001b[0m             \u001b[0mend\u001b[0m \u001b[1;33m=\u001b[0m \u001b[0mclock2\u001b[0m\u001b[1;33m(\u001b[0m\u001b[1;33m)\u001b[0m\u001b[1;33m\u001b[0m\u001b[0m\n\u001b[0;32m   1179\u001b[0m             \u001b[0mout\u001b[0m \u001b[1;33m=\u001b[0m \u001b[0mNone\u001b[0m\u001b[1;33m\u001b[0m\u001b[0m\n",
      "\u001b[1;32m<timed exec>\u001b[0m in \u001b[0;36m<module>\u001b[1;34m()\u001b[0m\n",
      "\u001b[1;31mNameError\u001b[0m: name 'wrl' is not defined"
     ]
    }
   ],
   "source": [
    "%%time\n",
    "print(\"creating\")\n",
    "zdp = wrl.zonalstats.ZonalDataPoly(gr_poly[..., 0:2].reshape(-1, 5, 2), trg_poly, srs=rad)\n",
    "zdp.dump_vector('m3d_zonal_poly_{0}'.format(platf))"
   ]
  },
  {
   "cell_type": "code",
   "execution_count": 3,
   "metadata": {
    "collapsed": false
   },
   "outputs": [
    {
     "name": "stdout",
     "output_type": "stream",
     "text": [
      "loading\n"
     ]
    },
    {
     "ename": "NameError",
     "evalue": "name 'wrl' is not defined",
     "output_type": "error",
     "traceback": [
      "\u001b[1;31m---------------------------------------------------------------------------\u001b[0m",
      "\u001b[1;31mNameError\u001b[0m                                 Traceback (most recent call last)",
      "\u001b[1;32m<ipython-input-3-08e37e6cfdf1>\u001b[0m in \u001b[0;36m<module>\u001b[1;34m()\u001b[0m\n\u001b[1;32m----> 1\u001b[1;33m \u001b[0mget_ipython\u001b[0m\u001b[1;33m(\u001b[0m\u001b[1;33m)\u001b[0m\u001b[1;33m.\u001b[0m\u001b[0mrun_cell_magic\u001b[0m\u001b[1;33m(\u001b[0m\u001b[1;34mu'time'\u001b[0m\u001b[1;33m,\u001b[0m \u001b[1;34mu''\u001b[0m\u001b[1;33m,\u001b[0m \u001b[1;34mu'print(\"loading\")\\nobj3 = wrl.zonalstats.GridCellsToPoly(\\'m3d_zonal_poly_{0}\\'.format(platf))'\u001b[0m\u001b[1;33m)\u001b[0m\u001b[1;33m\u001b[0m\u001b[0m\n\u001b[0m",
      "\u001b[1;32m/home/velibor/anaconda2/envs/wradlib/lib/python2.7/site-packages/IPython/core/interactiveshell.pyc\u001b[0m in \u001b[0;36mrun_cell_magic\u001b[1;34m(self, magic_name, line, cell)\u001b[0m\n\u001b[0;32m   2118\u001b[0m             \u001b[0mmagic_arg_s\u001b[0m \u001b[1;33m=\u001b[0m \u001b[0mself\u001b[0m\u001b[1;33m.\u001b[0m\u001b[0mvar_expand\u001b[0m\u001b[1;33m(\u001b[0m\u001b[0mline\u001b[0m\u001b[1;33m,\u001b[0m \u001b[0mstack_depth\u001b[0m\u001b[1;33m)\u001b[0m\u001b[1;33m\u001b[0m\u001b[0m\n\u001b[0;32m   2119\u001b[0m             \u001b[1;32mwith\u001b[0m \u001b[0mself\u001b[0m\u001b[1;33m.\u001b[0m\u001b[0mbuiltin_trap\u001b[0m\u001b[1;33m:\u001b[0m\u001b[1;33m\u001b[0m\u001b[0m\n\u001b[1;32m-> 2120\u001b[1;33m                 \u001b[0mresult\u001b[0m \u001b[1;33m=\u001b[0m \u001b[0mfn\u001b[0m\u001b[1;33m(\u001b[0m\u001b[0mmagic_arg_s\u001b[0m\u001b[1;33m,\u001b[0m \u001b[0mcell\u001b[0m\u001b[1;33m)\u001b[0m\u001b[1;33m\u001b[0m\u001b[0m\n\u001b[0m\u001b[0;32m   2121\u001b[0m             \u001b[1;32mreturn\u001b[0m \u001b[0mresult\u001b[0m\u001b[1;33m\u001b[0m\u001b[0m\n\u001b[0;32m   2122\u001b[0m \u001b[1;33m\u001b[0m\u001b[0m\n",
      "\u001b[1;32m<decorator-gen-60>\u001b[0m in \u001b[0;36mtime\u001b[1;34m(self, line, cell, local_ns)\u001b[0m\n",
      "\u001b[1;32m/home/velibor/anaconda2/envs/wradlib/lib/python2.7/site-packages/IPython/core/magic.pyc\u001b[0m in \u001b[0;36m<lambda>\u001b[1;34m(f, *a, **k)\u001b[0m\n\u001b[0;32m    191\u001b[0m     \u001b[1;31m# but it's overkill for just that one bit of state.\u001b[0m\u001b[1;33m\u001b[0m\u001b[1;33m\u001b[0m\u001b[0m\n\u001b[0;32m    192\u001b[0m     \u001b[1;32mdef\u001b[0m \u001b[0mmagic_deco\u001b[0m\u001b[1;33m(\u001b[0m\u001b[0marg\u001b[0m\u001b[1;33m)\u001b[0m\u001b[1;33m:\u001b[0m\u001b[1;33m\u001b[0m\u001b[0m\n\u001b[1;32m--> 193\u001b[1;33m         \u001b[0mcall\u001b[0m \u001b[1;33m=\u001b[0m \u001b[1;32mlambda\u001b[0m \u001b[0mf\u001b[0m\u001b[1;33m,\u001b[0m \u001b[1;33m*\u001b[0m\u001b[0ma\u001b[0m\u001b[1;33m,\u001b[0m \u001b[1;33m**\u001b[0m\u001b[0mk\u001b[0m\u001b[1;33m:\u001b[0m \u001b[0mf\u001b[0m\u001b[1;33m(\u001b[0m\u001b[1;33m*\u001b[0m\u001b[0ma\u001b[0m\u001b[1;33m,\u001b[0m \u001b[1;33m**\u001b[0m\u001b[0mk\u001b[0m\u001b[1;33m)\u001b[0m\u001b[1;33m\u001b[0m\u001b[0m\n\u001b[0m\u001b[0;32m    194\u001b[0m \u001b[1;33m\u001b[0m\u001b[0m\n\u001b[0;32m    195\u001b[0m         \u001b[1;32mif\u001b[0m \u001b[0mcallable\u001b[0m\u001b[1;33m(\u001b[0m\u001b[0marg\u001b[0m\u001b[1;33m)\u001b[0m\u001b[1;33m:\u001b[0m\u001b[1;33m\u001b[0m\u001b[0m\n",
      "\u001b[1;32m/home/velibor/anaconda2/envs/wradlib/lib/python2.7/site-packages/IPython/core/magics/execution.pyc\u001b[0m in \u001b[0;36mtime\u001b[1;34m(self, line, cell, local_ns)\u001b[0m\n\u001b[0;32m   1175\u001b[0m         \u001b[1;32melse\u001b[0m\u001b[1;33m:\u001b[0m\u001b[1;33m\u001b[0m\u001b[0m\n\u001b[0;32m   1176\u001b[0m             \u001b[0mst\u001b[0m \u001b[1;33m=\u001b[0m \u001b[0mclock2\u001b[0m\u001b[1;33m(\u001b[0m\u001b[1;33m)\u001b[0m\u001b[1;33m\u001b[0m\u001b[0m\n\u001b[1;32m-> 1177\u001b[1;33m             \u001b[1;32mexec\u001b[0m\u001b[1;33m(\u001b[0m\u001b[0mcode\u001b[0m\u001b[1;33m,\u001b[0m \u001b[0mglob\u001b[0m\u001b[1;33m,\u001b[0m \u001b[0mlocal_ns\u001b[0m\u001b[1;33m)\u001b[0m\u001b[1;33m\u001b[0m\u001b[0m\n\u001b[0m\u001b[0;32m   1178\u001b[0m             \u001b[0mend\u001b[0m \u001b[1;33m=\u001b[0m \u001b[0mclock2\u001b[0m\u001b[1;33m(\u001b[0m\u001b[1;33m)\u001b[0m\u001b[1;33m\u001b[0m\u001b[0m\n\u001b[0;32m   1179\u001b[0m             \u001b[0mout\u001b[0m \u001b[1;33m=\u001b[0m \u001b[0mNone\u001b[0m\u001b[1;33m\u001b[0m\u001b[0m\n",
      "\u001b[1;32m<timed exec>\u001b[0m in \u001b[0;36m<module>\u001b[1;34m()\u001b[0m\n",
      "\u001b[1;31mNameError\u001b[0m: name 'wrl' is not defined"
     ]
    }
   ],
   "source": [
    "%%time\n",
    "print(\"loading\")\n",
    "obj3 = wrl.zonalstats.GridCellsToPoly('m3d_zonal_poly_{0}'.format(platf))"
   ]
  },
  {
   "cell_type": "markdown",
   "metadata": {},
   "source": [
    "# Average GR volume and reflectivity\n",
    "---------------------------"
   ]
  },
  {
   "cell_type": "code",
   "execution_count": 4,
   "metadata": {
    "collapsed": false
   },
   "outputs": [
    {
     "ename": "NameError",
     "evalue": "name 'obj3' is not defined",
     "output_type": "error",
     "traceback": [
      "\u001b[1;31m---------------------------------------------------------------------------\u001b[0m",
      "\u001b[1;31mNameError\u001b[0m                                 Traceback (most recent call last)",
      "\u001b[1;32m<ipython-input-4-ac63c78a6747>\u001b[0m in \u001b[0;36m<module>\u001b[1;34m()\u001b[0m\n\u001b[1;32m----> 1\u001b[1;33m \u001b[0mget_ipython\u001b[0m\u001b[1;33m(\u001b[0m\u001b[1;33m)\u001b[0m\u001b[1;33m.\u001b[0m\u001b[0mrun_cell_magic\u001b[0m\u001b[1;33m(\u001b[0m\u001b[1;34mu'time'\u001b[0m\u001b[1;33m,\u001b[0m \u001b[1;34mu''\u001b[0m\u001b[1;33m,\u001b[0m \u001b[1;34mu'print(obj3.ix.shape)\\nvolgr1 = np.array([np.sum(vol_gr.ravel()[obj3.ix[i]])\\n                   for i in np.arange(len(obj3.ix))[~obj3.check_empty()]])\\nprint(volgr1.shape)\\n\\nref_gr_i = wrl.trafo.idecibel(ref_gr.ravel())\\n#ref_gr_ku_i = wrl.trafo.idecibel(ref_gr_ku.ravel())\\nrefgr1a = np.array([np.nanmean(ref_gr_i[obj3.ix[i]])\\n             for i in np.arange(len(obj3.ix))[~obj3.check_empty()]])\\nrefgr1a = wrl.trafo.decibel(refgr1a)\\n#refgr2a = np.array([np.nanmean(ref_gr_ku_i[obj3.ix[i]])\\n#             for i in np.arange(len(obj3.ix))[~obj3.check_empty()]])\\n#refgr2a = wrl.trafo.decibel(refgr2a)'\u001b[0m\u001b[1;33m)\u001b[0m\u001b[1;33m\u001b[0m\u001b[0m\n\u001b[0m",
      "\u001b[1;32m/home/velibor/anaconda2/envs/wradlib/lib/python2.7/site-packages/IPython/core/interactiveshell.pyc\u001b[0m in \u001b[0;36mrun_cell_magic\u001b[1;34m(self, magic_name, line, cell)\u001b[0m\n\u001b[0;32m   2118\u001b[0m             \u001b[0mmagic_arg_s\u001b[0m \u001b[1;33m=\u001b[0m \u001b[0mself\u001b[0m\u001b[1;33m.\u001b[0m\u001b[0mvar_expand\u001b[0m\u001b[1;33m(\u001b[0m\u001b[0mline\u001b[0m\u001b[1;33m,\u001b[0m \u001b[0mstack_depth\u001b[0m\u001b[1;33m)\u001b[0m\u001b[1;33m\u001b[0m\u001b[0m\n\u001b[0;32m   2119\u001b[0m             \u001b[1;32mwith\u001b[0m \u001b[0mself\u001b[0m\u001b[1;33m.\u001b[0m\u001b[0mbuiltin_trap\u001b[0m\u001b[1;33m:\u001b[0m\u001b[1;33m\u001b[0m\u001b[0m\n\u001b[1;32m-> 2120\u001b[1;33m                 \u001b[0mresult\u001b[0m \u001b[1;33m=\u001b[0m \u001b[0mfn\u001b[0m\u001b[1;33m(\u001b[0m\u001b[0mmagic_arg_s\u001b[0m\u001b[1;33m,\u001b[0m \u001b[0mcell\u001b[0m\u001b[1;33m)\u001b[0m\u001b[1;33m\u001b[0m\u001b[0m\n\u001b[0m\u001b[0;32m   2121\u001b[0m             \u001b[1;32mreturn\u001b[0m \u001b[0mresult\u001b[0m\u001b[1;33m\u001b[0m\u001b[0m\n\u001b[0;32m   2122\u001b[0m \u001b[1;33m\u001b[0m\u001b[0m\n",
      "\u001b[1;32m<decorator-gen-60>\u001b[0m in \u001b[0;36mtime\u001b[1;34m(self, line, cell, local_ns)\u001b[0m\n",
      "\u001b[1;32m/home/velibor/anaconda2/envs/wradlib/lib/python2.7/site-packages/IPython/core/magic.pyc\u001b[0m in \u001b[0;36m<lambda>\u001b[1;34m(f, *a, **k)\u001b[0m\n\u001b[0;32m    191\u001b[0m     \u001b[1;31m# but it's overkill for just that one bit of state.\u001b[0m\u001b[1;33m\u001b[0m\u001b[1;33m\u001b[0m\u001b[0m\n\u001b[0;32m    192\u001b[0m     \u001b[1;32mdef\u001b[0m \u001b[0mmagic_deco\u001b[0m\u001b[1;33m(\u001b[0m\u001b[0marg\u001b[0m\u001b[1;33m)\u001b[0m\u001b[1;33m:\u001b[0m\u001b[1;33m\u001b[0m\u001b[0m\n\u001b[1;32m--> 193\u001b[1;33m         \u001b[0mcall\u001b[0m \u001b[1;33m=\u001b[0m \u001b[1;32mlambda\u001b[0m \u001b[0mf\u001b[0m\u001b[1;33m,\u001b[0m \u001b[1;33m*\u001b[0m\u001b[0ma\u001b[0m\u001b[1;33m,\u001b[0m \u001b[1;33m**\u001b[0m\u001b[0mk\u001b[0m\u001b[1;33m:\u001b[0m \u001b[0mf\u001b[0m\u001b[1;33m(\u001b[0m\u001b[1;33m*\u001b[0m\u001b[0ma\u001b[0m\u001b[1;33m,\u001b[0m \u001b[1;33m**\u001b[0m\u001b[0mk\u001b[0m\u001b[1;33m)\u001b[0m\u001b[1;33m\u001b[0m\u001b[0m\n\u001b[0m\u001b[0;32m    194\u001b[0m \u001b[1;33m\u001b[0m\u001b[0m\n\u001b[0;32m    195\u001b[0m         \u001b[1;32mif\u001b[0m \u001b[0mcallable\u001b[0m\u001b[1;33m(\u001b[0m\u001b[0marg\u001b[0m\u001b[1;33m)\u001b[0m\u001b[1;33m:\u001b[0m\u001b[1;33m\u001b[0m\u001b[0m\n",
      "\u001b[1;32m/home/velibor/anaconda2/envs/wradlib/lib/python2.7/site-packages/IPython/core/magics/execution.pyc\u001b[0m in \u001b[0;36mtime\u001b[1;34m(self, line, cell, local_ns)\u001b[0m\n\u001b[0;32m   1175\u001b[0m         \u001b[1;32melse\u001b[0m\u001b[1;33m:\u001b[0m\u001b[1;33m\u001b[0m\u001b[0m\n\u001b[0;32m   1176\u001b[0m             \u001b[0mst\u001b[0m \u001b[1;33m=\u001b[0m \u001b[0mclock2\u001b[0m\u001b[1;33m(\u001b[0m\u001b[1;33m)\u001b[0m\u001b[1;33m\u001b[0m\u001b[0m\n\u001b[1;32m-> 1177\u001b[1;33m             \u001b[1;32mexec\u001b[0m\u001b[1;33m(\u001b[0m\u001b[0mcode\u001b[0m\u001b[1;33m,\u001b[0m \u001b[0mglob\u001b[0m\u001b[1;33m,\u001b[0m \u001b[0mlocal_ns\u001b[0m\u001b[1;33m)\u001b[0m\u001b[1;33m\u001b[0m\u001b[0m\n\u001b[0m\u001b[0;32m   1178\u001b[0m             \u001b[0mend\u001b[0m \u001b[1;33m=\u001b[0m \u001b[0mclock2\u001b[0m\u001b[1;33m(\u001b[0m\u001b[1;33m)\u001b[0m\u001b[1;33m\u001b[0m\u001b[0m\n\u001b[0;32m   1179\u001b[0m             \u001b[0mout\u001b[0m \u001b[1;33m=\u001b[0m \u001b[0mNone\u001b[0m\u001b[1;33m\u001b[0m\u001b[0m\n",
      "\u001b[1;32m<timed exec>\u001b[0m in \u001b[0;36m<module>\u001b[1;34m()\u001b[0m\n",
      "\u001b[1;31mNameError\u001b[0m: name 'obj3' is not defined"
     ]
    }
   ],
   "source": [
    "%%time\n",
    "print(obj3.ix.shape)\n",
    "volgr1 = np.array([np.sum(vol_gr.ravel()[obj3.ix[i]])\n",
    "                   for i in np.arange(len(obj3.ix))[~obj3.check_empty()]])\n",
    "print(volgr1.shape)\n",
    "\n",
    "ref_gr_i = wrl.trafo.idecibel(ref_gr.ravel())\n",
    "#ref_gr_ku_i = wrl.trafo.idecibel(ref_gr_ku.ravel())\n",
    "refgr1a = np.array([np.nanmean(ref_gr_i[obj3.ix[i]])\n",
    "             for i in np.arange(len(obj3.ix))[~obj3.check_empty()]])\n",
    "refgr1a = wrl.trafo.decibel(refgr1a)\n",
    "#refgr2a = np.array([np.nanmean(ref_gr_ku_i[obj3.ix[i]])\n",
    "#             for i in np.arange(len(obj3.ix))[~obj3.check_empty()]])\n",
    "#refgr2a = wrl.trafo.decibel(refgr2a)"
   ]
  },
  {
   "cell_type": "code",
   "execution_count": 5,
   "metadata": {
    "collapsed": true
   },
   "outputs": [],
   "source": [
    "##### betrachten von noederschlags relevanten Reflek und Threshold DPR Ku = 15 DBZ\n",
    "from satlib import corcor"
   ]
  },
  {
   "cell_type": "markdown",
   "metadata": {},
   "source": [
    "# Threshold festlegen\n",
    "---------------------------------"
   ]
  },
  {
   "cell_type": "code",
   "execution_count": 6,
   "metadata": {
    "collapsed": false
   },
   "outputs": [
    {
     "ename": "NameError",
     "evalue": "name 'np' is not defined",
     "output_type": "error",
     "traceback": [
      "\u001b[1;31m---------------------------------------------------------------------------\u001b[0m",
      "\u001b[1;31mNameError\u001b[0m                                 Traceback (most recent call last)",
      "\u001b[1;32m<ipython-input-6-d56ad93efdf1>\u001b[0m in \u001b[0;36m<module>\u001b[1;34m()\u001b[0m\n\u001b[0;32m      1\u001b[0m \u001b[0mTH\u001b[0m \u001b[1;33m=\u001b[0m \u001b[1;36m15\u001b[0m\u001b[1;33m\u001b[0m\u001b[0m\n\u001b[1;32m----> 2\u001b[1;33m \u001b[0mrefsr1a\u001b[0m\u001b[1;33m[\u001b[0m\u001b[0mrefsr1a\u001b[0m\u001b[1;33m<=\u001b[0m\u001b[0mTH\u001b[0m\u001b[1;33m]\u001b[0m\u001b[1;33m=\u001b[0m\u001b[0mnp\u001b[0m\u001b[1;33m.\u001b[0m\u001b[0mnan\u001b[0m\u001b[1;33m\u001b[0m\u001b[0m\n\u001b[0m\u001b[0;32m      3\u001b[0m \u001b[0mrefgr1a\u001b[0m\u001b[1;33m[\u001b[0m\u001b[0mrefgr1a\u001b[0m\u001b[1;33m<=\u001b[0m\u001b[0mTH\u001b[0m\u001b[1;33m]\u001b[0m\u001b[1;33m=\u001b[0m\u001b[0mnp\u001b[0m\u001b[1;33m.\u001b[0m\u001b[0mnan\u001b[0m\u001b[1;33m\u001b[0m\u001b[0m\n\u001b[0;32m      4\u001b[0m \u001b[0mref_gr\u001b[0m\u001b[1;33m[\u001b[0m\u001b[0mref_gr\u001b[0m\u001b[1;33m<=\u001b[0m\u001b[0mTH\u001b[0m\u001b[1;33m]\u001b[0m\u001b[1;33m=\u001b[0m\u001b[0mnp\u001b[0m\u001b[1;33m.\u001b[0m\u001b[0mnan\u001b[0m\u001b[1;33m\u001b[0m\u001b[0m\n\u001b[0;32m      5\u001b[0m \u001b[0mref_sr\u001b[0m\u001b[1;33m[\u001b[0m\u001b[0mref_sr\u001b[0m\u001b[1;33m<=\u001b[0m\u001b[0mTH\u001b[0m\u001b[1;33m]\u001b[0m\u001b[1;33m=\u001b[0m\u001b[0mnp\u001b[0m\u001b[1;33m.\u001b[0m\u001b[0mnan\u001b[0m\u001b[1;33m\u001b[0m\u001b[0m\n",
      "\u001b[1;31mNameError\u001b[0m: name 'np' is not defined"
     ]
    }
   ],
   "source": [
    "TH = 15\n",
    "refsr1a[refsr1a<=TH]=np.nan\n",
    "refgr1a[refgr1a<=TH]=np.nan\n",
    "ref_gr[ref_gr<=TH]=np.nan\n",
    "ref_sr[ref_sr<=TH]=np.nan"
   ]
  },
  {
   "cell_type": "markdown",
   "metadata": {},
   "source": [
    "# PLOT\n",
    "______________"
   ]
  },
  {
   "cell_type": "code",
   "execution_count": null,
   "metadata": {
    "collapsed": false
   },
   "outputs": [],
   "source": [
    "fig = pl.figure(figsize=(14,14))\n",
    "ax = fig.add_subplot(221, aspect=\"equal\")\n",
    "pl.scatter(refgr1a, refsr1a, marker=\"+\", c=\"black\")\n",
    "pl.plot([10,50],[10,50], linestyle=\"solid\", color=\"black\")\n",
    "#pl.xlim(10,50)\n",
    "#pl.ylim(10,50)\n",
    "pl.grid()\n",
    "pl.xlabel(\"GR reflectivity (dBZ)\")\n",
    "pl.ylabel(\"SR reflectivity (dBZ)\")\n",
    "pl.title(corcor(refgr1a, refsr1a))\n",
    "\n",
    "ax = fig.add_subplot(222)\n",
    "m1 = ~np.isnan(refgr1a)& ~np.isnan(refsr1a)\n",
    "\n",
    "pl.hist(refgr1a[m1], bins=20, edgecolor=\"blue\", facecolor=\"grey\", label=\"GR\")\n",
    "pl.hist(refsr1a[m1], bins=20, edgecolor=\"red\", facecolor=\"None\", label=\"SR\", lw=3)\n",
    "pl.xlabel(\"Reflectivity (dBZ)\")\n",
    "pl.legend()\n",
    "pl.grid()\n",
    "pl.title('Matched SR and GR Ref')\n",
    "pl.xlim(10,50)\n",
    "\n",
    "ax = fig.add_subplot(224)\n",
    "r_gr = ref_gr.reshape(ref_gr.shape[0]*ref_gr.shape[1])\n",
    "r_sr = ref_sr.reshape(ref_sr.shape[0]*ref_sr.shape[1]*ref_sr.shape[2])\n",
    "m1, m2 = ~np.isnan(r_gr), ~np.isnan(r_sr)\n",
    "\n",
    "pl.hist(r_gr[m1], bins=20, edgecolor=\"blue\", facecolor=\"grey\", label=\"GR\", normed=1)\n",
    "pl.hist(r_sr[m2], bins=20, edgecolor=\"red\", facecolor=\"None\", label=\"SR\", lw=3, normed=1)\n",
    "pl.xlabel(\"Reflectivity (dBZ)\")\n",
    "pl.legend()\n",
    "pl.grid()\n",
    "pl.title('Normed Raw SR and GR Ref')\n",
    "pl.xlim(10,50)\n",
    "#fig.suptitle(\"uncorrected GR vs uncorrected SR\")\n",
    "\n",
    "pl.tight_layout()\n"
   ]
  },
  {
   "cell_type": "code",
   "execution_count": null,
   "metadata": {
    "collapsed": false
   },
   "outputs": [],
   "source": [
    "fig = pl.figure(figsize=(12,8))\n",
    "ax = fig.add_subplot(131, aspect=\"equal\")\n",
    "pl.scatter(xyz[..., 0], xyz[...,1], c=refsr1a, cmap=pl.cm.jet, vmin=TH, vmax=50, edgecolor=\"None\")\n",
    "pl.title(\"SR reflectivity\")\n",
    "pl.xlim(-100000, 150000)\n",
    "pl.ylim(-150000, 150000)\n",
    "pl.grid()\n",
    "pl.colorbar(shrink=0.5)\n",
    "\n",
    "ax = fig.add_subplot(132, aspect=\"equal\")\n",
    "pl.scatter(xyz[..., 0], xyz[...,1], c=refgr1a, cmap=pl.cm.jet, vmin=TH, vmax=50, edgecolor=\"None\")\n",
    "pl.title(\"GR reflectivity\")\n",
    "pl.xlim(-100000, 150000)\n",
    "pl.ylim(-150000, 150000)\n",
    "pl.grid()\n",
    "pl.colorbar(shrink=0.5)\n",
    "fig.suptitle(\"uncorrected GR vs uncorrected SR\")\n",
    "pl.tight_layout()\n",
    "\n",
    "ax = fig.add_subplot(133, aspect=\"equal\")\n",
    "pl.scatter(xyz[..., 0], xyz[...,1], c=refsr1a-refgr1a, cmap='seismic',vmin=-10,vmax=10 ,edgecolor=\"None\")\n",
    "pl.title(\"GR reflectivity\")\n",
    "pl.xlim(-100000, 150000)\n",
    "pl.ylim(-150000, 150000)\n",
    "pl.grid()\n",
    "pl.colorbar(shrink=0.5)\n",
    "fig.suptitle(\"uncorrected SR - GR\")\n",
    "pl.tight_layout()"
   ]
  },
  {
   "cell_type": "code",
   "execution_count": null,
   "metadata": {
    "collapsed": false
   },
   "outputs": [],
   "source": [
    "fig = pl.figure(figsize=(12,8))\n",
    "ax = fig.add_subplot(131, aspect=\"auto\")\n",
    "pl.scatter(xyz[..., 1], xyz[...,2], c=refsr1a, cmap=pl.cm.jet, vmin=TH, vmax=50, edgecolor=\"None\")\n",
    "pl.title(\"SR reflectivity\")\n",
    "pl.xlim(np.nanmin(xyz[...,1]),np.nanmax(xyz[...,1]))\n",
    "pl.ylim(np.nanmin(xyz[...,2]),np.nanmax(xyz[...,2]))\n",
    "pl.grid()\n",
    "pl.colorbar(shrink=0.5)\n",
    "\n",
    "ax = fig.add_subplot(132, aspect=\"auto\")\n",
    "pl.scatter(xyz[..., 1], xyz[...,2], c=refgr1a, cmap=pl.cm.jet, vmin=TH, vmax=50, edgecolor=\"None\")\n",
    "pl.title(\"GR reflectivity\")\n",
    "pl.xlim(np.nanmin(xyz[...,1]),np.nanmax(xyz[...,1]))\n",
    "pl.ylim(np.nanmin(xyz[...,2]),np.nanmax(xyz[...,2]))\n",
    "pl.grid()\n",
    "pl.colorbar(shrink=0.5)\n",
    "#fig.suptitle(\"uncorrected GR vs uncorrected SR\")\n",
    "pl.tight_layout()\n",
    "\n",
    "ax = fig.add_subplot(133, aspect=\"auto\")\n",
    "pl.scatter(xyz[..., 1], xyz[...,2], c=refsr1a-refgr1a, cmap='seismic',vmin=-10,vmax=10 ,edgecolor=\"None\")\n",
    "pl.title(\"SR - GR reflectivity\")\n",
    "pl.xlim(np.nanmin(xyz[...,1]),np.nanmax(xyz[...,1]))\n",
    "pl.ylim(np.nanmin(xyz[...,2]),np.nanmax(xyz[...,2]))\n",
    "pl.grid()\n",
    "pl.colorbar(shrink=0.5)\n",
    "#fig.suptitle(\"uncorrected SR - GR\")\n",
    "pl.tight_layout()"
   ]
  },
  {
   "cell_type": "markdown",
   "metadata": {
    "collapsed": true
   },
   "source": [
    "# ????? Wie groß ist der Fehler in unseren Breiten zwischen 3d Korrigier und nicht korrigiert ???"
   ]
  },
  {
   "cell_type": "code",
   "execution_count": null,
   "metadata": {
    "collapsed": true
   },
   "outputs": [],
   "source": []
  },
  {
   "cell_type": "code",
   "execution_count": null,
   "metadata": {
    "collapsed": false
   },
   "outputs": [],
   "source": [
    "from mpl_toolkits.mplot3d import Axes3D\n",
    "fig = pl.figure(figsize=(18,6))\n",
    "ax1 = fig.add_subplot(131, projection='3d')\n",
    "pppl = ax1.scatter(xyz[..., 0], xyz[..., 1], xyz[..., 2], c=refsr1a.ravel(), vmin=TH, vmax=50)\n",
    "fig.colorbar(pppl, shrink=0.5, aspect=5)\n",
    "ax1.set_title('Ref SR')\n",
    "\n",
    "ax2 = fig.add_subplot(132, projection='3d')\n",
    "pppl = ax2.scatter(xyz[..., 0], xyz[..., 1], xyz[..., 2], c=refgr1a.ravel(), vmin=TH, vmax=50)\n",
    "fig.colorbar(pppl, shrink=0.5, aspect=5)\n",
    "ax2.set_title('Ref GR')\n",
    "\n",
    "ax3 = fig.add_subplot(133, projection='3d')\n",
    "pppl = ax3.scatter(xyz[..., 0], xyz[..., 1], xyz[..., 2], c=refsr1a.ravel()-refgr1a.ravel(),\n",
    "                   cmap='seismic',vmin=-10,vmax=10)\n",
    "fig.colorbar(pppl, shrink=0.5, aspect=5)\n",
    "ax3.set_title('diffRef SR-GR')\n",
    "\n",
    "from satlib import corcor\n",
    "print ('Corellation: ',corcor( refgr1a, refsr1a))"
   ]
  },
  {
   "cell_type": "code",
   "execution_count": null,
   "metadata": {
    "collapsed": false
   },
   "outputs": [],
   "source": []
  },
  {
   "cell_type": "code",
   "execution_count": null,
   "metadata": {
    "collapsed": false
   },
   "outputs": [],
   "source": []
  },
  {
   "cell_type": "code",
   "execution_count": null,
   "metadata": {
    "collapsed": false
   },
   "outputs": [],
   "source": []
  },
  {
   "cell_type": "code",
   "execution_count": null,
   "metadata": {
    "collapsed": true
   },
   "outputs": [],
   "source": []
  },
  {
   "cell_type": "code",
   "execution_count": null,
   "metadata": {
    "collapsed": true
   },
   "outputs": [],
   "source": []
  },
  {
   "cell_type": "code",
   "execution_count": null,
   "metadata": {
    "collapsed": false
   },
   "outputs": [],
   "source": [
    "refgr1a.shape"
   ]
  },
  {
   "cell_type": "code",
   "execution_count": null,
   "metadata": {
    "collapsed": false
   },
   "outputs": [],
   "source": [
    "xyz.shape"
   ]
  },
  {
   "cell_type": "code",
   "execution_count": null,
   "metadata": {
    "collapsed": true
   },
   "outputs": [],
   "source": []
  },
  {
   "cell_type": "code",
   "execution_count": null,
   "metadata": {
    "collapsed": true
   },
   "outputs": [],
   "source": []
  }
 ],
 "metadata": {
  "kernelspec": {
   "display_name": "Python 2",
   "language": "python",
   "name": "python2"
  },
  "language_info": {
   "codemirror_mode": {
    "name": "ipython",
    "version": 2
   },
   "file_extension": ".py",
   "mimetype": "text/x-python",
   "name": "python",
   "nbconvert_exporter": "python",
   "pygments_lexer": "ipython2",
   "version": "2.7.11"
  }
 },
 "nbformat": 4,
 "nbformat_minor": 0
}
