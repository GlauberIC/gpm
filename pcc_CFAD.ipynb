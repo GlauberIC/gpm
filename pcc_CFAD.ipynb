{
 "cells": [
  {
   "cell_type": "code",
   "execution_count": 1,
   "metadata": {
    "collapsed": false
   },
   "outputs": [
    {
     "name": "stdout",
     "output_type": "stream",
     "text": [
      "_\n"
     ]
    }
   ],
   "source": [
    "\"\"\"\n",
    "\n",
    "Skript zur generierung von CFADS\n",
    "\n",
    "\"\"\"\n",
    "\n",
    "print ('_')"
   ]
  },
  {
   "cell_type": "code",
   "execution_count": 10,
   "metadata": {
    "collapsed": false
   },
   "outputs": [
    {
     "name": "stdout",
     "output_type": "stream",
     "text": [
      "_\n"
     ]
    }
   ],
   "source": [
    "#!/usr/bin/env python\n",
    "\n",
    "import h5py\n",
    "import numpy as np\n",
    "import matplotlib.pyplot as plt\n",
    "import pandas as pd\n",
    "import glob\n",
    "import math\n",
    "import pandas as pd\n",
    "import wradlib\n",
    "from scipy import stats\n",
    "import matplotlib.cm as cm\n",
    "my_cmap = cm.get_cmap('jet',40)\n",
    "my_cmap.set_under('lightgrey')\n",
    "my_cmap.set_over('darkred')\n",
    "from pcc import get_miub_cmap as my_cmap\n",
    "from pcc import plot_radar\n",
    "from pcc import boxpol_pos\n",
    "from pcc import plot_borders\n",
    "import wradlib as wrl\n",
    "from osgeo import osr\n",
    "from satlib import ipoli_radi\n",
    "from satlib import corcor\n",
    "Pos = boxpol_pos()\n",
    "blon0, blat0 = Pos['lon_ppi'], Pos['lat_ppi']\n",
    "bbx, bby = Pos['gkx_ppi'], Pos['gky_ppi']\n",
    "\n",
    "% matplotlib inline\n",
    "\n",
    "print (\"_\")"
   ]
  },
  {
   "cell_type": "markdown",
   "metadata": {},
   "source": [
    "# Einlesen von BoXPol Daten\n",
    "------------------------"
   ]
  },
  {
   "cell_type": "code",
   "execution_count": 11,
   "metadata": {
    "collapsed": false
   },
   "outputs": [],
   "source": [
    "ZP = '20141007023744'\n",
    "#ZP = '20141213140000'\n",
    "#ZP = '20150330233003'\n",
    "\n",
    "def CFAD(ZP):\n",
    "    \n",
    "    data_, height_ = np.array([]),np.array([])\n",
    "    \n",
    "    year = ZP[0:4]; ye = ZP[2:4]; m = ZP[4:6]; d = ZP[6:8]; ht = ZP[8:10]; mt = ZP[10:12]; st = ZP[12:14]\n",
    "\n",
    "    deg_scan =  [\"/ppi_1p5deg/\",\"/ppi_2p4deg/\",\"/ppi_3p4deg/\",\n",
    "                 \"/n_ppi_010deg/\",\"/n_ppi_045deg/\",\n",
    "                 \"/n_ppi_082deg/\",\"/n_ppi_110deg/\",\"/n_ppi_140deg/\",\n",
    "                 \"/n_ppi_180deg/\",\"/n_ppi_280deg/\"]\n",
    "    \n",
    "    for ds in deg_scan:\n",
    "        \n",
    "        #print ds\n",
    "        if year<'2015':\n",
    "            rad_path = 'radar-archiv'\n",
    "            \n",
    "        else:\n",
    "            rad_path = 'radar'\n",
    "            \n",
    "        ppi_datapath=glob.glob('/automount/'+rad_path+'/scans/' + year+ \"/\" +\n",
    "                                   year +\"-\"+ m + \"/\" + year+ \"-\" + m +\"-\"+ d +\n",
    "                                   ds+ year + \"-\" + m +\"-\"+ d + \"--\" +ht +\n",
    "                                   \":\"+mt+\":\"+st+\",*.mvol\")\n",
    "        print ppi_datapath\n",
    "        ppi_datapath = ppi_datapath[0]\n",
    "\n",
    "        #[u'PHIDP', u'ZH', u'VV', u'VH', u'UV', u'WH', u'WV', u'UH', u'RHOHV', u'ZV', u'ZDR', u'KDP']\n",
    "        ppi=h5py.File(ppi_datapath,'r')\n",
    "        data, attrs = wradlib.io.read_GAMIC_hdf5(ppi_datapath)\n",
    "        print (data[u'SCAN0'].keys())\n",
    "        data_boxpol = data[u'SCAN0'][u'ZH']['data']\n",
    "        r = attrs['SCAN0']['r']\n",
    "        az = attrs['SCAN0']['az']\n",
    "        lon_ppi = attrs['VOL']['Longitude']\n",
    "        lat_ppi = attrs['VOL']['Latitude']\n",
    "        alt_ppi = attrs['VOL']['Height']\n",
    "        el_ppi = attrs['SCAN0']['elevation']\n",
    "\n",
    "        radar_location = (lon_ppi, lat_ppi, alt_ppi)\n",
    "        elevation = el_ppi\n",
    "        azimuths = az\n",
    "        ranges = r\n",
    "        polargrid = np.meshgrid(ranges, azimuths)\n",
    "        lon, lat, alt = wradlib.georef.polar2lonlatalt_n(polargrid[0], polargrid[1],\n",
    "                                                         elevation, radar_location)\n",
    "        #print alt.shape, data_boxpol.shape\n",
    "        x2 = alt.reshape(alt.shape[0]*alt.shape[1])\n",
    "        x1 = data_boxpol.reshape(data_boxpol.shape[0]*data_boxpol.shape[1])\n",
    "        \n",
    "        height_ = np.append(height_,x2)\n",
    "        data_ = np.append(data_,x1)\n",
    "\n",
    "    #print data[u'SCAN0'].keys()\n",
    "    return data_, height_\n"
   ]
  },
  {
   "cell_type": "code",
   "execution_count": 63,
   "metadata": {
    "collapsed": false
   },
   "outputs": [],
   "source": [
    "def get_my_cmap():\n",
    "    import matplotlib.cm as cm\n",
    "    my_cmap = cm.get_cmap('jet',40)\n",
    "    my_cmap.set_under('white')\n",
    "    my_cmap.set_over('darkred')\n",
    "    return my_cmap\n",
    "\n",
    "def plot_cfad(x1, x2, ZP):\n",
    "    \"\"\"\n",
    "    Plot 4 CFAD\n",
    "    \"\"\"\n",
    "    m1 = ~np.isnan(x1) & ~np.isnan(x2)\n",
    "    \n",
    "    x3 = np.array([]); x4 = np.array([]); x5 = np.array([])\n",
    "\n",
    "    hh = np.array([])\n",
    "    for jj in range(0,20000,100):\n",
    "        hh = np.append(hh,jj)\n",
    "        #x3 = np.append(x3,np.nanmean(x1[np.where((x2>jj)&(x2<jj+100))]))\n",
    "        #x4 = np.append(x4,np.nanmedian(x1[np.where((x2>jj)&(x2<jj+100))]))\n",
    "    \n",
    "    plt.figure(figsize=(26,10))\n",
    "    plt.subplot(2,5,1)\n",
    "    plt.hist2d(x1[m1], x2[m1],bins=50, cmap=get_my_cmap(), vmin=0.1)\n",
    "    #plt.hist2d(x1[m1], x2[m1],bins=120, cmap='inferno')\n",
    "    #plt.hist2d(x1[m1], x2[m1], bins=111, cmap='inferno')\n",
    "    \n",
    "    cbar = plt.colorbar()\n",
    "    cbar.ax.set_ylabel('', fontsize=20, rotation=0)\n",
    "    cbar.ax.tick_params(labelsize=20) \n",
    "    plt.xlabel(r'$Z_H$ in DBz', fontsize=20)\n",
    "    plt.ylabel('Height in m', fontsize=20)\n",
    "    plt.title('Elevation: all', fontsize=20)\n",
    "    plt.xticks(fontsize=20)\n",
    "    plt.yticks(fontsize=20)\n",
    "    #plt.plot(x3,hh, linewidth=2, label='mean')\n",
    "    #plt.plot(x4,hh, linewidth=2, label='median')\n",
    "    plt.ylim(0,7000)\n",
    "    plt.xlim(0,50)\n",
    "    #plt.legend(loc='upper right', fontsize=10)\n",
    "    #plt.grid(color='white')\n",
    "    #plt.savefig('/automount/ags/velibor/plot/GPM_boxpol/topevents/boxpol_cfad_'+ZP+'.png')\n",
    "    #plt.close()\n",
    "    plt.savefig('/automount/ftp/velibor/validation/__irs_cfad.png')\n",
    "    \n",
    "    plt.show()\n"
   ]
  },
  {
   "cell_type": "code",
   "execution_count": 54,
   "metadata": {
    "collapsed": false
   },
   "outputs": [
    {
     "data": {
      "text/plain": [
       "\"ZP = ('20150225163500',\\n'20150330233003','20150404053404','20150626214445','20151015203657','20151211203853','20151216024501',\\n'20160209103000','20160601175950','20161109185732','20160107124707','20170211152500','20170211153000')\\nfor iii in ZP:\\n    print iii\""
      ]
     },
     "execution_count": 54,
     "metadata": {},
     "output_type": "execute_result"
    }
   ],
   "source": [
    "#ZP = ('20140806203538','20140826221000','20141007023744','20141008094000','20141008094500',\n",
    "#'20141213141304','20141217054500','20150128171500','20150225163500',\n",
    "#'20150330233003','20150404053404','20150626214445','20151015203657','20151211203853','20151216024501',\n",
    "#'20160209103000','20160601175950','20161109185732','20160107124707','20170211152500','20170211153000')\n",
    "\"\"\"ZP = ('20150225163500',\n",
    "'20150330233003','20150404053404','20150626214445','20151015203657','20151211203853','20151216024501',\n",
    "'20160209103000','20160601175950','20161109185732','20160107124707','20170211152500','20170211153000')\n",
    "for iii in ZP:\n",
    "    print iii\"\"\""
   ]
  },
  {
   "cell_type": "code",
   "execution_count": 55,
   "metadata": {
    "collapsed": false
   },
   "outputs": [
    {
     "name": "stdout",
     "output_type": "stream",
     "text": [
      "['/automount/radar-archiv/scans/2014/2014-10/2014-10-07/ppi_1p5deg/2014-10-07--02:37:44,00.mvol']\n",
      "[u'PHIDP', u'ZH', u'VV', u'VH', u'UV', u'WH', u'WV', u'UH', u'RHOHV', u'ZV', u'ZDR', u'KDP']\n"
     ]
    },
    {
     "name": "stderr",
     "output_type": "stream",
     "text": [
      "/home/velibor/anaconda2/envs/wradlib/lib/python2.7/site-packages/ipykernel/__main__.py:50: DeprecatedWarning: polar2lonlatalt_n is deprecated as of 0.11.3 and will be removed in 1.0.0. Use :func:`spherical_to_proj` instead.\n"
     ]
    },
    {
     "name": "stdout",
     "output_type": "stream",
     "text": [
      "['/automount/radar-archiv/scans/2014/2014-10/2014-10-07/ppi_2p4deg/2014-10-07--02:37:44,00.mvol']\n",
      "[u'PHIDP', u'ZH', u'VV', u'VH', u'UV', u'WH', u'WV', u'UH', u'RHOHV', u'ZV', u'ZDR', u'KDP']\n"
     ]
    },
    {
     "name": "stderr",
     "output_type": "stream",
     "text": [
      "/home/velibor/anaconda2/envs/wradlib/lib/python2.7/site-packages/ipykernel/__main__.py:50: DeprecatedWarning: polar2lonlatalt_n is deprecated as of 0.11.3 and will be removed in 1.0.0. Use :func:`spherical_to_proj` instead.\n"
     ]
    },
    {
     "name": "stdout",
     "output_type": "stream",
     "text": [
      "['/automount/radar-archiv/scans/2014/2014-10/2014-10-07/ppi_3p4deg/2014-10-07--02:37:44,00.mvol']\n",
      "[u'PHIDP', u'ZH', u'VV', u'VH', u'UV', u'WH', u'WV', u'UH', u'RHOHV', u'ZV', u'ZDR', u'KDP']\n"
     ]
    },
    {
     "name": "stderr",
     "output_type": "stream",
     "text": [
      "/home/velibor/anaconda2/envs/wradlib/lib/python2.7/site-packages/ipykernel/__main__.py:50: DeprecatedWarning: polar2lonlatalt_n is deprecated as of 0.11.3 and will be removed in 1.0.0. Use :func:`spherical_to_proj` instead.\n"
     ]
    },
    {
     "name": "stdout",
     "output_type": "stream",
     "text": [
      "['/automount/radar-archiv/scans/2014/2014-10/2014-10-07/n_ppi_010deg/2014-10-07--02:37:44,00.mvol']\n",
      "[u'PHIDP', u'ZH', u'VV', u'VH', u'UV', u'WH', u'WV', u'UH', u'RHOHV', u'ZV', u'ZDR', u'KDP']\n"
     ]
    },
    {
     "name": "stderr",
     "output_type": "stream",
     "text": [
      "/home/velibor/anaconda2/envs/wradlib/lib/python2.7/site-packages/ipykernel/__main__.py:50: DeprecatedWarning: polar2lonlatalt_n is deprecated as of 0.11.3 and will be removed in 1.0.0. Use :func:`spherical_to_proj` instead.\n"
     ]
    },
    {
     "name": "stdout",
     "output_type": "stream",
     "text": [
      "['/automount/radar-archiv/scans/2014/2014-10/2014-10-07/n_ppi_045deg/2014-10-07--02:37:44,00.mvol']\n",
      "[u'PHIDP', u'ZH', u'VV', u'VH', u'UV', u'WH', u'WV', u'UH', u'RHOHV', u'ZV', u'ZDR', u'KDP']\n"
     ]
    },
    {
     "name": "stderr",
     "output_type": "stream",
     "text": [
      "/home/velibor/anaconda2/envs/wradlib/lib/python2.7/site-packages/ipykernel/__main__.py:50: DeprecatedWarning: polar2lonlatalt_n is deprecated as of 0.11.3 and will be removed in 1.0.0. Use :func:`spherical_to_proj` instead.\n"
     ]
    },
    {
     "name": "stdout",
     "output_type": "stream",
     "text": [
      "['/automount/radar-archiv/scans/2014/2014-10/2014-10-07/n_ppi_082deg/2014-10-07--02:37:44,00.mvol']\n",
      "[u'PHIDP', u'ZH', u'VV', u'VH', u'UV', u'WH', u'WV', u'UH', u'RHOHV', u'ZV', u'ZDR', u'KDP']\n"
     ]
    },
    {
     "name": "stderr",
     "output_type": "stream",
     "text": [
      "/home/velibor/anaconda2/envs/wradlib/lib/python2.7/site-packages/ipykernel/__main__.py:50: DeprecatedWarning: polar2lonlatalt_n is deprecated as of 0.11.3 and will be removed in 1.0.0. Use :func:`spherical_to_proj` instead.\n"
     ]
    },
    {
     "name": "stdout",
     "output_type": "stream",
     "text": [
      "['/automount/radar-archiv/scans/2014/2014-10/2014-10-07/n_ppi_110deg/2014-10-07--02:37:44,00.mvol']\n",
      "[u'PHIDP', u'ZH', u'VV', u'VH', u'UV', u'WH', u'WV', u'UH', u'RHOHV', u'ZV', u'ZDR', u'KDP']\n"
     ]
    },
    {
     "name": "stderr",
     "output_type": "stream",
     "text": [
      "/home/velibor/anaconda2/envs/wradlib/lib/python2.7/site-packages/ipykernel/__main__.py:50: DeprecatedWarning: polar2lonlatalt_n is deprecated as of 0.11.3 and will be removed in 1.0.0. Use :func:`spherical_to_proj` instead.\n"
     ]
    },
    {
     "name": "stdout",
     "output_type": "stream",
     "text": [
      "['/automount/radar-archiv/scans/2014/2014-10/2014-10-07/n_ppi_140deg/2014-10-07--02:37:44,00.mvol']\n",
      "[u'PHIDP', u'ZH', u'VV', u'VH', u'UV', u'WH', u'WV', u'UH', u'RHOHV', u'ZV', u'ZDR', u'KDP']\n"
     ]
    },
    {
     "name": "stderr",
     "output_type": "stream",
     "text": [
      "/home/velibor/anaconda2/envs/wradlib/lib/python2.7/site-packages/ipykernel/__main__.py:50: DeprecatedWarning: polar2lonlatalt_n is deprecated as of 0.11.3 and will be removed in 1.0.0. Use :func:`spherical_to_proj` instead.\n"
     ]
    },
    {
     "name": "stdout",
     "output_type": "stream",
     "text": [
      "['/automount/radar-archiv/scans/2014/2014-10/2014-10-07/n_ppi_180deg/2014-10-07--02:37:44,00.mvol']\n",
      "[u'PHIDP', u'ZH', u'VV', u'VH', u'UV', u'WH', u'WV', u'UH', u'RHOHV', u'ZV', u'ZDR', u'KDP']\n"
     ]
    },
    {
     "name": "stderr",
     "output_type": "stream",
     "text": [
      "/home/velibor/anaconda2/envs/wradlib/lib/python2.7/site-packages/ipykernel/__main__.py:50: DeprecatedWarning: polar2lonlatalt_n is deprecated as of 0.11.3 and will be removed in 1.0.0. Use :func:`spherical_to_proj` instead.\n"
     ]
    },
    {
     "name": "stdout",
     "output_type": "stream",
     "text": [
      "['/automount/radar-archiv/scans/2014/2014-10/2014-10-07/n_ppi_280deg/2014-10-07--02:37:44,00.mvol']\n",
      "[u'PHIDP', u'ZH', u'VV', u'VH', u'UV', u'WH', u'WV', u'UH', u'RHOHV', u'ZV', u'ZDR', u'KDP']\n"
     ]
    },
    {
     "name": "stderr",
     "output_type": "stream",
     "text": [
      "/home/velibor/anaconda2/envs/wradlib/lib/python2.7/site-packages/ipykernel/__main__.py:50: DeprecatedWarning: polar2lonlatalt_n is deprecated as of 0.11.3 and will be removed in 1.0.0. Use :func:`spherical_to_proj` instead.\n"
     ]
    }
   ],
   "source": [
    "x1, x2 = CFAD('20141007023744')\n",
    "\n",
    "x1[x1<0]=np.nan\n",
    "#x1[x1> 5]=np.nan\n",
    "\n",
    "#x2[x2<-5]=np.nan\n"
   ]
  },
  {
   "cell_type": "code",
   "execution_count": 64,
   "metadata": {
    "collapsed": false
   },
   "outputs": [
    {
     "data": {
      "image/png": "[encoded data removed]",
      "text/plain": [
       "<matplotlib.figure.Figure at 0x7f6eb745dcd0>"
      ]
     },
     "metadata": {},
     "output_type": "display_data"
    }
   ],
   "source": [
    "plot_cfad(x1,x2,'20141007023744')\n"
   ]
  },
  {
   "cell_type": "code",
   "execution_count": null,
   "metadata": {
    "collapsed": false
   },
   "outputs": [],
   "source": [
    "plot_cfad(x1,x2,'20141007023744')"
   ]
  },
  {
   "cell_type": "code",
   "execution_count": 8,
   "metadata": {
    "collapsed": false
   },
   "outputs": [
    {
     "data": {
      "text/plain": [
       "'for iii in ZP:\\n    print type(iii)   \\n    x1, x2 = CFAD(iii)\\n\\n    x1[x1<0]=np.nan\\n    x2[x2<0]=np.nan\\n\\n    plot_cfad(x1,x2,iii)'"
      ]
     },
     "execution_count": 8,
     "metadata": {},
     "output_type": "execute_result"
    }
   ],
   "source": [
    "\"\"\"for iii in ZP:\n",
    "    print type(iii)   \n",
    "    x1, x2 = CFAD(iii)\n",
    "\n",
    "    x1[x1<0]=np.nan\n",
    "    x2[x2<0]=np.nan\n",
    "\n",
    "    plot_cfad(x1,x2,iii)\"\"\""
   ]
  },
  {
   "cell_type": "code",
   "execution_count": 9,
   "metadata": {
    "collapsed": false
   },
   "outputs": [
    {
     "name": "stdout",
     "output_type": "stream",
     "text": [
      "['/automount/radar/scans/2015/2015-01/2015-01-28/ppi_1p5deg/2015-01-28--17:15:00,00.mvol']\n",
      "[u'PHIDP', u'ZH', u'VV', u'VH', u'UV', u'WH', u'WV', u'UH', u'RHOHV', u'ZV', u'ZDR', u'KDP']\n"
     ]
    },
    {
     "name": "stderr",
     "output_type": "stream",
     "text": [
      "/home/velibor/anaconda2/envs/wradlib/lib/python2.7/site-packages/ipykernel/__main__.py:50: DeprecatedWarning: polar2lonlatalt_n is deprecated as of 0.11.3 and will be removed in 1.0.0. Use :func:`spherical_to_proj` instead.\n"
     ]
    },
    {
     "name": "stdout",
     "output_type": "stream",
     "text": [
      "['/automount/radar/scans/2015/2015-01/2015-01-28/ppi_2p4deg/2015-01-28--17:15:00,00.mvol']\n",
      "[u'PHIDP', u'ZH', u'VV', u'VH', u'UV', u'WH', u'WV', u'UH', u'RHOHV', u'ZV', u'ZDR', u'KDP']\n"
     ]
    },
    {
     "name": "stderr",
     "output_type": "stream",
     "text": [
      "/home/velibor/anaconda2/envs/wradlib/lib/python2.7/site-packages/ipykernel/__main__.py:50: DeprecatedWarning: polar2lonlatalt_n is deprecated as of 0.11.3 and will be removed in 1.0.0. Use :func:`spherical_to_proj` instead.\n"
     ]
    },
    {
     "name": "stdout",
     "output_type": "stream",
     "text": [
      "[]\n"
     ]
    },
    {
     "ename": "IndexError",
     "evalue": "list index out of range",
     "output_type": "error",
     "traceback": [
      "\u001b[1;31m---------------------------------------------------------------------------\u001b[0m",
      "\u001b[1;31mIndexError\u001b[0m                                Traceback (most recent call last)",
      "\u001b[1;32m<ipython-input-9-2930c77d7bf2>\u001b[0m in \u001b[0;36m<module>\u001b[1;34m()\u001b[0m\n\u001b[0;32m      1\u001b[0m \u001b[0miii\u001b[0m \u001b[1;33m=\u001b[0m \u001b[1;34m'20150128171500'\u001b[0m\u001b[1;33m\u001b[0m\u001b[0m\n\u001b[1;32m----> 2\u001b[1;33m \u001b[0mx1\u001b[0m\u001b[1;33m,\u001b[0m \u001b[0mx2\u001b[0m \u001b[1;33m=\u001b[0m \u001b[0mCFAD\u001b[0m\u001b[1;33m(\u001b[0m\u001b[0miii\u001b[0m\u001b[1;33m)\u001b[0m\u001b[1;33m\u001b[0m\u001b[0m\n\u001b[0m\u001b[0;32m      3\u001b[0m \u001b[1;33m\u001b[0m\u001b[0m\n\u001b[0;32m      4\u001b[0m \u001b[0mx1\u001b[0m\u001b[1;33m[\u001b[0m\u001b[0mx1\u001b[0m\u001b[1;33m<\u001b[0m\u001b[1;36m0\u001b[0m\u001b[1;33m]\u001b[0m\u001b[1;33m=\u001b[0m\u001b[0mnp\u001b[0m\u001b[1;33m.\u001b[0m\u001b[0mnan\u001b[0m\u001b[1;33m\u001b[0m\u001b[0m\n\u001b[0;32m      5\u001b[0m \u001b[0mx2\u001b[0m\u001b[1;33m[\u001b[0m\u001b[0mx2\u001b[0m\u001b[1;33m<\u001b[0m\u001b[1;36m0\u001b[0m\u001b[1;33m]\u001b[0m\u001b[1;33m=\u001b[0m\u001b[0mnp\u001b[0m\u001b[1;33m.\u001b[0m\u001b[0mnan\u001b[0m\u001b[1;33m\u001b[0m\u001b[0m\n",
      "\u001b[1;32m<ipython-input-3-b0d068f1cf2e>\u001b[0m in \u001b[0;36mCFAD\u001b[1;34m(ZP)\u001b[0m\n\u001b[0;32m     28\u001b[0m                                    \":\"+mt+\":\"+st+\",*.mvol\")\n\u001b[0;32m     29\u001b[0m         \u001b[1;32mprint\u001b[0m \u001b[0mppi_datapath\u001b[0m\u001b[1;33m\u001b[0m\u001b[0m\n\u001b[1;32m---> 30\u001b[1;33m         \u001b[0mppi_datapath\u001b[0m \u001b[1;33m=\u001b[0m \u001b[0mppi_datapath\u001b[0m\u001b[1;33m[\u001b[0m\u001b[1;36m0\u001b[0m\u001b[1;33m]\u001b[0m\u001b[1;33m\u001b[0m\u001b[0m\n\u001b[0m\u001b[0;32m     31\u001b[0m \u001b[1;33m\u001b[0m\u001b[0m\n\u001b[0;32m     32\u001b[0m         \u001b[1;31m#[u'PHIDP', u'ZH', u'VV', u'VH', u'UV', u'WH', u'WV', u'UH', u'RHOHV', u'ZV', u'ZDR', u'KDP']\u001b[0m\u001b[1;33m\u001b[0m\u001b[1;33m\u001b[0m\u001b[0m\n",
      "\u001b[1;31mIndexError\u001b[0m: list index out of range"
     ]
    }
   ],
   "source": [
    "iii = '20150128171500'   \n",
    "x1, x2 = CFAD(iii)\n",
    "\n",
    "x1[x1<0]=np.nan\n",
    "x2[x2<0]=np.nan\n",
    "\n",
    "plot_cfad(x1,x2,iii)"
   ]
  },
  {
   "cell_type": "code",
   "execution_count": 65,
   "metadata": {
    "collapsed": false
   },
   "outputs": [
    {
     "data": {
      "text/plain": [
       "14"
      ]
     },
     "execution_count": 65,
     "metadata": {},
     "output_type": "execute_result"
    }
   ],
   "source": [
    "41-27\n"
   ]
  },
  {
   "cell_type": "code",
   "execution_count": null,
   "metadata": {
    "collapsed": false
   },
   "outputs": [],
   "source": []
  },
  {
   "cell_type": "code",
   "execution_count": null,
   "metadata": {
    "collapsed": true
   },
   "outputs": [],
   "source": []
  },
  {
   "cell_type": "code",
   "execution_count": null,
   "metadata": {
    "collapsed": true
   },
   "outputs": [],
   "source": []
  }
 ],
 "metadata": {
  "kernelspec": {
   "display_name": "Python 2",
   "language": "python",
   "name": "python2"
  },
  "language_info": {
   "codemirror_mode": {
    "name": "ipython",
    "version": 2
   },
   "file_extension": ".py",
   "mimetype": "text/x-python",
   "name": "python",
   "nbconvert_exporter": "python",
   "pygments_lexer": "ipython2",
   "version": "2.7.11"
  }
 },
 "nbformat": 4,
 "nbformat_minor": 0
}
