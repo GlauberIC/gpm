{
 "cells": [
  {
   "cell_type": "code",
   "execution_count": 1,
   "metadata": {
    "collapsed": false
   },
   "outputs": [
    {
     "name": "stdout",
     "output_type": "stream",
     "text": [
      "_\n"
     ]
    }
   ],
   "source": [
    "\"\"\"\n",
    "\n",
    "Skript zur generierung von CFADS\n",
    "\n",
    "\"\"\"\n",
    "\n",
    "print ('_')"
   ]
  },
  {
   "cell_type": "code",
   "execution_count": 2,
   "metadata": {
    "collapsed": false
   },
   "outputs": [
    {
     "name": "stdout",
     "output_type": "stream",
     "text": [
      "_\n"
     ]
    }
   ],
   "source": [
    "#!/usr/bin/env python\n",
    "\n",
    "import h5py\n",
    "import numpy as np\n",
    "import matplotlib.pyplot as plt\n",
    "import pandas as pd\n",
    "import glob\n",
    "import math\n",
    "import pandas as pd\n",
    "import wradlib\n",
    "from scipy import stats\n",
    "import matplotlib.cm as cm\n",
    "my_cmap = cm.get_cmap('jet',40)\n",
    "my_cmap.set_under('lightgrey')\n",
    "my_cmap.set_over('darkred')\n",
    "from pcc import get_miub_cmap as my_cmap\n",
    "from pcc import plot_radar\n",
    "from pcc import boxpol_pos\n",
    "from pcc import plot_borders\n",
    "import wradlib as wrl\n",
    "from osgeo import osr\n",
    "from satlib import ipoli_radi\n",
    "from satlib import corcor\n",
    "Pos = boxpol_pos()\n",
    "blon0, blat0 = Pos['lon_ppi'], Pos['lat_ppi']\n",
    "bbx, bby = Pos['gkx_ppi'], Pos['gky_ppi']\n",
    "\n",
    "#% matplotlib inline\n",
    "\n",
    "print (\"_\")"
   ]
  },
  {
   "cell_type": "markdown",
   "metadata": {},
   "source": [
    "# Einlesen von BoXPol Daten\n",
    "------------------------"
   ]
  },
  {
   "cell_type": "code",
   "execution_count": 3,
   "metadata": {
    "collapsed": false
   },
   "outputs": [],
   "source": [
    "#ZP = '20170519110333'\n",
    "ZP = '20141213140000'\n",
    "#ZP = '20150330233003'\n",
    "\n",
    "def CFAD(ZP):\n",
    "    \n",
    "    data_, height_ = np.array([]),np.array([])\n",
    "    \n",
    "    year = ZP[0:4]; ye = ZP[2:4]; m = ZP[4:6]; d = ZP[6:8]; ht = ZP[8:10]; mt = ZP[10:12]; st = ZP[12:14]\n",
    "\n",
    "    deg_scan =  [\"/ppi_1p5deg/\",\"/ppi_2p4deg/\",\"/ppi_3p4deg/\",\n",
    "                 \"/n_ppi_010deg/\",\"/n_ppi_045deg/\",\n",
    "                 \"/n_ppi_082deg/\",\"/n_ppi_110deg/\",\"/n_ppi_140deg/\",\n",
    "                 \"/n_ppi_180deg/\",\"/n_ppi_280deg/\"]\n",
    "    \n",
    "    for ds in deg_scan:\n",
    "        \n",
    "        #print ds\n",
    "        if year<'2015':\n",
    "            rad_path = 'radar-archiv'\n",
    "            \n",
    "        else:\n",
    "            rad_path = 'radar'\n",
    "            \n",
    "        ppi_datapath=glob.glob('/automount/'+rad_path+'/scans/' + year+ \"/\" +\n",
    "                                   year +\"-\"+ m + \"/\" + year+ \"-\" + m +\"-\"+ d +\n",
    "                                   ds+ year + \"-\" + m +\"-\"+ d + \"--\" +ht +\n",
    "                                   \":\"+mt+\":\"+st+\",*.mvol\")\n",
    "            \n",
    "            \n",
    "            \n",
    "            \n",
    "            \n",
    "        \n",
    "        ppi_datapath = ppi_datapath[0]\n",
    "\n",
    "        #[u'PHIDP', u'ZH', u'VV', u'VH', u'UV', u'WH', u'WV', u'UH', u'RHOHV', u'ZV', u'ZDR', u'KDP']\n",
    "        ppi=h5py.File(ppi_datapath,'r')\n",
    "        data, attrs = wradlib.io.read_GAMIC_hdf5(ppi_datapath)\n",
    "        print (data[u'SCAN0'].keys())\n",
    "        data_boxpol = data[u'SCAN0'][u'ZH']['data']\n",
    "        r = attrs['SCAN0']['r']\n",
    "        az = attrs['SCAN0']['az']\n",
    "        lon_ppi = attrs['VOL']['Longitude']\n",
    "        lat_ppi = attrs['VOL']['Latitude']\n",
    "        alt_ppi = attrs['VOL']['Height']\n",
    "        el_ppi = attrs['SCAN0']['elevation']\n",
    "\n",
    "        radar_location = (lon_ppi, lat_ppi, alt_ppi)\n",
    "        elevation = el_ppi\n",
    "        azimuths = az\n",
    "        ranges = r\n",
    "        polargrid = np.meshgrid(ranges, azimuths)\n",
    "        lon, lat, alt = wradlib.georef.polar2lonlatalt_n(polargrid[0], polargrid[1],\n",
    "                                                         elevation, radar_location)\n",
    "        #print alt.shape, data_boxpol.shape\n",
    "        x2 = alt.reshape(alt.shape[0]*alt.shape[1])\n",
    "        x1 = data_boxpol.reshape(data_boxpol.shape[0]*data_boxpol.shape[1])\n",
    "        \n",
    "        height_ = np.append(height_,x2)\n",
    "        data_ = np.append(data_,x1)\n",
    "\n",
    "    #print data[u'SCAN0'].keys()\n",
    "    return data_, height_\n"
   ]
  },
  {
   "cell_type": "code",
   "execution_count": 100,
   "metadata": {
    "collapsed": true
   },
   "outputs": [],
   "source": [
    "ZP = '20170519110333'\n",
    "#ZP = '20141213140000'\n",
    "#ZP = '20150330233003'\n",
    "\n",
    "def CFAD_new(ZP):\n",
    "    \"\"\" AB APRIL 2017 DATA\"\"\"\n",
    "    \n",
    "    data_, height_ = np.array([]),np.array([])\n",
    "    \n",
    "    year = ZP[0:4]; ye = ZP[2:4]; m = ZP[4:6]; d = ZP[6:8]; ht = ZP[8:10]; mt = ZP[10:12]; st = ZP[12:14]\n",
    "\n",
    "    deg_scan = [\"/n_ppi_010deg/\",  \"/n_ppi_045deg/\", \"/n_ppi_110deg/\",  \"/n_ppi_280deg/\",\n",
    "                \"/n_ppi_020deg/\",  \"/n_ppi_060deg/\", \"/n_ppi_140deg/\",\n",
    "                \"/n_ppi_031deg/\",  \"/n_ppi_082deg/\",  \"/n_ppi_180deg/\"]\n",
    "\n",
    "    \n",
    "    for ds in deg_scan:\n",
    "        \n",
    "        rad_path = 'radar'\n",
    "            \n",
    "        ppi_datapath=sorted(glob.glob('/automount/'+rad_path+'/scans/' + year+ \"/\" +\n",
    "                               year +\"-\"+ m + \"/\" +\n",
    "                               year+ \"-\" + m +\"-\"+ d +\n",
    "                               ds +\n",
    "                               '*'+ year +  m + d +ht + mt[0:1]+'*'))\n",
    "            \n",
    "            \n",
    "            \n",
    "            \n",
    "            \n",
    "        \n",
    "        ppi_datapath = ppi_datapath[0]\n",
    "        print ppi_datapath\n",
    "\n",
    "        #[u'PHIDP', u'ZH', u'VV', u'VH', u'UV', u'WH', u'WV', u'UH', u'RHOHV', u'ZV', u'ZDR', u'KDP']\n",
    "        ppi=h5py.File(ppi_datapath,'r')\n",
    "        data, attrs = wradlib.io.read_GAMIC_hdf5(ppi_datapath)\n",
    "        print (data[u'SCAN0'].keys())\n",
    "        data_boxpol = data[u'SCAN0'][u'ZH']['data']\n",
    "        rhohv = data[u'SCAN0'][u'RHOHV']['data']\n",
    "        zdr = data[u'SCAN0'][u'ZDR']['data']\n",
    "        \n",
    "        #data_boxpol[rhohv<0.95]=np.nan\n",
    "        #data_boxpol[zdr<0]=np.nan\n",
    "        #data_boxpol[zdr> 1]=np.nan\n",
    "        \n",
    "        r = attrs['SCAN0']['r']\n",
    "        az = attrs['SCAN0']['az']\n",
    "        lon_ppi = attrs['VOL']['Longitude']\n",
    "        lat_ppi = attrs['VOL']['Latitude']\n",
    "        alt_ppi = attrs['VOL']['Height']\n",
    "        el_ppi = attrs['SCAN0']['elevation']\n",
    "\n",
    "        radar_location = (lon_ppi, lat_ppi, alt_ppi)\n",
    "        elevation = el_ppi\n",
    "        azimuths = az\n",
    "        ranges = r\n",
    "        polargrid = np.meshgrid(ranges, azimuths)\n",
    "        lon, lat, alt = wradlib.georef.polar2lonlatalt_n(polargrid[0], polargrid[1],\n",
    "                                                         elevation, radar_location)\n",
    "        #print alt.shape, data_boxpol.shape\n",
    "        x2 = alt.reshape(alt.shape[0]*alt.shape[1])\n",
    "        x1 = data_boxpol.reshape(data_boxpol.shape[0]*data_boxpol.shape[1])\n",
    "        \n",
    "        height_ = np.append(height_,x2)\n",
    "        data_ = np.append(data_,x1)\n",
    "\n",
    "    #print data[u'SCAN0'].keys()\n",
    "    return data_, height_\n"
   ]
  },
  {
   "cell_type": "code",
   "execution_count": 101,
   "metadata": {
    "collapsed": false
   },
   "outputs": [
    {
     "name": "stdout",
     "output_type": "stream",
     "text": [
      "/automount/radar/scans/2017/2017-05/2017-05-19/n_ppi_010deg/n_ppi_010deg_12345_20170519110333_00.h5\n",
      "[u'PHIDP', u'ZH', u'VV', u'VH', u'ZDR', u'WV', u'CMAP', u'RHOHV', u'UZH', u'ZV', u'WH', u'KDP', u'UZV']\n"
     ]
    },
    {
     "name": "stderr",
     "output_type": "stream",
     "text": [
      "/home/velibor/anaconda2/envs/wradlib/lib/python2.7/site-packages/ipykernel/__main__.py:60: DeprecatedWarning: polar2lonlatalt_n is deprecated as of 0.11.3 and will be removed in 1.0.0. Use :func:`spherical_to_proj` instead.\n"
     ]
    },
    {
     "name": "stdout",
     "output_type": "stream",
     "text": [
      "/automount/radar/scans/2017/2017-05/2017-05-19/n_ppi_045deg/n_ppi_045deg_12345_20170519110209_00.h5\n",
      "[u'PHIDP', u'ZH', u'VV', u'VH', u'ZDR', u'WV', u'CMAP', u'RHOHV', u'UZH', u'ZV', u'WH', u'KDP', u'UZV']\n"
     ]
    },
    {
     "name": "stderr",
     "output_type": "stream",
     "text": [
      "/home/velibor/anaconda2/envs/wradlib/lib/python2.7/site-packages/ipykernel/__main__.py:60: DeprecatedWarning: polar2lonlatalt_n is deprecated as of 0.11.3 and will be removed in 1.0.0. Use :func:`spherical_to_proj` instead.\n"
     ]
    },
    {
     "name": "stdout",
     "output_type": "stream",
     "text": [
      "/automount/radar/scans/2017/2017-05/2017-05-19/n_ppi_110deg/n_ppi_110deg_12345_20170519110120_00.h5\n",
      "[u'PHIDP', u'ZH', u'VV', u'VH', u'ZDR', u'WV', u'CMAP', u'RHOHV', u'UZH', u'ZV', u'WH', u'KDP', u'UZV']\n"
     ]
    },
    {
     "name": "stderr",
     "output_type": "stream",
     "text": [
      "/home/velibor/anaconda2/envs/wradlib/lib/python2.7/site-packages/ipykernel/__main__.py:60: DeprecatedWarning: polar2lonlatalt_n is deprecated as of 0.11.3 and will be removed in 1.0.0. Use :func:`spherical_to_proj` instead.\n"
     ]
    },
    {
     "name": "stdout",
     "output_type": "stream",
     "text": [
      "/automount/radar/scans/2017/2017-05/2017-05-19/n_ppi_280deg/n_ppi_280deg_12345_20170519110034_00.h5\n",
      "[u'PHIDP', u'ZH', u'VV', u'VH', u'ZDR', u'WV', u'CMAP', u'RHOHV', u'UZH', u'ZV', u'WH', u'KDP', u'UZV']\n",
      "/automount/radar/scans/2017/2017-05/2017-05-19/n_ppi_020deg/n_ppi_020deg_12345_20170519110300_00.h5\n"
     ]
    },
    {
     "name": "stderr",
     "output_type": "stream",
     "text": [
      "/home/velibor/anaconda2/envs/wradlib/lib/python2.7/site-packages/ipykernel/__main__.py:60: DeprecatedWarning: polar2lonlatalt_n is deprecated as of 0.11.3 and will be removed in 1.0.0. Use :func:`spherical_to_proj` instead.\n",
      "/home/velibor/anaconda2/envs/wradlib/lib/python2.7/site-packages/ipykernel/__main__.py:60: DeprecatedWarning: polar2lonlatalt_n is deprecated as of 0.11.3 and will be removed in 1.0.0. Use :func:`spherical_to_proj` instead.\n"
     ]
    },
    {
     "name": "stdout",
     "output_type": "stream",
     "text": [
      "[u'PHIDP', u'ZH', u'VV', u'VH', u'ZDR', u'WV', u'CMAP', u'RHOHV', u'UZH', u'ZV', u'WH', u'KDP', u'UZV']\n",
      "/automount/radar/scans/2017/2017-05/2017-05-19/n_ppi_060deg/n_ppi_060deg_12345_20170519110152_00.h5\n",
      "[u'PHIDP', u'ZH', u'VV', u'VH', u'ZDR', u'WV', u'CMAP', u'RHOHV', u'UZH', u'ZV', u'WH', u'KDP', u'UZV']\n"
     ]
    },
    {
     "name": "stderr",
     "output_type": "stream",
     "text": [
      "/home/velibor/anaconda2/envs/wradlib/lib/python2.7/site-packages/ipykernel/__main__.py:60: DeprecatedWarning: polar2lonlatalt_n is deprecated as of 0.11.3 and will be removed in 1.0.0. Use :func:`spherical_to_proj` instead.\n"
     ]
    },
    {
     "name": "stdout",
     "output_type": "stream",
     "text": [
      "/automount/radar/scans/2017/2017-05/2017-05-19/n_ppi_140deg/n_ppi_140deg_12345_20170519110104_00.h5\n",
      "[u'PHIDP', u'ZH', u'VV', u'VH', u'ZDR', u'WV', u'CMAP', u'RHOHV', u'UZH', u'ZV', u'WH', u'KDP', u'UZV']\n"
     ]
    },
    {
     "name": "stderr",
     "output_type": "stream",
     "text": [
      "/home/velibor/anaconda2/envs/wradlib/lib/python2.7/site-packages/ipykernel/__main__.py:60: DeprecatedWarning: polar2lonlatalt_n is deprecated as of 0.11.3 and will be removed in 1.0.0. Use :func:`spherical_to_proj` instead.\n"
     ]
    },
    {
     "name": "stdout",
     "output_type": "stream",
     "text": [
      "/automount/radar/scans/2017/2017-05/2017-05-19/n_ppi_031deg/n_ppi_031deg_12345_20170519110235_00.h5\n",
      "[u'PHIDP', u'ZH', u'VV', u'VH', u'ZDR', u'WV', u'CMAP', u'RHOHV', u'UZH', u'ZV', u'WH', u'KDP', u'UZV']\n"
     ]
    },
    {
     "name": "stderr",
     "output_type": "stream",
     "text": [
      "/home/velibor/anaconda2/envs/wradlib/lib/python2.7/site-packages/ipykernel/__main__.py:60: DeprecatedWarning: polar2lonlatalt_n is deprecated as of 0.11.3 and will be removed in 1.0.0. Use :func:`spherical_to_proj` instead.\n"
     ]
    },
    {
     "name": "stdout",
     "output_type": "stream",
     "text": [
      "/automount/radar/scans/2017/2017-05/2017-05-19/n_ppi_082deg/n_ppi_082deg_12345_20170519110136_00.h5\n",
      "[u'PHIDP', u'ZH', u'VV', u'VH', u'ZDR', u'WV', u'CMAP', u'RHOHV', u'UZH', u'ZV', u'WH', u'KDP', u'UZV']\n"
     ]
    },
    {
     "name": "stderr",
     "output_type": "stream",
     "text": [
      "/home/velibor/anaconda2/envs/wradlib/lib/python2.7/site-packages/ipykernel/__main__.py:60: DeprecatedWarning: polar2lonlatalt_n is deprecated as of 0.11.3 and will be removed in 1.0.0. Use :func:`spherical_to_proj` instead.\n"
     ]
    },
    {
     "name": "stdout",
     "output_type": "stream",
     "text": [
      "/automount/radar/scans/2017/2017-05/2017-05-19/n_ppi_180deg/n_ppi_180deg_12345_20170519110049_00.h5\n",
      "[u'PHIDP', u'ZH', u'VV', u'VH', u'ZDR', u'WV', u'CMAP', u'RHOHV', u'UZH', u'ZV', u'WH', u'KDP', u'UZV']\n"
     ]
    },
    {
     "name": "stderr",
     "output_type": "stream",
     "text": [
      "/home/velibor/anaconda2/envs/wradlib/lib/python2.7/site-packages/ipykernel/__main__.py:60: DeprecatedWarning: polar2lonlatalt_n is deprecated as of 0.11.3 and will be removed in 1.0.0. Use :func:`spherical_to_proj` instead.\n"
     ]
    }
   ],
   "source": [
    "x1, x2 = CFAD_new(ZP)\n",
    "x1[x1<15] = np.nan"
   ]
  },
  {
   "cell_type": "code",
   "execution_count": 102,
   "metadata": {
    "collapsed": false
   },
   "outputs": [],
   "source": [
    "def get_my_cmap():\n",
    "    import matplotlib.cm as cm\n",
    "    my_cmap = cm.get_cmap('jet',40)\n",
    "    my_cmap.set_under('white')\n",
    "    my_cmap.set_over('darkred')\n",
    "    return my_cmap\n",
    "\n",
    "def plot_cfad(x1, x2, ZP,vmaxi=None, bini=100):\n",
    "    \"\"\"\n",
    "    Plot 4 CFAD\n",
    "    \"\"\"\n",
    "    \n",
    "    m1 = ~np.isnan(x1) & ~np.isnan(x2)\n",
    "    \n",
    "    x3 = np.array([]); x4 = np.array([]); x5 = np.array([])\n",
    "\n",
    "    hh = np.array([])\n",
    "    for jj in range(0,20000,50):\n",
    "        hh = np.append(hh,jj)\n",
    "        #x3 = np.append(x3,np.nanmean(x1[np.where((x2>jj)&(x2<jj+100))]))\n",
    "        x4 = np.append(x4,np.nanmedian(x1[np.where((x2>jj)&(x2<jj+100))]))\n",
    "    \n",
    "    fig = plt.figure(figsize=(10,12))\n",
    "    ax = fig.add_subplot(1,1,1)\n",
    "    plt.hist2d(x1[m1], x2[m1],bins=bini, cmap=get_my_cmap(), vmin=0.1,vmax=vmaxi)\n",
    "    #plt.hist2d(x1[m1], x2[m1],bins=120, cmap='inferno')\n",
    "    #plt.hist2d(x1[m1], x2[m1], bins=111, cmap='inferno')\n",
    "    \n",
    "    cbar = plt.colorbar()\n",
    "    cbar.ax.set_ylabel('', fontsize=20, rotation=0)\n",
    "    cbar.ax.tick_params(labelsize=20) \n",
    "    plt.xlabel(r'$Z_H$ in DBz', fontsize=20)\n",
    "    plt.ylabel('Height in m', fontsize=20)\n",
    "    plt.title('Elevation: all', fontsize=20)\n",
    "    plt.xticks(fontsize=20)\n",
    "    plt.yticks(fontsize=20)\n",
    "    #plt.plot(x3,hh, linewidth=2, label='mean')\n",
    "    plt.plot(x4,hh, linewidth=3,color='black', label='median')\n",
    "    plt.ylim(0,7000)\n",
    "    plt.xlim(0,50)\n",
    "    \n",
    "    # Major ticks every 20, minor ticks every 5\n",
    "    major_xticks = np.arange(0, 50, 10)\n",
    "    minor_xticks = np.arange(0, 50, 5)\n",
    "    major_yticks = np.arange(0, 7000, 1000)\n",
    "    minor_yticks = np.arange(0, 7000, 200)\n",
    "\n",
    "    ax.set_xticks(major_xticks)\n",
    "    ax.set_xticks(minor_xticks, minor=True)\n",
    "    ax.set_yticks(major_yticks)\n",
    "    ax.set_yticks(minor_yticks, minor=True)\n",
    "\n",
    "    # And a corresponding grid\n",
    "    ax.grid(which='both')\n",
    "\n",
    "    # Or if you want different settings for the grids:\n",
    "    ax.grid(which='minor', alpha=0.5)\n",
    "    ax.grid(which='major', alpha=0.8)\n",
    "\n",
    "    \n",
    "    \n",
    "    #plt.legend(loc='upper right', fontsize=10)\n",
    "    #plt.grid(color='white')\n",
    "    #plt.savefig('/automount/ags/velibor/plot/GPM_boxpol/topevents/boxpol_cfad_'+ZP+'.png')\n",
    "    #plt.close()\n",
    "    #plt.savefig('/automount/ftp/velibor/validation/__irs_cfad.png')\n",
    "    \n",
    "    plt.show()\n"
   ]
  },
  {
   "cell_type": "code",
   "execution_count": 113,
   "metadata": {
    "collapsed": false
   },
   "outputs": [],
   "source": [
    "plot_cfad(x1,x2,'20141007023744', vmaxi= 4000, bini=50)\n"
   ]
  },
  {
   "cell_type": "code",
   "execution_count": null,
   "metadata": {
    "collapsed": true
   },
   "outputs": [],
   "source": []
  },
  {
   "cell_type": "code",
   "execution_count": null,
   "metadata": {
    "collapsed": true
   },
   "outputs": [],
   "source": []
  },
  {
   "cell_type": "code",
   "execution_count": null,
   "metadata": {
    "collapsed": true
   },
   "outputs": [],
   "source": []
  },
  {
   "cell_type": "code",
   "execution_count": null,
   "metadata": {
    "collapsed": true
   },
   "outputs": [],
   "source": []
  },
  {
   "cell_type": "code",
   "execution_count": null,
   "metadata": {
    "collapsed": true
   },
   "outputs": [],
   "source": []
  },
  {
   "cell_type": "code",
   "execution_count": null,
   "metadata": {
    "collapsed": true
   },
   "outputs": [],
   "source": []
  },
  {
   "cell_type": "code",
   "execution_count": 154,
   "metadata": {
    "collapsed": true
   },
   "outputs": [],
   "source": [
    "z = 1000 * (np.arange(176,0,-1)*0.125)\n",
    "h = np.ones([49,49,176])\n",
    "z_wm = h*z"
   ]
  },
  {
   "cell_type": "code",
   "execution_count": 143,
   "metadata": {
    "collapsed": false
   },
   "outputs": [],
   "source": []
  },
  {
   "cell_type": "code",
   "execution_count": 145,
   "metadata": {
    "collapsed": false
   },
   "outputs": [],
   "source": []
  }
 ],
 "metadata": {
  "kernelspec": {
   "display_name": "Python 2",
   "language": "python",
   "name": "python2"
  },
  "language_info": {
   "codemirror_mode": {
    "name": "ipython",
    "version": 2
   },
   "file_extension": ".py",
   "mimetype": "text/x-python",
   "name": "python",
   "nbconvert_exporter": "python",
   "pygments_lexer": "ipython2",
   "version": "2.7.11"
  }
 },
 "nbformat": 4,
 "nbformat_minor": 0
}
