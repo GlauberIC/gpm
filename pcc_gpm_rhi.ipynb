{
 "cells": [
  {
   "cell_type": "code",
   "execution_count": null,
   "metadata": {
    "collapsed": false
   },
   "outputs": [],
   "source": [
    "\"\"\"\n",
    "\n",
    "Darstellung der BoXPol RHI Scans bei einem GPM Overpass\n",
    "\n",
    "\"\"\"\n",
    "print ('_')"
   ]
  },
  {
   "cell_type": "code",
   "execution_count": null,
   "metadata": {
    "collapsed": true
   },
   "outputs": [],
   "source": [
    "import numpy as np\n",
    "import matplotlib.pyplot as plt\n",
    "import wradlib\n",
    "import h5py\n",
    "import glob"
   ]
  },
  {
   "cell_type": "code",
   "execution_count": null,
   "metadata": {
    "collapsed": true
   },
   "outputs": [],
   "source": []
  },
  {
   "cell_type": "code",
   "execution_count": null,
   "metadata": {
    "collapsed": true
   },
   "outputs": [],
   "source": []
  },
  {
   "cell_type": "code",
   "execution_count": null,
   "metadata": {
    "collapsed": true
   },
   "outputs": [],
   "source": []
  },
  {
   "cell_type": "code",
   "execution_count": null,
   "metadata": {
    "collapsed": false
   },
   "outputs": [],
   "source": [
    "#ZP = '20141007'\n",
    "ZP = '20140826'\n",
    "\n",
    "print 'Zeitpunkt: ',ZP\n",
    "\n",
    "year, m, d, ht, mt, st = ZP[0:4], ZP[4:6], ZP[6:8], ZP[8:10], ZP[10:12], ZP[12:14]\n",
    "ye = ZP[2:4]\n",
    "\n",
    "nr = ['01','02','03','04','05','06','07','08','09','10','11','12','13','14','15']\n",
    "\n",
    "for jj in range(len(nr)):\n",
    "    if year < '2015':\n",
    "        print 'archive'\n",
    "        sc = 'radar-archiv'\n",
    "    else:\n",
    "        sc = 'radar'\n",
    "    ################################################### Read RADOLAN GK Koordinaten\n",
    "\n",
    "    iii = 0\n",
    "    pfad = glob.glob('/automount/'+sc+'/scans/'+str(year)+'/'+str(year)+'-'+str(m)+'/'+\n",
    "            str(year)+'-'+str(m)+'-'+str(d)+'/gpm_rhi_'+nr[jj]+'/'+'*.mvol')[0]\n",
    "    print pfad\n",
    "\n",
    "    #Todo: die an der Uhrzeit am nachliegensten Uhrzeit nehmen\n",
    "\n",
    "    boxpol_filename = wradlib.util.get_wradlib_data_file(pfad)\n",
    "\n",
    "\n",
    "\n",
    "    ppi=h5py.File(boxpol_filename,'r')\n",
    "    data, attrs = wradlib.io.read_GAMIC_hdf5(boxpol_filename)\n",
    "\n",
    "    print data[u'SCAN0'].keys()\n",
    "    print attrs['VOL'].keys()\n",
    "    print attrs['SCAN0'].keys()\n",
    "\n",
    "\n",
    "    zh = data['SCAN0'][u'ZH']['data']\n",
    "    phidp = data['SCAN0'][u'PHIDP']['data']\n",
    "    rhohv = data['SCAN0'][u'RHOHV']['data']\n",
    "    zv = data['SCAN0'][u'ZV']['data']\n",
    "    zdr = data['SCAN0'][u'ZDR']['data']\n",
    "    kdp = data['SCAN0'][u'KDP']['data']\n",
    "\n",
    "    r = attrs['SCAN0']['r']\n",
    "    az = attrs['SCAN0']['az']\n",
    "    print az\n",
    "    th = attrs['SCAN0']['el']\n",
    "\n",
    "    lon_ppi = attrs['VOL']['Longitude']\n",
    "    lat_ppi = attrs['VOL']['Latitude']\n",
    "    alt_ppi = attrs['VOL']['Height']\n",
    "\n",
    "    from mpl_toolkits.axisartist.grid_finder import FixedLocator, DictFormatter\n",
    "    # reading in GAMIC hdf5 file\n",
    "\n",
    "    mask_ind = np.where(data <= np.nanmin(zh))\n",
    "    zh[mask_ind] = np.nan\n",
    "    ma = np.ma.array(zh, mask=np.isnan(zh))\n",
    "\n",
    "\n",
    "    fft = 15\n",
    "    import pcc as pcc\n",
    "    cmap2 = pcc.get_miub_cmap()\n",
    "\n",
    "    sb = [231,232,233,234,235,236]\n",
    "    radpar = [zh, zv, zdr,phidp, rhohv, kdp]\n",
    "    vmini = [0, 0, -1, -100, .7,-0.75]\n",
    "    vmaxi = [50, 50, 3, 50, .99, 2]\n",
    "    name = ['Zh (dBZ)','Zv (dBZ)','Zdr (db)','PhiDP','RhoHV (/)', r\"kdp ( $^\\circ$ $km^{-1}$)\"]\n",
    "    #cc = [cmap2, cmap2, cmap2, 'jet', 'jet', 'jet']\n",
    "    fig = plt.figure(figsize=(20,8))\n",
    "\n",
    "    for iii in range(len(radpar)):\n",
    "\n",
    "        cgax, caax, paax, pm, xxx, yyy = pcc.pcc_plot_cg_rhi(radpar[iii], r=r,\n",
    "                                                             th=th,\n",
    "                                                             rf=1e3,\n",
    "                                                             subplot=sb[iii],\n",
    "                                                             autoext=True,\n",
    "                                                             vmin=vmini[iii],\n",
    "                                                             vmax= vmaxi[iii],\n",
    "                                                             cmap=cmap2)\n",
    "        cgax.set_ylim(0,7)\n",
    "        cbar = plt.gcf().colorbar(pm, shrink=0.8, extend='both')#, pad=0.05)\n",
    "        plt.gca().invert_xaxis()\n",
    "        cbar.set_label(name[iii],fontsize=fft)\n",
    "        caax.set_xlabel('x (km)',fontsize=fft)\n",
    "        caax.set_ylabel('z (km)',fontsize=fft)\n",
    "\n",
    "        cbar.ax.tick_params(labelsize=fft)\n",
    "\n",
    "        caax.tick_params(labelsize=fft)\n",
    "\n",
    "        plt.title(' BoXPol RHI: '+ ZP, fontsize=fft)\n",
    "\n",
    "\n",
    "        gh = cgax.get_grid_helper()\n",
    "        locs = [0.]\n",
    "        gh.grid_finder.grid_locator1 = FixedLocator(locs)\n",
    "        gh.grid_finder.tick_formatter1 = DictFormatter(dict([(i, r\"${0:.0f}^\\circ$\".format(i)) for i in locs]))\n",
    "        plt.yticks(fontsize=fft)\n",
    "        plt.xticks(fontsize=fft)\n",
    "\n",
    "\n",
    "    texti = 'Azimuth :' + str(attrs['SCAN0']['azimuth'])\n",
    "    plt.figtext(0, 0, texti)\n",
    "    plt.tight_layout()\n",
    "    #plt.show()\n",
    "    plt.savefig('/automount/ags/velibor/plot/GPM_boxpol/topevents/boxpol_gpm_rhi_'+ZP+'_'+nr[jj]+'.png')\n",
    "    plt.close()\n",
    "\n",
    "    print attrs['SCAN0']['azimuth']"
   ]
  },
  {
   "cell_type": "code",
   "execution_count": null,
   "metadata": {
    "collapsed": true
   },
   "outputs": [],
   "source": []
  },
  {
   "cell_type": "code",
   "execution_count": null,
   "metadata": {
    "collapsed": true
   },
   "outputs": [],
   "source": []
  }
 ],
 "metadata": {
  "kernelspec": {
   "display_name": "Python 2",
   "language": "python",
   "name": "python2"
  },
  "language_info": {
   "codemirror_mode": {
    "name": "ipython",
    "version": 2
   },
   "file_extension": ".py",
   "mimetype": "text/x-python",
   "name": "python",
   "nbconvert_exporter": "python",
   "pygments_lexer": "ipython2",
   "version": "2.7.11"
  }
 },
 "nbformat": 4,
 "nbformat_minor": 0
}
