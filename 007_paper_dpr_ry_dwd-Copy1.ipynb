{
 "cells": [
  {
   "cell_type": "code",
   "execution_count": null,
   "metadata": {
    "collapsed": true
   },
   "outputs": [],
   "source": [
    "import h5py\n",
    "import numpy as np\n",
    "import matplotlib.pyplot as pl\n",
    "import matplotlib.pyplot as plt\n",
    "\n",
    "import wradlib\n",
    "from osgeo import osr\n",
    "import datetime as dt\n",
    "import glob\n",
    "from osgeo import gdal\n",
    "from scipy.spatial import cKDTree\n",
    "import wradlib as wrl\n",
    "import matplotlib as mpl\n",
    "import math\n",
    "%matplotlib inline \n",
    "#%matplotlib nbagg\n",
    "#%matplotlib notebook\n",
    "import datetime as dt"
   ]
  },
  {
   "cell_type": "code",
   "execution_count": null,
   "metadata": {
    "collapsed": true
   },
   "outputs": [],
   "source": [
    "## Load DWD Station Data\n",
    "## ----------------------\n",
    "dwd_time = np.load('/automount/ags/velibor/data/dwd_station/DWD_time.npy')\n",
    "dwd_h = np.load('/automount/ags/velibor/data/dwd_station/DWD_h.npy')\n",
    "\n",
    "\n",
    "dwd_x = np.load('/automount/ags/velibor/data/dwd_station/DWD_x.npy')\n",
    "dwd_y = np.load('/automount/ags/velibor/data/dwd_station/DWD_y.npy')\n",
    "\n",
    "dwd_pp = np.load('/automount/ags/velibor/data/dwd_station/DWD_pp.npy')\n",
    "dwd_rf = np.load('/automount/ags/velibor/data/dwd_station/DWD_rf.npy')\n",
    "dwd_tau = np.load('/automount/ags/velibor/data/dwd_station/DWD_tau.npy')\n",
    "\n",
    "dwd_temp = np.load('/automount/ags/velibor/data/dwd_station/DWD_TEMP.NPY')"
   ]
  },
  {
   "cell_type": "code",
   "execution_count": null,
   "metadata": {
    "collapsed": false
   },
   "outputs": [],
   "source": [
    "pfad[0]"
   ]
  },
  {
   "cell_type": "code",
   "execution_count": null,
   "metadata": {
    "collapsed": false
   },
   "outputs": [],
   "source": [
    "%%time\n",
    "\n",
    "## Load GPM DPR Data\n",
    "## ----------------------\n",
    "\n",
    "pfad = glob.glob(\"/automount/ags/velibor/gpmdata/dumpdataV7/dpr_ry_NS/dprrado_N*\")\n",
    "print(len(pfad))\n",
    "pfad = sorted(pfad)\n",
    "#for j in sorted(pfad):\n",
    "for ii in range(len(pfad)):\n",
    "    \n",
    "    j = pfad[ii]\n",
    "    print(j)\n",
    "    \n",
    "    sr_dwd_time = np.array([])\n",
    "    sr_dwd_x = np.array([])\n",
    "    sr_dwd_y = np.array([])\n",
    "    sr_dwd_h = np.array([])\n",
    "    sr_dwd_temp = np.array([])\n",
    "    \n",
    "    sr_dwd_rf = np.array([])\n",
    "    sr_dwd_pp = np.array([])\n",
    "    sr_dwd_tau = np.array([])\n",
    "    \n",
    "    sr_dwd_dist = np.array([])\n",
    "    \n",
    "    DR = h5py.File(j, 'r')\n",
    "\n",
    "    sr_times = DR['SR']['sr_times'].value\n",
    "\n",
    "    sr_time1 = DR['SR']['sr_time'].value\n",
    "    sr_time = dt.datetime.strptime(sr_time1, \"%Y.%m.%d -- %H:%M:%S\")\n",
    "\n",
    "    sr_x = DR['SR']['sr_x'].value\n",
    "    sr_y = DR['SR']['sr_y'].value\n",
    "\n",
    "    ## DPR Time on the same dtype as DWD time!!!!!!!!!\n",
    "\n",
    "    sr_time = np.array(sr_time,dtype='datetime64[s]')\n",
    "    dwd_time = np.array(dwd_time,dtype='datetime64[s]')\n",
    "\n",
    "    #sr_bbh = DR['SR']['sr_bbh'].value\n",
    "    #sr_typ = DR['SR']['sr_type'].value    \n",
    "    #sr_typ = sr_typ//10000000\n",
    "\n",
    "    #print(i)\n",
    "    # Berechne delta t in sekunden integer\n",
    "    delta_t = np.array(abs(sr_time - dwd_time), dtype='int')\n",
    "    \n",
    "    # bestimme INDEX fuer kleiner als 600 sekunden (10min)\n",
    "    t_idx = np.where(delta_t<600)\n",
    "\n",
    "    # neue array mit zeit index\n",
    "    new_x = dwd_x[t_idx]\n",
    "    new_y = dwd_y[t_idx]\n",
    "    new_temp = dwd_temp[t_idx]\n",
    "    new_h = dwd_h[t_idx]\n",
    "    new_time = dwd_time[t_idx]\n",
    "    new_rf = dwd_rf[t_idx]\n",
    "    new_pp = dwd_pp[t_idx]\n",
    "    new_tau = dwd_tau[t_idx]\n",
    "\n",
    "    for i in range(len(sr_x)):\n",
    "        # berechne distanzen\n",
    "        dist = np.sqrt( (new_x - sr_x[i])**2 + (new_y - sr_y[i])**2 )\n",
    "\n",
    "        #suche naheliegenste\n",
    "        d_idx = np.abs(dist).argmin()\n",
    "\n",
    "        res_h = new_h[d_idx]\n",
    "        res_temp = new_temp[d_idx]\n",
    "        res_x = new_x[d_idx]\n",
    "        res_y = new_y[d_idx]\n",
    "        res_time = new_time[d_idx] \n",
    "        res_rf = new_rf[d_idx]\n",
    "        res_pp = new_pp[d_idx]\n",
    "        res_tau = new_tau[d_idx]\n",
    "        \n",
    "        sr_dwd_x = np.append(sr_dwd_x, res_x)\n",
    "        sr_dwd_y = np.append(sr_dwd_y, res_y)\n",
    "        sr_dwd_h = np.append(sr_dwd_h, res_h)\n",
    "        sr_dwd_temp = np.append(sr_dwd_temp, res_temp)\n",
    "        sr_dwd_rf = np.append(sr_dwd_rf, res_rf)\n",
    "        sr_dwd_pp = np.append(sr_dwd_pp, res_pp)\n",
    "        sr_dwd_tau = np.append(sr_dwd_tau, res_tau)\n",
    "        sr_dwd_dist = np.append(sr_dwd_dist, dist[d_idx])\n",
    "        #sr_dwd_time = np.append(sr_dwd_time, res_time)\n",
    "        \n",
    "        \n",
    "    np.save('/automount/ags/velibor/data/dwd_station_gpm/dwd_on_dpr_x_'+str(sr_time1)+'.npy', sr_dwd_x)\n",
    "    np.save('/automount/ags/velibor/data/dwd_station_gpm/dwd_on_dpr_y_'+str(sr_time1)+'.npy', sr_dwd_y)\n",
    "    np.save('/automount/ags/velibor/data/dwd_station_gpm/dwd_on_dpr_h_'+str(sr_time1)+'.npy', sr_dwd_h)\n",
    "    np.save('/automount/ags/velibor/data/dwd_station_gpm/dwd_on_dpr_temp_'+str(sr_time1)+'.npy', sr_dwd_temp)\n",
    "    np.save('/automount/ags/velibor/data/dwd_station_gpm/dwd_on_dpr_rf_'+str(sr_time1)+'.npy', sr_dwd_rf)\n",
    "    np.save('/automount/ags/velibor/data/dwd_station_gpm/dwd_on_dpr_p_'+str(sr_time1)+'.npy', sr_dwd_pp)\n",
    "    np.save('/automount/ags/velibor/data/dwd_station_gpm/dwd_on_dpr_tau_'+str(sr_time1)+'.npy', sr_dwd_tau)\n",
    "    np.save('/automount/ags/velibor/data/dwd_station_gpm/dwd_on_dpr_dist_'+str(sr_time1)+'.npy', sr_dwd_dist)"
   ]
  },
  {
   "cell_type": "code",
   "execution_count": null,
   "metadata": {
    "collapsed": false
   },
   "outputs": [],
   "source": [
    "\"\"\"np.save('/automount/ftp/velibor/data/dwd_on_dpr/dwdondpr_x.npy', sr_dwd_x)\n",
    "np.save('/automount/ftp/velibor/data/dwd_on_dpr/dwdondpr_y.npy', sr_dwd_y)\n",
    "np.save('/automount/ftp/velibor/data/dwd_on_dpr/dwdondpr_z.npy', sr_dwd_h)\n",
    "np.save('/automount/ftp/velibor/data/dwd_on_dpr/dwdondpr_temp.npy', sr_dwd_temp)\n",
    "np.save('/automount/ftp/velibor/data/dwd_on_dpr/dwdondpr_rf.npy', sr_dwd_rf)\n",
    "np.save('/automount/ftp/velibor/data/dwd_on_dpr/dwdondpr_pres.npy', sr_dwd_pp)\n",
    "np.save('/automount/ftp/velibor/data/dwd_on_dpr/dwdondpr_tau.npy', sr_dwd_tau)\n",
    "np.save('/automount/ftp/velibor/data/dwd_on_dpr/dwdondpr_dist.npy', sr_dwd_dist)\n",
    "\"\"\""
   ]
  },
  {
   "cell_type": "code",
   "execution_count": null,
   "metadata": {
    "collapsed": false
   },
   "outputs": [],
   "source": [
    "import glob\n",
    "\n",
    "\n",
    "dname = {0:'x', 1:'y', 2:'h', 3:'temp', 4:'rf', 5:'p', 6:'tau', 7:'dist'}\n",
    "\n",
    "for jj in range(len(dname)):\n",
    "    print (jj)\n",
    "\n",
    "    pfad = glob.glob('/automount/ags/velibor/data/dwd_station_gpm/*_' + dname[jj] + '*.npy')\n",
    "    pfad = sorted(pfad)\n",
    "\n",
    "    dwd_on_dpr = np.array([])\n",
    "\n",
    "    for i in pfad:\n",
    "        data = np.load(i)\n",
    "        #print(i)\n",
    "        dwd_on_dpr = np.append(dwd_on_dpr, data)\n",
    "\n",
    "    np.save('/automount/ftp/velibor/data/dwd_on_dpr/dwdondpr_all_' + dname[jj] + '.npy', dwd_on_dpr)    "
   ]
  },
  {
   "cell_type": "code",
   "execution_count": null,
   "metadata": {
    "collapsed": false
   },
   "outputs": [],
   "source": [
    "sr_dwd_rf[sr_dwd_rf==-999.]=np.nan\n",
    "plt.scatter(sr_dwd_x, sr_dwd_y, c=sr_dwd_dist)\n",
    "plt.colorbar()\n",
    "plt.xlim(-600,400)\n",
    "plt.ylim(-4500, -3700)\n",
    "plt.grid()"
   ]
  },
  {
   "cell_type": "code",
   "execution_count": null,
   "metadata": {
    "collapsed": false
   },
   "outputs": [],
   "source": [
    "%%time\n",
    "plt.scatter(sr_x,sr_y)\n",
    "plt.xlim(-600,400)\n",
    "plt.ylim(-4500, -3700)\n",
    "plt.grid()"
   ]
  },
  {
   "cell_type": "code",
   "execution_count": null,
   "metadata": {
    "collapsed": true
   },
   "outputs": [],
   "source": []
  }
 ],
 "metadata": {
  "kernelspec": {
   "display_name": "Python 2",
   "language": "python",
   "name": "python2"
  },
  "language_info": {
   "codemirror_mode": {
    "name": "ipython",
    "version": 2
   },
   "file_extension": ".py",
   "mimetype": "text/x-python",
   "name": "python",
   "nbconvert_exporter": "python",
   "pygments_lexer": "ipython2",
   "version": "2.7.11"
  }
 },
 "nbformat": 4,
 "nbformat_minor": 2
}
