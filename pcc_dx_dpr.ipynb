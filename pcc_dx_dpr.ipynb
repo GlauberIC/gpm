{
 "cells": [
  {
   "cell_type": "code",
   "execution_count": null,
   "metadata": {
    "collapsed": false
   },
   "outputs": [],
   "source": [
    "import warnings\n",
    "warnings.filterwarnings('ignore')\n",
    "import wradlib as wrl\n",
    "import matplotlib.pyplot as plt\n",
    "import matplotlib as mpl\n",
    "from matplotlib.collections import PatchCollection\n",
    "from matplotlib.colors import from_levels_and_colors\n",
    "from matplotlib.path import Path\n",
    "import matplotlib.patches as patches\n",
    "import matplotlib.cm as cm\n",
    "try:\n",
    "    get_ipython().magic(\"matplotlib inline\")\n",
    "except:\n",
    "    pl.ion()\n",
    "import numpy as np\n",
    "import datetime as dt\n",
    "from osgeo import osr\n",
    "import numpy as np\n",
    "import glob"
   ]
  },
  {
   "cell_type": "code",
   "execution_count": null,
   "metadata": {
    "collapsed": false
   },
   "outputs": [],
   "source": []
  },
  {
   "cell_type": "code",
   "execution_count": null,
   "metadata": {
    "collapsed": false
   },
   "outputs": [],
   "source": []
  },
  {
   "cell_type": "code",
   "execution_count": null,
   "metadata": {
    "collapsed": false
   },
   "outputs": [],
   "source": [
    "#ZP = '201410070235'\n",
    "ZP = '201803072145'\n",
    "\n",
    "def read_all_dx(ZP):\n",
    "    \n",
    "    from pcc import get_radar_locations\n",
    "\n",
    "    YYYY, YY, MM, DD, hh, mm = ZP[0:4], ZP[2:4], ZP[4:6], ZP[6:8], ZP[8:10], ZP[10:12]\n",
    "    #path = '/automount/radar/dwd/dx/'+YYYY+'/'+YYYY+'-'+MM+'/'+YYYY+'-'+MM+'-'+DD+'/'+'*'+YY+MM+DD+hh+mm+'*'\n",
    "    path = '/automount/ags/velibor/data/radolan_dx/'+YYYY+'/'+YYYY+'-'+MM+'/'+YYYY+'-'+MM+'-'+DD+'/'+'*'+YY+MM+DD+hh+mm+'*'\n",
    "    print (path)\n",
    "    c_liste = sorted(glob.glob(path))\n",
    "    print (c_liste)\n",
    "    nr_rad = len(c_liste)\n",
    "\n",
    "    # Daten Array mit Reflektivitaeten\n",
    "    all_scans = np.empty((nr_rad,360,128))\n",
    "    # Atribute\n",
    "    metadata = [[None] ] * nr_rad\n",
    "\n",
    "    # Alle Positionen\n",
    "    all_lon = np.empty((nr_rad,360,128))\n",
    "    all_lat = np.empty((nr_rad,360,128))\n",
    "    all_alt = np.empty((nr_rad,360,128))\n",
    "\n",
    "\n",
    "    for jj in range(nr_rad):\n",
    "        filename = wrl.util.get_wradlib_data_file(c_liste[jj])\n",
    "        all_scans[jj], metadata[jj] = wrl.io.readDX(filename)\n",
    "\n",
    "\n",
    "    radloc = get_radar_locations()\n",
    "\n",
    "    lon0 = np.empty(nr_rad)\n",
    "    lat0 = np.empty(nr_rad)\n",
    "    alt0 = np.empty(nr_rad)\n",
    "    radname = []\n",
    "\n",
    "    for rr in range(nr_rad):\n",
    "\n",
    "        for ir in radloc.keys():\n",
    "\n",
    "            if str(radloc[ir]['wmo'])==metadata[rr]['radarid']:\n",
    "\n",
    "                lon0[rr] = radloc[ir]['lon']\n",
    "                lat0[rr] = radloc[ir]['lat']\n",
    "                alt0[rr] = radloc[ir]['alt']\n",
    "                radname.append(radloc[ir]['name'])\n",
    "            else:\n",
    "                pass\n",
    "    #get_radar_locations()\n",
    "    print (lon0)\n",
    "    print (lat0)\n",
    "    print (alt0)\n",
    "    print (radname)\n",
    "\n",
    "\n",
    "    proj_stereo = wrl.georef.create_osr(\"dwd-radolan\")\n",
    "    proj_wgs = osr.SpatialReference()\n",
    "    proj_wgs.ImportFromEPSG(4326)\n",
    "\n",
    "    for rrr in range(nr_rad):\n",
    "\n",
    "        radar_location = (lon0[rrr], lat0[rrr], alt0[rrr])\n",
    "\n",
    "        azimuths = metadata[rrr]['azim']\n",
    "        ranges = r = np.arange(0,128)*1000\n",
    "        elevations = metadata[rrr]['elev']\n",
    "        #########\n",
    "        polargrid = np.meshgrid(ranges, azimuths)\n",
    "        elevgrid = np.meshgrid(ranges, elevations)\n",
    "\n",
    "        grid = wrl.georef.polar.spherical_to_proj(polargrid[0], polargrid[1],elevgrid[1], radar_location)\n",
    "\n",
    "        lon, lat, alt = grid[:,:,0], grid[:,:,1], grid[:,:,2]\n",
    "\n",
    "        lon, lat = wrl.georef.reproject(lon, lat, projection_target=proj_stereo ,projection_source=proj_wgs)\n",
    "\n",
    "        all_lon[rrr,:,:] = lon\n",
    "        all_lat[rrr,:,:] = lat\n",
    "        all_alt[rrr,:,:] = alt\n",
    "\n",
    "\n",
    "    return all_lon, all_lat, all_alt, all_scans"
   ]
  },
  {
   "cell_type": "code",
   "execution_count": null,
   "metadata": {
    "collapsed": false
   },
   "outputs": [],
   "source": [
    "\n",
    "all_lon, all_lat, all_alt, all_scans = read_all_dx(ZP)"
   ]
  },
  {
   "cell_type": "code",
   "execution_count": null,
   "metadata": {
    "collapsed": false
   },
   "outputs": [],
   "source": [
    "all_lon.shape, all_scans.shape"
   ]
  },
  {
   "cell_type": "code",
   "execution_count": null,
   "metadata": {
    "collapsed": false
   },
   "outputs": [],
   "source": [
    "all_lon.shape"
   ]
  },
  {
   "cell_type": "code",
   "execution_count": null,
   "metadata": {
    "collapsed": false
   },
   "outputs": [],
   "source": [
    "plt.figure(figsize=(18,10))\n",
    "\n",
    "for plpl in range(all_lon.shape[0]):\n",
    "    plt.pcolormesh(all_lon[plpl,...], all_lat[plpl,...], all_alt[plpl,...], vmin=0, vmax=4000)\n",
    "\n",
    "plt.xlim(-420,390)\n",
    "plt.ylim(-4700, -3700)\n",
    "plt.colorbar()\n",
    "plt.grid()"
   ]
  },
  {
   "cell_type": "code",
   "execution_count": null,
   "metadata": {
    "collapsed": true
   },
   "outputs": [],
   "source": []
  },
  {
   "cell_type": "code",
   "execution_count": null,
   "metadata": {
    "collapsed": true
   },
   "outputs": [],
   "source": []
  },
  {
   "cell_type": "code",
   "execution_count": null,
   "metadata": {
    "collapsed": true
   },
   "outputs": [],
   "source": []
  },
  {
   "cell_type": "code",
   "execution_count": null,
   "metadata": {
    "collapsed": false
   },
   "outputs": [],
   "source": []
  },
  {
   "cell_type": "code",
   "execution_count": null,
   "metadata": {
    "collapsed": true
   },
   "outputs": [],
   "source": []
  },
  {
   "cell_type": "code",
   "execution_count": null,
   "metadata": {
    "collapsed": true
   },
   "outputs": [],
   "source": []
  },
  {
   "cell_type": "code",
   "execution_count": null,
   "metadata": {
    "collapsed": true
   },
   "outputs": [],
   "source": []
  },
  {
   "cell_type": "code",
   "execution_count": null,
   "metadata": {
    "collapsed": true
   },
   "outputs": [],
   "source": []
  }
 ],
 "metadata": {
  "kernelspec": {
   "display_name": "Python 2",
   "language": "python",
   "name": "python2"
  },
  "language_info": {
   "codemirror_mode": {
    "name": "ipython",
    "version": 2
   },
   "file_extension": ".py",
   "mimetype": "text/x-python",
   "name": "python",
   "nbconvert_exporter": "python",
   "pygments_lexer": "ipython2",
   "version": "2.7.11"
  }
 },
 "nbformat": 4,
 "nbformat_minor": 0
}
