{
 "cells": [
  {
   "cell_type": "code",
   "execution_count": 2,
   "metadata": {
    "collapsed": false
   },
   "outputs": [
    {
     "name": "stdout",
     "output_type": "stream",
     "text": [
      "_\n",
      "<type 'str'> <type 'int'> <type 'str'> <type 'float'>\n",
      "20170519110333 0 neu 1.0\n",
      "/automount/ags/velibor/gpmdata/dprV7/2A.GPM.DPR.V7-20170308.20170519*.HDF5\n",
      "('GPM:', ['/automount/ags/velibor/gpmdata/dprV7/2A.GPM.DPR.V7-20170308.20170519-S102835-E120109.018308.V05A.HDF5'])\n",
      "New enigma\n",
      "/automount/radar/scans/2017/2017-05/2017-05-19/n_ppi_010deg/*20170519110333*.h5\n",
      "('Boxpol: ', ['/automount/radar/scans/2017/2017-05/2017-05-19/n_ppi_010deg/n_ppi_010deg_12345_20170519110333_00.h5'])\n",
      "________Beam Blockage______\n",
      "67.609375\n",
      "________CLUTTER______\n",
      "67.609375\n",
      "________offset______\n",
      "66.609375\n",
      "________ATTCORR______\n",
      "________DPR Threshold______\n",
      "('RADOLANPFAD: ', '/automount/radar/dwd/rx/2017/2017-05/2017-05-19/raa01-rx_10000-1705191105-dwd---bin.gz')\n",
      "('Max --------------------------------------->', 150.0)\n",
      "('Min --------------------------------------->', 15.0)\n",
      "75\n"
     ]
    },
    {
     "name": "stderr",
     "output_type": "stream",
     "text": [
      "/home/velibor/anaconda2/envs/wradlib/lib/python2.7/site-packages/ipykernel/__main__.py:297: DeprecatedWarning: polar2lonlatalt_n is deprecated as of 0.11.3 and will be removed in 1.0.0. Use :func:`spherical_to_proj` instead.\n",
      "satlib.py:895: RuntimeWarning: Mean of empty slice\n",
      "  gr_ipoli_data[i] = np.nanmean(gr_data[rr < radius])\n",
      "/home/velibor/anaconda2/envs/wradlib/lib/python2.7/site-packages/numpy/lib/nanfunctions.py:1434: RuntimeWarning: Degrees of freedom <= 0 for slice.\n",
      "  keepdims=keepdims)\n",
      "/home/velibor/anaconda2/envs/wradlib/lib/python2.7/site-packages/numpy/lib/function_base.py:4033: RuntimeWarning: All-NaN slice encountered\n",
      "  r = func(a, **kwargs)\n",
      "satlib.py:898: RuntimeWarning: All-NaN slice encountered\n",
      "  gr_ipoli_max[i] = np.nanmax(gr_data[rr < radius])\n"
     ]
    },
    {
     "name": "stdout",
     "output_type": "stream",
     "text": [
      "('Interpolationsdauer Boxpol auf DPR:', 39.120423)\n",
      "('Interpolationsdauer RADOLAN auf DPR:', 128.52925399999998)\n",
      "<type 'str'> <type 'int'> <type 'str'> <type 'float'>\n",
      "20150330233003 1 alt 2.0\n",
      "/automount/ags/velibor/gpmdata/dprV7/2A.GPM.DPR.V7-20170308.20150330*.HDF5\n",
      "('GPM:', ['/automount/ags/velibor/gpmdata/dprV7/2A.GPM.DPR.V7-20170308.20150330-S055056-E072328.006155.V05A.HDF5', '/automount/ags/velibor/gpmdata/dprV7/2A.GPM.DPR.V7-20170308.20150330-S224903-E002135.006166.V05A.HDF5'])\n",
      "[]\n",
      "Old enigma\n",
      "('Boxpol: ', ['/automount/radar/scans/2015/2015-03/2015-03-30/n_ppi_045deg/2015-03-30--23:30:03,00.mvol'])\n",
      "________Beam Blockage______\n",
      "43.789062\n",
      "________CLUTTER______\n",
      "42.22461\n",
      "________offset______\n",
      "40.22461\n",
      "________ATTCORR______\n",
      "________DPR Threshold______\n",
      "('RADOLANPFAD: ', '/automount/radar/dwd/rx/2015/2015-03/2015-03-30/raa01-rx_10000-1503302330-dwd---bin.gz')\n",
      "('Max --------------------------------------->', 150.0)\n",
      "('Min --------------------------------------->', 15.0)\n",
      "100\n"
     ]
    },
    {
     "name": "stderr",
     "output_type": "stream",
     "text": [
      "/home/velibor/anaconda2/envs/wradlib/lib/python2.7/site-packages/ipykernel/__main__.py:297: DeprecatedWarning: polar2lonlatalt_n is deprecated as of 0.11.3 and will be removed in 1.0.0. Use :func:`spherical_to_proj` instead.\n"
     ]
    },
    {
     "name": "stdout",
     "output_type": "stream",
     "text": [
      "('Interpolationsdauer Boxpol auf DPR:', 57.51465300000001)\n",
      "('Interpolationsdauer RADOLAN auf DPR:', 121.00957)\n",
      "<type 'str'> <type 'int'> <type 'str'> <type 'float'>\n",
      "20151015203657 1 alt 2.0\n",
      "/automount/ags/velibor/gpmdata/dprV7/2A.GPM.DPR.V7-20170308.20151015*.HDF5\n",
      "('GPM:', ['/automount/ags/velibor/gpmdata/dprV7/2A.GPM.DPR.V7-20170308.20151015-S115821-E133055.009255.V05A.HDF5', '/automount/ags/velibor/gpmdata/dprV7/2A.GPM.DPR.V7-20170308.20151015-S194118-E211352.009260.V05A.HDF5'])\n",
      "[]\n",
      "Old enigma\n",
      "('Boxpol: ', ['/automount/radar/scans/2015/2015-10/2015-10-15/n_ppi_045deg/2015-10-15--20:36:57,00.mvol'])\n",
      "________Beam Blockage______\n",
      "50.00586\n",
      "________CLUTTER______\n",
      "49.566406\n",
      "________offset______\n",
      "47.566406\n",
      "________ATTCORR______\n",
      "________DPR Threshold______\n",
      "('RADOLANPFAD: ', '/automount/radar/dwd/rx/2015/2015-10/2015-10-15/raa01-rx_10000-1510152035-dwd---bin.gz')\n",
      "('Max --------------------------------------->', 150.0)\n",
      "('Min --------------------------------------->', 15.0)\n",
      "100\n"
     ]
    },
    {
     "name": "stderr",
     "output_type": "stream",
     "text": [
      "/home/velibor/anaconda2/envs/wradlib/lib/python2.7/site-packages/ipykernel/__main__.py:297: DeprecatedWarning: polar2lonlatalt_n is deprecated as of 0.11.3 and will be removed in 1.0.0. Use :func:`spherical_to_proj` instead.\n"
     ]
    },
    {
     "name": "stdout",
     "output_type": "stream",
     "text": [
      "('Interpolationsdauer Boxpol auf DPR:', 41.60774199999997)\n",
      "('Interpolationsdauer RADOLAN auf DPR:', 113.74102699999997)\n",
      "<type 'str'> <type 'int'> <type 'str'> <type 'float'>\n",
      "20170909021332 0 neu 1.0\n",
      "/automount/ags/velibor/gpmdata/dprV7/2A.GPM.DPR.V7-20170308.20170909*.HDF5\n",
      "('GPM:', ['/automount/ags/velibor/gpmdata/dprV7/2A.GPM.DPR.V7-20170308.20170909-S013353-E030627.020060.V05A.HDF5'])\n",
      "New enigma\n",
      "/automount/radar/scans/2017/2017-09/2017-09-09/n_ppi_010deg/*20170909021332*.h5\n",
      "('Boxpol: ', ['/automount/radar/scans/2017/2017-09/2017-09-09/n_ppi_010deg/n_ppi_010deg_12345_20170909021332_00.h5'])\n",
      "________Beam Blockage______\n",
      "60.13867\n",
      "________CLUTTER______\n",
      "44.20117\n",
      "________offset______\n",
      "43.20117\n",
      "________ATTCORR______\n",
      "________DPR Threshold______\n",
      "('RADOLANPFAD: ', '/automount/radar/dwd/rx/2017/2017-09/2017-09-09/raa01-rx_10000-1709090215-dwd---bin.gz')\n",
      "('Max --------------------------------------->', 150.0)\n",
      "('Min --------------------------------------->', 15.0)\n",
      "75\n"
     ]
    },
    {
     "name": "stderr",
     "output_type": "stream",
     "text": [
      "/home/velibor/anaconda2/envs/wradlib/lib/python2.7/site-packages/ipykernel/__main__.py:297: DeprecatedWarning: polar2lonlatalt_n is deprecated as of 0.11.3 and will be removed in 1.0.0. Use :func:`spherical_to_proj` instead.\n"
     ]
    },
    {
     "name": "stdout",
     "output_type": "stream",
     "text": [
      "('Interpolationsdauer Boxpol auf DPR:', 41.51082299999996)\n",
      "('Interpolationsdauer RADOLAN auf DPR:', 125.4860940000001)\n",
      "<type 'str'> <type 'int'> <type 'str'> <type 'float'>\n",
      "20151216024501 0 alt 2.0\n",
      "/automount/ags/velibor/gpmdata/dprV7/2A.GPM.DPR.V7-20170308.20151216*.HDF5\n",
      "('GPM:', ['/automount/ags/velibor/gpmdata/dprV7/2A.GPM.DPR.V7-20170308.20151216-S014742-E032015.010213.V05A.HDF5', '/automount/ags/velibor/gpmdata/dprV7/2A.GPM.DPR.V7-20170308.20151216-S184555-E201828.010224.V05A.HDF5'])\n",
      "[]\n",
      "Old enigma\n",
      "('Boxpol: ', ['/automount/radar/scans/2015/2015-12/2015-12-16/n_ppi_045deg/2015-12-16--02:45:01,00.mvol'])\n",
      "________Beam Blockage______\n",
      "48.804688\n",
      "________CLUTTER______\n",
      "48.804688\n",
      "________offset______\n",
      "46.804688\n",
      "________ATTCORR______\n",
      "________DPR Threshold______\n",
      "('RADOLANPFAD: ', '/automount/radar/dwd/rx/2015/2015-12/2015-12-16/raa01-rx_10000-1512160245-dwd---bin.gz')\n",
      "('Max --------------------------------------->', 150.0)\n",
      "('Min --------------------------------------->', 15.0)\n",
      "100\n"
     ]
    },
    {
     "name": "stderr",
     "output_type": "stream",
     "text": [
      "/home/velibor/anaconda2/envs/wradlib/lib/python2.7/site-packages/ipykernel/__main__.py:297: DeprecatedWarning: polar2lonlatalt_n is deprecated as of 0.11.3 and will be removed in 1.0.0. Use :func:`spherical_to_proj` instead.\n"
     ]
    },
    {
     "name": "stdout",
     "output_type": "stream",
     "text": [
      "('Interpolationsdauer Boxpol auf DPR:', 41.05662300000006)\n",
      "('Interpolationsdauer RADOLAN auf DPR:', 107.883197)\n",
      "<type 'str'> <type 'int'> <type 'str'> <type 'float'>\n",
      "20170211153000 0 alt 3.5\n",
      "/automount/ags/velibor/gpmdata/dprV7/2A.GPM.DPR.V7-20170308.20170211*.HDF5\n",
      "('GPM:', ['/automount/ags/velibor/gpmdata/dprV7/2A.GPM.DPR.V7-20170308.20170211-S144911-E162144.016802.V05A.HDF5'])\n",
      "[]\n",
      "Old enigma\n",
      "('Boxpol: ', ['/automount/radar/scans/2017/2017-02/2017-02-11/n_ppi_045deg/2017-02-11--15:30:00,00.mvol'])\n",
      "________Beam Blockage______\n",
      "37.583984\n",
      "________CLUTTER______\n",
      "37.583984\n",
      "________offset______\n",
      "34.083984\n",
      "________ATTCORR______\n",
      "________DPR Threshold______\n",
      "('RADOLANPFAD: ', '/automount/radar/dwd/rx/2017/2017-02/2017-02-11/raa01-rx_10000-1702111530-dwd---bin.gz')\n",
      "('Max --------------------------------------->', 150.0)\n",
      "('Min --------------------------------------->', 15.0)\n",
      "100\n"
     ]
    },
    {
     "name": "stderr",
     "output_type": "stream",
     "text": [
      "/home/velibor/anaconda2/envs/wradlib/lib/python2.7/site-packages/ipykernel/__main__.py:297: DeprecatedWarning: polar2lonlatalt_n is deprecated as of 0.11.3 and will be removed in 1.0.0. Use :func:`spherical_to_proj` instead.\n"
     ]
    },
    {
     "name": "stdout",
     "output_type": "stream",
     "text": [
      "('Interpolationsdauer Boxpol auf DPR:', 47.45134100000007)\n",
      "('Interpolationsdauer RADOLAN auf DPR:', 123.45165899999995)\n",
      "<type 'str'> <type 'int'> <type 'str'> <type 'float'>\n",
      "20160601175950 1 alt 3.5\n",
      "/automount/ags/velibor/gpmdata/dprV7/2A.GPM.DPR.V7-20170308.20160601*.HDF5\n",
      "('GPM:', ['/automount/ags/velibor/gpmdata/dprV7/2A.GPM.DPR.V7-20170308.20160601-S002009-E015243.012826.V05A.HDF5', '/automount/ags/velibor/gpmdata/dprV7/2A.GPM.DPR.V7-20170308.20160601-S171836-E185110.012837.V05A.HDF5'])\n",
      "[]\n",
      "Old enigma\n",
      "('Boxpol: ', ['/automount/radar/scans/2016/2016-06/2016-06-01/n_ppi_045deg/2016-06-01--17:59:50,00.mvol'])\n",
      "________Beam Blockage______\n",
      "60.30664\n",
      "________CLUTTER______\n",
      "60.30664\n",
      "________offset______\n",
      "56.80664\n",
      "________ATTCORR______\n",
      "________DPR Threshold______\n",
      "('RADOLANPFAD: ', '/automount/radar/dwd/rx/2016/2016-06/2016-06-01/raa01-rx_10000-1606011755-dwd---bin.gz')\n",
      "('Max --------------------------------------->', 150.0)\n",
      "('Min --------------------------------------->', 15.0)\n",
      "100\n"
     ]
    },
    {
     "name": "stderr",
     "output_type": "stream",
     "text": [
      "/home/velibor/anaconda2/envs/wradlib/lib/python2.7/site-packages/ipykernel/__main__.py:297: DeprecatedWarning: polar2lonlatalt_n is deprecated as of 0.11.3 and will be removed in 1.0.0. Use :func:`spherical_to_proj` instead.\n"
     ]
    },
    {
     "name": "stdout",
     "output_type": "stream",
     "text": [
      "('Interpolationsdauer Boxpol auf DPR:', 45.64480800000001)\n",
      "('Interpolationsdauer RADOLAN auf DPR:', 121.20911799999999)\n",
      "<type 'str'> <type 'int'> <type 'str'> <type 'float'>\n",
      "20170321043000 0 alt 3.5\n",
      "/automount/ags/velibor/gpmdata/dprV7/2A.GPM.DPR.V7-20170308.20170321*.HDF5\n",
      "('GPM:', ['/automount/ags/velibor/gpmdata/dprV7/2A.GPM.DPR.V7-20170308.20170321-S035103-E052338.017386.V05A.HDF5'])\n",
      "[]\n",
      "Old enigma\n",
      "('Boxpol: ', ['/automount/radar/scans/2017/2017-03/2017-03-21/n_ppi_045deg/2017-03-21--04:30:00,00.mvol'])\n",
      "________Beam Blockage______\n",
      "44.07617\n",
      "________CLUTTER______\n",
      "44.07617\n",
      "________offset______\n",
      "40.57617\n",
      "________ATTCORR______\n",
      "________DPR Threshold______\n",
      "('RADOLANPFAD: ', '/automount/radar/dwd/rx/2017/2017-03/2017-03-21/raa01-rx_10000-1703210430-dwd---bin.gz')\n",
      "('Max --------------------------------------->', 150.0)\n",
      "('Min --------------------------------------->', 15.0)\n",
      "100\n"
     ]
    },
    {
     "name": "stderr",
     "output_type": "stream",
     "text": [
      "/home/velibor/anaconda2/envs/wradlib/lib/python2.7/site-packages/ipykernel/__main__.py:297: DeprecatedWarning: polar2lonlatalt_n is deprecated as of 0.11.3 and will be removed in 1.0.0. Use :func:`spherical_to_proj` instead.\n"
     ]
    },
    {
     "name": "stdout",
     "output_type": "stream",
     "text": [
      "('Interpolationsdauer Boxpol auf DPR:', 47.48588700000005)\n",
      "('Interpolationsdauer RADOLAN auf DPR:', 122.54592200000002)\n",
      "<type 'str'> <type 'int'> <type 'str'> <type 'float'>\n",
      "20170211153000 0 alt 3.5\n",
      "/automount/ags/velibor/gpmdata/dprV7/2A.GPM.DPR.V7-20170308.20170211*.HDF5\n",
      "('GPM:', ['/automount/ags/velibor/gpmdata/dprV7/2A.GPM.DPR.V7-20170308.20170211-S144911-E162144.016802.V05A.HDF5'])\n",
      "[]\n",
      "Old enigma\n",
      "('Boxpol: ', ['/automount/radar/scans/2017/2017-02/2017-02-11/n_ppi_045deg/2017-02-11--15:30:00,00.mvol'])\n",
      "________Beam Blockage______\n",
      "37.583984\n",
      "________CLUTTER______\n",
      "37.583984\n",
      "________offset______\n",
      "34.083984\n",
      "________ATTCORR______\n",
      "________DPR Threshold______\n",
      "('RADOLANPFAD: ', '/automount/radar/dwd/rx/2017/2017-02/2017-02-11/raa01-rx_10000-1702111530-dwd---bin.gz')\n",
      "('Max --------------------------------------->', 150.0)\n",
      "('Min --------------------------------------->', 15.0)\n",
      "100\n"
     ]
    },
    {
     "name": "stderr",
     "output_type": "stream",
     "text": [
      "/home/velibor/anaconda2/envs/wradlib/lib/python2.7/site-packages/ipykernel/__main__.py:297: DeprecatedWarning: polar2lonlatalt_n is deprecated as of 0.11.3 and will be removed in 1.0.0. Use :func:`spherical_to_proj` instead.\n"
     ]
    },
    {
     "name": "stdout",
     "output_type": "stream",
     "text": [
      "('Interpolationsdauer Boxpol auf DPR:', 47.1224400000001)\n",
      "('Interpolationsdauer RADOLAN auf DPR:', 122.75464699999998)\n",
      "<type 'str'> <type 'int'> <type 'str'> <type 'float'>\n",
      "20170810110333 0 neu 1.0\n",
      "/automount/ags/velibor/gpmdata/dprV7/2A.GPM.DPR.V7-20170308.20170810*.HDF5\n",
      "('GPM:', ['/automount/ags/velibor/gpmdata/dprV7/2A.GPM.DPR.V7-20170308.20170810-S102212-E115444.019599.V05A.HDF5'])\n",
      "New enigma\n",
      "/automount/radar/scans/2017/2017-08/2017-08-10/n_ppi_010deg/*20170810110333*.h5\n",
      "('Boxpol: ', ['/automount/radar/scans/2017/2017-08/2017-08-10/n_ppi_010deg/n_ppi_010deg_12345_20170810110333_00.h5'])\n",
      "________Beam Blockage______\n",
      "65.61719\n",
      "________CLUTTER______\n",
      "61.134766\n",
      "________offset______\n",
      "60.134766\n",
      "________ATTCORR______\n",
      "________DPR Threshold______\n",
      "('RADOLANPFAD: ', '/automount/radar/dwd/rx/2017/2017-08/2017-08-10/raa01-rx_10000-1708101105-dwd---bin.gz')\n",
      "('Max --------------------------------------->', 150.0)\n",
      "('Min --------------------------------------->', 15.0)\n",
      "75\n"
     ]
    },
    {
     "name": "stderr",
     "output_type": "stream",
     "text": [
      "/home/velibor/anaconda2/envs/wradlib/lib/python2.7/site-packages/ipykernel/__main__.py:297: DeprecatedWarning: polar2lonlatalt_n is deprecated as of 0.11.3 and will be removed in 1.0.0. Use :func:`spherical_to_proj` instead.\n"
     ]
    },
    {
     "name": "stdout",
     "output_type": "stream",
     "text": [
      "('Interpolationsdauer Boxpol auf DPR:', 36.29935699999987)\n",
      "('Interpolationsdauer RADOLAN auf DPR:', 117.40411700000004)\n",
      "<type 'str'> <type 'int'> <type 'str'> <type 'float'>\n",
      "20171126032331 0 neu 1.0\n",
      "/automount/ags/velibor/gpmdata/dprV7/2A.GPM.DPR.V7-20170308.20171126*.HDF5\n",
      "('GPM:', ['/automount/ags/velibor/gpmdata/dprV7/2A.GPM.DPR.V7-20170308.20171126-S024618-E041852.021274.V05A.HDF5'])\n",
      "New enigma\n",
      "/automount/radar/scans/2017/2017-11/2017-11-26/n_ppi_010deg/*20171126032331*.h5\n",
      "('Boxpol: ', ['/automount/radar/scans/2017/2017-11/2017-11-26/n_ppi_010deg/n_ppi_010deg_12345_20171126032331_00.h5'])\n",
      "________Beam Blockage______\n",
      "49.679688\n",
      "________CLUTTER______\n",
      "48.185547\n",
      "________offset______\n",
      "47.185547\n",
      "________ATTCORR______\n",
      "________DPR Threshold______\n",
      "('RADOLANPFAD: ', '/automount/radar/dwd/rx/2017/2017-11/2017-11-26/raa01-rx_10000-1711260325-dwd---bin.gz')\n",
      "('Max --------------------------------------->', 150.0)\n",
      "('Min --------------------------------------->', 15.0)\n",
      "75\n"
     ]
    },
    {
     "name": "stderr",
     "output_type": "stream",
     "text": [
      "/home/velibor/anaconda2/envs/wradlib/lib/python2.7/site-packages/ipykernel/__main__.py:297: DeprecatedWarning: polar2lonlatalt_n is deprecated as of 0.11.3 and will be removed in 1.0.0. Use :func:`spherical_to_proj` instead.\n"
     ]
    },
    {
     "name": "stdout",
     "output_type": "stream",
     "text": [
      "('Interpolationsdauer Boxpol auf DPR:', 35.90111999999999)\n",
      "('Interpolationsdauer RADOLAN auf DPR:', 118.488067)\n",
      "<type 'str'> <type 'int'> <type 'str'> <type 'float'>\n",
      "20140826221000 1 alt 2.0\n",
      "/automount/ags/velibor/gpmdata/dprV7/2A.GPM.DPR.V7-20170308.20140826*.HDF5\n",
      "('GPM:', ['/automount/ags/velibor/gpmdata/dprV7/2A.GPM.DPR.V7-20170308.20140826-S133117-E150350.002799.V05A.HDF5', '/automount/ags/velibor/gpmdata/dprV7/2A.GPM.DPR.V7-20170308.20140826-S211407-E224640.002804.V05A.HDF5'])\n",
      "['/automount/radar-archiv/scans/2014/2014-08/2014-08-26/n_ppi_045deg/2014-08-26--22:10:00,00.mvol']\n",
      "________Beam Blockage______\n",
      "42.819336\n",
      "________CLUTTER______\n",
      "42.819336\n",
      "________offset______\n",
      "40.819336\n",
      "________ATTCORR______\n",
      "________DPR Threshold______\n",
      "('RADOLANPFAD: ', '/automount/radar/dwd/rx/2014/2014-08/2014-08-26/raa01-rx_10000-1408262210-dwd---bin.gz')\n",
      "('Max --------------------------------------->', 150.0)\n",
      "('Min --------------------------------------->', 15.0)\n",
      "100\n"
     ]
    },
    {
     "name": "stderr",
     "output_type": "stream",
     "text": [
      "/home/velibor/anaconda2/envs/wradlib/lib/python2.7/site-packages/ipykernel/__main__.py:297: DeprecatedWarning: polar2lonlatalt_n is deprecated as of 0.11.3 and will be removed in 1.0.0. Use :func:`spherical_to_proj` instead.\n"
     ]
    },
    {
     "name": "stdout",
     "output_type": "stream",
     "text": [
      "('Interpolationsdauer Boxpol auf DPR:', 32.875676999999996)\n",
      "('Interpolationsdauer RADOLAN auf DPR:', 84.15136700000016)\n",
      "<type 'str'> <type 'int'> <type 'str'> <type 'float'>\n",
      "20140806203538 1 alt 2.0\n",
      "/automount/ags/velibor/gpmdata/dprV7/2A.GPM.DPR.V7-20170308.20140806*.HDF5\n",
      "('GPM:', ['/automount/ags/velibor/gpmdata/dprV7/2A.GPM.DPR.V7-20170308.20140806-S025632-E042905.002481.V05A.HDF5', '/automount/ags/velibor/gpmdata/dprV7/2A.GPM.DPR.V7-20170308.20140806-S195445-E212718.002492.V05A.HDF5'])\n",
      "['/automount/radar-archiv/scans/2014/2014-08/2014-08-06/n_ppi_045deg/2014-08-06--20:35:38,00.mvol']\n",
      "________Beam Blockage______\n",
      "33.335938\n",
      "________CLUTTER______\n",
      "33.335938\n",
      "________offset______\n",
      "31.335938\n",
      "________ATTCORR______\n",
      "________DPR Threshold______\n",
      "('RADOLANPFAD: ', '/automount/radar/dwd/rx/2014/2014-08/2014-08-06/raa01-rx_10000-1408062035-dwd---bin.gz')\n",
      "('Max --------------------------------------->', 150.0)\n",
      "('Min --------------------------------------->', 15.0)\n",
      "100\n"
     ]
    },
    {
     "name": "stderr",
     "output_type": "stream",
     "text": [
      "/home/velibor/anaconda2/envs/wradlib/lib/python2.7/site-packages/ipykernel/__main__.py:297: DeprecatedWarning: polar2lonlatalt_n is deprecated as of 0.11.3 and will be removed in 1.0.0. Use :func:`spherical_to_proj` instead.\n"
     ]
    },
    {
     "name": "stdout",
     "output_type": "stream",
     "text": [
      "('Interpolationsdauer Boxpol auf DPR:', 47.83331799999996)\n",
      "('Interpolationsdauer RADOLAN auf DPR:', 122.03982100000007)\n",
      "<type 'str'> <type 'int'> <type 'str'> <type 'float'>\n",
      "20141008094000 1 alt 2.0\n",
      "/automount/ags/velibor/gpmdata/dprV7/2A.GPM.DPR.V7-20170308.20141008*.HDF5\n",
      "('GPM:', ['/automount/ags/velibor/gpmdata/dprV7/2A.GPM.DPR.V7-20170308.20141008-S010511-E023741.003460.V05A.HDF5', '/automount/ags/velibor/gpmdata/dprV7/2A.GPM.DPR.V7-20170308.20141008-S084747-E102017.003465.V05A.HDF5'])\n",
      "['/automount/radar-archiv/scans/2014/2014-10/2014-10-08/n_ppi_045deg/2014-10-08--09:40:00,00.mvol']\n",
      "________Beam Blockage______\n",
      "40.648438\n",
      "________CLUTTER______\n",
      "40.648438\n",
      "________offset______\n",
      "38.648438\n",
      "________ATTCORR______\n",
      "________DPR Threshold______\n",
      "('RADOLANPFAD: ', '/automount/radar/dwd/rx/2014/2014-10/2014-10-08/raa01-rx_10000-1410080940-dwd---bin.gz')\n",
      "('Max --------------------------------------->', 150.0)\n",
      "('Min --------------------------------------->', 15.0)\n",
      "100\n"
     ]
    },
    {
     "name": "stderr",
     "output_type": "stream",
     "text": [
      "/home/velibor/anaconda2/envs/wradlib/lib/python2.7/site-packages/ipykernel/__main__.py:297: DeprecatedWarning: polar2lonlatalt_n is deprecated as of 0.11.3 and will be removed in 1.0.0. Use :func:`spherical_to_proj` instead.\n"
     ]
    },
    {
     "name": "stdout",
     "output_type": "stream",
     "text": [
      "('Interpolationsdauer Boxpol auf DPR:', 33.73136799999975)\n",
      "('Interpolationsdauer RADOLAN auf DPR:', 86.63731300000018)\n",
      "<type 'str'> <type 'int'> <type 'str'> <type 'float'>\n",
      "20141007023744 0 alt 2.0\n",
      "/automount/ags/velibor/gpmdata/dprV7/2A.GPM.DPR.V7-20170308.20141007*.HDF5\n",
      "('GPM:', ['/automount/ags/velibor/gpmdata/dprV7/2A.GPM.DPR.V7-20170308.20141007-S015721-E032951.003445.V05A.HDF5'])\n",
      "['/automount/radar-archiv/scans/2014/2014-10/2014-10-07/n_ppi_045deg/2014-10-07--02:37:44,00.mvol']\n",
      "________Beam Blockage______\n",
      "45.054688\n",
      "________CLUTTER______\n",
      "45.054688\n",
      "________offset______\n",
      "43.054688\n",
      "________ATTCORR______\n",
      "________DPR Threshold______\n",
      "('RADOLANPFAD: ', '/automount/radar/dwd/rx/2014/2014-10/2014-10-07/raa01-rx_10000-1410070235-dwd---bin.gz')\n",
      "('Max --------------------------------------->', 150.0)\n",
      "('Min --------------------------------------->', 15.0)\n",
      "100\n"
     ]
    },
    {
     "name": "stderr",
     "output_type": "stream",
     "text": [
      "/home/velibor/anaconda2/envs/wradlib/lib/python2.7/site-packages/ipykernel/__main__.py:297: DeprecatedWarning: polar2lonlatalt_n is deprecated as of 0.11.3 and will be removed in 1.0.0. Use :func:`spherical_to_proj` instead.\n"
     ]
    },
    {
     "name": "stdout",
     "output_type": "stream",
     "text": [
      "('Interpolationsdauer Boxpol auf DPR:', 46.86607700000013)\n",
      "('Interpolationsdauer RADOLAN auf DPR:', 118.70936600000005)\n",
      "<type 'str'> <type 'int'> <type 'str'> <type 'float'>\n",
      "20170725152833 0 neu 1.0\n",
      "/automount/ags/velibor/gpmdata/dprV7/2A.GPM.DPR.V7-20170308.20170725*.HDF5\n",
      "('GPM:', ['/automount/ags/velibor/gpmdata/dprV7/2A.GPM.DPR.V7-20170308.20170725-S144757-E162031.019353.V05A.HDF5'])\n",
      "New enigma\n",
      "/automount/radar/scans/2017/2017-07/2017-07-25/n_ppi_010deg/*20170725152833*.h5\n",
      "('Boxpol: ', ['/automount/radar/scans/2017/2017-07/2017-07-25/n_ppi_010deg/n_ppi_010deg_12345_20170725152833_00.h5'])\n",
      "________Beam Blockage______\n",
      "58.64453\n",
      "________CLUTTER______\n",
      "58.64453\n",
      "________offset______\n",
      "57.64453\n",
      "________ATTCORR______\n",
      "________DPR Threshold______\n",
      "('RADOLANPFAD: ', '/automount/radar/dwd/rx/2017/2017-07/2017-07-25/raa01-rx_10000-1707251530-dwd---bin.gz')\n",
      "('Max --------------------------------------->', 150.0)\n",
      "('Min --------------------------------------->', 15.0)\n",
      "75\n"
     ]
    },
    {
     "name": "stderr",
     "output_type": "stream",
     "text": [
      "/home/velibor/anaconda2/envs/wradlib/lib/python2.7/site-packages/ipykernel/__main__.py:297: DeprecatedWarning: polar2lonlatalt_n is deprecated as of 0.11.3 and will be removed in 1.0.0. Use :func:`spherical_to_proj` instead.\n"
     ]
    },
    {
     "name": "stdout",
     "output_type": "stream",
     "text": [
      "('Interpolationsdauer Boxpol auf DPR:', 32.91543200000024)\n",
      "('Interpolationsdauer RADOLAN auf DPR:', 116.50259099999994)\n",
      "<type 'str'> <type 'int'> <type 'str'> <type 'float'>\n",
      "20170211152500 0 alt 3.5\n",
      "/automount/ags/velibor/gpmdata/dprV7/2A.GPM.DPR.V7-20170308.20170211*.HDF5\n",
      "('GPM:', ['/automount/ags/velibor/gpmdata/dprV7/2A.GPM.DPR.V7-20170308.20170211-S144911-E162144.016802.V05A.HDF5'])\n",
      "[]\n",
      "Old enigma\n",
      "('Boxpol: ', ['/automount/radar/scans/2017/2017-02/2017-02-11/n_ppi_045deg/2017-02-11--15:25:00,00.mvol'])\n",
      "________Beam Blockage______\n",
      "36.432617\n",
      "________CLUTTER______\n",
      "36.432617\n",
      "________offset______\n",
      "32.932617\n",
      "________ATTCORR______\n",
      "________DPR Threshold______\n",
      "('RADOLANPFAD: ', '/automount/radar/dwd/rx/2017/2017-02/2017-02-11/raa01-rx_10000-1702111525-dwd---bin.gz')\n",
      "('Max --------------------------------------->', 150.0)\n",
      "('Min --------------------------------------->', 15.0)\n",
      "100\n"
     ]
    },
    {
     "name": "stderr",
     "output_type": "stream",
     "text": [
      "/home/velibor/anaconda2/envs/wradlib/lib/python2.7/site-packages/ipykernel/__main__.py:297: DeprecatedWarning: polar2lonlatalt_n is deprecated as of 0.11.3 and will be removed in 1.0.0. Use :func:`spherical_to_proj` instead.\n"
     ]
    },
    {
     "name": "stdout",
     "output_type": "stream",
     "text": [
      "('Interpolationsdauer Boxpol auf DPR:', 46.4529950000001)\n",
      "('Interpolationsdauer RADOLAN auf DPR:', 119.74704800000018)\n",
      "('Gesamtlaufzeit: ', 44.957320349999996, 'min')\n"
     ]
    }
   ],
   "source": [
    "#!/usr/bin/env python\n",
    "\n",
    "import h5py\n",
    "import numpy as np\n",
    "import matplotlib.pyplot as plt\n",
    "import pandas as pd\n",
    "import glob\n",
    "import math\n",
    "import pandas as pd\n",
    "import wradlib\n",
    "from scipy import stats\n",
    "import matplotlib.cm as cm\n",
    "my_cmap = cm.get_cmap('jet',40)\n",
    "my_cmap.set_under('lightgrey')\n",
    "my_cmap.set_over('darkred')\n",
    "from pcc import get_miub_cmap as my_cmap\n",
    "from pcc import plot_radar\n",
    "from pcc import boxpol_pos\n",
    "from pcc import plot_borders\n",
    "import wradlib as wrl\n",
    "from osgeo import osr\n",
    "from satlib import ipoli_radi_stat\n",
    "from satlib import corcor\n",
    "Pos = boxpol_pos()\n",
    "blon0, blat0 = Pos['lon_ppi'], Pos['lat_ppi']\n",
    "bbx, bby = Pos['gkx_ppi'], Pos['gky_ppi']\n",
    "from time import *\n",
    "from pcc import cut_the_swath\n",
    "from satlib import good_overpasses_dpr_boxpol as overpasses_dpr_boxpol\n",
    "\n",
    "print (\"_\")\n",
    "\n",
    "\n",
    "\n",
    "tstart = clock()\n",
    "\n",
    "#print (overpasses_dpr_boxpol)\n",
    "\n",
    "for ii in overpasses_dpr_boxpol.keys():\n",
    "    ZP = overpasses_dpr_boxpol[ii][0],\n",
    "    pfadnr = overpasses_dpr_boxpol[ii][1]\n",
    "    enigma = overpasses_dpr_boxpol[ii][2]\n",
    "    offset = overpasses_dpr_boxpol[ii][3]\n",
    "\n",
    "    ZP = ZP[0]\n",
    "\n",
    "    print type(ZP), type(pfadnr), type(enigma), type(offset)\n",
    "    print ZP, pfadnr, enigma, offset\n",
    "    #ZP = '20180125170330'; pfadnr=0; enigma='neu'; offset=1\n",
    "\n",
    "\n",
    "    # Pfade zu den Dateien festlegen\n",
    "    #-----------------------------#\n",
    "\n",
    "    year = ZP[0:4]; ye = ZP[2:4]; m = ZP[4:6]; d = ZP[6:8]; ht = ZP[8:10]; mt = ZP[10:12]; st = ZP[12:14]\n",
    "\n",
    "    print('/automount/ags/velibor/gpmdata/dprV7/2A.GPM.DPR.V7-20170308.' + year + m + d + '*.HDF5')\n",
    "    #pfad_radar = glob.glob('/automount/ags/velibor/gpmdata/dpr/2A.GPM.DPR.V6-20160118.' + year + m + d + '*.HDF5')\n",
    "    pfad_radar = glob.glob('/automount/ags/velibor/gpmdata/dprV7/2A.GPM.DPR.V7-20170308.' + year + m + d + '*.HDF5')\n",
    "\n",
    "    print ('GPM:',pfad_radar)\n",
    "    pfad_radar = pfad_radar[pfadnr]\n",
    "    #pfad_radar_Ku = pfad_radar[0]\n",
    "\n",
    "    deg_scan =  [\"/ppi_1p5deg/\",\"/ppi_2p4deg/\",\"/ppi_3p4deg/\",\n",
    "                 \"/n_ppi_010deg/\",\"/n_ppi_045deg/\",\n",
    "                 \"/n_ppi_082deg/\",\"/n_ppi_110deg/\",\"/n_ppi_140deg/\",\n",
    "                 \"/n_ppi_180deg/\",\"/n_ppi_280deg/\",\"/n_vertical_scan/\"][4]\n",
    "\n",
    "\n",
    "    if enigma=='neu':\n",
    "        print ('New enigma')\n",
    "        deg_scan =  [\"/n_ppi_010deg/\"][0]\n",
    "\n",
    "        boxpolpath = '/automount/radar/scans/' + year+ \"/\" +year +\"-\"+ m + \"/\" + year+ \"-\" + m +\"-\"+ d +\\\n",
    "                                   deg_scan+\"*\"+year+m+d+ht+mt+st+\"*.h5\"\n",
    "        print (boxpolpath)\n",
    "        ppi_datapath=glob.glob(boxpolpath)\n",
    "\n",
    "        print ('Boxpol: ',ppi_datapath)\n",
    "        ppi_datapath = ppi_datapath[0]\n",
    "\n",
    "\n",
    "    else:\n",
    "        try:\n",
    "            ppi_datapath=glob.glob('/automount/radar-archiv/scans/' + year+ \"/\" +\n",
    "                                   year +\"-\"+ m + \"/\" + year+ \"-\" + m +\"-\"+ d +\n",
    "                                   deg_scan+ year + \"-\" + m +\"-\"+ d + \"--\" +ht +\n",
    "                                   \":\"+mt+\":\"+st+\",*.mvol\")\n",
    "            print ppi_datapath\n",
    "            ppi_datapath = ppi_datapath[0]\n",
    "\n",
    "        except:\n",
    "            ppi_datapath=glob.glob('/automount/radar/scans/' + year+ \"/\" +\n",
    "                                   year +\"-\"+ m + \"/\" + year+ \"-\" + m +\"-\"+\n",
    "                                   d + deg_scan+ year + \"-\" + m +\"-\"+ d +\n",
    "                                   \"--\" +ht +\":\"+mt+\":\"+st+\",*.mvol\")\n",
    "            print ('Old enigma')\n",
    "            print ('Boxpol: ',ppi_datapath)\n",
    "            ppi_datapath = ppi_datapath[0]\n",
    "\n",
    "\n",
    "    # Wichtige Parameter festlegen\n",
    "    TH = 15 #Threshold um Nullen fuer Niederschlag raus zu filtern\n",
    "\n",
    "\n",
    "    #################################################### PPI BoxPol Daten einlesen\n",
    "    #------------------------------------------------------------------------------\n",
    "\n",
    "    ppi=h5py.File(ppi_datapath,'r')\n",
    "    data, attrs = wradlib.io.read_GAMIC_hdf5(ppi_datapath)\n",
    "\n",
    "    ZH0 = data['SCAN0']['ZH']['data']\n",
    "    #ZV = data['SCAN0']['ZV']['data']\n",
    "    #ZH0 = (ZH + ZV)*0.5\n",
    "    PHIDP = data['SCAN0']['PHIDP']['data']\n",
    "    r = attrs['SCAN0']['r']\n",
    "    az = attrs['SCAN0']['az']\n",
    "    elevation=attrs['SCAN0']['elevation']\n",
    "    lon_ppi = attrs['VOL']['Longitude']\n",
    "    lat_ppi = attrs['VOL']['Latitude']\n",
    "    alt_ppi = attrs['VOL']['Height']\n",
    "    rho = data['SCAN0']['RHOHV']['data']\n",
    "\n",
    "    R = ZH0\n",
    "\n",
    "    print (\"________Beam Blockage______\")\n",
    "    R[151:165]=np.nan\n",
    "    print (np.nanmax(R))\n",
    "\n",
    "    print (\"________CLUTTER______\")\n",
    "    rho_th  = 0.85\n",
    "    R[rho<= rho_th] = np.nan\n",
    "    print (np.nanmax(R))\n",
    "\n",
    "    print (\"________offset______\")\n",
    "    R = R - offset\n",
    "    print (np.nanmax(R))\n",
    "    #?\n",
    "    print (\"________ATTCORR______\")\n",
    "\n",
    "    \"\"\"pia = wrl.atten.correctAttenuationHB(\n",
    "        R,\n",
    "        coefficients = dict(a=4.57e-5, b=0.731, gate_length=1.0),\n",
    "        mode=\"warn\",\n",
    "        thrs=59.)\n",
    "    pia[pia > 4.8] = 4.8\n",
    "\n",
    "    print (\"________ATTCORR2______\")\n",
    "    R = R + pia\n",
    "    print (np.nanmax([R,pia]))\"\"\"\n",
    "\n",
    "    print (\"________DPR Threshold______\")\n",
    "    Z_boxpol = R\n",
    "\n",
    "    ### Threshold for DPR sensitivity\n",
    "    Z_boxpol[Z_boxpol<TH]=np.nan\n",
    "\n",
    "\n",
    "    ################################################################# DPR Einlesen\n",
    "    # -----------------------------------------------------------------------------\n",
    "    scan = 'MS'\n",
    "    gpmku = h5py.File(pfad_radar, 'r')\n",
    "    gpmku_HS = gpmku[scan]['SLV']\n",
    "    dpr_lat_1 = np.array(gpmku[scan]['Latitude'])\n",
    "    dpr_lon_1 = np.array(gpmku[scan]['Longitude'])\n",
    "    Z_dpr = np.array(gpmku_HS['zFactorCorrectedNearSurface'])\n",
    "    Z_dpr[Z_dpr < TH] = np.nan\n",
    "\n",
    "    ## Einlesen von Phase un Raintype\n",
    "    dpr_raintype = np.array(gpmku[scan]['CSF']['typePrecip'], dtype=float)\n",
    "    dpr_phase = np.array(gpmku_HS['phaseNearSurface'], dtype=float)\n",
    "\n",
    "\n",
    "    ############################################################## RADOLAN einlesen\n",
    "    # -----------------------------------------------------------------------------\n",
    "    mtt = mt\n",
    "    mtt = str(int(round(float(mtt)/5.0)*5.0))\n",
    "\n",
    "    if mtt == '0':\n",
    "        mtt = '00'\n",
    "    if mtt == '5':\n",
    "        mtt = '05'\n",
    "    if mtt == '60':\n",
    "        mtt = '55'\n",
    "\n",
    "    r_pro = 'rx'\n",
    "\n",
    "    pfad = ('/automount/radar/dwd/'+ r_pro +'/'+str(year)+'/'+str(year)+'-'+\n",
    "            str(m)+'/'+ str(year)+'-'+str(m)+'-'+str(d)+'/raa01-'+r_pro+'_10000-'+\n",
    "            str(ye)+str(m)+ str(d)+str(ht)+str(mtt)+'-dwd---bin.gz')\n",
    "\n",
    "    print ('RADOLANPFAD: ', pfad)\n",
    "\n",
    "    pfad_radolan = pfad[:-3]\n",
    "\n",
    "    try:\n",
    "        rw_filename = wradlib.util.get_wradlib_data_file(pfad)\n",
    "    except EnvironmentError:\n",
    "        rw_filename = wradlib.util.get_wradlib_data_file(pfad_radolan)\n",
    "\n",
    "    rwdata, rwattrs = wradlib.io.read_RADOLAN_composite(rw_filename)\n",
    "\n",
    "    radolan_zeit = rwattrs['datetime'].strftime(\"%Y.%m.%d -- %H:%M:%S\")\n",
    "\n",
    "    radolan_grid_xy = wradlib.georef.get_radolan_grid(900,900)\n",
    "    x = radolan_grid_xy[:,:,0]\n",
    "    y = radolan_grid_xy[:,:,1]\n",
    "    rwdata = np.ma.masked_equal(rwdata, -9999) / 2 - 32.5\n",
    "\n",
    "    ### Threshold for DPR sensitivity\n",
    "    rwdata[rwdata<TH]=np.nan\n",
    "    Z_radolan = rwdata\n",
    "\n",
    "\n",
    "    ######################################################## Cut the Swath for Bonn\n",
    "    # -----------------------------------------------------------------------------\n",
    "\n",
    "    dpr_lon, dpr_lat, Z_dpr = cut_the_swath(dpr_lon_1,dpr_lat_1,Z_dpr, eu=0)\n",
    "    dpr_lon, dpr_lat, dpr_raintype = cut_the_swath(dpr_lon_1,dpr_lat_1,dpr_raintype, eu=0)\n",
    "    dpr_lon, dpr_lat, dpr_phase = cut_the_swath(dpr_lon_1,dpr_lat_1,dpr_phase, eu=0)\n",
    "\n",
    "    ######################################################## Koordinaten Projektion\n",
    "    # -----------------------------------------------------------------------------\n",
    "\n",
    "    proj_stereo = wrl.georef.create_osr(\"dwd-radolan\")\n",
    "    proj_wgs = osr.SpatialReference()\n",
    "    proj_wgs.ImportFromEPSG(4326)\n",
    "\n",
    "    dpr_lon, dpr_lat = wradlib.georef.reproject(dpr_lon, dpr_lat,\n",
    "                                                projection_target=proj_stereo ,\n",
    "                                                projection_source=proj_wgs)\n",
    "\n",
    "    blon, blat = wradlib.georef.reproject(blon0, blat0,\n",
    "                                          projection_target=proj_stereo ,\n",
    "                                          projection_source=proj_wgs)\n",
    "\n",
    "\n",
    "    ############################################################### Dpr zuschneiden\n",
    "    #------------------------------------------------------------------------------\n",
    "    print ('Max --------------------------------------->', r[-1]/1000.)\n",
    "    inner_r = 15. # in km!!!!\n",
    "\n",
    "    print ('Min --------------------------------------->', inner_r)\n",
    "\n",
    "    lon0, lat0, radius = blon, blat, r[-1]/1000.\n",
    "    rr = np.sqrt((dpr_lat - lat0)**2 + (dpr_lon - lon0)**2)\n",
    "    position = rr < radius\n",
    "\n",
    "    # Maximum Range\n",
    "    Z_dpr[np.where(rr > radius)] = np.nan\n",
    "    dpr_raintype[np.where(rr > radius)] = np.nan\n",
    "    dpr_phase[np.where(rr > radius)] = np.nan\n",
    "\n",
    "    # Minimum Range\n",
    "    Z_dpr[np.where(rr < inner_r)] = np.nan\n",
    "    dpr_raintype[np.where(rr < inner_r)] = np.nan\n",
    "    dpr_phase[np.where(rr < inner_r)] = np.nan\n",
    "\n",
    "\n",
    "    ########################################################### RADOLAN zuschneiden\n",
    "    #------------------------------------------------------------------------------\n",
    "\n",
    "    rr2 = np.sqrt((y - lat0)**2 + (x - lon0)**2)\n",
    "    position2 = rr2 < radius\n",
    "\n",
    "    # Maximum Range\n",
    "    Z_radolan[np.where(rr2 > radius)] = np.nan\n",
    "\n",
    "    # Minimum Range\n",
    "    Z_radolan[np.where(rr2 < inner_r)] = np.nan\n",
    "\n",
    "\n",
    "    ########################################################### BoXPol zuschneiden\n",
    "    #------------------------------------------------------------------------------\n",
    "    # Minimum Range\n",
    "    a = (inner_r*1000.)/(r[1]-r[0])# inner_r in m!!!!\n",
    "    a = a.astype(int) # bin bis zu welchem radius alles NaN gesetzt wird\n",
    "    Z_boxpol[:,0:a]=np.nan\n",
    "    print (a)\n",
    "\n",
    "\n",
    "    ############################################################### Inverse Dezibel\n",
    "    #------------------------------------------------------------------------------\n",
    "    Z_boxpol = wradlib.trafo.idecibel(Z_boxpol)\n",
    "    Z_dpr = wradlib.trafo.idecibel(Z_dpr)\n",
    "    Z_radolan = wradlib.trafo.idecibel(Z_radolan)\n",
    "\n",
    "    ################################################## BoXPol interpolieren auf DPR\n",
    "    #------------------------------------------------------------------------------\n",
    "    t1 = clock()\n",
    "    radar_location = (lon_ppi, lat_ppi, alt_ppi)\n",
    "    #elevation = 1.5\n",
    "    azimuths = az\n",
    "    ranges = r\n",
    "    polargrid = np.meshgrid(ranges, azimuths)\n",
    "    lon, lat, alt = wradlib.georef.polar2lonlatalt_n(polargrid[0], polargrid[1],\n",
    "                                                     elevation, radar_location)\n",
    "    lon, lat = wradlib.georef.reproject(lon, lat, projection_target=proj_stereo ,\n",
    "                                        projection_source=proj_wgs)\n",
    "\n",
    "    grid_xy = np.vstack((dpr_lon.ravel(), dpr_lat.ravel())).transpose()\n",
    "\n",
    "    xy=np.concatenate([lon.ravel()[:,None],lat.ravel()[:,None]], axis=1)\n",
    "\n",
    "\n",
    "\n",
    "    Z_boxpol_ipoli, Z_boxpol_ipoli_std, Z_boxpol_ipoli_median, Z_boxpol_ipoli_max, Z_boxpol_ipoli_min = ipoli_radi_stat(xy,Z_boxpol.ravel(),grid_xy,2.5)\n",
    "    \n",
    "    Z_boxpol_ipoli = Z_boxpol_ipoli.reshape(dpr_lon.shape)\n",
    "    Z_boxpol_ipoli_std = Z_boxpol_ipoli_std.reshape(dpr_lon.shape)\n",
    "    Z_boxpol_ipoli_median = Z_boxpol_ipoli_median.reshape(dpr_lon.shape)\n",
    "    Z_boxpol_ipoli_max = Z_boxpol_ipoli_max.reshape(dpr_lon.shape)\n",
    "    Z_boxpol_ipoli_min = Z_boxpol_ipoli_min.reshape(dpr_lon.shape)\n",
    "\n",
    "    t2 = clock()\n",
    "    print ('Interpolationsdauer Boxpol auf DPR:', t2 - t1)\n",
    "\n",
    "\n",
    "    ################################################# RADOLAN interpolieren auf DPR\n",
    "    #------------------------------------------------------------------------------\n",
    "\n",
    "    xy_rado = np.vstack((x.ravel(), y.ravel())).transpose()\n",
    "\n",
    "    Z_radolan_ipoli, Z_radolan_ipoli_std, Z_radolan_ipoli_median, Z_radolan_ipoli_max, Z_radolan_ipoli_min = ipoli_radi_stat(xy_rado,Z_radolan.ravel().filled(np.nan),grid_xy,2.5)\n",
    "    \n",
    "    Z_radolan_ipoli = Z_radolan_ipoli.reshape(dpr_lon.shape)\n",
    "    Z_radolan_ipoli_std = Z_radolan_ipoli_std.reshape(dpr_lon.shape)\n",
    "    Z_radolan_ipoli_median = Z_radolan_ipoli_median.reshape(dpr_lon.shape)\n",
    "    Z_radolan_ipoli_max = Z_radolan_ipoli_max.reshape(dpr_lon.shape)\n",
    "    Z_radolan_ipoli_min = Z_radolan_ipoli_min.reshape(dpr_lon.shape)\n",
    "\n",
    "    t3 = clock()\n",
    "    print ('Interpolationsdauer RADOLAN auf DPR:', t3 - t2)\n",
    "\n",
    "    ################################################################### in  Dezibel\n",
    "    #------------------------------------------------------------------------------\n",
    "    Z_boxpol = wradlib.trafo.decibel(Z_boxpol)\n",
    "    Z_dpr = wradlib.trafo.decibel(Z_dpr)\n",
    "    Z_radolan = wradlib.trafo.decibel(Z_radolan)\n",
    "    Z_boxpol_ipoli = wradlib.trafo.decibel(Z_boxpol_ipoli)\n",
    "    Z_radolan_ipoli = wradlib.trafo.decibel(Z_radolan_ipoli)\n",
    "    \n",
    "    Z_boxpol_ipoli_std = wradlib.trafo.decibel(Z_boxpol_ipoli_std)\n",
    "    Z_radolan_ipoli_std = wradlib.trafo.decibel(Z_radolan_ipoli_std)\n",
    "    Z_boxpol_ipoli_median = wradlib.trafo.decibel(Z_boxpol_ipoli_median)\n",
    "    Z_radolan_ipoli_median = wradlib.trafo.decibel(Z_radolan_ipoli_median)\n",
    "    Z_boxpol_ipoli_max = wradlib.trafo.decibel(Z_boxpol_ipoli_max)\n",
    "    Z_radolan_ipoli_max = wradlib.trafo.decibel(Z_radolan_ipoli_max)\n",
    "    Z_boxpol_ipoli_min = wradlib.trafo.decibel(Z_boxpol_ipoli_min)\n",
    "    Z_radolan_ipoli_min = wradlib.trafo.decibel(Z_radolan_ipoli_min)\n",
    "\n",
    "\n",
    "    #zwischenspeichern\n",
    "    np.save('/automount/ags/velibor/data/dpr_boxpol_radolan/stat/minus_bias/'+ZP+'.npy',\n",
    "            [Z_dpr, Z_boxpol, Z_boxpol_ipoli, Z_radolan, Z_radolan_ipoli, dpr_phase, dpr_raintype, dpr_lon, dpr_lat, \n",
    "             Z_boxpol_ipoli_std, Z_boxpol_ipoli_median, Z_boxpol_ipoli_max, Z_boxpol_ipoli_min,\n",
    "             Z_radolan_ipoli_std, Z_radolan_ipoli_median, Z_radolan_ipoli_max, Z_radolan_ipoli_min])\n",
    "\n",
    "tend = clock()\n",
    "print ('Gesamtlaufzeit: ',(tend-tstart)/60., 'min')\n",
    "\n"
   ]
  },
  {
   "cell_type": "code",
   "execution_count": 3,
   "metadata": {
    "collapsed": false
   },
   "outputs": [
    {
     "name": "stderr",
     "output_type": "stream",
     "text": [
      "/home/velibor/anaconda2/envs/wradlib/lib/python2.7/site-packages/ipykernel/pylab/config.py:66: DeprecationWarning: metadata {'config': True} was set from the constructor.  Metadata should be set using the .tag() method, e.g., Int().tag(key1='value1', key2='value2')\n",
      "  inline backend.\"\"\"\n",
      "/home/velibor/anaconda2/envs/wradlib/lib/python2.7/site-packages/ipykernel/pylab/config.py:71: DeprecationWarning: metadata {'config': True} was set from the constructor.  Metadata should be set using the .tag() method, e.g., Int().tag(key1='value1', key2='value2')\n",
      "  'retina', 'jpeg', 'svg', 'pdf'.\"\"\")\n",
      "/home/velibor/anaconda2/envs/wradlib/lib/python2.7/site-packages/ipykernel/pylab/config.py:85: DeprecationWarning: metadata {'config': True} was set from the constructor.  Metadata should be set using the .tag() method, e.g., Int().tag(key1='value1', key2='value2')\n",
      "  use `figure_formats` instead)\"\"\")\n",
      "/home/velibor/anaconda2/envs/wradlib/lib/python2.7/site-packages/ipykernel/pylab/config.py:95: DeprecationWarning: metadata {'config': True} was set from the constructor.  Metadata should be set using the .tag() method, e.g., Int().tag(key1='value1', key2='value2')\n",
      "  \"\"\"\n",
      "/home/velibor/anaconda2/envs/wradlib/lib/python2.7/site-packages/ipykernel/pylab/config.py:114: DeprecationWarning: metadata {'config': True} was set from the constructor.  Metadata should be set using the .tag() method, e.g., Int().tag(key1='value1', key2='value2')\n",
      "  \"\"\")\n",
      "/home/velibor/anaconda2/envs/wradlib/lib/python2.7/site-packages/ipykernel/pylab/config.py:44: DeprecationWarning: InlineBackend._config_changed is deprecated: use @observe and @unobserve instead.\n",
      "  def _config_changed(self, name, old, new):\n",
      "/home/velibor/anaconda2/envs/wradlib/lib/python2.7/site-packages/traitlets/traitlets.py:770: DeprecationWarning: A parent of InlineBackend._config_changed has adopted the new @observe(change) API\n",
      "  clsname, change_or_name), DeprecationWarning)\n",
      "/home/velibor/anaconda2/envs/wradlib/lib/python2.7/site-packages/IPython/core/formatters.py:98: DeprecationWarning: DisplayFormatter._formatters_default is deprecated: use @default decorator instead.\n",
      "  def _formatters_default(self):\n",
      "/home/velibor/anaconda2/envs/wradlib/lib/python2.7/site-packages/IPython/core/formatters.py:677: DeprecationWarning: PlainTextFormatter._deferred_printers_default is deprecated: use @default decorator instead.\n",
      "  def _deferred_printers_default(self):\n",
      "/home/velibor/anaconda2/envs/wradlib/lib/python2.7/site-packages/IPython/core/formatters.py:669: DeprecationWarning: PlainTextFormatter._singleton_printers_default is deprecated: use @default decorator instead.\n",
      "  def _singleton_printers_default(self):\n",
      "/home/velibor/anaconda2/envs/wradlib/lib/python2.7/site-packages/IPython/core/formatters.py:672: DeprecationWarning: PlainTextFormatter._type_printers_default is deprecated: use @default decorator instead.\n",
      "  def _type_printers_default(self):\n",
      "/home/velibor/anaconda2/envs/wradlib/lib/python2.7/site-packages/IPython/core/formatters.py:672: DeprecationWarning: PlainTextFormatter._type_printers_default is deprecated: use @default decorator instead.\n",
      "  def _type_printers_default(self):\n",
      "/home/velibor/anaconda2/envs/wradlib/lib/python2.7/site-packages/IPython/core/formatters.py:677: DeprecationWarning: PlainTextFormatter._deferred_printers_default is deprecated: use @default decorator instead.\n",
      "  def _deferred_printers_default(self):\n",
      "/home/velibor/anaconda2/envs/wradlib/lib/python2.7/site-packages/IPython/core/formatters.py:92: DeprecationWarning: DisplayFormatter._ipython_display_formatter_default is deprecated: use @default decorator instead.\n",
      "  def _ipython_display_formatter_default(self):\n",
      "/home/velibor/anaconda2/envs/wradlib/lib/python2.7/site-packages/IPython/core/formatters.py:669: DeprecationWarning: PlainTextFormatter._singleton_printers_default is deprecated: use @default decorator instead.\n",
      "  def _singleton_printers_default(self):\n"
     ]
    },
    {
     "data": {
      "image/png": "[encoded data removed]",
      "text/plain": [
       "<matplotlib.figure.Figure at 0x7fbfe0f20a90>"
      ]
     },
     "metadata": {},
     "output_type": "display_data"
    }
   ],
   "source": [
    "% matplotlib inline\n",
    "plt.plot(np.unique(Z_radolan_ipoli_std), 'ok')\n",
    "plt.plot(np.unique(Z_boxpol_ipoli_std),'or')\n",
    "\n",
    "plt.show()"
   ]
  },
  {
   "cell_type": "code",
   "execution_count": 4,
   "metadata": {
    "collapsed": false
   },
   "outputs": [
    {
     "data": {
      "image/png": "[encoded data removed]",
      "text/plain": [
       "<matplotlib.figure.Figure at 0x7fbfe111b750>"
      ]
     },
     "metadata": {},
     "output_type": "display_data"
    }
   ],
   "source": [
    "plt.plot(np.unique(Z_radolan_ipoli_median), 'ok')\n",
    "plt.plot(np.unique(Z_boxpol_ipoli_median),'or')\n",
    "\n",
    "plt.show()"
   ]
  },
  {
   "cell_type": "code",
   "execution_count": 5,
   "metadata": {
    "collapsed": false
   },
   "outputs": [
    {
     "data": {
      "image/png": "[encoded data removed]",
      "text/plain": [
       "<matplotlib.figure.Figure at 0x7fbfe111b6d0>"
      ]
     },
     "metadata": {},
     "output_type": "display_data"
    }
   ],
   "source": [
    "plt.plot(np.unique(Z_radolan_ipoli_max), 'ok')\n",
    "plt.plot(np.unique(Z_boxpol_ipoli_max),'or')\n",
    "\n",
    "plt.show()"
   ]
  },
  {
   "cell_type": "code",
   "execution_count": 6,
   "metadata": {
    "collapsed": false
   },
   "outputs": [
    {
     "data": {
      "image/png": "[encoded data removed]",
      "text/plain": [
       "<matplotlib.figure.Figure at 0x7fbfdf6fa710>"
      ]
     },
     "metadata": {},
     "output_type": "display_data"
    }
   ],
   "source": [
    "plt.plot(np.unique(Z_radolan_ipoli_min), 'ok')\n",
    "plt.plot(np.unique(Z_boxpol_ipoli_min),'or')\n",
    "#plt.scatter(Z_radolan_ipoli_min,Z_boxpol_ipoli_min)\n",
    "plt.show()"
   ]
  },
  {
   "cell_type": "code",
   "execution_count": null,
   "metadata": {
    "collapsed": true
   },
   "outputs": [],
   "source": []
  },
  {
   "cell_type": "code",
   "execution_count": 7,
   "metadata": {
    "collapsed": false
   },
   "outputs": [
    {
     "ename": "TypeError",
     "evalue": "'numpy.ndarray' object is not callable",
     "output_type": "error",
     "traceback": [
      "\u001b[1;31m---------------------------------------------------------------------------\u001b[0m",
      "\u001b[1;31mTypeError\u001b[0m                                 Traceback (most recent call last)",
      "\u001b[1;32m<ipython-input-7-b9ee479a4eea>\u001b[0m in \u001b[0;36m<module>\u001b[1;34m()\u001b[0m\n\u001b[1;32m----> 1\u001b[1;33m \u001b[0mZ_radolan_ipoli_median\u001b[0m\u001b[1;33m(\u001b[0m\u001b[1;34m\",\"\u001b[0m\u001b[1;33m,\u001b[0m \u001b[1;34m\"Z_radolan_ipoli_max,\"\u001b[0m\u001b[1;33m,\u001b[0m \u001b[1;34m\"Z_radolan_ipoli_min\"\u001b[0m\u001b[1;33m)\u001b[0m\u001b[1;33m\u001b[0m\u001b[0m\n\u001b[0m",
      "\u001b[1;31mTypeError\u001b[0m: 'numpy.ndarray' object is not callable"
     ]
    }
   ],
   "source": [
    ", Z_radolan_ipoli_median, Z_radolan_ipoli_max, Z_radolan_ipoli_min"
   ]
  },
  {
   "cell_type": "code",
   "execution_count": null,
   "metadata": {
    "collapsed": false
   },
   "outputs": [],
   "source": []
  },
  {
   "cell_type": "code",
   "execution_count": null,
   "metadata": {
    "collapsed": false
   },
   "outputs": [],
   "source": [
    "a = np.array([np.nan,np.nan,1,2,3,4.4,5.6,7.8])"
   ]
  },
  {
   "cell_type": "code",
   "execution_count": null,
   "metadata": {
    "collapsed": false
   },
   "outputs": [],
   "source": [
    "len(a\n",
    "   )"
   ]
  },
  {
   "cell_type": "code",
   "execution_count": null,
   "metadata": {
    "collapsed": false
   },
   "outputs": [],
   "source": [
    "np.count_nonzero(~np.isnan(a))"
   ]
  },
  {
   "cell_type": "code",
   "execution_count": null,
   "metadata": {
    "collapsed": true
   },
   "outputs": [],
   "source": []
  },
  {
   "cell_type": "code",
   "execution_count": null,
   "metadata": {
    "collapsed": true
   },
   "outputs": [],
   "source": []
  },
  {
   "cell_type": "code",
   "execution_count": null,
   "metadata": {
    "collapsed": true
   },
   "outputs": [],
   "source": []
  },
  {
   "cell_type": "code",
   "execution_count": 12,
   "metadata": {
    "collapsed": false
   },
   "outputs": [
    {
     "data": {
      "text/plain": [
       "2.718281828459045"
      ]
     },
     "execution_count": 12,
     "metadata": {},
     "output_type": "execute_result"
    }
   ],
   "source": [
    "np.exp(1./1.)"
   ]
  },
  {
   "cell_type": "code",
   "execution_count": null,
   "metadata": {
    "collapsed": true
   },
   "outputs": [],
   "source": []
  }
 ],
 "metadata": {
  "kernelspec": {
   "display_name": "Python 2",
   "language": "python",
   "name": "python2"
  },
  "language_info": {
   "codemirror_mode": {
    "name": "ipython",
    "version": 2
   },
   "file_extension": ".py",
   "mimetype": "text/x-python",
   "name": "python",
   "nbconvert_exporter": "python",
   "pygments_lexer": "ipython2",
   "version": "2.7.11"
  }
 },
 "nbformat": 4,
 "nbformat_minor": 0
}
