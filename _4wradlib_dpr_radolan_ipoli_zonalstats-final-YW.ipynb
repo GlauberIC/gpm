{
 "cells": [
  {
   "cell_type": "code",
   "execution_count": null,
   "metadata": {
    "collapsed": false
   },
   "outputs": [],
   "source": [
    "import h5py\n",
    "import numpy as np\n",
    "import matplotlib.pyplot as pl\n",
    "import wradlib\n",
    "from osgeo import osr\n",
    "import datetime as dt\n",
    "\n",
    "from osgeo import gdal\n",
    "from scipy.spatial import cKDTree\n",
    "\n",
    "% matplotlib inline \n"
   ]
  },
  {
   "cell_type": "code",
   "execution_count": null,
   "metadata": {
    "collapsed": false
   },
   "outputs": [],
   "source": [
    "%%time\n",
    "\n",
    "# Import radolan grid src\n",
    "radolan_xy = wradlib.georef.get_radolan_grid(1100,900)\n",
    "radolan_xy = radolan_xy.reshape(-1, radolan_xy.shape[-1])\n",
    "zd = wradlib.zonalstats.DataSource(radolan_xy, name='src')"
   ]
  },
  {
   "cell_type": "markdown",
   "metadata": {
    "collapsed": false
   },
   "source": [
    "\n",
    "##  Data Input\n",
    "----------------------------------\n",
    "### Read an organize the data\n",
    "--------------------------------\n",
    "\n"
   ]
  },
  {
   "cell_type": "code",
   "execution_count": null,
   "metadata": {
    "collapsed": false
   },
   "outputs": [],
   "source": [
    "# new cutted gpm data path\n",
    "#gpm_file = '/automount/ags/velibor/gpmdata/ipol_test/2A-CS-radolan.GPM.DPR.V7-20170308.20140324-S113946-E114237.000386.V05A.HDF5'\n",
    "gpm_file = '/automount/ags/velibor/gpmdata/ipol_test/2A-CS-radolan.GPM.DPR.V7-20170308.20141007-S023418-E023728.003445.V05A.HDF5'\n",
    "#gpm_file = '/automount/ags/velibor/gpmdata/ipol_test/2A-CS-radolan.GPM.DPR.V7-20170308.20140510-S220856-E221212.001124.V05A.HDF5'\n",
    "\n",
    "# define the RADOLAN YW data path\n",
    "radolan_ry_file = '/automount/ags/velibor/gpmdata/ipol_test/raa01-yw2017.002_10000-1410070235-dwd---bin'\n",
    "#radolan_ry_file = '/automount/ags/velibor/gpmdata/ipol_test/raa01-yw2017.002_10000-1410070235-dwd---bin'\n",
    "#radolan_ry_file = '/automount/ags/velibor/gpmdata/ipol_test/raa01-yw2017.002_10000-1403241140-dwd---bin'\n",
    "\n",
    "#radolan_ry_file = '/automount/ags/velibor/gpmdata/ipol_test/raa01-yw2017.002_10000-1405102210-dwd---bin'\n",
    "\n",
    "#radolan_ry_file = '/automount/ags/velibor/gpmdata/ipol_test/YW_2017.002_20141007_0235.asc'\n",
    "\n",
    "#radolan_ry_file = '/automount/ags/velibor/gpmdata/ipol_test/raa01-ry_10000-1405102210-dwd---bin'"
   ]
  },
  {
   "cell_type": "markdown",
   "metadata": {},
   "source": [
    "## Interpolation Methode"
   ]
  },
  {
   "cell_type": "code",
   "execution_count": null,
   "metadata": {
    "collapsed": true
   },
   "outputs": [],
   "source": [
    "def ipoli_radi(gr_grid, gr_data,sr_grid,radius):\n",
    "    \"\"\"\n",
    "\n",
    "    Parameters\n",
    "    ----------\n",
    "    gr_grid ::: grid of the Ground Radar\n",
    "    gr_data ::: data of the Ground Radar\n",
    "    sr_grid ::: grid oft the Spaceborn Radar\n",
    "    radius  ::: radius of the dpr foot prints\n",
    "\n",
    "\n",
    "    Returns\n",
    "    -------\n",
    "    gs_grid ::: Interpolated Groundradar Data on Spaceborne Grid\n",
    "\n",
    "    \"\"\"\n",
    "    import datetime as dt\n",
    "    gr_ipoli_data = np.zeros((sr_grid.shape[0]))\n",
    "\n",
    "    for i in range(sr_grid.shape[0]):\n",
    "\n",
    "        # set x_0 and y_0\n",
    "        x0, y0 = sr_grid[i,0], sr_grid[i,1] \n",
    "\n",
    "        # calc radius for all other points\n",
    "        rr = np.sqrt((gr_grid[:,0] - x0)**2 + (gr_grid[:,1] - y0)**2)\n",
    "\n",
    "        # check if footptint \n",
    "        if gr_data[rr < radius].size!=0:\n",
    "            # if not empty calc mean\n",
    "            #ToDo: wichtung fehlt!\n",
    "            gr_ipoli_data[i] = np.nanmean(gr_data[rr < radius])\n",
    "\n",
    " \n",
    "        else:\n",
    "            # if empty set NAN\n",
    "            gr_ipoli_data[i] = np.nan\n",
    "\n",
    "\n",
    "    return gr_ipoli_data"
   ]
  },
  {
   "cell_type": "markdown",
   "metadata": {
    "collapsed": true
   },
   "source": [
    "## Remove all GPM scans not oncluded in radolan scan area\n",
    "----------------------"
   ]
  },
  {
   "cell_type": "code",
   "execution_count": null,
   "metadata": {
    "collapsed": true
   },
   "outputs": [],
   "source": [
    "def dpr_swath_contour(sr_grid):\n",
    "    \"\"\"\n",
    "\n",
    "    Function for dpr swath grid contour\n",
    "    \n",
    "    ## sr_grid[:, 0]        # - complete left column\n",
    "    ## sr_grid[-1,1:-1]     # - upper edge without left and right corner\n",
    "    ## sr_grid[:, -1][::-1] # - complete right column (backward)\n",
    "    ## sr_grid[0,0:-1]      # - lower edge (without right corner)\n",
    "    \n",
    "    Input:\n",
    "    ------\n",
    "    sr_grid ::: Space-borne grid x,y\n",
    "    \n",
    "    Output:\n",
    "    -------\n",
    "    trg ::: Contour of the space-borne grid\n",
    "    \n",
    "    \"\"\"\n",
    "    \n",
    "    trg = np.r_[sr_grid[:, 0], sr_grid[-1, 1:-1], sr_grid[:, -1][::-1], sr_grid[0, 0:-1][::-1]]\n",
    "    \n",
    "    return trg\n"
   ]
  },
  {
   "cell_type": "code",
   "execution_count": null,
   "metadata": {
    "collapsed": true
   },
   "outputs": [],
   "source": [
    "def idx_sr_in_gr_area(_bingrid,_x, _y, _gpm_xy):\n",
    "    \"\"\"\n",
    "    Funktion:\n",
    "    ---------\n",
    "    Search for SR Footprint (Index) that are located in the GR scan area \n",
    "    \n",
    "    Input: \n",
    "    ------\n",
    "    _bingrid ::: Binary-grid of the GR scan area\n",
    "        \n",
    "    _gpm_xy ::: GPM footptint coordinates\n",
    "    \n",
    "    Output:\n",
    "    -------\n",
    "    \n",
    "    _gpm_xy_outer_idx ::: index of all footprints not included in radolan scan area\n",
    "    _gpm_xy_inner_idx ::: idex of all footprints included in radolan area but\n",
    "                           not scanned by ground radars \n",
    "    \n",
    "    \"\"\"\n",
    "    _gpm_xy = _gpm_xy.copy()\n",
    "    # Bestimmen von Eckpunkten bei RADOLAN RY GRID!\n",
    "    # HARDCODED: but ok for regula RADOLAN Produkts\n",
    "    #xmin, xmax = -523.4621669218559, 375.5378330781441\n",
    "    #ymin, ymax = -4658.644724265572, -3759.644724265572\n",
    "    \n",
    "    # Radolangitter um 1 gridpoit zu allen seiten erweitern\n",
    "    #_xex, _yex = np.arange(xmin-1, xmax+2, 1), np.arange(ymin-1, ymax+2, 1)\n",
    "    #_xxx, _yyy = np.meshgrid(_xex,_yex)\n",
    "    _x = _x.copy()\n",
    "    _y = _y.copy()\n",
    "    \n",
    "    # Bin grid bestimmen\n",
    "    _bingrid = _bingrid.copy()\n",
    "    _bingrid[_bingrid >= 0]=1\n",
    "    _bingrid[_bingrid < 0]=0\n",
    "    \n",
    "    # Gittererweiterungen zusammenstellen\n",
    "    ## rn_tb ::: bin gird top and bottom\n",
    "    ## rn_lr ::: bin gird left and right\n",
    "    #rn_tb = np.zeros(900)\n",
    "    #rn_lr = np.zeros(902)\n",
    "    \n",
    "    # Griderweiterungen einsetzen\n",
    "    # erst oben und unten\n",
    "    #rn1 = np.c_[rn_tb, _bingrid, rn_tb]\n",
    "    # dann rechts\n",
    "    #rn2 = np.vstack((rn1, rn_lr))\n",
    "    # dann rechts\n",
    "    #rn3 = np.vstack((rn_lr,rn2))\n",
    "    \n",
    "    from skimage import measure\n",
    "    # Contouren des Bin-grids erstellen\n",
    "    contours = measure.find_contours(_bingrid, 0, positive_orientation='high',\n",
    "                                     fully_connected='high' )\n",
    "    print(len(contours), ' detected Polygons')\n",
    "    #print(\"---------------------\")\n",
    "    #for j in range(len(contours)):\n",
    "    #    print(len(contours[j]))\n",
    "    #print(\"---------------------\")\n",
    "\n",
    "    # bestiimung der Listen für Polygon Points\n",
    "    _xx = []\n",
    "    _yy = []\n",
    "\n",
    "    # suche nach dem größten Polygon... dieser sollte der RADOLAN UMRISS sein\n",
    "    for i in range(len(contours)):\n",
    "        # Polygone mit 3 oder weniger points ergeben keine nutzbare Fläche\n",
    "        if len(_x[contours[i][:,0].astype(int),contours[i][:,1].astype(int)]) <= 3:\n",
    "            print('not relevant polygon removed')\n",
    "        else:   \n",
    "            # PolygonPoints bestimmen (RADOLAN RAND POINTS)\n",
    "            _xx.append(_x[contours[i][:,0].astype(int),contours[i][:,1].astype(int)])\n",
    "            _yy.append(_y[contours[i][:,0].astype(int),contours[i][:,1].astype(int)])\n",
    "            \n",
    "    # sortiern nach der länge, das letzt element ist das größte und sollte somit der Radolarand sein\n",
    "    _xx.sort(key=len)\n",
    "    _yy.sort(key=len)\n",
    "\n",
    "    # Outter polygon erstellen\n",
    "    _xy = np.vstack((_xx[-1].ravel(), _yy[-1].ravel())).transpose()    \n",
    "    \n",
    "    # Suche nach den GPM footprints im Scanngebiet von RADOLAN mit ZONALSTATS\n",
    "    zdpoly = wradlib.zonalstats.ZonalDataPoly(_gpm_xy, [_xy])\n",
    "    _gpm_xy_outer_idx = zdpoly.get_source_index(0)\n",
    "    \n",
    "    # Array for inner Polygons\n",
    "    _gpm_xy_inner_idx = np.array([])\n",
    "    \n",
    "    # Entferne Inner Polygons\n",
    "    # Auch nur wenn es weitere Polygone gibt \n",
    "    if len(_xx)>1:\n",
    "\n",
    "        for inner_poly_index in range(len(_xx)-1):\n",
    "\n",
    "            print ('Polygon size: ', len(_xx[inner_poly_index].ravel()))\n",
    "\n",
    "            _xy_inner = np.vstack((_xx[inner_poly_index].ravel(),\n",
    "                                  _yy[inner_poly_index].ravel())).transpose()\n",
    "\n",
    "            _zdpoly = wradlib.zonalstats.ZonalDataPoly(_gpm_xy, [_xy_inner])\n",
    "\n",
    "            _inner_idx = _zdpoly.get_source_index(0)\n",
    "\n",
    "            _gpm_xy_inner_idx = np.append(_gpm_xy_inner_idx, _inner_idx)\n",
    "\n",
    "\n",
    "            if _gpm_xy_inner_idx.size==0:\n",
    "                print ('inner polygons do not match with SR grid')\n",
    "\n",
    "            else:\n",
    "                print('match idx with inner polygon: ', _gpm_xy_inner_idx.shape)\n",
    "                    \n",
    "\n",
    "    \n",
    "    _idx_r = ~np.isin(_gpm_xy_outer_idx, _gpm_xy_inner_idx)\n",
    "    \n",
    "    return _gpm_xy_outer_idx[_idx_r]\n",
    "        "
   ]
  },
  {
   "cell_type": "code",
   "execution_count": null,
   "metadata": {
    "collapsed": true
   },
   "outputs": [],
   "source": [
    "def dpr_antenna_weighting(r):\n",
    "    \"\"\"\n",
    "    Funktion: explained in \n",
    "    Watters, D., A. Battaglia, K. Mroz, and F. Tridon, 0: \n",
    "    Validation of the GPM Version-5 Surface Rainfall \n",
    "    Products over Great Britain and Ireland. \n",
    "    J. Hydrometeor., 0, https://doi.org/10.1175/JHM-D-18-0051.1\n",
    "    \n",
    "    and\n",
    "    \n",
    "    Mroz, K., A. Battaglia, T. J. Lang, D. J. Cecil, \n",
    "    S. Tanelli, and F. Tridon, 2017:  Hail-detection\n",
    "    algorithm for the GPM Core Observatory satellite sensors.\n",
    "    Journal of Applied Meteorology and Climatology,56 (7), 1939–1957\n",
    "    \n",
    "    Input:\n",
    "    ------\n",
    "    r ::: Distance to the center point of the footprint\n",
    "    \n",
    "    Output:\n",
    "    -------\n",
    "    omega ::: Weighting for the point with the distance\n",
    "    \n",
    "    \"\"\"\n",
    "    \n",
    "    omega = np.exp(-(r/2.5)**2. * np.log10(4.))\n",
    "    \n",
    "    return omega"
   ]
  },
  {
   "cell_type": "code",
   "execution_count": null,
   "metadata": {
    "collapsed": true
   },
   "outputs": [],
   "source": [
    "# calculation duration start time\n",
    "t1 = dt.datetime.now()"
   ]
  },
  {
   "cell_type": "markdown",
   "metadata": {
    "collapsed": true
   },
   "source": [
    "## Read GPM Data\n",
    "---------------------------------------\n"
   ]
  },
  {
   "cell_type": "code",
   "execution_count": null,
   "metadata": {
    "collapsed": false
   },
   "outputs": [],
   "source": [
    "%%time\n",
    "# read gpm file with importatnt parameters\n",
    "gpmdpr = h5py.File(gpm_file, 'r')\n",
    "\n",
    "# Scan swath\n",
    "sc = 'NS'\n",
    "\n",
    "# GPM navigation and time\n",
    "gpm_lat = np.array(gpmdpr[sc]['Latitude'])\n",
    "gpm_lon = np.array(gpmdpr[sc]['Longitude'])\n",
    "\n",
    "# Precipitation data in RADOLAN region\n",
    "# Posible products:\n",
    "# precipRateAve24\n",
    "# precipRateESurface\n",
    "# precipRateNearSurface\n",
    "    \n",
    "dpr_pns = np.array(gpmdpr[sc]['SLV']['precipRateAve24'])\n",
    "dpr_pns[dpr_pns ==-9999.9]= np.nan"
   ]
  },
  {
   "cell_type": "markdown",
   "metadata": {},
   "source": [
    "## GPM coordinates projection\n",
    "----------------------------------------------"
   ]
  },
  {
   "cell_type": "code",
   "execution_count": null,
   "metadata": {
    "collapsed": false
   },
   "outputs": [],
   "source": [
    "%%time\n",
    "\n",
    "# Determine projection\n",
    "proj_stereo = wradlib.georef.create_osr(\"dwd-radolan\")\n",
    "proj_wgs = osr.SpatialReference()\n",
    "proj_wgs.ImportFromEPSG(4326)\n",
    "\n",
    "# GPM coordinate projection\n",
    "gpm_x, gpm_y = wradlib.georef.reproject(gpm_lon, gpm_lat,\n",
    "                                        projection_target=proj_stereo,\n",
    "                                        projection_source=proj_wgs)"
   ]
  },
  {
   "cell_type": "markdown",
   "metadata": {},
   "source": [
    "## Read RADOLAN Data\n",
    "-----------------"
   ]
  },
  {
   "cell_type": "code",
   "execution_count": null,
   "metadata": {
    "collapsed": false
   },
   "outputs": [],
   "source": [
    "%%time\n",
    "\n",
    "# read radolan ry file data and attributes\n",
    "rwdata, rwattrs = wradlib.io.read_radolan_composite(radolan_ry_file)\n",
    "\n",
    "radolan_grid_xy = wradlib.georef.get_radolan_grid(1100,900)\n",
    "x = radolan_grid_xy[:,:,0]\n",
    "y = radolan_grid_xy[:,:,1]\n",
    "rwdata = np.ma.masked_equal(rwdata, -9999) *12#/ 2 - 32.5\n",
    "\n",
    "# copy data for binary grid\n",
    "bingrid = rwdata.copy()"
   ]
  },
  {
   "cell_type": "code",
   "execution_count": null,
   "metadata": {
    "collapsed": false
   },
   "outputs": [],
   "source": [
    "fig = pl.figure(figsize=(12,8))\n",
    "ax = fig.add_subplot(131, aspect=\"equal\")\n",
    "pl.scatter(x, y, c=rwdata, cmap=pl.cm.viridis, vmin=0, vmax=10, edgecolor=\"None\")\n",
    "pl.title(\"RADOLAN YW rain rate in mm/h\")\n",
    "pl.colorbar(shrink=0.3)\n",
    "pl.xlabel(\"x in km\")\n",
    "pl.ylabel(\"y in km\")\n",
    "pl.xlim(-500, 200)\n",
    "pl.ylim(-4600, -3900)\n",
    "pl.grid()"
   ]
  },
  {
   "cell_type": "markdown",
   "metadata": {},
   "source": [
    "## Remove all GPM footprint that are not in scan area of radolan\n",
    "-------------------"
   ]
  },
  {
   "cell_type": "code",
   "execution_count": null,
   "metadata": {
    "collapsed": false
   },
   "outputs": [],
   "source": [
    "%%time\n",
    "\n",
    "# GPM Koordinaten ravel\n",
    "gpm_xy = np.vstack((gpm_x.ravel(), gpm_y.ravel())).transpose()\n",
    "\n",
    "# index for GPM footprints in scan area\n",
    "oi_idx = idx_sr_in_gr_area(bingrid,x,y, gpm_xy)\n",
    "\n",
    "# entferne alle Indizes auserhalb des äußeren Polygons\n",
    "gpm_xy = gpm_xy[oi_idx]\n",
    "gpm_pns = dpr_pns.ravel()[oi_idx]"
   ]
  },
  {
   "cell_type": "markdown",
   "metadata": {},
   "source": [
    "## Remove all RADOLAN Points not included in GPM DPR swath\n",
    "-------------------------------"
   ]
  },
  {
   "cell_type": "code",
   "execution_count": null,
   "metadata": {
    "collapsed": false
   },
   "outputs": [],
   "source": [
    "%%time\n",
    "# Contour from ORIGINAL DPR Overpass\n",
    "dpr_contour_x = dpr_swath_contour(gpm_x)\n",
    "dpr_contour_y = dpr_swath_contour(gpm_y)\n",
    "print(dpr_contour_x.shape)"
   ]
  },
  {
   "cell_type": "code",
   "execution_count": null,
   "metadata": {
    "collapsed": false
   },
   "outputs": [],
   "source": [
    "%%time\n",
    "# create dpr polygon of dpr xy contours \n",
    "dpr_xy_poly = np.vstack((dpr_contour_x.ravel(), dpr_contour_y.ravel())).transpose()"
   ]
  },
  {
   "cell_type": "code",
   "execution_count": null,
   "metadata": {
    "collapsed": false
   },
   "outputs": [],
   "source": [
    "%%time\n",
    "#load regular radolan grid and overlie with dpr contours\n",
    "zd_poly_radolan = wradlib.zonalstats.ZonalDataPoint(zd, [dpr_xy_poly], buf=2.5)\n",
    "\n",
    "# get radolan index in dpr swath\n",
    "ry_idx = zd_poly_radolan.get_source_index(0)\n",
    "\n",
    "# get radolan index in dpr swath AND in binary grid\n",
    "rwtest = ~np.ma.masked_less(rwdata, 0).mask\n",
    "\n",
    "radolan_idx = np.flatnonzero(rwtest.ravel())\n",
    "\n",
    "ry_idx2 = np.intersect1d(ry_idx, radolan_idx, assume_unique=True)"
   ]
  },
  {
   "cell_type": "code",
   "execution_count": null,
   "metadata": {
    "collapsed": false
   },
   "outputs": [],
   "source": [
    "# Radolan xy array\n",
    "xy_radolan = np.vstack((x.ravel(), y.ravel())).transpose()"
   ]
  },
  {
   "cell_type": "code",
   "execution_count": null,
   "metadata": {
    "collapsed": false
   },
   "outputs": [],
   "source": [
    "%%time\n",
    "# Extract all affected RADOLAN grid points\n",
    "rwdata_cut = rwdata.ravel()[ry_idx2]\n",
    "x_cut = xy_radolan[...,0].ravel()[ry_idx2].copy()\n",
    "y_cut = xy_radolan[...,1].ravel()[ry_idx2].copy()"
   ]
  },
  {
   "cell_type": "markdown",
   "metadata": {},
   "source": [
    "## Interpolation of radolan to dpr \n",
    "-------------------------"
   ]
  },
  {
   "cell_type": "code",
   "execution_count": null,
   "metadata": {
    "collapsed": false
   },
   "outputs": [],
   "source": [
    "%%time\n",
    "# Compare all cutted radolan x and y \n",
    "xy_cut = np.vstack((x_cut.ravel(), y_cut.ravel())).transpose()\n",
    "\n",
    "#Dpr footprint radius \n",
    "dpr_footprint = 2.6 #radius in km"
   ]
  },
  {
   "cell_type": "code",
   "execution_count": null,
   "metadata": {
    "collapsed": false
   },
   "outputs": [],
   "source": [
    "def ipoli_radi_w(xy_cut, gpm_xy,rwdata_cut, dpr_footprint, k=25):\n",
    "    \"\"\"\n",
    "    ...\n",
    "    \"\"\"\n",
    "    # cKDTree radolan\n",
    "    tree = cKDTree(xy_cut, balanced_tree=False)\n",
    "\n",
    "    # cKDTree gpm dpr\n",
    "    tree_gpm = cKDTree(gpm_xy, balanced_tree=True)\n",
    "\n",
    "    dists, ix = tree.query(gpm_xy, k=k) # k maximal possible ry pixel in dpr footprint\n",
    "    ix2 = tree.query_ball_point(gpm_xy, dpr_footprint)\n",
    "\n",
    "    ry_pns_w = []\n",
    "\n",
    "    for i in range(ix.shape[0]):\n",
    "        #i is all points in one dpr footprint\n",
    "        #distancen for all i\n",
    "        index = np.isin(ix[i,:],ix2[i] )\n",
    "        res1 = np.nansum( dpr_antenna_weighting(dists[i,:][index]) * rwdata_cut.ravel()[ix[i,:][index]])\n",
    "        res2 = np.nansum(dpr_antenna_weighting(dists[i,:][index]))\n",
    "\n",
    "        ry_pns_w.append(res1/res2)\n",
    "\n",
    "\n",
    "    return np.array(ry_pns_w)   "
   ]
  },
  {
   "cell_type": "code",
   "execution_count": null,
   "metadata": {
    "collapsed": false
   },
   "outputs": [],
   "source": [
    "xy_cut.shape, gpm_xy.shape, rwdata_cut.shape"
   ]
  },
  {
   "cell_type": "code",
   "execution_count": null,
   "metadata": {
    "collapsed": false
   },
   "outputs": [],
   "source": [
    "%%time\n",
    "ry_pns_w = ipoli_radi_w(xy_cut, gpm_xy, rwdata_cut, dpr_footprint, k=25)"
   ]
  },
  {
   "cell_type": "code",
   "execution_count": null,
   "metadata": {
    "collapsed": false
   },
   "outputs": [],
   "source": [
    "print('-----------------')\n",
    "print(dt.datetime.now() - t1)\n",
    "print('-----------------')\n"
   ]
  },
  {
   "cell_type": "markdown",
   "metadata": {
    "collapsed": true
   },
   "source": [
    "## Some Comparison of 2d Data\n",
    "--------------------------------------------"
   ]
  },
  {
   "cell_type": "code",
   "execution_count": null,
   "metadata": {
    "collapsed": false
   },
   "outputs": [],
   "source": [
    "%%time\n",
    "\n",
    "fig = pl.figure(figsize=(12,8))\n",
    "ax = fig.add_subplot(131, aspect=\"equal\")\n",
    "pl.scatter(gpm_xy[..., 0], gpm_xy[...,1], c=ry_pns_w, cmap=pl.cm.viridis, vmin=0, vmax=10, edgecolor=\"None\")\n",
    "pl.title(\"RADOLAN YW rain rate in mm/h\")\n",
    "pl.colorbar(shrink=0.3)\n",
    "pl.xlabel(\"x in km\")\n",
    "pl.ylabel(\"y in km\")\n",
    "pl.xlim(-500, 200)\n",
    "pl.ylim(-4600, -3900)\n",
    "pl.grid()\n",
    "\n",
    "ax = fig.add_subplot(132, aspect=\"equal\")\n",
    "pl.scatter(gpm_xy[..., 0], gpm_xy[...,1], c=gpm_pns, cmap=pl.cm.viridis, vmin=0, vmax=10, edgecolor=\"None\")\n",
    "pl.title(\"DPR rain rate in mm/h\")\n",
    "pl.colorbar(shrink=0.3)\n",
    "pl.xlabel(\"x in km\")\n",
    "pl.ylabel(\"y in km\")\n",
    "pl.xlim(-500, 200)\n",
    "pl.ylim(-4600, -3900)\n",
    "pl.grid()\n",
    "\n",
    "ax = fig.add_subplot(133, aspect=\"equal\")\n",
    "pl.scatter(ry_pns_w, gpm_pns, marker=\"+\", c=\"black\")\n",
    "pl.plot([0,60],[0,60], linestyle=\"solid\", color=\"black\")\n",
    "pl.xlim(-1,12)\n",
    "pl.ylim(-1,12)\n",
    "pl.xlabel(\"GR rain rate (mm/h)\")\n",
    "pl.ylabel(\"SR rain rate (mm/h)\")\n",
    "pl.title(\"DPR vs YW\")\n",
    "pl.grid()\n",
    "\n",
    "pl.tight_layout()\n",
    "\n",
    "pos = (ry_pns_w > 0.) & (gpm_pns > 0.)\n",
    "print('-----------------')\n",
    "print('Correlation: ',np.corrcoef(ry_pns_w[pos], gpm_pns[pos])[0][1])\n",
    "print('Correlation with zeros: ',np.corrcoef(ry_pns_w, gpm_pns)[0][1])\n",
    "print('-----------------')"
   ]
  },
  {
   "cell_type": "markdown",
   "metadata": {},
   "source": [
    "## Explanation of antenna gain weighting\n",
    "-----------------------------------------------------------\n",
    "\n",
    "$$\\omega_i = exp[-(r_i/2.5)^2 ln(4)]$$\n",
    "\n",
    "$i$ : corresponds to each 1 km RADOLAN pixel in DPR Footprint\n",
    "\n",
    "$r_i$ : distance in kilometers between Radolan Pixel and DPR center point\n",
    "\n",
    "##### The Weighted GR estimates in DPR footprint:\n",
    "\n",
    "$$\\bar{GR} = \\frac{ \\sum\\nolimits_{i=1}^N \\omega_i GR_i }{ \\sum\\nolimits_{i=1}^N \\omega_i} $$\n",
    "\n",
    "> Funktion: eplained in \n",
    ">    Watters, D., A. Battaglia, K. Mroz, and F. Tridon, 0: \n",
    ">    Validation of the GPM Version-5 Surface Rainfall \n",
    ">    Products over Great Britain and Ireland. \n",
    ">    J. Hydrometeor., 0, https://doi.org/10.1175/JHM-D-18-0051.1\n",
    "\n",
    "\n",
    "> Mroz, K., A. Battaglia, T.J. Lang, D.J. Cecil, S. Tanelli, and F. Tridon, 2017: Hail-Detection Algorithm for the GPM Core Observatory Satellite Sensors. J. Appl. Meteor. Climatol., 56, 1939–1957, https://doi.org/10.1175/JAMC-D-16-0368.1"
   ]
  },
  {
   "cell_type": "code",
   "execution_count": null,
   "metadata": {
    "collapsed": true
   },
   "outputs": [],
   "source": [
    "# Calculating some footprint geometries\n",
    "x = y = np.arange(-3,3,0.01)\n",
    "xx, yy = np.meshgrid(x,y)\n",
    "rr = np.sqrt(xx**2 +yy**2)"
   ]
  },
  {
   "cell_type": "code",
   "execution_count": null,
   "metadata": {
    "collapsed": false
   },
   "outputs": [],
   "source": [
    "# plot footprint distance and weighting\n",
    "pl.figure(figsize=(15,5))\n",
    "ff=20; cc=1\n",
    "pl.subplot(1,2,1, aspect='equal')\n",
    "pl.pcolormesh(xx,yy,rr, cmap='BuGn')\n",
    "cb = pl.colorbar(shrink=cc)\n",
    "cb.set_label(\"Radius from center point (km)\", fontsize=20)\n",
    "cb.ax.tick_params(labelsize=20)\n",
    "pl.scatter([0,0],[0,0], s=70, lw=3, color='black')\n",
    "#pl.title('Radius from centerpoint (km)', fontsize=ff)\n",
    "pl.xlabel('x (km)', fontsize=ff);pl.ylabel('y (km)', fontsize=ff)\n",
    "pl.xlim(-3,3),pl.ylim(-3,3)\n",
    "pl.xticks(fontsize=ff); pl.yticks(fontsize=ff)\n",
    "\n",
    "\n",
    "pl.subplot(1,2,2, aspect='equal')\n",
    "pl.pcolormesh(xx,yy,dpr_antenna_weighting(rr), cmap='Blues')\n",
    "cb = pl.colorbar(shrink=cc)\n",
    "cb.set_label(\"DPR antenna gain weighting\", fontsize=20)\n",
    "cb.ax.tick_params(labelsize=20)\n",
    "pl.scatter([0,0],[0,0], s=70, lw=3, color='black')\n",
    "pl.xlim(-3,3),pl.ylim(-3,3)\n",
    "#pl.title('DPR Antenna gain weighting', fontsize=ff)\n",
    "pl.xlabel('x (km)', fontsize=ff);pl.ylabel('y (km)', fontsize=ff)\n",
    "pl.xticks(fontsize=ff); pl.yticks(fontsize=ff)\n",
    "\n",
    "pl.tight_layout()"
   ]
  },
  {
   "cell_type": "code",
   "execution_count": null,
   "metadata": {
    "collapsed": true
   },
   "outputs": [],
   "source": []
  },
  {
   "cell_type": "code",
   "execution_count": null,
   "metadata": {
    "collapsed": true
   },
   "outputs": [],
   "source": []
  },
  {
   "cell_type": "code",
   "execution_count": null,
   "metadata": {
    "collapsed": true
   },
   "outputs": [],
   "source": []
  },
  {
   "cell_type": "code",
   "execution_count": null,
   "metadata": {
    "collapsed": true
   },
   "outputs": [],
   "source": []
  }
 ],
 "metadata": {
  "kernelspec": {
   "display_name": "Python 2",
   "language": "python",
   "name": "python2"
  },
  "language_info": {
   "codemirror_mode": {
    "name": "ipython",
    "version": 2
   },
   "file_extension": ".py",
   "mimetype": "text/x-python",
   "name": "python",
   "nbconvert_exporter": "python",
   "pygments_lexer": "ipython2",
   "version": "2.7.11"
  }
 },
 "nbformat": 4,
 "nbformat_minor": 0
}
